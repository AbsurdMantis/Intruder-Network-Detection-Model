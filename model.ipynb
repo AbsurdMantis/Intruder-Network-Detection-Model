{
 "cells": [
  {
   "cell_type": "markdown",
   "metadata": {},
   "source": [
    "# 0. Imports"
   ]
  },
  {
   "cell_type": "code",
   "execution_count": 103,
   "metadata": {
    "_cell_guid": "b1076dfc-b9ad-4769-8c92-a6c4dae69d19",
    "_uuid": "8f2839f25d086af736a60e9eeb907d3b93b6e0e5",
    "execution": {
     "iopub.execute_input": "2025-05-02T12:42:10.523926Z",
     "iopub.status.busy": "2025-05-02T12:42:10.523585Z",
     "iopub.status.idle": "2025-05-02T12:42:10.546992Z",
     "shell.execute_reply": "2025-05-02T12:42:10.546113Z",
     "shell.execute_reply.started": "2025-05-02T12:42:10.523900Z"
    },
    "trusted": true
   },
   "outputs": [],
   "source": [
    "import pandas as pd, matplotlib.pyplot as plt, seaborn as sns, numpy as np\n",
    "import optuna\n",
    "import os\n",
    "import joblib\n",
    "import shap\n",
    "from sklearn import metrics\n",
    "from sklearn.compose import ColumnTransformer\n",
    "from sklearn.preprocessing import OneHotEncoder, StandardScaler, PolynomialFeatures\n",
    "from sklearn.model_selection import StratifiedKFold, cross_val_score, train_test_split\n",
    "from sklearn.metrics import precision_recall_curve, classification_report, recall_score, precision_score\n",
    "from sklearn.calibration import CalibratedClassifierCV\n",
    "from sklearn.pipeline import Pipeline\n",
    "from xgboost import XGBClassifier\n",
    "from category_encoders.target_encoder import TargetEncoder\n",
    "from xgboost import XGBClassifier\n",
    "from sklearn.impute import SimpleImputer\n",
    "from sklearn.linear_model import LogisticRegression\n",
    "from scipy.sparse import issparse"
   ]
  },
  {
   "cell_type": "markdown",
   "metadata": {},
   "source": [
    "# 1. Analise Exploratória dos Dados"
   ]
  },
  {
   "cell_type": "markdown",
   "metadata": {},
   "source": [
    "## 1.1 Informações gerais da tabela"
   ]
  },
  {
   "cell_type": "markdown",
   "metadata": {},
   "source": [
    "Como o dataset de treino não possui a feature classe, e já que não estamos praticando aqui o uso de aprendizado não supervisionado, ela não possui muito uso em nosso treinamento. Em cenários reais o ideal é que estivesse tudo junto para que fosse feito o split da forma metódica, por isso usaremos somente Train_data"
   ]
  },
  {
   "cell_type": "code",
   "execution_count": 104,
   "metadata": {
    "execution": {
     "iopub.execute_input": "2025-05-02T12:42:10.549384Z",
     "iopub.status.busy": "2025-05-02T12:42:10.548963Z",
     "iopub.status.idle": "2025-05-02T12:42:10.695762Z",
     "shell.execute_reply": "2025-05-02T12:42:10.694375Z",
     "shell.execute_reply.started": "2025-05-02T12:42:10.549353Z"
    },
    "trusted": true
   },
   "outputs": [],
   "source": [
    "df = pd.read_csv('Train_data.csv')"
   ]
  },
  {
   "cell_type": "code",
   "execution_count": 105,
   "metadata": {
    "execution": {
     "iopub.execute_input": "2025-05-02T12:42:10.697697Z",
     "iopub.status.busy": "2025-05-02T12:42:10.697334Z",
     "iopub.status.idle": "2025-05-02T12:42:10.722502Z",
     "shell.execute_reply": "2025-05-02T12:42:10.721370Z",
     "shell.execute_reply.started": "2025-05-02T12:42:10.697672Z"
    },
    "trusted": true
   },
   "outputs": [
    {
     "name": "stdout",
     "output_type": "stream",
     "text": [
      "<class 'pandas.core.frame.DataFrame'>\n",
      "RangeIndex: 25192 entries, 0 to 25191\n",
      "Data columns (total 42 columns):\n",
      " #   Column                       Non-Null Count  Dtype  \n",
      "---  ------                       --------------  -----  \n",
      " 0   duration                     25192 non-null  int64  \n",
      " 1   protocol_type                25192 non-null  object \n",
      " 2   service                      25192 non-null  object \n",
      " 3   flag                         25192 non-null  object \n",
      " 4   src_bytes                    25192 non-null  int64  \n",
      " 5   dst_bytes                    25192 non-null  int64  \n",
      " 6   land                         25192 non-null  int64  \n",
      " 7   wrong_fragment               25192 non-null  int64  \n",
      " 8   urgent                       25192 non-null  int64  \n",
      " 9   hot                          25192 non-null  int64  \n",
      " 10  num_failed_logins            25192 non-null  int64  \n",
      " 11  logged_in                    25192 non-null  int64  \n",
      " 12  num_compromised              25192 non-null  int64  \n",
      " 13  root_shell                   25192 non-null  int64  \n",
      " 14  su_attempted                 25192 non-null  int64  \n",
      " 15  num_root                     25192 non-null  int64  \n",
      " 16  num_file_creations           25192 non-null  int64  \n",
      " 17  num_shells                   25192 non-null  int64  \n",
      " 18  num_access_files             25192 non-null  int64  \n",
      " 19  num_outbound_cmds            25192 non-null  int64  \n",
      " 20  is_host_login                25192 non-null  int64  \n",
      " 21  is_guest_login               25192 non-null  int64  \n",
      " 22  count                        25192 non-null  int64  \n",
      " 23  srv_count                    25192 non-null  int64  \n",
      " 24  serror_rate                  25192 non-null  float64\n",
      " 25  srv_serror_rate              25192 non-null  float64\n",
      " 26  rerror_rate                  25192 non-null  float64\n",
      " 27  srv_rerror_rate              25192 non-null  float64\n",
      " 28  same_srv_rate                25192 non-null  float64\n",
      " 29  diff_srv_rate                25192 non-null  float64\n",
      " 30  srv_diff_host_rate           25192 non-null  float64\n",
      " 31  dst_host_count               25192 non-null  int64  \n",
      " 32  dst_host_srv_count           25192 non-null  int64  \n",
      " 33  dst_host_same_srv_rate       25192 non-null  float64\n",
      " 34  dst_host_diff_srv_rate       25192 non-null  float64\n",
      " 35  dst_host_same_src_port_rate  25192 non-null  float64\n",
      " 36  dst_host_srv_diff_host_rate  25192 non-null  float64\n",
      " 37  dst_host_serror_rate         25192 non-null  float64\n",
      " 38  dst_host_srv_serror_rate     25192 non-null  float64\n",
      " 39  dst_host_rerror_rate         25192 non-null  float64\n",
      " 40  dst_host_srv_rerror_rate     25192 non-null  float64\n",
      " 41  class                        25192 non-null  object \n",
      "dtypes: float64(15), int64(23), object(4)\n",
      "memory usage: 8.1+ MB\n",
      "None\n"
     ]
    }
   ],
   "source": [
    "print(df.info())"
   ]
  },
  {
   "cell_type": "markdown",
   "metadata": {},
   "source": [
    "Checando para valores null"
   ]
  },
  {
   "cell_type": "code",
   "execution_count": 106,
   "metadata": {
    "execution": {
     "iopub.execute_input": "2025-05-02T12:42:10.725274Z",
     "iopub.status.busy": "2025-05-02T12:42:10.724945Z",
     "iopub.status.idle": "2025-05-02T12:42:10.745402Z",
     "shell.execute_reply": "2025-05-02T12:42:10.744123Z",
     "shell.execute_reply.started": "2025-05-02T12:42:10.725252Z"
    },
    "trusted": true
   },
   "outputs": [
    {
     "data": {
      "text/plain": [
       "duration                       0\n",
       "protocol_type                  0\n",
       "service                        0\n",
       "flag                           0\n",
       "src_bytes                      0\n",
       "dst_bytes                      0\n",
       "land                           0\n",
       "wrong_fragment                 0\n",
       "urgent                         0\n",
       "hot                            0\n",
       "num_failed_logins              0\n",
       "logged_in                      0\n",
       "num_compromised                0\n",
       "root_shell                     0\n",
       "su_attempted                   0\n",
       "num_root                       0\n",
       "num_file_creations             0\n",
       "num_shells                     0\n",
       "num_access_files               0\n",
       "num_outbound_cmds              0\n",
       "is_host_login                  0\n",
       "is_guest_login                 0\n",
       "count                          0\n",
       "srv_count                      0\n",
       "serror_rate                    0\n",
       "srv_serror_rate                0\n",
       "rerror_rate                    0\n",
       "srv_rerror_rate                0\n",
       "same_srv_rate                  0\n",
       "diff_srv_rate                  0\n",
       "srv_diff_host_rate             0\n",
       "dst_host_count                 0\n",
       "dst_host_srv_count             0\n",
       "dst_host_same_srv_rate         0\n",
       "dst_host_diff_srv_rate         0\n",
       "dst_host_same_src_port_rate    0\n",
       "dst_host_srv_diff_host_rate    0\n",
       "dst_host_serror_rate           0\n",
       "dst_host_srv_serror_rate       0\n",
       "dst_host_rerror_rate           0\n",
       "dst_host_srv_rerror_rate       0\n",
       "class                          0\n",
       "dtype: int64"
      ]
     },
     "execution_count": 106,
     "metadata": {},
     "output_type": "execute_result"
    }
   ],
   "source": [
    "df.isnull().sum()"
   ]
  },
  {
   "cell_type": "markdown",
   "metadata": {},
   "source": [
    "Checando duplicatas"
   ]
  },
  {
   "cell_type": "code",
   "execution_count": 107,
   "metadata": {
    "execution": {
     "iopub.execute_input": "2025-05-02T12:42:10.747007Z",
     "iopub.status.busy": "2025-05-02T12:42:10.746665Z",
     "iopub.status.idle": "2025-05-02T12:42:10.787875Z",
     "shell.execute_reply": "2025-05-02T12:42:10.787183Z",
     "shell.execute_reply.started": "2025-05-02T12:42:10.746978Z"
    },
    "trusted": true
   },
   "outputs": [
    {
     "data": {
      "text/plain": [
       "np.False_"
      ]
     },
     "execution_count": 107,
     "metadata": {},
     "output_type": "execute_result"
    }
   ],
   "source": [
    "df.duplicated().values.any()"
   ]
  },
  {
   "cell_type": "markdown",
   "metadata": {},
   "source": [
    "Como conclusão parcial temos que o dataset por si já veio bem tratado, então vamos executar uma analise exploratória mais voltada a redução de dimensionalidade, isto é, diminuir a quantidade de colunas que não implicam muito no resultado do machine learning. Para isso precisamos ter uma visualização melhor do dataset"
   ]
  },
  {
   "cell_type": "markdown",
   "metadata": {},
   "source": [
    "## 1.2 Análise das features categóricas"
   ]
  },
  {
   "cell_type": "code",
   "execution_count": 108,
   "metadata": {
    "execution": {
     "iopub.execute_input": "2025-05-02T12:42:10.789670Z",
     "iopub.status.busy": "2025-05-02T12:42:10.789324Z",
     "iopub.status.idle": "2025-05-02T12:42:10.956105Z",
     "shell.execute_reply": "2025-05-02T12:42:10.955221Z",
     "shell.execute_reply.started": "2025-05-02T12:42:10.789648Z"
    },
    "trusted": true
   },
   "outputs": [
    {
     "data": {
      "text/plain": [
       "<Axes: xlabel='class', ylabel='count'>"
      ]
     },
     "execution_count": 108,
     "metadata": {},
     "output_type": "execute_result"
    },
    {
     "data": {
      "image/png": "[encoded data removed]",
      "text/plain": [
       "<Figure size 640x480 with 1 Axes>"
      ]
     },
     "metadata": {},
     "output_type": "display_data"
    }
   ],
   "source": [
    "sns.countplot(x=df['class'])"
   ]
  },
  {
   "cell_type": "markdown",
   "metadata": {},
   "source": [
    "É possível concluir a partir deste gráfico que o quantitativo de casos em cada classe, que é nossa variável alvo pro modelo de inferência é bem balanceada, o q implica que a nossa acurácia de modelo pode ser usada como uma boa métrica de performance, a pequena diferença de 3% entre cada não justifica um oversampling ou o uso de amostras de teste."
   ]
  },
  {
   "cell_type": "code",
   "execution_count": 109,
   "metadata": {
    "execution": {
     "iopub.execute_input": "2025-05-02T12:42:10.957364Z",
     "iopub.status.busy": "2025-05-02T12:42:10.957091Z",
     "iopub.status.idle": "2025-05-02T12:42:11.169110Z",
     "shell.execute_reply": "2025-05-02T12:42:11.168070Z",
     "shell.execute_reply.started": "2025-05-02T12:42:10.957339Z"
    },
    "trusted": true
   },
   "outputs": [
    {
     "data": {
      "text/plain": [
       "<Axes: xlabel='protocol_type', ylabel='count'>"
      ]
     },
     "execution_count": 109,
     "metadata": {},
     "output_type": "execute_result"
    },
    {
     "data": {
      "image/png": "[encoded data removed]",
      "text/plain": [
       "<Figure size 640x480 with 1 Axes>"
      ]
     },
     "metadata": {},
     "output_type": "display_data"
    }
   ],
   "source": [
    "sns.countplot(data = df, x ='protocol_type', hue = 'class')"
   ]
  },
  {
   "cell_type": "markdown",
   "metadata": {},
   "source": [
    "80% do tráfego é TCP, enquanto 12% é do UDP e o resto ICMP;\n",
    "Boa parte do tráfego em ICMP tinha alguma anomalia, enquanto o UDP é boa parte normal;\n",
    "Ao todo, há mais casos normais presentes em TCP e UDP comparado à anomalias, no entanto a diferença numérica de classes em TCP é bem menor comparada aos outros, o q dificulta um pouco a inferência sem outras matrizes de correlação, o que iremos explorar mais abaixo."
   ]
  },
  {
   "cell_type": "code",
   "execution_count": 110,
   "metadata": {
    "execution": {
     "iopub.execute_input": "2025-05-02T12:42:11.170436Z",
     "iopub.status.busy": "2025-05-02T12:42:11.170140Z",
     "iopub.status.idle": "2025-05-02T12:42:11.461605Z",
     "shell.execute_reply": "2025-05-02T12:42:11.460592Z",
     "shell.execute_reply.started": "2025-05-02T12:42:11.170402Z"
    },
    "trusted": true
   },
   "outputs": [
    {
     "data": {
      "text/plain": [
       "<Axes: xlabel='flag', ylabel='count'>"
      ]
     },
     "execution_count": 110,
     "metadata": {},
     "output_type": "execute_result"
    },
    {
     "data": {
      "image/png": "[encoded data removed]",
      "text/plain": [
       "<Figure size 640x480 with 1 Axes>"
      ]
     },
     "metadata": {},
     "output_type": "display_data"
    }
   ],
   "source": [
    "sns.countplot(data = df, x = 'flag', hue = 'class')"
   ]
  },
  {
   "cell_type": "markdown",
   "metadata": {},
   "source": [
    "A distribuição de trafego baseada nas flags é bem desigual também, onde maioria é de tipo Sign Flag(SF). Boa parte do mesmo é normal, enquanto S0 é de maioria anomala."
   ]
  },
  {
   "cell_type": "code",
   "execution_count": 111,
   "metadata": {
    "execution": {
     "iopub.execute_input": "2025-05-02T12:42:11.463324Z",
     "iopub.status.busy": "2025-05-02T12:42:11.462731Z",
     "iopub.status.idle": "2025-05-02T12:42:12.323915Z",
     "shell.execute_reply": "2025-05-02T12:42:12.322957Z",
     "shell.execute_reply.started": "2025-05-02T12:42:11.463295Z"
    },
    "trusted": true
   },
   "outputs": [
    {
     "data": {
      "text/plain": [
       "([0,\n",
       "  1,\n",
       "  2,\n",
       "  3,\n",
       "  4,\n",
       "  5,\n",
       "  6,\n",
       "  7,\n",
       "  8,\n",
       "  9,\n",
       "  10,\n",
       "  11,\n",
       "  12,\n",
       "  13,\n",
       "  14,\n",
       "  15,\n",
       "  16,\n",
       "  17,\n",
       "  18,\n",
       "  19,\n",
       "  20,\n",
       "  21,\n",
       "  22,\n",
       "  23,\n",
       "  24,\n",
       "  25,\n",
       "  26,\n",
       "  27,\n",
       "  28,\n",
       "  29,\n",
       "  30,\n",
       "  31,\n",
       "  32,\n",
       "  33,\n",
       "  34,\n",
       "  35,\n",
       "  36,\n",
       "  37,\n",
       "  38,\n",
       "  39,\n",
       "  40,\n",
       "  41,\n",
       "  42,\n",
       "  43,\n",
       "  44,\n",
       "  45,\n",
       "  46,\n",
       "  47,\n",
       "  48,\n",
       "  49,\n",
       "  50,\n",
       "  51,\n",
       "  52,\n",
       "  53,\n",
       "  54,\n",
       "  55,\n",
       "  56,\n",
       "  57,\n",
       "  58,\n",
       "  59,\n",
       "  60,\n",
       "  61,\n",
       "  62,\n",
       "  63,\n",
       "  64,\n",
       "  65],\n",
       " [Text(0, 0, 'ftp_data'),\n",
       "  Text(1, 0, 'other'),\n",
       "  Text(2, 0, 'private'),\n",
       "  Text(3, 0, 'http'),\n",
       "  Text(4, 0, 'remote_job'),\n",
       "  Text(5, 0, 'name'),\n",
       "  Text(6, 0, 'netbios_ns'),\n",
       "  Text(7, 0, 'eco_i'),\n",
       "  Text(8, 0, 'mtp'),\n",
       "  Text(9, 0, 'telnet'),\n",
       "  Text(10, 0, 'finger'),\n",
       "  Text(11, 0, 'domain_u'),\n",
       "  Text(12, 0, 'supdup'),\n",
       "  Text(13, 0, 'uucp_path'),\n",
       "  Text(14, 0, 'Z39_50'),\n",
       "  Text(15, 0, 'smtp'),\n",
       "  Text(16, 0, 'csnet_ns'),\n",
       "  Text(17, 0, 'uucp'),\n",
       "  Text(18, 0, 'netbios_dgm'),\n",
       "  Text(19, 0, 'urp_i'),\n",
       "  Text(20, 0, 'auth'),\n",
       "  Text(21, 0, 'domain'),\n",
       "  Text(22, 0, 'ftp'),\n",
       "  Text(23, 0, 'bgp'),\n",
       "  Text(24, 0, 'ldap'),\n",
       "  Text(25, 0, 'ecr_i'),\n",
       "  Text(26, 0, 'gopher'),\n",
       "  Text(27, 0, 'vmnet'),\n",
       "  Text(28, 0, 'systat'),\n",
       "  Text(29, 0, 'http_443'),\n",
       "  Text(30, 0, 'efs'),\n",
       "  Text(31, 0, 'whois'),\n",
       "  Text(32, 0, 'imap4'),\n",
       "  Text(33, 0, 'iso_tsap'),\n",
       "  Text(34, 0, 'echo'),\n",
       "  Text(35, 0, 'klogin'),\n",
       "  Text(36, 0, 'link'),\n",
       "  Text(37, 0, 'sunrpc'),\n",
       "  Text(38, 0, 'login'),\n",
       "  Text(39, 0, 'kshell'),\n",
       "  Text(40, 0, 'sql_net'),\n",
       "  Text(41, 0, 'time'),\n",
       "  Text(42, 0, 'hostnames'),\n",
       "  Text(43, 0, 'exec'),\n",
       "  Text(44, 0, 'ntp_u'),\n",
       "  Text(45, 0, 'discard'),\n",
       "  Text(46, 0, 'nntp'),\n",
       "  Text(47, 0, 'courier'),\n",
       "  Text(48, 0, 'ctf'),\n",
       "  Text(49, 0, 'ssh'),\n",
       "  Text(50, 0, 'daytime'),\n",
       "  Text(51, 0, 'shell'),\n",
       "  Text(52, 0, 'netstat'),\n",
       "  Text(53, 0, 'pop_3'),\n",
       "  Text(54, 0, 'nnsp'),\n",
       "  Text(55, 0, 'IRC'),\n",
       "  Text(56, 0, 'pop_2'),\n",
       "  Text(57, 0, 'printer'),\n",
       "  Text(58, 0, 'tim_i'),\n",
       "  Text(59, 0, 'pm_dump'),\n",
       "  Text(60, 0, 'red_i'),\n",
       "  Text(61, 0, 'netbios_ssn'),\n",
       "  Text(62, 0, 'rje'),\n",
       "  Text(63, 0, 'X11'),\n",
       "  Text(64, 0, 'urh_i'),\n",
       "  Text(65, 0, 'http_8001')])"
      ]
     },
     "execution_count": 111,
     "metadata": {},
     "output_type": "execute_result"
    },
    {
     "data": {
      "image/png": "[encoded data removed]",
      "text/plain": [
       "<Figure size 1200x600 with 1 Axes>"
      ]
     },
     "metadata": {},
     "output_type": "display_data"
    }
   ],
   "source": [
    "plt.figure(figsize = (12,6))\n",
    "sns.countplot(data = df, x = 'service', hue = 'class')\n",
    "plt.xticks(rotation = 90)"
   ]
  },
  {
   "cell_type": "markdown",
   "metadata": {},
   "source": [
    "Inicialmente meu plano incluia derrubar essa coluna, já que como vemos pelo gráfico ela possui uma alta quantidade de classes em sua feature(66 pra ser exato) porém enquanto lendo sobre o assunto em cenários reais mostra o quão importante é o tipo de serviço em KDD(Knowledge Discovery in Database) para detecção de ataques, então vamos tratar sobre isso mais abaixo.\n",
    "\n",
    "https://www.researchgate.net/publication/361531767_Establishing_the_Contaminating_Effect_of_Metadata_Feature_Inclusion_in_Machine-Learned_Network_Intrusion_Detection_Models"
   ]
  },
  {
   "cell_type": "code",
   "execution_count": 112,
   "metadata": {
    "execution": {
     "iopub.execute_input": "2025-05-02T12:42:12.327373Z",
     "iopub.status.busy": "2025-05-02T12:42:12.327070Z",
     "iopub.status.idle": "2025-05-02T12:42:12.673166Z",
     "shell.execute_reply": "2025-05-02T12:42:12.672015Z",
     "shell.execute_reply.started": "2025-05-02T12:42:12.327353Z"
    },
    "trusted": true
   },
   "outputs": [
    {
     "data": {
      "text/plain": [
       "<seaborn.axisgrid.FacetGrid at 0x14773cfb380>"
      ]
     },
     "execution_count": 112,
     "metadata": {},
     "output_type": "execute_result"
    },
    {
     "data": {
      "text/plain": [
       "<Figure size 1600x600 with 0 Axes>"
      ]
     },
     "metadata": {},
     "output_type": "display_data"
    },
    {
     "data": {
      "image/png": "[encoded data removed]",
      "text/plain": [
       "<Figure size 500x500 with 1 Axes>"
      ]
     },
     "metadata": {},
     "output_type": "display_data"
    }
   ],
   "source": [
    "plt.figure(figsize=(16,6))\n",
    "sns.displot(df['count'], kde=False)"
   ]
  },
  {
   "cell_type": "markdown",
   "metadata": {},
   "source": [
    "Count demonstra que maioria das conexões possuiam o mesmo host de destinação usando o mesmo serviço, sendo ou com count MUITO baixo, ou count MUITO alto."
   ]
  },
  {
   "cell_type": "markdown",
   "metadata": {},
   "source": [
    "## 1.3 Análise das features numéricas"
   ]
  },
  {
   "cell_type": "code",
   "execution_count": 113,
   "metadata": {
    "execution": {
     "iopub.execute_input": "2025-05-02T12:42:12.675659Z",
     "iopub.status.busy": "2025-05-02T12:42:12.674540Z",
     "iopub.status.idle": "2025-05-02T12:42:12.684003Z",
     "shell.execute_reply": "2025-05-02T12:42:12.682582Z",
     "shell.execute_reply.started": "2025-05-02T12:42:12.675626Z"
    },
    "trusted": true
   },
   "outputs": [],
   "source": [
    "labels ={'normal':0,'anomaly':1}\n",
    "df['class'] = df['class'].map(labels)"
   ]
  },
  {
   "cell_type": "markdown",
   "metadata": {},
   "source": [
    "Aqui estamos simplesmente fazendo um encoding simples, isto é, mudando uma classe categórica para uma númerica para a alimentação do nosso modelo, sendo 0 uma atividade normal e 1 uma atividade anomala."
   ]
  },
  {
   "cell_type": "code",
   "execution_count": 114,
   "metadata": {
    "execution": {
     "iopub.execute_input": "2025-05-02T12:42:12.685365Z",
     "iopub.status.busy": "2025-05-02T12:42:12.685057Z",
     "iopub.status.idle": "2025-05-02T12:42:12.713446Z",
     "shell.execute_reply": "2025-05-02T12:42:12.711847Z",
     "shell.execute_reply.started": "2025-05-02T12:42:12.685343Z"
    },
    "trusted": true
   },
   "outputs": [],
   "source": [
    "num_cols = df.select_dtypes(include = ['int64','float64'])"
   ]
  },
  {
   "cell_type": "markdown",
   "metadata": {},
   "source": [
    "Aqui buscamos todas as classes númericas, como temos muitas colunas numéricas o nosso objetivo aqui é reduzir a dimensionalidade, isto é, uma técnica de ML feita para aumentar a capacidade de inferência do nosso modelo retirando colunas que causem ruído, nesse caso vamos tirar colunas que uma alta correlação que possuam o mesmo resultado de classe assim criando um modelo um pouco mais robusto."
   ]
  },
  {
   "cell_type": "code",
   "execution_count": 115,
   "metadata": {
    "execution": {
     "iopub.execute_input": "2025-05-02T12:42:12.714801Z",
     "iopub.status.busy": "2025-05-02T12:42:12.714473Z",
     "iopub.status.idle": "2025-05-02T12:42:12.843069Z",
     "shell.execute_reply": "2025-05-02T12:42:12.842015Z",
     "shell.execute_reply.started": "2025-05-02T12:42:12.714779Z"
    },
    "trusted": true
   },
   "outputs": [
    {
     "data": {
      "text/plain": [
       "same_srv_rate                 -0.749237\n",
       "dst_host_srv_count            -0.719292\n",
       "dst_host_same_srv_rate        -0.692212\n",
       "logged_in                     -0.688084\n",
       "srv_diff_host_rate            -0.120649\n",
       "is_guest_login                -0.038662\n",
       "num_access_files              -0.036999\n",
       "su_attempted                  -0.025851\n",
       "num_root                      -0.019753\n",
       "num_compromised               -0.018620\n",
       "root_shell                    -0.018579\n",
       "num_file_creations            -0.018322\n",
       "num_shells                    -0.013454\n",
       "hot                           -0.012839\n",
       "dst_bytes                     -0.010949\n",
       "num_failed_logins              0.000028\n",
       "land                           0.000605\n",
       "srv_count                      0.002370\n",
       "src_bytes                      0.005743\n",
       "urgent                         0.006743\n",
       "duration                       0.050901\n",
       "dst_host_srv_diff_host_rate    0.062928\n",
       "dst_host_same_src_port_rate    0.092974\n",
       "wrong_fragment                 0.097625\n",
       "diff_srv_rate                  0.193528\n",
       "dst_host_diff_srv_rate         0.238170\n",
       "srv_rerror_rate                0.256152\n",
       "dst_host_rerror_rate           0.256312\n",
       "rerror_rate                    0.256858\n",
       "dst_host_srv_rerror_rate       0.256999\n",
       "dst_host_count                 0.368828\n",
       "count                          0.578790\n",
       "srv_serror_rate                0.647817\n",
       "serror_rate                    0.649952\n",
       "dst_host_serror_rate           0.651050\n",
       "dst_host_srv_serror_rate       0.653759\n",
       "class                          1.000000\n",
       "num_outbound_cmds                   NaN\n",
       "is_host_login                       NaN\n",
       "Name: class, dtype: float64"
      ]
     },
     "execution_count": 115,
     "metadata": {},
     "output_type": "execute_result"
    }
   ],
   "source": [
    "num_cols.corr()['class'].sort_values()"
   ]
  },
  {
   "cell_type": "code",
   "execution_count": 116,
   "metadata": {
    "execution": {
     "iopub.execute_input": "2025-05-02T12:42:12.844317Z",
     "iopub.status.busy": "2025-05-02T12:42:12.844083Z",
     "iopub.status.idle": "2025-05-02T12:42:12.858937Z",
     "shell.execute_reply": "2025-05-02T12:42:12.857342Z",
     "shell.execute_reply.started": "2025-05-02T12:42:12.844300Z"
    },
    "trusted": true
   },
   "outputs": [],
   "source": [
    "df.drop(['num_outbound_cmds','is_host_login'], axis=1, inplace=True)\n",
    "num_cols = df.select_dtypes(include = ['int64','float64'])"
   ]
  },
  {
   "cell_type": "markdown",
   "metadata": {},
   "source": [
    "Como visto acima, essas duas features 'num_outbound_cmds','is_host_login' não implicam em nada(na verdade, após olhar elas não possuem nenhum valor registrado) no modelo, por isso podemos retira-las imediatamente."
   ]
  },
  {
   "cell_type": "code",
   "execution_count": 117,
   "metadata": {
    "execution": {
     "iopub.execute_input": "2025-05-02T12:42:12.907370Z",
     "iopub.status.busy": "2025-05-02T12:42:12.906933Z",
     "iopub.status.idle": "2025-05-02T12:42:13.438769Z",
     "shell.execute_reply": "2025-05-02T12:42:13.437706Z",
     "shell.execute_reply.started": "2025-05-02T12:42:12.907311Z"
    },
    "trusted": true
   },
   "outputs": [
    {
     "data": {
      "text/plain": [
       "<Axes: >"
      ]
     },
     "execution_count": 117,
     "metadata": {},
     "output_type": "execute_result"
    },
    {
     "data": {
      "image/png": "[encoded data removed]",
      "text/plain": [
       "<Figure size 640x480 with 1 Axes>"
      ]
     },
     "metadata": {},
     "output_type": "display_data"
    }
   ],
   "source": [
    "num_cols.corr()['class'].drop('class').sort_values().plot(kind ='bar')"
   ]
  },
  {
   "cell_type": "markdown",
   "metadata": {},
   "source": [
    "No gráfico vemos uma alta correlação negativa de -0.749 que sugere uma relação inversa entre 'same_srv_rate' e nossa variável alvo 'classe' o que indica que assim que os valores delas são mais altos, é mais indicavel que aquela seja uma atividade anomala, e vice versa. Enquanto isso, uma correlação positiva alta de 0.65 entre 'dst_host_srv_serror_rate' e nossa variável alvo diz que quanto maior o valor dele, maior a chance de ser uma anomalia."
   ]
  },
  {
   "cell_type": "markdown",
   "metadata": {},
   "source": [
    "### 1.3.1 Tratamento de features numéricas correlacionadas"
   ]
  },
  {
   "cell_type": "code",
   "execution_count": 118,
   "metadata": {
    "execution": {
     "iopub.execute_input": "2025-05-02T12:42:13.440487Z",
     "iopub.status.busy": "2025-05-02T12:42:13.440112Z",
     "iopub.status.idle": "2025-05-02T12:42:14.394712Z",
     "shell.execute_reply": "2025-05-02T12:42:14.393705Z",
     "shell.execute_reply.started": "2025-05-02T12:42:13.440454Z"
    },
    "trusted": true
   },
   "outputs": [
    {
     "data": {
      "text/plain": [
       "<Axes: >"
      ]
     },
     "execution_count": 118,
     "metadata": {},
     "output_type": "execute_result"
    },
    {
     "data": {
      "image/png": "[encoded data removed]",
      "text/plain": [
       "<Figure size 1200x600 with 2 Axes>"
      ]
     },
     "metadata": {},
     "output_type": "display_data"
    }
   ],
   "source": [
    "plt.figure(figsize = (12, 6))\n",
    "sns.heatmap(data = num_cols.corr(), cmap = 'viridis')"
   ]
  },
  {
   "cell_type": "markdown",
   "metadata": {},
   "source": [
    "Aqui estamos vendo uma matriz de correlação de variáveis, aqui podemos ver quais variáveis tem maior relação entre si na implicação do resultado, assim podemos eliminar a redundância criando uma matriz entre essas variáveis e retirando uma delas."
   ]
  },
  {
   "cell_type": "code",
   "execution_count": 119,
   "metadata": {
    "execution": {
     "iopub.execute_input": "2025-05-02T12:42:14.395944Z",
     "iopub.status.busy": "2025-05-02T12:42:14.395667Z",
     "iopub.status.idle": "2025-05-02T12:42:14.523271Z",
     "shell.execute_reply": "2025-05-02T12:42:14.522332Z",
     "shell.execute_reply.started": "2025-05-02T12:42:14.395918Z"
    },
    "trusted": true
   },
   "outputs": [
    {
     "data": {
      "text/html": [
       "<div>\n",
       "<style scoped>\n",
       "    .dataframe tbody tr th:only-of-type {\n",
       "        vertical-align: middle;\n",
       "    }\n",
       "\n",
       "    .dataframe tbody tr th {\n",
       "        vertical-align: top;\n",
       "    }\n",
       "\n",
       "    .dataframe thead th {\n",
       "        text-align: right;\n",
       "    }\n",
       "</style>\n",
       "<table border=\"1\" class=\"dataframe\">\n",
       "  <thead>\n",
       "    <tr style=\"text-align: right;\">\n",
       "      <th></th>\n",
       "      <th>Feature 1</th>\n",
       "      <th>Feature 2</th>\n",
       "      <th>Correlation Coefficient</th>\n",
       "    </tr>\n",
       "  </thead>\n",
       "  <tbody>\n",
       "    <tr>\n",
       "      <th>0</th>\n",
       "      <td>num_root</td>\n",
       "      <td>num_compromised</td>\n",
       "      <td>0.998956</td>\n",
       "    </tr>\n",
       "    <tr>\n",
       "      <th>1</th>\n",
       "      <td>srv_serror_rate</td>\n",
       "      <td>serror_rate</td>\n",
       "      <td>0.993290</td>\n",
       "    </tr>\n",
       "    <tr>\n",
       "      <th>2</th>\n",
       "      <td>srv_rerror_rate</td>\n",
       "      <td>rerror_rate</td>\n",
       "      <td>0.989134</td>\n",
       "    </tr>\n",
       "    <tr>\n",
       "      <th>3</th>\n",
       "      <td>dst_host_serror_rate</td>\n",
       "      <td>serror_rate</td>\n",
       "      <td>0.978022</td>\n",
       "    </tr>\n",
       "    <tr>\n",
       "      <th>4</th>\n",
       "      <td>dst_host_serror_rate</td>\n",
       "      <td>srv_serror_rate</td>\n",
       "      <td>0.976363</td>\n",
       "    </tr>\n",
       "    <tr>\n",
       "      <th>5</th>\n",
       "      <td>dst_host_srv_serror_rate</td>\n",
       "      <td>serror_rate</td>\n",
       "      <td>0.979602</td>\n",
       "    </tr>\n",
       "    <tr>\n",
       "      <th>6</th>\n",
       "      <td>dst_host_srv_serror_rate</td>\n",
       "      <td>srv_serror_rate</td>\n",
       "      <td>0.984621</td>\n",
       "    </tr>\n",
       "    <tr>\n",
       "      <th>7</th>\n",
       "      <td>dst_host_srv_serror_rate</td>\n",
       "      <td>dst_host_serror_rate</td>\n",
       "      <td>0.984706</td>\n",
       "    </tr>\n",
       "    <tr>\n",
       "      <th>8</th>\n",
       "      <td>dst_host_rerror_rate</td>\n",
       "      <td>rerror_rate</td>\n",
       "      <td>0.928992</td>\n",
       "    </tr>\n",
       "    <tr>\n",
       "      <th>9</th>\n",
       "      <td>dst_host_rerror_rate</td>\n",
       "      <td>srv_rerror_rate</td>\n",
       "      <td>0.919537</td>\n",
       "    </tr>\n",
       "    <tr>\n",
       "      <th>10</th>\n",
       "      <td>dst_host_srv_rerror_rate</td>\n",
       "      <td>rerror_rate</td>\n",
       "      <td>0.964886</td>\n",
       "    </tr>\n",
       "    <tr>\n",
       "      <th>11</th>\n",
       "      <td>dst_host_srv_rerror_rate</td>\n",
       "      <td>srv_rerror_rate</td>\n",
       "      <td>0.969841</td>\n",
       "    </tr>\n",
       "    <tr>\n",
       "      <th>12</th>\n",
       "      <td>dst_host_srv_rerror_rate</td>\n",
       "      <td>dst_host_rerror_rate</td>\n",
       "      <td>0.925390</td>\n",
       "    </tr>\n",
       "  </tbody>\n",
       "</table>\n",
       "</div>"
      ],
      "text/plain": [
       "                   Feature 1             Feature 2  Correlation Coefficient\n",
       "0                   num_root       num_compromised                 0.998956\n",
       "1            srv_serror_rate           serror_rate                 0.993290\n",
       "2            srv_rerror_rate           rerror_rate                 0.989134\n",
       "3       dst_host_serror_rate           serror_rate                 0.978022\n",
       "4       dst_host_serror_rate       srv_serror_rate                 0.976363\n",
       "5   dst_host_srv_serror_rate           serror_rate                 0.979602\n",
       "6   dst_host_srv_serror_rate       srv_serror_rate                 0.984621\n",
       "7   dst_host_srv_serror_rate  dst_host_serror_rate                 0.984706\n",
       "8       dst_host_rerror_rate           rerror_rate                 0.928992\n",
       "9       dst_host_rerror_rate       srv_rerror_rate                 0.919537\n",
       "10  dst_host_srv_rerror_rate           rerror_rate                 0.964886\n",
       "11  dst_host_srv_rerror_rate       srv_rerror_rate                 0.969841\n",
       "12  dst_host_srv_rerror_rate  dst_host_rerror_rate                 0.925390"
      ]
     },
     "execution_count": 119,
     "metadata": {},
     "output_type": "execute_result"
    }
   ],
   "source": [
    "# Calculando a matriz de correlação\n",
    "correlation_matrix = num_cols.corr()\n",
    "\n",
    "# Limite de correlação mínima para matriz\n",
    "threshold = 0.90\n",
    "\n",
    "# Array de pares de correlação direta\n",
    "strong_correlations = []\n",
    "\n",
    "for i in range(len(correlation_matrix.columns)):\n",
    "    for j in range(i):\n",
    "        if abs(correlation_matrix.iloc[i, j]) > threshold:\n",
    "            strong_correlations.append((correlation_matrix.columns[i], correlation_matrix.columns[j], correlation_matrix.iloc[i, j]))\n",
    "\n",
    "# Convertido em dataframe para legibilidade\n",
    "strong_correlations_df = pd.DataFrame(strong_correlations, columns=['Feature 1', 'Feature 2', 'Correlation Coefficient'])\n",
    "\n",
    "strong_correlations_df"
   ]
  },
  {
   "cell_type": "code",
   "execution_count": 120,
   "metadata": {
    "execution": {
     "iopub.execute_input": "2025-05-02T12:42:14.524551Z",
     "iopub.status.busy": "2025-05-02T12:42:14.524279Z",
     "iopub.status.idle": "2025-05-02T12:42:14.531174Z",
     "shell.execute_reply": "2025-05-02T12:42:14.530283Z",
     "shell.execute_reply.started": "2025-05-02T12:42:14.524498Z"
    },
    "trusted": true
   },
   "outputs": [
    {
     "data": {
      "text/plain": [
       "['num_root',\n",
       " 'srv_serror_rate',\n",
       " 'srv_rerror_rate',\n",
       " 'dst_host_serror_rate',\n",
       " 'dst_host_serror_rate',\n",
       " 'dst_host_srv_serror_rate',\n",
       " 'dst_host_srv_serror_rate',\n",
       " 'dst_host_srv_serror_rate',\n",
       " 'dst_host_rerror_rate',\n",
       " 'dst_host_rerror_rate',\n",
       " 'dst_host_srv_rerror_rate',\n",
       " 'dst_host_srv_rerror_rate',\n",
       " 'dst_host_srv_rerror_rate']"
      ]
     },
     "execution_count": 120,
     "metadata": {},
     "output_type": "execute_result"
    }
   ],
   "source": [
    "strong_correlations_list = list(strong_correlations_df['Feature 1'])\n",
    "strong_correlations_list"
   ]
  },
  {
   "cell_type": "markdown",
   "metadata": {},
   "source": [
    "Como dito anteriormente, essas variáveis possuem mais de 90% de relação entre si, então retira-las é uma forma de aumentarmos a robustez de nosso modelo diminuindo a dimensionalidade da tabela."
   ]
  },
  {
   "cell_type": "code",
   "execution_count": 121,
   "metadata": {
    "execution": {
     "iopub.execute_input": "2025-05-02T12:42:14.532215Z",
     "iopub.status.busy": "2025-05-02T12:42:14.531968Z",
     "iopub.status.idle": "2025-05-02T12:42:14.555503Z",
     "shell.execute_reply": "2025-05-02T12:42:14.554342Z",
     "shell.execute_reply.started": "2025-05-02T12:42:14.532197Z"
    },
    "trusted": true
   },
   "outputs": [],
   "source": [
    "df = df.drop(strong_correlations_list, axis = 1)"
   ]
  },
  {
   "cell_type": "markdown",
   "metadata": {},
   "source": [
    "## 1.4 Tratamento de outliers"
   ]
  },
  {
   "cell_type": "markdown",
   "metadata": {},
   "source": [
    "Aqui fariamos o tratamento de outliers usando o método interquartis, porém em uma verificação rápida não existem outliers suficientes para justificar esse tratamento, então podemos simplesmente pular isso"
   ]
  },
  {
   "cell_type": "code",
   "execution_count": 122,
   "metadata": {
    "execution": {
     "iopub.execute_input": "2025-05-02T12:42:12.860495Z",
     "iopub.status.busy": "2025-05-02T12:42:12.860115Z",
     "iopub.status.idle": "2025-05-02T12:42:12.884631Z",
     "shell.execute_reply": "2025-05-02T12:42:12.883606Z",
     "shell.execute_reply.started": "2025-05-02T12:42:12.860471Z"
    },
    "trusted": true
   },
   "outputs": [],
   "source": [
    "def take_outliers_out(df:pd.DataFrame, num_features:list)->pd.DataFrame:\n",
    "    for variable in num_features:\n",
    "        var_desc = df[variable].describe() \n",
    "        IQR = var_desc['75%'] - var_desc['25%']\n",
    "    \n",
    "        new_df = df[(df[variable] <= (var_desc['75%'] + 2 * IQR)) & (df[variable] >= (var_desc['25%'] - 2 * IQR))]\n",
    "    \n",
    "    return new_df"
   ]
  },
  {
   "cell_type": "code",
   "execution_count": 123,
   "metadata": {
    "execution": {
     "iopub.execute_input": "2025-05-02T12:42:12.886075Z",
     "iopub.status.busy": "2025-05-02T12:42:12.885733Z",
     "iopub.status.idle": "2025-05-02T12:42:12.905748Z",
     "shell.execute_reply": "2025-05-02T12:42:12.904823Z",
     "shell.execute_reply.started": "2025-05-02T12:42:12.886039Z"
    },
    "trusted": true
   },
   "outputs": [],
   "source": [
    "#df = take_outliers_out(df, num_cols)\n",
    "#df.reset_index(drop=True, inplace=True)"
   ]
  },
  {
   "cell_type": "markdown",
   "metadata": {},
   "source": [
    "# 2. Modelagem"
   ]
  },
  {
   "cell_type": "markdown",
   "metadata": {},
   "source": [
    "## 2.1 Codificação de features categóricas"
   ]
  },
  {
   "cell_type": "markdown",
   "metadata": {},
   "source": [
    "Aqui começamos separando a tabela com nossas features e nossa variável alvo."
   ]
  },
  {
   "cell_type": "code",
   "execution_count": 124,
   "metadata": {
    "execution": {
     "iopub.execute_input": "2025-05-02T12:42:14.558096Z",
     "iopub.status.busy": "2025-05-02T12:42:14.557617Z",
     "iopub.status.idle": "2025-05-02T12:42:14.568033Z",
     "shell.execute_reply": "2025-05-02T12:42:14.567112Z",
     "shell.execute_reply.started": "2025-05-02T12:42:14.558065Z"
    },
    "trusted": true
   },
   "outputs": [],
   "source": [
    "y  = df['class']\n",
    "X  = df.drop(columns='class')"
   ]
  },
  {
   "cell_type": "code",
   "execution_count": 125,
   "metadata": {
    "execution": {
     "iopub.execute_input": "2025-05-02T12:42:14.569480Z",
     "iopub.status.busy": "2025-05-02T12:42:14.569131Z",
     "iopub.status.idle": "2025-05-02T12:42:14.588896Z",
     "shell.execute_reply": "2025-05-02T12:42:14.588022Z",
     "shell.execute_reply.started": "2025-05-02T12:42:14.569457Z"
    },
    "trusted": true
   },
   "outputs": [],
   "source": [
    "cat_cols = X.select_dtypes(include=['object','category']).columns.tolist()\n",
    "num_cols = X.select_dtypes(exclude=['object','category']).columns.tolist()"
   ]
  },
  {
   "cell_type": "markdown",
   "metadata": {},
   "source": [
    "Por que não usamos somente o OneHotEncoding ou diretamente o label encoder aqui?\n",
    "\n",
    "Isso é possível, porém não tão performático primeiro pelas dimensões de colunas, que machucariam a acurácia no one hot encoding/label encoder assim como o fator cardinalidade para ordenalidade caso fosse feito assim já que 'service' tem 66 valores únicos mas que não representam diretamente ordinalidade quanto a presença de uma anomalia ou não. Por isso a separação abaixo.\n",
    "\n",
    "Um fator que seria um ponto de melhoria aqui seria o fato de de classes de distribuição de cauda pesada, como foi visto acima com o exemplo do count(na verdade, todas que possuem count no descritivo são de cauda pesada) o que implica num alto enviesamento dos dados. O ideal portanto seria que fosse feito uma transformação logarítmica(mas são 15:39 de um domingo e eu quero assistir formula 1) para lidar com a alta variabilidade e assimetria de counts de forma performática."
   ]
  },
  {
   "cell_type": "code",
   "execution_count": 126,
   "metadata": {
    "execution": {
     "iopub.execute_input": "2025-05-02T12:42:14.590354Z",
     "iopub.status.busy": "2025-05-02T12:42:14.589877Z",
     "iopub.status.idle": "2025-05-02T12:42:14.644692Z",
     "shell.execute_reply": "2025-05-02T12:42:14.643615Z",
     "shell.execute_reply.started": "2025-05-02T12:42:14.590319Z"
    },
    "trusted": true
   },
   "outputs": [],
   "source": [
    "svc_col   = ['service']\n",
    "cat_ohcol = [c for c in cat_cols if c not in svc_col]\n",
    "\n",
    "prep = ColumnTransformer([\n",
    "        ('svc', TargetEncoder(\n",
    "                    cols=svc_col,\n",
    "                    smoothing=0.3,\n",
    "                    handle_unknown='ignore',\n",
    "                    handle_missing='value'), svc_col),\n",
    "\n",
    "\n",
    "        ('cat', OneHotEncoder(handle_unknown='ignore', sparse_output=True), cat_ohcol),\n",
    "\n",
    "\n",
    "        ('num', StandardScaler(), num_cols)\n",
    "])"
   ]
  },
  {
   "cell_type": "markdown",
   "metadata": {},
   "source": [
    "## 2.2 Separação de treino e teste"
   ]
  },
  {
   "cell_type": "markdown",
   "metadata": {},
   "source": [
    "Aqui é um split básico de 80/20 entre treino e teste para os nossos modelos"
   ]
  },
  {
   "cell_type": "code",
   "execution_count": 127,
   "metadata": {
    "execution": {
     "iopub.execute_input": "2025-05-02T12:42:14.667617Z",
     "iopub.status.busy": "2025-05-02T12:42:14.667274Z",
     "iopub.status.idle": "2025-05-02T12:42:15.315029Z",
     "shell.execute_reply": "2025-05-02T12:42:15.314191Z",
     "shell.execute_reply.started": "2025-05-02T12:42:14.667588Z"
    },
    "trusted": true
   },
   "outputs": [],
   "source": [
    "X_tr, X_te, y_tr, y_te = train_test_split(\n",
    "        X, y, test_size=0.20, stratify=y, random_state=42)\n"
   ]
  },
  {
   "cell_type": "markdown",
   "metadata": {},
   "source": [
    "# 3. Classificação"
   ]
  },
  {
   "cell_type": "markdown",
   "metadata": {},
   "source": [
    "## 3.1 Classificação com o XGB"
   ]
  },
  {
   "cell_type": "markdown",
   "metadata": {},
   "source": [
    "Por que usamos XGB aqui? Por conta das diversas relações não diretamente lineares como visto acima nas features 'service' e 'flag' assim como melhor adequação a features com e sem cardinalidade assim como mais eficiente energéticamente para ambientes reais da industria."
   ]
  },
  {
   "cell_type": "code",
   "execution_count": 128,
   "metadata": {
    "execution": {
     "iopub.execute_input": "2025-05-02T12:42:14.646002Z",
     "iopub.status.busy": "2025-05-02T12:42:14.645723Z",
     "iopub.status.idle": "2025-05-02T12:42:14.666242Z",
     "shell.execute_reply": "2025-05-02T12:42:14.665287Z",
     "shell.execute_reply.started": "2025-05-02T12:42:14.645979Z"
    },
    "trusted": true
   },
   "outputs": [],
   "source": [
    "clf = XGBClassifier(\n",
    "        n_estimators    = 200,\n",
    "        max_depth       = 6,\n",
    "        learning_rate   = 0.10,\n",
    "        subsample       = 0.8,\n",
    "        colsample_bytree= 0.8,\n",
    "        objective       = 'binary:logistic',\n",
    "        eval_metric     = 'logloss',\n",
    "        n_jobs          = 4,\n",
    "        scale_pos_weight= (len(y[y==0]) / len(y[y==1]))   # 0=normal,1=anomalia\n",
    ")"
   ]
  },
  {
   "cell_type": "code",
   "execution_count": 129,
   "metadata": {},
   "outputs": [],
   "source": [
    "pipe = Pipeline([\n",
    "        ('prep',  prep),\n",
    "        ('model', clf)\n",
    "])\n",
    "\n",
    "pipe.fit(X_tr, y_tr)\n",
    "\n",
    "y_pred = pipe.predict(X_te)\n",
    "y_prob = pipe.predict_proba(X_te)[:, 1]  # probabilidade da classe 1 anomalia"
   ]
  },
  {
   "cell_type": "markdown",
   "metadata": {},
   "source": [
    "### 3.1.1 Resultados com o XGB Padrão "
   ]
  },
  {
   "cell_type": "markdown",
   "metadata": {},
   "source": [
    "Para calcular melhor o sucesso do nosso modelo temos de ter noção que o custo das predições é diferente, isso será explorado melhor nas modelagens abaixo mas em tese temos que: ataques nos quais nosso modelo não detecta, isto é falsos negativos, claramente impactam mais que um alarme falso(falso positivo), então devemos trabalhar para otimizar ao máximo falsos negativos. Ademais, acurácia pura não serve como métrica nesse modelo, tendo em vista isso precisamos saber da sensibilidade(descrito como recall) do modelo, que mede quantas instâncias positivas reais o modelo conseguiu indentificar.\n",
    "\n",
    "Além disso precisamos saber o a taxa de verdadeiros positivos contra a taxa de falsos positivos, que é conhecido como ROC-AUC(Receiver Operating Characteristic per Area Under the Curve), quanto mais próximo ao 1 melhor, e também a PR-AUC(Precision-Recall per Area Under the Curve) exclusivamente para a qualidade em dettecção de ataques, que demonstra caso haja um desbalanceamento entre ataques e detecções normais."
   ]
  },
  {
   "cell_type": "code",
   "execution_count": 130,
   "metadata": {
    "execution": {
     "iopub.execute_input": "2025-05-02T12:42:15.384365Z",
     "iopub.status.busy": "2025-05-02T12:42:15.383595Z",
     "iopub.status.idle": "2025-05-02T12:42:15.412447Z",
     "shell.execute_reply": "2025-05-02T12:42:15.411342Z",
     "shell.execute_reply.started": "2025-05-02T12:42:15.384337Z"
    },
    "trusted": true
   },
   "outputs": [
    {
     "name": "stdout",
     "output_type": "stream",
     "text": [
      "              precision    recall  f1-score   support\n",
      "\n",
      "      normal       1.00      1.00      1.00      2690\n",
      "     anomaly       1.00      0.99      1.00      2349\n",
      "\n",
      "    accuracy                           1.00      5039\n",
      "   macro avg       1.00      1.00      1.00      5039\n",
      "weighted avg       1.00      1.00      1.00      5039\n",
      "\n",
      "ROC‑AUC : 0.999963917256572\n",
      "PR‑AUC  : 0.9999592002036012\n"
     ]
    }
   ],
   "source": [
    "print(metrics.classification_report(\n",
    "        y_te, y_pred, target_names=['normal','anomaly']))\n",
    "print(\"ROC‑AUC :\", metrics.roc_auc_score(y_te, y_prob))\n",
    "print(\"PR‑AUC  :\", metrics.average_precision_score(y_te, y_prob))"
   ]
  },
  {
   "cell_type": "code",
   "execution_count": 131,
   "metadata": {
    "execution": {
     "iopub.execute_input": "2025-05-02T12:42:15.413658Z",
     "iopub.status.busy": "2025-05-02T12:42:15.413385Z",
     "iopub.status.idle": "2025-05-02T12:42:15.620033Z",
     "shell.execute_reply": "2025-05-02T12:42:15.619044Z",
     "shell.execute_reply.started": "2025-05-02T12:42:15.413637Z"
    },
    "trusted": true
   },
   "outputs": [
    {
     "data": {
      "image/png": "[encoded data removed]",
      "text/plain": [
       "<Figure size 640x480 with 2 Axes>"
      ]
     },
     "metadata": {},
     "output_type": "display_data"
    }
   ],
   "source": [
    "cm = metrics.confusion_matrix(y_te, y_pred, labels=[0,1])\n",
    "sns.heatmap(cm, annot=True, fmt='d', cmap='Blues',\n",
    "            xticklabels=['normal','anomaly'],\n",
    "            yticklabels=['normal','anomaly'],\n",
    "            square=True)\n",
    "plt.xlabel('Predicted'); plt.ylabel('Actual')\n",
    "plt.title('Confusion Matrix – Vanilla Run – XGBoost'); plt.tight_layout(); plt.show()"
   ]
  },
  {
   "cell_type": "markdown",
   "metadata": {},
   "source": [
    "## 3.2 Classificação com XGB com Otimização de Hiperparâmetros"
   ]
  },
  {
   "cell_type": "markdown",
   "metadata": {},
   "source": [
    "O que estamos fazendo aqui?\n",
    "Aqui utilizamos o optuna para rodar varias iterações do modelo pra procurar um conjunto de parâmetros que em cada verificação atinja pelo o menos 99.8% de recall, isto é somente 0,2% de erro é tolerado(o que seria comum no ramo de cybersegurança). Dentro desse mesmo limite, tentamos minimizar o custo total a para garantir que tenhamos o mínimo de ambos. O retorno dessa função abaixo é o total de custo que cada iteração gerou, o ideal é o quanto mais próximo de 0 o possível, o que é bem díficil, por isso também a função retorna um número negativo, já que a melhor rodagem desse algoritmo vai ser a que mais se aproximar de 0."
   ]
  },
  {
   "cell_type": "code",
   "execution_count": 132,
   "metadata": {
    "execution": {
     "iopub.execute_input": "2025-05-02T12:42:15.621803Z",
     "iopub.status.busy": "2025-05-02T12:42:15.621431Z",
     "iopub.status.idle": "2025-05-02T12:42:15.632411Z",
     "shell.execute_reply": "2025-05-02T12:42:15.630953Z",
     "shell.execute_reply.started": "2025-05-02T12:42:15.621771Z"
    },
    "trusted": true
   },
   "outputs": [],
   "source": [
    "min_recall_target = 0.998          # Tolerância máxima do algorítmo aqui 99.8%\n",
    "cost_fn  = 10                       # peso de um ataque não detectado\n",
    "cost_fp  = 1                        # peso de um alarme falso\n",
    "\n",
    "cv = StratifiedKFold(n_splits=5, shuffle=True, random_state=42)\n",
    "\n",
    "def objective(trial):\n",
    "    params = dict(\n",
    "        n_estimators     = trial.suggest_int ('n_estimators', 300, 700),\n",
    "        max_depth        = trial.suggest_int ('max_depth', 5, 10),\n",
    "        learning_rate    = trial.suggest_float('lr', 0.02, 0.15, log=True),\n",
    "        subsample        = trial.suggest_float('subsample', 0.6, 0.95),\n",
    "        colsample_bytree = trial.suggest_float('colsample', 0.6, 0.9),\n",
    "        gamma            = trial.suggest_float('gamma', 0.5, 4),\n",
    "        min_child_weight = trial.suggest_int ('min_child_weight', 5, 15),\n",
    "        reg_lambda       = trial.suggest_float('reg_lambda', 0, 10),\n",
    "        scale_pos_weight = 1.5*  len(y[y==0]) / len(y[y==1]),\n",
    "        objective        = 'binary:logistic',\n",
    "        eval_metric      = 'auc',\n",
    "        n_jobs           = 4,\n",
    "        random_state     = 42\n",
    "    )\n",
    "\n",
    "    pipe = Pipeline([('prep', prep), ('model', XGBClassifier(**params))])\n",
    "\n",
    "    fold_costs = []\n",
    "\n",
    "    for train_idx, val_idx in cv.split(X, y):\n",
    "        X_tr, X_val = X.iloc[train_idx], X.iloc[val_idx]\n",
    "        y_tr, y_val = y.iloc[train_idx], y.iloc[val_idx]\n",
    "\n",
    "        pipe.fit(X_tr, y_tr)\n",
    "\n",
    "        prob_val = pipe.predict_proba(X_val)[:, 1]\n",
    "        prec, rec, thr = precision_recall_curve(y_val, prob_val)\n",
    "\n",
    "        idx = np.where(rec >= min_recall_target)[0]\n",
    "        if len(idx):\n",
    "            thr_opt = thr[idx[-1]]\n",
    "        else:\n",
    "            thr_opt = thr[np.argmax(rec)]\n",
    "\n",
    "        y_hat = (prob_val >= thr_opt).astype(int)\n",
    "\n",
    "        fn = np.logical_and(y_hat == 0, y_val == 1).sum()\n",
    "        fp = np.logical_and(y_hat == 1, y_val == 0).sum()\n",
    "\n",
    "        fold_costs.append(cost_fn * fn + cost_fp * fp)\n",
    "\n",
    "    return -np.mean(fold_costs)\n"
   ]
  },
  {
   "cell_type": "code",
   "execution_count": 133,
   "metadata": {
    "execution": {
     "iopub.execute_input": "2025-05-02T12:42:15.633937Z",
     "iopub.status.busy": "2025-05-02T12:42:15.633646Z",
     "iopub.status.idle": "2025-05-02T12:50:54.548480Z",
     "shell.execute_reply": "2025-05-02T12:50:54.547476Z",
     "shell.execute_reply.started": "2025-05-02T12:42:15.633916Z"
    },
    "trusted": true
   },
   "outputs": [
    {
     "name": "stderr",
     "output_type": "stream",
     "text": [
      "[I 2025-05-05 07:06:30,836] A new study created in memory with name: no-name-28471c67-89f3-4025-a0ea-29f69996d618\n",
      "Best trial: 0. Best value: -118.2:   1%|▏         | 1/80 [00:02<02:56,  2.24s/it]"
     ]
    },
    {
     "name": "stdout",
     "output_type": "stream",
     "text": [
      "[I 2025-05-05 07:06:33,072] Trial 0 finished with value: -118.2 and parameters: {'n_estimators': 400, 'max_depth': 5, 'lr': 0.08857379425628176, 'subsample': 0.9101472244349729, 'colsample': 0.623020862564826, 'gamma': 3.3702978186697683, 'min_child_weight': 13, 'reg_lambda': 6.240861477463238}. Best is trial 0 with value: -118.2.\n"
     ]
    },
    {
     "name": "stderr",
     "output_type": "stream",
     "text": [
      "Best trial: 1. Best value: -87.4:   2%|▎         | 2/80 [00:05<03:54,  3.01s/it] "
     ]
    },
    {
     "name": "stdout",
     "output_type": "stream",
     "text": [
      "[I 2025-05-05 07:06:36,616] Trial 1 finished with value: -87.4 and parameters: {'n_estimators': 692, 'max_depth': 8, 'lr': 0.053024363809297176, 'subsample': 0.9301727359387908, 'colsample': 0.6384945905177347, 'gamma': 2.7599204270523656, 'min_child_weight': 9, 'reg_lambda': 2.9275296829682462}. Best is trial 1 with value: -87.4.\n"
     ]
    },
    {
     "name": "stderr",
     "output_type": "stream",
     "text": [
      "Best trial: 2. Best value: -69.8:   4%|▍         | 3/80 [00:10<05:01,  3.92s/it]"
     ]
    },
    {
     "name": "stdout",
     "output_type": "stream",
     "text": [
      "[I 2025-05-05 07:06:41,615] Trial 2 finished with value: -69.8 and parameters: {'n_estimators': 684, 'max_depth': 5, 'lr': 0.046138683566474305, 'subsample': 0.7832558631274765, 'colsample': 0.8290819784310042, 'gamma': 0.6099857096773892, 'min_child_weight': 10, 'reg_lambda': 7.225935061806368}. Best is trial 2 with value: -69.8.\n"
     ]
    },
    {
     "name": "stderr",
     "output_type": "stream",
     "text": [
      "Best trial: 2. Best value: -69.8:   5%|▌         | 4/80 [00:13<04:25,  3.49s/it]"
     ]
    },
    {
     "name": "stdout",
     "output_type": "stream",
     "text": [
      "[I 2025-05-05 07:06:44,458] Trial 3 finished with value: -88.2 and parameters: {'n_estimators': 585, 'max_depth': 6, 'lr': 0.11951038727924934, 'subsample': 0.8096346382407297, 'colsample': 0.8925163757908416, 'gamma': 3.553833484602675, 'min_child_weight': 8, 'reg_lambda': 2.4307569913688045}. Best is trial 2 with value: -69.8.\n"
     ]
    },
    {
     "name": "stderr",
     "output_type": "stream",
     "text": [
      "Best trial: 2. Best value: -69.8:   6%|▋         | 5/80 [00:16<04:06,  3.29s/it]"
     ]
    },
    {
     "name": "stdout",
     "output_type": "stream",
     "text": [
      "[I 2025-05-05 07:06:47,398] Trial 4 finished with value: -97.2 and parameters: {'n_estimators': 308, 'max_depth': 7, 'lr': 0.025678377104482616, 'subsample': 0.8639700206695029, 'colsample': 0.8774480353742651, 'gamma': 0.9350187233499466, 'min_child_weight': 10, 'reg_lambda': 0.7683472938372837}. Best is trial 2 with value: -69.8.\n"
     ]
    },
    {
     "name": "stderr",
     "output_type": "stream",
     "text": [
      "Best trial: 5. Best value: -69.6:   8%|▊         | 6/80 [00:19<03:54,  3.17s/it]"
     ]
    },
    {
     "name": "stdout",
     "output_type": "stream",
     "text": [
      "[I 2025-05-05 07:06:50,328] Trial 5 finished with value: -69.6 and parameters: {'n_estimators': 397, 'max_depth': 8, 'lr': 0.14549294346057243, 'subsample': 0.674298852002901, 'colsample': 0.8564729080938343, 'gamma': 0.6385321180400743, 'min_child_weight': 11, 'reg_lambda': 1.9436699384340783}. Best is trial 5 with value: -69.6.\n"
     ]
    },
    {
     "name": "stderr",
     "output_type": "stream",
     "text": [
      "Best trial: 5. Best value: -69.6:   9%|▉         | 7/80 [00:22<03:44,  3.08s/it]"
     ]
    },
    {
     "name": "stdout",
     "output_type": "stream",
     "text": [
      "[I 2025-05-05 07:06:53,220] Trial 6 finished with value: -106.0 and parameters: {'n_estimators': 456, 'max_depth': 7, 'lr': 0.04897116910709395, 'subsample': 0.9329142646681412, 'colsample': 0.8014171913216468, 'gamma': 2.4165235687294255, 'min_child_weight': 14, 'reg_lambda': 2.1375614825911993}. Best is trial 5 with value: -69.6.\n"
     ]
    },
    {
     "name": "stderr",
     "output_type": "stream",
     "text": [
      "Best trial: 7. Best value: -63.4:  10%|█         | 8/80 [00:25<03:53,  3.25s/it]"
     ]
    },
    {
     "name": "stdout",
     "output_type": "stream",
     "text": [
      "[I 2025-05-05 07:06:56,835] Trial 7 finished with value: -63.4 and parameters: {'n_estimators': 540, 'max_depth': 7, 'lr': 0.0947063615827821, 'subsample': 0.7067504141829885, 'colsample': 0.7691900937852635, 'gamma': 0.8018620831470222, 'min_child_weight': 8, 'reg_lambda': 2.884863272991894}. Best is trial 7 with value: -63.4.\n"
     ]
    },
    {
     "name": "stderr",
     "output_type": "stream",
     "text": [
      "Best trial: 7. Best value: -63.4:  11%|█▏        | 9/80 [00:29<03:56,  3.33s/it]"
     ]
    },
    {
     "name": "stdout",
     "output_type": "stream",
     "text": [
      "[I 2025-05-05 07:07:00,347] Trial 8 finished with value: -85.4 and parameters: {'n_estimators': 441, 'max_depth': 5, 'lr': 0.05847061239980378, 'subsample': 0.6623381664972922, 'colsample': 0.6701821911565508, 'gamma': 0.5578748197320251, 'min_child_weight': 12, 'reg_lambda': 5.559310037274768}. Best is trial 7 with value: -63.4.\n"
     ]
    },
    {
     "name": "stderr",
     "output_type": "stream",
     "text": [
      "Best trial: 7. Best value: -63.4:  12%|█▎        | 10/80 [00:33<04:13,  3.63s/it]"
     ]
    },
    {
     "name": "stdout",
     "output_type": "stream",
     "text": [
      "[I 2025-05-05 07:07:04,628] Trial 9 finished with value: -143.4 and parameters: {'n_estimators': 676, 'max_depth': 10, 'lr': 0.022695409341514886, 'subsample': 0.7182694421880297, 'colsample': 0.7480128716982143, 'gamma': 3.785145422483555, 'min_child_weight': 14, 'reg_lambda': 8.311158308294923}. Best is trial 7 with value: -63.4.\n"
     ]
    },
    {
     "name": "stderr",
     "output_type": "stream",
     "text": [
      "Best trial: 7. Best value: -63.4:  14%|█▍        | 11/80 [00:37<04:06,  3.57s/it]"
     ]
    },
    {
     "name": "stdout",
     "output_type": "stream",
     "text": [
      "[I 2025-05-05 07:07:08,090] Trial 10 finished with value: -75.2 and parameters: {'n_estimators': 559, 'max_depth': 10, 'lr': 0.0846340043658509, 'subsample': 0.6197278138950162, 'colsample': 0.7205619515926447, 'gamma': 1.449981196512282, 'min_child_weight': 5, 'reg_lambda': 4.320967731053762}. Best is trial 7 with value: -63.4.\n"
     ]
    },
    {
     "name": "stderr",
     "output_type": "stream",
     "text": [
      "Best trial: 7. Best value: -63.4:  15%|█▌        | 12/80 [00:39<03:37,  3.20s/it]"
     ]
    },
    {
     "name": "stdout",
     "output_type": "stream",
     "text": [
      "[I 2025-05-05 07:07:10,438] Trial 11 finished with value: -66.2 and parameters: {'n_estimators': 352, 'max_depth': 8, 'lr': 0.14995918411827552, 'subsample': 0.7094568763025811, 'colsample': 0.8084971655322923, 'gamma': 1.6708391313349882, 'min_child_weight': 7, 'reg_lambda': 0.25764544215989815}. Best is trial 7 with value: -63.4.\n"
     ]
    },
    {
     "name": "stderr",
     "output_type": "stream",
     "text": [
      "Best trial: 7. Best value: -63.4:  16%|█▋        | 13/80 [00:42<03:32,  3.17s/it]"
     ]
    },
    {
     "name": "stdout",
     "output_type": "stream",
     "text": [
      "[I 2025-05-05 07:07:13,548] Trial 12 finished with value: -64.0 and parameters: {'n_estimators': 538, 'max_depth': 9, 'lr': 0.10195818901452043, 'subsample': 0.7269484474246795, 'colsample': 0.8007068737432653, 'gamma': 1.5469083997650448, 'min_child_weight': 6, 'reg_lambda': 0.794691866893711}. Best is trial 7 with value: -63.4.\n"
     ]
    },
    {
     "name": "stderr",
     "output_type": "stream",
     "text": [
      "Best trial: 7. Best value: -63.4:  18%|█▊        | 14/80 [00:45<03:28,  3.16s/it]"
     ]
    },
    {
     "name": "stdout",
     "output_type": "stream",
     "text": [
      "[I 2025-05-05 07:07:16,667] Trial 13 finished with value: -73.4 and parameters: {'n_estimators': 539, 'max_depth': 9, 'lr': 0.08807834062153166, 'subsample': 0.7384089857400155, 'colsample': 0.769665843642581, 'gamma': 1.5373925432786586, 'min_child_weight': 5, 'reg_lambda': 3.740788277589128}. Best is trial 7 with value: -63.4.\n"
     ]
    },
    {
     "name": "stderr",
     "output_type": "stream",
     "text": [
      "Best trial: 7. Best value: -63.4:  19%|█▉        | 15/80 [00:49<03:35,  3.32s/it]"
     ]
    },
    {
     "name": "stdout",
     "output_type": "stream",
     "text": [
      "[I 2025-05-05 07:07:20,366] Trial 14 finished with value: -82.2 and parameters: {'n_estimators': 617, 'max_depth': 9, 'lr': 0.07176169445276219, 'subsample': 0.8206213056373477, 'colsample': 0.7066727374423836, 'gamma': 1.250118936603404, 'min_child_weight': 7, 'reg_lambda': 9.685281475263814}. Best is trial 7 with value: -63.4.\n"
     ]
    },
    {
     "name": "stderr",
     "output_type": "stream",
     "text": [
      "Best trial: 7. Best value: -63.4:  20%|██        | 16/80 [00:52<03:24,  3.20s/it]"
     ]
    },
    {
     "name": "stdout",
     "output_type": "stream",
     "text": [
      "[I 2025-05-05 07:07:23,289] Trial 15 finished with value: -72.8 and parameters: {'n_estimators': 496, 'max_depth': 9, 'lr': 0.10681743016787651, 'subsample': 0.6013319166959408, 'colsample': 0.771675987800709, 'gamma': 2.004898555844405, 'min_child_weight': 7, 'reg_lambda': 1.2015790617314717}. Best is trial 7 with value: -63.4.\n"
     ]
    },
    {
     "name": "stderr",
     "output_type": "stream",
     "text": [
      "Best trial: 7. Best value: -63.4:  21%|██▏       | 17/80 [00:56<03:36,  3.44s/it]"
     ]
    },
    {
     "name": "stdout",
     "output_type": "stream",
     "text": [
      "[I 2025-05-05 07:07:27,271] Trial 16 finished with value: -71.4 and parameters: {'n_estimators': 524, 'max_depth': 6, 'lr': 0.03604573015041633, 'subsample': 0.7404698257875308, 'colsample': 0.8392173364648723, 'gamma': 1.1577344210664688, 'min_child_weight': 5, 'reg_lambda': 3.6995401611171514}. Best is trial 7 with value: -63.4.\n"
     ]
    },
    {
     "name": "stderr",
     "output_type": "stream",
     "text": [
      "Best trial: 7. Best value: -63.4:  22%|██▎       | 18/80 [00:59<03:35,  3.47s/it]"
     ]
    },
    {
     "name": "stdout",
     "output_type": "stream",
     "text": [
      "[I 2025-05-05 07:07:30,822] Trial 17 finished with value: -74.0 and parameters: {'n_estimators': 612, 'max_depth': 7, 'lr': 0.06843832649352903, 'subsample': 0.6693787713440728, 'colsample': 0.7268154471917114, 'gamma': 2.0159785156037966, 'min_child_weight': 8, 'reg_lambda': 0.03454836447673948}. Best is trial 7 with value: -63.4.\n"
     ]
    },
    {
     "name": "stderr",
     "output_type": "stream",
     "text": [
      "Best trial: 7. Best value: -63.4:  24%|██▍       | 19/80 [01:02<03:17,  3.24s/it]"
     ]
    },
    {
     "name": "stdout",
     "output_type": "stream",
     "text": [
      "[I 2025-05-05 07:07:33,536] Trial 18 finished with value: -70.4 and parameters: {'n_estimators': 485, 'max_depth': 6, 'lr': 0.11073383616178674, 'subsample': 0.7691146641560379, 'colsample': 0.7874237377261983, 'gamma': 2.5725577793229992, 'min_child_weight': 6, 'reg_lambda': 1.3521315882423548}. Best is trial 7 with value: -63.4.\n"
     ]
    },
    {
     "name": "stderr",
     "output_type": "stream",
     "text": [
      "Best trial: 7. Best value: -63.4:  25%|██▌       | 20/80 [01:06<03:31,  3.53s/it]"
     ]
    },
    {
     "name": "stdout",
     "output_type": "stream",
     "text": [
      "[I 2025-05-05 07:07:37,742] Trial 19 finished with value: -87.8 and parameters: {'n_estimators': 638, 'max_depth': 9, 'lr': 0.03768833928141467, 'subsample': 0.6427729140783988, 'colsample': 0.6923842348334568, 'gamma': 1.83123395244972, 'min_child_weight': 9, 'reg_lambda': 4.474508957920062}. Best is trial 7 with value: -63.4.\n"
     ]
    },
    {
     "name": "stderr",
     "output_type": "stream",
     "text": [
      "Best trial: 7. Best value: -63.4:  26%|██▋       | 21/80 [01:11<03:39,  3.72s/it]"
     ]
    },
    {
     "name": "stdout",
     "output_type": "stream",
     "text": [
      "[I 2025-05-05 07:07:41,883] Trial 20 finished with value: -64.2 and parameters: {'n_estimators': 567, 'max_depth': 10, 'lr': 0.06949363726743998, 'subsample': 0.6951601444649871, 'colsample': 0.7565816144809843, 'gamma': 1.008789450544619, 'min_child_weight': 6, 'reg_lambda': 2.7560383195875504}. Best is trial 7 with value: -63.4.\n"
     ]
    },
    {
     "name": "stderr",
     "output_type": "stream",
     "text": [
      "Best trial: 21. Best value: -63:  28%|██▊       | 22/80 [01:14<03:37,  3.75s/it] "
     ]
    },
    {
     "name": "stdout",
     "output_type": "stream",
     "text": [
      "[I 2025-05-05 07:07:45,700] Trial 21 finished with value: -63.0 and parameters: {'n_estimators': 575, 'max_depth': 10, 'lr': 0.0706331650411235, 'subsample': 0.6985000453750707, 'colsample': 0.7407956515066753, 'gamma': 0.9515938563224013, 'min_child_weight': 6, 'reg_lambda': 3.1420598469028524}. Best is trial 21 with value: -63.0.\n"
     ]
    },
    {
     "name": "stderr",
     "output_type": "stream",
     "text": [
      "Best trial: 22. Best value: -61:  29%|██▉       | 23/80 [01:18<03:28,  3.65s/it]"
     ]
    },
    {
     "name": "stdout",
     "output_type": "stream",
     "text": [
      "[I 2025-05-05 07:07:49,134] Trial 22 finished with value: -61.0 and parameters: {'n_estimators': 528, 'max_depth': 10, 'lr': 0.10060335049733586, 'subsample': 0.7528130089403713, 'colsample': 0.7395926175817261, 'gamma': 0.9275242195755277, 'min_child_weight': 6, 'reg_lambda': 3.451166151230778}. Best is trial 22 with value: -61.0.\n"
     ]
    },
    {
     "name": "stderr",
     "output_type": "stream",
     "text": [
      "Best trial: 22. Best value: -61:  30%|███       | 24/80 [01:21<03:14,  3.47s/it]"
     ]
    },
    {
     "name": "stdout",
     "output_type": "stream",
     "text": [
      "[I 2025-05-05 07:07:52,176] Trial 23 finished with value: -69.2 and parameters: {'n_estimators': 510, 'max_depth': 10, 'lr': 0.12859807347957966, 'subsample': 0.7728169974446721, 'colsample': 0.7349608782766779, 'gamma': 0.9826591644978152, 'min_child_weight': 8, 'reg_lambda': 5.330210295541478}. Best is trial 22 with value: -61.0.\n"
     ]
    },
    {
     "name": "stderr",
     "output_type": "stream",
     "text": [
      "Best trial: 24. Best value: -58:  31%|███▏      | 25/80 [01:25<03:16,  3.57s/it]"
     ]
    },
    {
     "name": "stdout",
     "output_type": "stream",
     "text": [
      "[I 2025-05-05 07:07:55,989] Trial 24 finished with value: -58.0 and parameters: {'n_estimators': 575, 'max_depth': 10, 'lr': 0.08142937671166696, 'subsample': 0.6924166317179438, 'colsample': 0.6591679602569378, 'gamma': 0.8109900836472955, 'min_child_weight': 7, 'reg_lambda': 3.486949219819384}. Best is trial 24 with value: -58.0.\n"
     ]
    },
    {
     "name": "stderr",
     "output_type": "stream",
     "text": [
      "Best trial: 24. Best value: -58:  32%|███▎      | 26/80 [01:29<03:19,  3.69s/it]"
     ]
    },
    {
     "name": "stdout",
     "output_type": "stream",
     "text": [
      "[I 2025-05-05 07:07:59,952] Trial 25 finished with value: -71.4 and parameters: {'n_estimators': 641, 'max_depth': 10, 'lr': 0.07652065875166658, 'subsample': 0.6845662161542911, 'colsample': 0.6717826215327134, 'gamma': 1.2327894485399198, 'min_child_weight': 6, 'reg_lambda': 3.409036817131285}. Best is trial 24 with value: -58.0.\n"
     ]
    },
    {
     "name": "stderr",
     "output_type": "stream",
     "text": [
      "Best trial: 24. Best value: -58:  34%|███▍      | 27/80 [01:32<03:11,  3.61s/it]"
     ]
    },
    {
     "name": "stdout",
     "output_type": "stream",
     "text": [
      "[I 2025-05-05 07:08:03,380] Trial 26 finished with value: -96.8 and parameters: {'n_estimators': 597, 'max_depth': 10, 'lr': 0.05859858245005466, 'subsample': 0.6420303116697255, 'colsample': 0.6031459871284282, 'gamma': 3.080639940477367, 'min_child_weight': 7, 'reg_lambda': 4.548763052983636}. Best is trial 24 with value: -58.0.\n"
     ]
    },
    {
     "name": "stderr",
     "output_type": "stream",
     "text": [
      "Best trial: 24. Best value: -58:  35%|███▌      | 28/80 [01:36<03:07,  3.60s/it]"
     ]
    },
    {
     "name": "stdout",
     "output_type": "stream",
     "text": [
      "[I 2025-05-05 07:08:06,971] Trial 27 finished with value: -59.6 and parameters: {'n_estimators': 471, 'max_depth': 9, 'lr': 0.06358762032048292, 'subsample': 0.7540114161900405, 'colsample': 0.6616445168877556, 'gamma': 0.747766914906161, 'min_child_weight': 5, 'reg_lambda': 6.3004595381174155}. Best is trial 24 with value: -58.0.\n"
     ]
    },
    {
     "name": "stderr",
     "output_type": "stream",
     "text": [
      "Best trial: 24. Best value: -58:  36%|███▋      | 29/80 [01:40<03:08,  3.71s/it]"
     ]
    },
    {
     "name": "stdout",
     "output_type": "stream",
     "text": [
      "[I 2025-05-05 07:08:10,911] Trial 28 finished with value: -66.2 and parameters: {'n_estimators': 453, 'max_depth': 9, 'lr': 0.04285079962432663, 'subsample': 0.8441774632503936, 'colsample': 0.6584187984462128, 'gamma': 0.5145803667073732, 'min_child_weight': 5, 'reg_lambda': 6.38557995383386}. Best is trial 24 with value: -58.0.\n"
     ]
    },
    {
     "name": "stderr",
     "output_type": "stream",
     "text": [
      "Best trial: 24. Best value: -58:  38%|███▊      | 30/80 [01:42<02:49,  3.39s/it]"
     ]
    },
    {
     "name": "stdout",
     "output_type": "stream",
     "text": [
      "[I 2025-05-05 07:08:13,562] Trial 29 finished with value: -82.2 and parameters: {'n_estimators': 405, 'max_depth': 9, 'lr': 0.08537564857358536, 'subsample': 0.8717375499548641, 'colsample': 0.632501194053923, 'gamma': 1.262957918309018, 'min_child_weight': 9, 'reg_lambda': 6.584685851901874}. Best is trial 24 with value: -58.0.\n"
     ]
    },
    {
     "name": "stderr",
     "output_type": "stream",
     "text": [
      "Best trial: 24. Best value: -58:  39%|███▉      | 31/80 [01:46<02:49,  3.46s/it]"
     ]
    },
    {
     "name": "stdout",
     "output_type": "stream",
     "text": [
      "[I 2025-05-05 07:08:17,193] Trial 30 finished with value: -62.6 and parameters: {'n_estimators': 473, 'max_depth': 8, 'lr': 0.06170531350470985, 'subsample': 0.7519384702564467, 'colsample': 0.6047934847697636, 'gamma': 0.7393820520764662, 'min_child_weight': 5, 'reg_lambda': 7.499402471405923}. Best is trial 24 with value: -58.0.\n"
     ]
    },
    {
     "name": "stderr",
     "output_type": "stream",
     "text": [
      "Best trial: 24. Best value: -58:  40%|████      | 32/80 [01:50<02:49,  3.53s/it]"
     ]
    },
    {
     "name": "stdout",
     "output_type": "stream",
     "text": [
      "[I 2025-05-05 07:08:20,888] Trial 31 finished with value: -64.6 and parameters: {'n_estimators': 478, 'max_depth': 8, 'lr': 0.05994842642455513, 'subsample': 0.7558400948574808, 'colsample': 0.6130459131215674, 'gamma': 0.7794964706522399, 'min_child_weight': 5, 'reg_lambda': 7.787724910227263}. Best is trial 24 with value: -58.0.\n"
     ]
    },
    {
     "name": "stderr",
     "output_type": "stream",
     "text": [
      "Best trial: 24. Best value: -58:  41%|████▏     | 33/80 [01:53<02:38,  3.37s/it]"
     ]
    },
    {
     "name": "stdout",
     "output_type": "stream",
     "text": [
      "[I 2025-05-05 07:08:23,868] Trial 32 finished with value: -64.8 and parameters: {'n_estimators': 414, 'max_depth': 8, 'lr': 0.07832694699100086, 'subsample': 0.7914289847731588, 'colsample': 0.6476908947101976, 'gamma': 0.791459177177768, 'min_child_weight': 6, 'reg_lambda': 8.671607617512542}. Best is trial 24 with value: -58.0.\n"
     ]
    },
    {
     "name": "stderr",
     "output_type": "stream",
     "text": [
      "Best trial: 24. Best value: -58:  42%|████▎     | 34/80 [01:56<02:29,  3.25s/it]"
     ]
    },
    {
     "name": "stdout",
     "output_type": "stream",
     "text": [
      "[I 2025-05-05 07:08:26,839] Trial 33 finished with value: -68.8 and parameters: {'n_estimators': 427, 'max_depth': 9, 'lr': 0.06369984684340563, 'subsample': 0.7522967861215799, 'colsample': 0.6232533155572336, 'gamma': 1.1359582509631694, 'min_child_weight': 5, 'reg_lambda': 5.7978755627344}. Best is trial 24 with value: -58.0.\n"
     ]
    },
    {
     "name": "stderr",
     "output_type": "stream",
     "text": [
      "Best trial: 24. Best value: -58:  44%|████▍     | 35/80 [01:59<02:35,  3.45s/it]"
     ]
    },
    {
     "name": "stdout",
     "output_type": "stream",
     "text": [
      "[I 2025-05-05 07:08:30,751] Trial 34 finished with value: -66.6 and parameters: {'n_estimators': 474, 'max_depth': 10, 'lr': 0.05322657380440749, 'subsample': 0.801934589571406, 'colsample': 0.6857765947281388, 'gamma': 0.701589321380323, 'min_child_weight': 7, 'reg_lambda': 6.950730786207373}. Best is trial 24 with value: -58.0.\n"
     ]
    },
    {
     "name": "stderr",
     "output_type": "stream",
     "text": [
      "Best trial: 24. Best value: -58:  45%|████▌     | 36/80 [02:02<02:18,  3.15s/it]"
     ]
    },
    {
     "name": "stdout",
     "output_type": "stream",
     "text": [
      "[I 2025-05-05 07:08:33,198] Trial 35 finished with value: -81.8 and parameters: {'n_estimators': 381, 'max_depth': 9, 'lr': 0.12338878364154204, 'subsample': 0.8228000535129193, 'colsample': 0.6465181883685025, 'gamma': 1.4028390546134526, 'min_child_weight': 15, 'reg_lambda': 7.802690970066776}. Best is trial 24 with value: -58.0.\n"
     ]
    },
    {
     "name": "stderr",
     "output_type": "stream",
     "text": [
      "Best trial: 24. Best value: -58:  46%|████▋     | 37/80 [02:05<02:20,  3.27s/it]"
     ]
    },
    {
     "name": "stdout",
     "output_type": "stream",
     "text": [
      "[I 2025-05-05 07:08:36,748] Trial 36 finished with value: -66.0 and parameters: {'n_estimators': 515, 'max_depth': 8, 'lr': 0.09577384732117827, 'subsample': 0.903786674314061, 'colsample': 0.7041915614876204, 'gamma': 0.5360133884843357, 'min_child_weight': 11, 'reg_lambda': 5.924436455936506}. Best is trial 24 with value: -58.0.\n"
     ]
    },
    {
     "name": "stderr",
     "output_type": "stream",
     "text": [
      "Best trial: 24. Best value: -58:  48%|████▊     | 38/80 [02:09<02:22,  3.40s/it]"
     ]
    },
    {
     "name": "stdout",
     "output_type": "stream",
     "text": [
      "[I 2025-05-05 07:08:40,453] Trial 37 finished with value: -75.8 and parameters: {'n_estimators': 469, 'max_depth': 10, 'lr': 0.04368494862886693, 'subsample': 0.764599895646433, 'colsample': 0.602606483822125, 'gamma': 0.9599260728469143, 'min_child_weight': 6, 'reg_lambda': 7.330771773347137}. Best is trial 24 with value: -58.0.\n"
     ]
    },
    {
     "name": "stderr",
     "output_type": "stream",
     "text": [
      "Best trial: 24. Best value: -58:  49%|████▉     | 39/80 [02:13<02:26,  3.56s/it]"
     ]
    },
    {
     "name": "stdout",
     "output_type": "stream",
     "text": [
      "[I 2025-05-05 07:08:44,399] Trial 38 finished with value: -58.2 and parameters: {'n_estimators': 498, 'max_depth': 8, 'lr': 0.05016395751325947, 'subsample': 0.7329176637907652, 'colsample': 0.6322497275315959, 'gamma': 0.7961713626437321, 'min_child_weight': 5, 'reg_lambda': 4.068833197765528}. Best is trial 24 with value: -58.0.\n"
     ]
    },
    {
     "name": "stderr",
     "output_type": "stream",
     "text": [
      "Best trial: 24. Best value: -58:  50%|█████     | 40/80 [02:17<02:23,  3.58s/it]"
     ]
    },
    {
     "name": "stdout",
     "output_type": "stream",
     "text": [
      "[I 2025-05-05 07:08:48,007] Trial 39 finished with value: -94.8 and parameters: {'n_estimators': 555, 'max_depth': 9, 'lr': 0.02973032599579803, 'subsample': 0.7308646801129769, 'colsample': 0.6669698910124054, 'gamma': 3.2048675151172534, 'min_child_weight': 7, 'reg_lambda': 4.13107169169019}. Best is trial 24 with value: -58.0.\n"
     ]
    },
    {
     "name": "stderr",
     "output_type": "stream",
     "text": [
      "Best trial: 24. Best value: -58:  51%|█████▏    | 41/80 [02:20<02:17,  3.52s/it]"
     ]
    },
    {
     "name": "stdout",
     "output_type": "stream",
     "text": [
      "[I 2025-05-05 07:08:51,387] Trial 40 finished with value: -86.8 and parameters: {'n_estimators': 503, 'max_depth': 7, 'lr': 0.04983716862467836, 'subsample': 0.6517815405528018, 'colsample': 0.6321818395093941, 'gamma': 1.8358493785649856, 'min_child_weight': 9, 'reg_lambda': 4.966213094823778}. Best is trial 24 with value: -58.0.\n"
     ]
    },
    {
     "name": "stderr",
     "output_type": "stream",
     "text": [
      "Best trial: 24. Best value: -58:  52%|█████▎    | 42/80 [02:23<02:09,  3.42s/it]"
     ]
    },
    {
     "name": "stdout",
     "output_type": "stream",
     "text": [
      "[I 2025-05-05 07:08:54,568] Trial 41 finished with value: -59.2 and parameters: {'n_estimators': 438, 'max_depth': 8, 'lr': 0.06400438148425576, 'subsample': 0.7433159431693462, 'colsample': 0.6232140344333181, 'gamma': 0.7320991651420147, 'min_child_weight': 5, 'reg_lambda': 4.945156099333144}. Best is trial 24 with value: -58.0.\n"
     ]
    },
    {
     "name": "stderr",
     "output_type": "stream",
     "text": [
      "Best trial: 42. Best value: -55.6:  54%|█████▍    | 43/80 [02:26<02:02,  3.31s/it]"
     ]
    },
    {
     "name": "stdout",
     "output_type": "stream",
     "text": [
      "[I 2025-05-05 07:08:57,633] Trial 42 finished with value: -55.6 and parameters: {'n_estimators': 430, 'max_depth': 8, 'lr': 0.08028179346197474, 'subsample': 0.7198982536027162, 'colsample': 0.6488291905095847, 'gamma': 0.81285405041411, 'min_child_weight': 5, 'reg_lambda': 5.046714275395941}. Best is trial 42 with value: -55.6.\n"
     ]
    },
    {
     "name": "stderr",
     "output_type": "stream",
     "text": [
      "Best trial: 42. Best value: -55.6:  55%|█████▌    | 44/80 [02:30<01:59,  3.31s/it]"
     ]
    },
    {
     "name": "stdout",
     "output_type": "stream",
     "text": [
      "[I 2025-05-05 07:09:00,939] Trial 43 finished with value: -64.8 and parameters: {'n_estimators': 366, 'max_depth': 8, 'lr': 0.05455302456408913, 'subsample': 0.7120045344758106, 'colsample': 0.6529374452566998, 'gamma': 0.6969526247407217, 'min_child_weight': 5, 'reg_lambda': 5.058338859176038}. Best is trial 42 with value: -55.6.\n"
     ]
    },
    {
     "name": "stderr",
     "output_type": "stream",
     "text": [
      "Best trial: 42. Best value: -55.6:  56%|█████▋    | 45/80 [02:32<01:50,  3.15s/it]"
     ]
    },
    {
     "name": "stdout",
     "output_type": "stream",
     "text": [
      "[I 2025-05-05 07:09:03,716] Trial 44 finished with value: -70.0 and parameters: {'n_estimators': 436, 'max_depth': 7, 'lr': 0.07900646718761176, 'subsample': 0.7864826979496157, 'colsample': 0.6207198769025877, 'gamma': 1.0816732872848152, 'min_child_weight': 5, 'reg_lambda': 4.8769284514279745}. Best is trial 42 with value: -55.6.\n"
     ]
    },
    {
     "name": "stderr",
     "output_type": "stream",
     "text": [
      "Best trial: 42. Best value: -55.6:  57%|█████▊    | 46/80 [02:36<01:51,  3.27s/it]"
     ]
    },
    {
     "name": "stdout",
     "output_type": "stream",
     "text": [
      "[I 2025-05-05 07:09:07,249] Trial 45 finished with value: -64.0 and parameters: {'n_estimators': 453, 'max_depth': 8, 'lr': 0.04921448353691638, 'subsample': 0.6835452236564209, 'colsample': 0.6376838990839114, 'gamma': 0.8440583802187509, 'min_child_weight': 6, 'reg_lambda': 3.978181371859262}. Best is trial 42 with value: -55.6.\n"
     ]
    },
    {
     "name": "stderr",
     "output_type": "stream",
     "text": [
      "Best trial: 42. Best value: -55.6:  59%|█████▉    | 47/80 [02:39<01:41,  3.08s/it]"
     ]
    },
    {
     "name": "stdout",
     "output_type": "stream",
     "text": [
      "[I 2025-05-05 07:09:09,883] Trial 46 finished with value: -80.2 and parameters: {'n_estimators': 320, 'max_depth': 8, 'lr': 0.0666574878756516, 'subsample': 0.716437425640279, 'colsample': 0.6788163658758103, 'gamma': 1.3326028924406357, 'min_child_weight': 5, 'reg_lambda': 5.54787512035138}. Best is trial 42 with value: -55.6.\n"
     ]
    },
    {
     "name": "stderr",
     "output_type": "stream",
     "text": [
      "Best trial: 42. Best value: -55.6:  60%|██████    | 48/80 [02:42<01:44,  3.26s/it]"
     ]
    },
    {
     "name": "stdout",
     "output_type": "stream",
     "text": [
      "[I 2025-05-05 07:09:13,558] Trial 47 finished with value: -64.6 and parameters: {'n_estimators': 425, 'max_depth': 7, 'lr': 0.0376364595701762, 'subsample': 0.7335357085933327, 'colsample': 0.6584974595058858, 'gamma': 0.5068385087757036, 'min_child_weight': 8, 'reg_lambda': 2.21680234022489}. Best is trial 42 with value: -55.6.\n"
     ]
    },
    {
     "name": "stderr",
     "output_type": "stream",
     "text": [
      "Best trial: 42. Best value: -55.6:  61%|██████▏   | 49/80 [02:44<01:31,  2.96s/it]"
     ]
    },
    {
     "name": "stdout",
     "output_type": "stream",
     "text": [
      "[I 2025-05-05 07:09:15,834] Trial 48 finished with value: -125.0 and parameters: {'n_estimators': 390, 'max_depth': 8, 'lr': 0.07655828967587379, 'subsample': 0.7248002016942487, 'colsample': 0.6218151474742136, 'gamma': 3.8946098376001608, 'min_child_weight': 7, 'reg_lambda': 6.132010442862992}. Best is trial 42 with value: -55.6.\n"
     ]
    },
    {
     "name": "stderr",
     "output_type": "stream",
     "text": [
      "Best trial: 42. Best value: -55.6:  62%|██████▎   | 50/80 [02:48<01:33,  3.11s/it]"
     ]
    },
    {
     "name": "stdout",
     "output_type": "stream",
     "text": [
      "[I 2025-05-05 07:09:19,306] Trial 49 finished with value: -75.4 and parameters: {'n_estimators': 490, 'max_depth': 9, 'lr': 0.09327928562132728, 'subsample': 0.6946386111156602, 'colsample': 0.6999812624437101, 'gamma': 0.6334687634081653, 'min_child_weight': 13, 'reg_lambda': 6.760271687012802}. Best is trial 42 with value: -55.6.\n"
     ]
    },
    {
     "name": "stderr",
     "output_type": "stream",
     "text": [
      "Best trial: 42. Best value: -55.6:  64%|██████▍   | 51/80 [02:51<01:30,  3.13s/it]"
     ]
    },
    {
     "name": "stdout",
     "output_type": "stream",
     "text": [
      "[I 2025-05-05 07:09:22,464] Trial 50 finished with value: -73.8 and parameters: {'n_estimators': 444, 'max_depth': 7, 'lr': 0.04673825782729898, 'subsample': 0.66143196097896, 'colsample': 0.6388068305046497, 'gamma': 1.5598697440754035, 'min_child_weight': 5, 'reg_lambda': 2.579924373677264}. Best is trial 42 with value: -55.6.\n"
     ]
    },
    {
     "name": "stderr",
     "output_type": "stream",
     "text": [
      "Best trial: 42. Best value: -55.6:  65%|██████▌   | 52/80 [02:54<01:28,  3.17s/it]"
     ]
    },
    {
     "name": "stdout",
     "output_type": "stream",
     "text": [
      "[I 2025-05-05 07:09:25,743] Trial 51 finished with value: -58.8 and parameters: {'n_estimators': 538, 'max_depth': 10, 'lr': 0.10326471021342416, 'subsample': 0.7465550920787682, 'colsample': 0.6621442509248369, 'gamma': 0.8616463766497489, 'min_child_weight': 6, 'reg_lambda': 3.334054569129856}. Best is trial 42 with value: -55.6.\n"
     ]
    },
    {
     "name": "stderr",
     "output_type": "stream",
     "text": [
      "Best trial: 42. Best value: -55.6:  66%|██████▋   | 53/80 [02:58<01:28,  3.28s/it]"
     ]
    },
    {
     "name": "stdout",
     "output_type": "stream",
     "text": [
      "[I 2025-05-05 07:09:29,278] Trial 52 finished with value: -61.4 and parameters: {'n_estimators': 551, 'max_depth': 9, 'lr': 0.08206142213563368, 'subsample': 0.7430097128045484, 'colsample': 0.669544936503547, 'gamma': 0.8499649977527866, 'min_child_weight': 6, 'reg_lambda': 4.742860958935518}. Best is trial 42 with value: -55.6.\n"
     ]
    },
    {
     "name": "stderr",
     "output_type": "stream",
     "text": [
      "Best trial: 42. Best value: -55.6:  68%|██████▊   | 54/80 [03:01<01:25,  3.28s/it]"
     ]
    },
    {
     "name": "stdout",
     "output_type": "stream",
     "text": [
      "[I 2025-05-05 07:09:32,553] Trial 53 finished with value: -62.0 and parameters: {'n_estimators': 584, 'max_depth': 9, 'lr': 0.11353639415169645, 'subsample': 0.7832251033187582, 'colsample': 0.6875727245649068, 'gamma': 1.1391329002641166, 'min_child_weight': 5, 'reg_lambda': 4.017855652371392}. Best is trial 42 with value: -55.6.\n"
     ]
    },
    {
     "name": "stderr",
     "output_type": "stream",
     "text": [
      "Best trial: 42. Best value: -55.6:  69%|██████▉   | 55/80 [03:04<01:21,  3.28s/it]"
     ]
    },
    {
     "name": "stdout",
     "output_type": "stream",
     "text": [
      "[I 2025-05-05 07:09:35,831] Trial 54 finished with value: -59.6 and parameters: {'n_estimators': 459, 'max_depth': 5, 'lr': 0.08743568501444272, 'subsample': 0.7097755535928066, 'colsample': 0.7179963643192406, 'gamma': 0.6308945687134628, 'min_child_weight': 6, 'reg_lambda': 5.251548789882923}. Best is trial 42 with value: -55.6.\n"
     ]
    },
    {
     "name": "stderr",
     "output_type": "stream",
     "text": [
      "Best trial: 42. Best value: -55.6:  70%|███████   | 56/80 [03:07<01:14,  3.12s/it]"
     ]
    },
    {
     "name": "stdout",
     "output_type": "stream",
     "text": [
      "[I 2025-05-05 07:09:38,563] Trial 55 finished with value: -60.6 and parameters: {'n_estimators': 491, 'max_depth': 8, 'lr': 0.13880006717713098, 'subsample': 0.9484872747051716, 'colsample': 0.660374075711017, 'gamma': 0.8606925706884195, 'min_child_weight': 5, 'reg_lambda': 3.023386188586388}. Best is trial 42 with value: -55.6.\n"
     ]
    },
    {
     "name": "stderr",
     "output_type": "stream",
     "text": [
      "Best trial: 42. Best value: -55.6:  71%|███████▏  | 57/80 [03:11<01:12,  3.17s/it]"
     ]
    },
    {
     "name": "stdout",
     "output_type": "stream",
     "text": [
      "[I 2025-05-05 07:09:41,871] Trial 56 finished with value: -82.2 and parameters: {'n_estimators': 520, 'max_depth': 10, 'lr': 0.057506354562313844, 'subsample': 0.7670489511806489, 'colsample': 0.6451085212015841, 'gamma': 2.3253260476270348, 'min_child_weight': 10, 'reg_lambda': 1.6205760292080762}. Best is trial 42 with value: -55.6.\n"
     ]
    },
    {
     "name": "stderr",
     "output_type": "stream",
     "text": [
      "Best trial: 42. Best value: -55.6:  72%|███████▎  | 58/80 [03:14<01:13,  3.33s/it]"
     ]
    },
    {
     "name": "stdout",
     "output_type": "stream",
     "text": [
      "[I 2025-05-05 07:09:45,568] Trial 57 finished with value: -60.0 and parameters: {'n_estimators': 530, 'max_depth': 8, 'lr': 0.06468151784161909, 'subsample': 0.6857793871000691, 'colsample': 0.6163134897098814, 'gamma': 1.0534979624584566, 'min_child_weight': 6, 'reg_lambda': 3.5226405872758133}. Best is trial 42 with value: -55.6.\n"
     ]
    },
    {
     "name": "stderr",
     "output_type": "stream",
     "text": [
      "Best trial: 42. Best value: -55.6:  74%|███████▍  | 59/80 [03:17<01:06,  3.18s/it]"
     ]
    },
    {
     "name": "stdout",
     "output_type": "stream",
     "text": [
      "[I 2025-05-05 07:09:48,399] Trial 58 finished with value: -96.8 and parameters: {'n_estimators': 505, 'max_depth': 10, 'lr': 0.10254343835433585, 'subsample': 0.721991516915131, 'colsample': 0.8803238666450051, 'gamma': 3.611558778075009, 'min_child_weight': 7, 'reg_lambda': 4.445307717972595}. Best is trial 42 with value: -55.6.\n"
     ]
    },
    {
     "name": "stderr",
     "output_type": "stream",
     "text": [
      "Best trial: 59. Best value: -54:  75%|███████▌  | 60/80 [03:21<01:09,  3.49s/it]  "
     ]
    },
    {
     "name": "stdout",
     "output_type": "stream",
     "text": [
      "[I 2025-05-05 07:09:52,605] Trial 59 finished with value: -54.0 and parameters: {'n_estimators': 601, 'max_depth': 9, 'lr': 0.07285696546289368, 'subsample': 0.7030007121841807, 'colsample': 0.6323249419729942, 'gamma': 0.6717935104281271, 'min_child_weight': 5, 'reg_lambda': 3.174881065202841}. Best is trial 59 with value: -54.0.\n"
     ]
    },
    {
     "name": "stderr",
     "output_type": "stream",
     "text": [
      "Best trial: 59. Best value: -54:  76%|███████▋  | 61/80 [03:25<01:07,  3.53s/it]"
     ]
    },
    {
     "name": "stdout",
     "output_type": "stream",
     "text": [
      "[I 2025-05-05 07:09:56,226] Trial 60 finished with value: -82.8 and parameters: {'n_estimators': 666, 'max_depth': 6, 'lr': 0.07397065872152848, 'subsample': 0.6759309907978438, 'colsample': 0.6292279568249131, 'gamma': 2.9347573145833943, 'min_child_weight': 6, 'reg_lambda': 3.049394680730355}. Best is trial 59 with value: -54.0.\n"
     ]
    },
    {
     "name": "stderr",
     "output_type": "stream",
     "text": [
      "Best trial: 59. Best value: -54:  78%|███████▊  | 62/80 [03:29<01:06,  3.72s/it]"
     ]
    },
    {
     "name": "stdout",
     "output_type": "stream",
     "text": [
      "[I 2025-05-05 07:10:00,397] Trial 61 finished with value: -55.2 and parameters: {'n_estimators': 636, 'max_depth': 9, 'lr': 0.07167208657384258, 'subsample': 0.7414005282600401, 'colsample': 0.6776322590912789, 'gamma': 0.6494529315657283, 'min_child_weight': 5, 'reg_lambda': 3.258476936233823}. Best is trial 59 with value: -54.0.\n"
     ]
    },
    {
     "name": "stderr",
     "output_type": "stream",
     "text": [
      "Best trial: 59. Best value: -54:  79%|███████▉  | 63/80 [03:33<01:03,  3.76s/it]"
     ]
    },
    {
     "name": "stdout",
     "output_type": "stream",
     "text": [
      "[I 2025-05-05 07:10:04,263] Trial 62 finished with value: -56.2 and parameters: {'n_estimators': 608, 'max_depth': 10, 'lr': 0.07154788544279225, 'subsample': 0.6992561850882127, 'colsample': 0.6774771378494892, 'gamma': 0.9310595437252831, 'min_child_weight': 5, 'reg_lambda': 2.3241411310578526}. Best is trial 59 with value: -54.0.\n"
     ]
    },
    {
     "name": "stderr",
     "output_type": "stream",
     "text": [
      "Best trial: 59. Best value: -54:  80%|████████  | 64/80 [03:37<00:59,  3.71s/it]"
     ]
    },
    {
     "name": "stdout",
     "output_type": "stream",
     "text": [
      "[I 2025-05-05 07:10:07,853] Trial 63 finished with value: -57.8 and parameters: {'n_estimators': 609, 'max_depth': 10, 'lr': 0.09239658367425074, 'subsample': 0.6993058124729061, 'colsample': 0.6802469276648359, 'gamma': 0.9006359133291126, 'min_child_weight': 5, 'reg_lambda': 2.024967565205503}. Best is trial 59 with value: -54.0.\n"
     ]
    },
    {
     "name": "stderr",
     "output_type": "stream",
     "text": [
      "Best trial: 59. Best value: -54:  81%|████████▏ | 65/80 [03:41<00:56,  3.80s/it]"
     ]
    },
    {
     "name": "stdout",
     "output_type": "stream",
     "text": [
      "[I 2025-05-05 07:10:11,850] Trial 64 finished with value: -58.4 and parameters: {'n_estimators': 622, 'max_depth': 10, 'lr': 0.09168704630042135, 'subsample': 0.7046676653020868, 'colsample': 0.6792348834296843, 'gamma': 0.6008890626746839, 'min_child_weight': 5, 'reg_lambda': 2.0545201379433315}. Best is trial 59 with value: -54.0.\n"
     ]
    },
    {
     "name": "stderr",
     "output_type": "stream",
     "text": [
      "Best trial: 59. Best value: -54:  82%|████████▎ | 66/80 [03:44<00:53,  3.80s/it]"
     ]
    },
    {
     "name": "stdout",
     "output_type": "stream",
     "text": [
      "[I 2025-05-05 07:10:15,649] Trial 65 finished with value: -60.0 and parameters: {'n_estimators': 601, 'max_depth': 10, 'lr': 0.07146146005885583, 'subsample': 0.695495717739883, 'colsample': 0.7103735690649469, 'gamma': 0.9962765085167457, 'min_child_weight': 5, 'reg_lambda': 2.43163845636203}. Best is trial 59 with value: -54.0.\n"
     ]
    },
    {
     "name": "stderr",
     "output_type": "stream",
     "text": [
      "Best trial: 59. Best value: -54:  84%|████████▍ | 67/80 [03:48<00:50,  3.85s/it]"
     ]
    },
    {
     "name": "stdout",
     "output_type": "stream",
     "text": [
      "[I 2025-05-05 07:10:19,638] Trial 66 finished with value: -64.8 and parameters: {'n_estimators': 656, 'max_depth': 10, 'lr': 0.08130945790253442, 'subsample': 0.6654118889869871, 'colsample': 0.6947955264126702, 'gamma': 1.2387949055567506, 'min_child_weight': 6, 'reg_lambda': 1.6829280710913488}. Best is trial 59 with value: -54.0.\n"
     ]
    },
    {
     "name": "stderr",
     "output_type": "stream",
     "text": [
      "Best trial: 59. Best value: -54:  85%|████████▌ | 68/80 [03:52<00:47,  3.94s/it]"
     ]
    },
    {
     "name": "stdout",
     "output_type": "stream",
     "text": [
      "[I 2025-05-05 07:10:23,761] Trial 67 finished with value: -73.8 and parameters: {'n_estimators': 633, 'max_depth': 9, 'lr': 0.08622465633218014, 'subsample': 0.6201898016942078, 'colsample': 0.6779598603354656, 'gamma': 0.910214264854712, 'min_child_weight': 11, 'reg_lambda': 3.7348459648465053}. Best is trial 59 with value: -54.0.\n"
     ]
    },
    {
     "name": "stderr",
     "output_type": "stream",
     "text": [
      "Best trial: 59. Best value: -54:  86%|████████▋ | 69/80 [03:56<00:43,  3.95s/it]"
     ]
    },
    {
     "name": "stdout",
     "output_type": "stream",
     "text": [
      "[I 2025-05-05 07:10:27,752] Trial 68 finished with value: -58.8 and parameters: {'n_estimators': 590, 'max_depth': 10, 'lr': 0.06861503078987541, 'subsample': 0.7016436401029189, 'colsample': 0.64853703456241, 'gamma': 0.6448200398770791, 'min_child_weight': 5, 'reg_lambda': 0.9601366898705919}. Best is trial 59 with value: -54.0.\n"
     ]
    },
    {
     "name": "stderr",
     "output_type": "stream",
     "text": [
      "Best trial: 59. Best value: -54:  88%|████████▊ | 70/80 [04:02<00:43,  4.36s/it]"
     ]
    },
    {
     "name": "stdout",
     "output_type": "stream",
     "text": [
      "[I 2025-05-05 07:10:33,076] Trial 69 finished with value: -82.4 and parameters: {'n_estimators': 606, 'max_depth': 9, 'lr': 0.020521734654077847, 'subsample': 0.677661052581133, 'colsample': 0.6375179420699227, 'gamma': 1.1053007307086218, 'min_child_weight': 8, 'reg_lambda': 2.5999985855547703}. Best is trial 59 with value: -54.0.\n"
     ]
    },
    {
     "name": "stderr",
     "output_type": "stream",
     "text": [
      "Best trial: 59. Best value: -54:  89%|████████▉ | 71/80 [04:06<00:38,  4.31s/it]"
     ]
    },
    {
     "name": "stdout",
     "output_type": "stream",
     "text": [
      "[I 2025-05-05 07:10:37,270] Trial 70 finished with value: -66.4 and parameters: {'n_estimators': 695, 'max_depth': 9, 'lr': 0.07326367268220234, 'subsample': 0.7186376237160222, 'colsample': 0.6751786238488975, 'gamma': 1.4191576721327908, 'min_child_weight': 6, 'reg_lambda': 2.8268342591517026}. Best is trial 59 with value: -54.0.\n"
     ]
    },
    {
     "name": "stderr",
     "output_type": "stream",
     "text": [
      "Best trial: 59. Best value: -54:  90%|█████████ | 72/80 [04:10<00:33,  4.23s/it]"
     ]
    },
    {
     "name": "stdout",
     "output_type": "stream",
     "text": [
      "[I 2025-05-05 07:10:41,301] Trial 71 finished with value: -59.0 and parameters: {'n_estimators': 622, 'max_depth': 10, 'lr': 0.09253132610640445, 'subsample': 0.6897253294875333, 'colsample': 0.6821857826303163, 'gamma': 0.6443130050135955, 'min_child_weight': 5, 'reg_lambda': 2.011551037220944}. Best is trial 59 with value: -54.0.\n"
     ]
    },
    {
     "name": "stderr",
     "output_type": "stream",
     "text": [
      "Best trial: 59. Best value: -54:  91%|█████████▏| 73/80 [04:13<00:27,  3.99s/it]"
     ]
    },
    {
     "name": "stdout",
     "output_type": "stream",
     "text": [
      "[I 2025-05-05 07:10:44,748] Trial 72 finished with value: -81.6 and parameters: {'n_estimators': 624, 'max_depth': 10, 'lr': 0.09577800042325978, 'subsample': 0.7046021846126839, 'colsample': 0.6927627902806437, 'gamma': 2.619484508517699, 'min_child_weight': 5, 'reg_lambda': 2.2229921572290094}. Best is trial 59 with value: -54.0.\n"
     ]
    },
    {
     "name": "stderr",
     "output_type": "stream",
     "text": [
      "Best trial: 59. Best value: -54:  92%|█████████▎| 74/80 [04:17<00:24,  4.01s/it]"
     ]
    },
    {
     "name": "stdout",
     "output_type": "stream",
     "text": [
      "[I 2025-05-05 07:10:48,807] Trial 73 finished with value: -56.2 and parameters: {'n_estimators': 645, 'max_depth': 10, 'lr': 0.08996818805189305, 'subsample': 0.7294351898211145, 'colsample': 0.6543651088304568, 'gamma': 0.573310914624076, 'min_child_weight': 5, 'reg_lambda': 1.7748286477530408}. Best is trial 59 with value: -54.0.\n"
     ]
    },
    {
     "name": "stderr",
     "output_type": "stream",
     "text": [
      "Best trial: 59. Best value: -54:  94%|█████████▍| 75/80 [04:22<00:20,  4.10s/it]"
     ]
    },
    {
     "name": "stdout",
     "output_type": "stream",
     "text": [
      "[I 2025-05-05 07:10:53,109] Trial 74 finished with value: -59.2 and parameters: {'n_estimators': 647, 'max_depth': 10, 'lr': 0.07878541909971731, 'subsample': 0.7272987941298942, 'colsample': 0.653073470250523, 'gamma': 0.7639384468113619, 'min_child_weight': 7, 'reg_lambda': 1.7171933872360912}. Best is trial 59 with value: -54.0.\n"
     ]
    },
    {
     "name": "stderr",
     "output_type": "stream",
     "text": [
      "Best trial: 59. Best value: -54:  95%|█████████▌| 76/80 [04:26<00:17,  4.28s/it]"
     ]
    },
    {
     "name": "stdout",
     "output_type": "stream",
     "text": [
      "[I 2025-05-05 07:10:57,807] Trial 75 finished with value: -57.2 and parameters: {'n_estimators': 672, 'max_depth': 10, 'lr': 0.05722067471649601, 'subsample': 0.734074943687161, 'colsample': 0.608915301618615, 'gamma': 0.5159807983872875, 'min_child_weight': 5, 'reg_lambda': 1.0323262329237926}. Best is trial 59 with value: -54.0.\n"
     ]
    },
    {
     "name": "stderr",
     "output_type": "stream",
     "text": [
      "Best trial: 59. Best value: -54:  96%|█████████▋| 77/80 [04:31<00:12,  4.27s/it]"
     ]
    },
    {
     "name": "stdout",
     "output_type": "stream",
     "text": [
      "[I 2025-05-05 07:11:02,070] Trial 76 finished with value: -54.4 and parameters: {'n_estimators': 676, 'max_depth': 10, 'lr': 0.11073658059451455, 'subsample': 0.7125790650866534, 'colsample': 0.6121923500552227, 'gamma': 0.5374910075110072, 'min_child_weight': 6, 'reg_lambda': 0.5650278268770164}. Best is trial 59 with value: -54.0.\n"
     ]
    },
    {
     "name": "stderr",
     "output_type": "stream",
     "text": [
      "Best trial: 59. Best value: -54:  98%|█████████▊| 78/80 [04:35<00:08,  4.22s/it]"
     ]
    },
    {
     "name": "stdout",
     "output_type": "stream",
     "text": [
      "[I 2025-05-05 07:11:06,152] Trial 77 finished with value: -57.8 and parameters: {'n_estimators': 678, 'max_depth': 10, 'lr': 0.11339404466989378, 'subsample': 0.7606257947926242, 'colsample': 0.6097259143221481, 'gamma': 0.5199129613840598, 'min_child_weight': 6, 'reg_lambda': 1.1719231840576574}. Best is trial 59 with value: -54.0.\n"
     ]
    },
    {
     "name": "stderr",
     "output_type": "stream",
     "text": [
      "Best trial: 59. Best value: -54:  99%|█████████▉| 79/80 [04:39<00:04,  4.13s/it]"
     ]
    },
    {
     "name": "stdout",
     "output_type": "stream",
     "text": [
      "[I 2025-05-05 07:11:10,089] Trial 78 finished with value: -54.2 and parameters: {'n_estimators': 668, 'max_depth': 10, 'lr': 0.12279379860190308, 'subsample': 0.7188121511565702, 'colsample': 0.6097072319774204, 'gamma': 0.588735041521047, 'min_child_weight': 5, 'reg_lambda': 0.47869880951880983}. Best is trial 59 with value: -54.0.\n"
     ]
    },
    {
     "name": "stderr",
     "output_type": "stream",
     "text": [
      "Best trial: 59. Best value: -54: 100%|██████████| 80/80 [04:43<00:00,  3.54s/it]"
     ]
    },
    {
     "name": "stdout",
     "output_type": "stream",
     "text": [
      "[I 2025-05-05 07:11:13,981] Trial 79 finished with value: -56.2 and parameters: {'n_estimators': 661, 'max_depth': 10, 'lr': 0.13462527049142967, 'subsample': 0.738416500624136, 'colsample': 0.6103966431446919, 'gamma': 0.5041428775518918, 'min_child_weight': 5, 'reg_lambda': 0.4946191245767243}. Best is trial 59 with value: -54.0.\n"
     ]
    },
    {
     "name": "stderr",
     "output_type": "stream",
     "text": [
      "\n"
     ]
    }
   ],
   "source": [
    "study = optuna.create_study(direction='maximize')\n",
    "study.optimize(objective, n_trials=80, show_progress_bar=True)"
   ]
  },
  {
   "cell_type": "code",
   "execution_count": 134,
   "metadata": {},
   "outputs": [
    {
     "name": "stderr",
     "output_type": "stream",
     "text": [
      "C:\\Users\\RBH\\AppData\\Local\\Packages\\PythonSoftwareFoundation.Python.3.12_qbz5n2kfra8p0\\LocalCache\\local-packages\\Python312\\site-packages\\xgboost\\training.py:183: UserWarning: [07:11:14] WARNING: C:\\actions-runner\\_work\\xgboost\\xgboost\\src\\learner.cc:738: \n",
      "Parameters: { \"colsample\", \"lr\" } are not used.\n",
      "\n",
      "  bst.update(dtrain, iteration=i, fobj=obj)\n"
     ]
    },
    {
     "data": {
      "text/html": [
       "<style>#sk-container-id-7 {\n",
       "  /* Definition of color scheme common for light and dark mode */\n",
       "  --sklearn-color-text: #000;\n",
       "  --sklearn-color-text-muted: #666;\n",
       "  --sklearn-color-line: gray;\n",
       "  /* Definition of color scheme for unfitted estimators */\n",
       "  --sklearn-color-unfitted-level-0: #fff5e6;\n",
       "  --sklearn-color-unfitted-level-1: #f6e4d2;\n",
       "  --sklearn-color-unfitted-level-2: #ffe0b3;\n",
       "  --sklearn-color-unfitted-level-3: chocolate;\n",
       "  /* Definition of color scheme for fitted estimators */\n",
       "  --sklearn-color-fitted-level-0: #f0f8ff;\n",
       "  --sklearn-color-fitted-level-1: #d4ebff;\n",
       "  --sklearn-color-fitted-level-2: #b3dbfd;\n",
       "  --sklearn-color-fitted-level-3: cornflowerblue;\n",
       "\n",
       "  /* Specific color for light theme */\n",
       "  --sklearn-color-text-on-default-background: var(--sg-text-color, var(--theme-code-foreground, var(--jp-content-font-color1, black)));\n",
       "  --sklearn-color-background: var(--sg-background-color, var(--theme-background, var(--jp-layout-color0, white)));\n",
       "  --sklearn-color-border-box: var(--sg-text-color, var(--theme-code-foreground, var(--jp-content-font-color1, black)));\n",
       "  --sklearn-color-icon: #696969;\n",
       "\n",
       "  @media (prefers-color-scheme: dark) {\n",
       "    /* Redefinition of color scheme for dark theme */\n",
       "    --sklearn-color-text-on-default-background: var(--sg-text-color, var(--theme-code-foreground, var(--jp-content-font-color1, white)));\n",
       "    --sklearn-color-background: var(--sg-background-color, var(--theme-background, var(--jp-layout-color0, #111)));\n",
       "    --sklearn-color-border-box: var(--sg-text-color, var(--theme-code-foreground, var(--jp-content-font-color1, white)));\n",
       "    --sklearn-color-icon: #878787;\n",
       "  }\n",
       "}\n",
       "\n",
       "#sk-container-id-7 {\n",
       "  color: var(--sklearn-color-text);\n",
       "}\n",
       "\n",
       "#sk-container-id-7 pre {\n",
       "  padding: 0;\n",
       "}\n",
       "\n",
       "#sk-container-id-7 input.sk-hidden--visually {\n",
       "  border: 0;\n",
       "  clip: rect(1px 1px 1px 1px);\n",
       "  clip: rect(1px, 1px, 1px, 1px);\n",
       "  height: 1px;\n",
       "  margin: -1px;\n",
       "  overflow: hidden;\n",
       "  padding: 0;\n",
       "  position: absolute;\n",
       "  width: 1px;\n",
       "}\n",
       "\n",
       "#sk-container-id-7 div.sk-dashed-wrapped {\n",
       "  border: 1px dashed var(--sklearn-color-line);\n",
       "  margin: 0 0.4em 0.5em 0.4em;\n",
       "  box-sizing: border-box;\n",
       "  padding-bottom: 0.4em;\n",
       "  background-color: var(--sklearn-color-background);\n",
       "}\n",
       "\n",
       "#sk-container-id-7 div.sk-container {\n",
       "  /* jupyter's `normalize.less` sets `[hidden] { display: none; }`\n",
       "     but bootstrap.min.css set `[hidden] { display: none !important; }`\n",
       "     so we also need the `!important` here to be able to override the\n",
       "     default hidden behavior on the sphinx rendered scikit-learn.org.\n",
       "     See: https://github.com/scikit-learn/scikit-learn/issues/21755 */\n",
       "  display: inline-block !important;\n",
       "  position: relative;\n",
       "}\n",
       "\n",
       "#sk-container-id-7 div.sk-text-repr-fallback {\n",
       "  display: none;\n",
       "}\n",
       "\n",
       "div.sk-parallel-item,\n",
       "div.sk-serial,\n",
       "div.sk-item {\n",
       "  /* draw centered vertical line to link estimators */\n",
       "  background-image: linear-gradient(var(--sklearn-color-text-on-default-background), var(--sklearn-color-text-on-default-background));\n",
       "  background-size: 2px 100%;\n",
       "  background-repeat: no-repeat;\n",
       "  background-position: center center;\n",
       "}\n",
       "\n",
       "/* Parallel-specific style estimator block */\n",
       "\n",
       "#sk-container-id-7 div.sk-parallel-item::after {\n",
       "  content: \"\";\n",
       "  width: 100%;\n",
       "  border-bottom: 2px solid var(--sklearn-color-text-on-default-background);\n",
       "  flex-grow: 1;\n",
       "}\n",
       "\n",
       "#sk-container-id-7 div.sk-parallel {\n",
       "  display: flex;\n",
       "  align-items: stretch;\n",
       "  justify-content: center;\n",
       "  background-color: var(--sklearn-color-background);\n",
       "  position: relative;\n",
       "}\n",
       "\n",
       "#sk-container-id-7 div.sk-parallel-item {\n",
       "  display: flex;\n",
       "  flex-direction: column;\n",
       "}\n",
       "\n",
       "#sk-container-id-7 div.sk-parallel-item:first-child::after {\n",
       "  align-self: flex-end;\n",
       "  width: 50%;\n",
       "}\n",
       "\n",
       "#sk-container-id-7 div.sk-parallel-item:last-child::after {\n",
       "  align-self: flex-start;\n",
       "  width: 50%;\n",
       "}\n",
       "\n",
       "#sk-container-id-7 div.sk-parallel-item:only-child::after {\n",
       "  width: 0;\n",
       "}\n",
       "\n",
       "/* Serial-specific style estimator block */\n",
       "\n",
       "#sk-container-id-7 div.sk-serial {\n",
       "  display: flex;\n",
       "  flex-direction: column;\n",
       "  align-items: center;\n",
       "  background-color: var(--sklearn-color-background);\n",
       "  padding-right: 1em;\n",
       "  padding-left: 1em;\n",
       "}\n",
       "\n",
       "\n",
       "/* Toggleable style: style used for estimator/Pipeline/ColumnTransformer box that is\n",
       "clickable and can be expanded/collapsed.\n",
       "- Pipeline and ColumnTransformer use this feature and define the default style\n",
       "- Estimators will overwrite some part of the style using the `sk-estimator` class\n",
       "*/\n",
       "\n",
       "/* Pipeline and ColumnTransformer style (default) */\n",
       "\n",
       "#sk-container-id-7 div.sk-toggleable {\n",
       "  /* Default theme specific background. It is overwritten whether we have a\n",
       "  specific estimator or a Pipeline/ColumnTransformer */\n",
       "  background-color: var(--sklearn-color-background);\n",
       "}\n",
       "\n",
       "/* Toggleable label */\n",
       "#sk-container-id-7 label.sk-toggleable__label {\n",
       "  cursor: pointer;\n",
       "  display: flex;\n",
       "  width: 100%;\n",
       "  margin-bottom: 0;\n",
       "  padding: 0.5em;\n",
       "  box-sizing: border-box;\n",
       "  text-align: center;\n",
       "  align-items: start;\n",
       "  justify-content: space-between;\n",
       "  gap: 0.5em;\n",
       "}\n",
       "\n",
       "#sk-container-id-7 label.sk-toggleable__label .caption {\n",
       "  font-size: 0.6rem;\n",
       "  font-weight: lighter;\n",
       "  color: var(--sklearn-color-text-muted);\n",
       "}\n",
       "\n",
       "#sk-container-id-7 label.sk-toggleable__label-arrow:before {\n",
       "  /* Arrow on the left of the label */\n",
       "  content: \"▸\";\n",
       "  float: left;\n",
       "  margin-right: 0.25em;\n",
       "  color: var(--sklearn-color-icon);\n",
       "}\n",
       "\n",
       "#sk-container-id-7 label.sk-toggleable__label-arrow:hover:before {\n",
       "  color: var(--sklearn-color-text);\n",
       "}\n",
       "\n",
       "/* Toggleable content - dropdown */\n",
       "\n",
       "#sk-container-id-7 div.sk-toggleable__content {\n",
       "  max-height: 0;\n",
       "  max-width: 0;\n",
       "  overflow: hidden;\n",
       "  text-align: left;\n",
       "  /* unfitted */\n",
       "  background-color: var(--sklearn-color-unfitted-level-0);\n",
       "}\n",
       "\n",
       "#sk-container-id-7 div.sk-toggleable__content.fitted {\n",
       "  /* fitted */\n",
       "  background-color: var(--sklearn-color-fitted-level-0);\n",
       "}\n",
       "\n",
       "#sk-container-id-7 div.sk-toggleable__content pre {\n",
       "  margin: 0.2em;\n",
       "  border-radius: 0.25em;\n",
       "  color: var(--sklearn-color-text);\n",
       "  /* unfitted */\n",
       "  background-color: var(--sklearn-color-unfitted-level-0);\n",
       "}\n",
       "\n",
       "#sk-container-id-7 div.sk-toggleable__content.fitted pre {\n",
       "  /* unfitted */\n",
       "  background-color: var(--sklearn-color-fitted-level-0);\n",
       "}\n",
       "\n",
       "#sk-container-id-7 input.sk-toggleable__control:checked~div.sk-toggleable__content {\n",
       "  /* Expand drop-down */\n",
       "  max-height: 200px;\n",
       "  max-width: 100%;\n",
       "  overflow: auto;\n",
       "}\n",
       "\n",
       "#sk-container-id-7 input.sk-toggleable__control:checked~label.sk-toggleable__label-arrow:before {\n",
       "  content: \"▾\";\n",
       "}\n",
       "\n",
       "/* Pipeline/ColumnTransformer-specific style */\n",
       "\n",
       "#sk-container-id-7 div.sk-label input.sk-toggleable__control:checked~label.sk-toggleable__label {\n",
       "  color: var(--sklearn-color-text);\n",
       "  background-color: var(--sklearn-color-unfitted-level-2);\n",
       "}\n",
       "\n",
       "#sk-container-id-7 div.sk-label.fitted input.sk-toggleable__control:checked~label.sk-toggleable__label {\n",
       "  background-color: var(--sklearn-color-fitted-level-2);\n",
       "}\n",
       "\n",
       "/* Estimator-specific style */\n",
       "\n",
       "/* Colorize estimator box */\n",
       "#sk-container-id-7 div.sk-estimator input.sk-toggleable__control:checked~label.sk-toggleable__label {\n",
       "  /* unfitted */\n",
       "  background-color: var(--sklearn-color-unfitted-level-2);\n",
       "}\n",
       "\n",
       "#sk-container-id-7 div.sk-estimator.fitted input.sk-toggleable__control:checked~label.sk-toggleable__label {\n",
       "  /* fitted */\n",
       "  background-color: var(--sklearn-color-fitted-level-2);\n",
       "}\n",
       "\n",
       "#sk-container-id-7 div.sk-label label.sk-toggleable__label,\n",
       "#sk-container-id-7 div.sk-label label {\n",
       "  /* The background is the default theme color */\n",
       "  color: var(--sklearn-color-text-on-default-background);\n",
       "}\n",
       "\n",
       "/* On hover, darken the color of the background */\n",
       "#sk-container-id-7 div.sk-label:hover label.sk-toggleable__label {\n",
       "  color: var(--sklearn-color-text);\n",
       "  background-color: var(--sklearn-color-unfitted-level-2);\n",
       "}\n",
       "\n",
       "/* Label box, darken color on hover, fitted */\n",
       "#sk-container-id-7 div.sk-label.fitted:hover label.sk-toggleable__label.fitted {\n",
       "  color: var(--sklearn-color-text);\n",
       "  background-color: var(--sklearn-color-fitted-level-2);\n",
       "}\n",
       "\n",
       "/* Estimator label */\n",
       "\n",
       "#sk-container-id-7 div.sk-label label {\n",
       "  font-family: monospace;\n",
       "  font-weight: bold;\n",
       "  display: inline-block;\n",
       "  line-height: 1.2em;\n",
       "}\n",
       "\n",
       "#sk-container-id-7 div.sk-label-container {\n",
       "  text-align: center;\n",
       "}\n",
       "\n",
       "/* Estimator-specific */\n",
       "#sk-container-id-7 div.sk-estimator {\n",
       "  font-family: monospace;\n",
       "  border: 1px dotted var(--sklearn-color-border-box);\n",
       "  border-radius: 0.25em;\n",
       "  box-sizing: border-box;\n",
       "  margin-bottom: 0.5em;\n",
       "  /* unfitted */\n",
       "  background-color: var(--sklearn-color-unfitted-level-0);\n",
       "}\n",
       "\n",
       "#sk-container-id-7 div.sk-estimator.fitted {\n",
       "  /* fitted */\n",
       "  background-color: var(--sklearn-color-fitted-level-0);\n",
       "}\n",
       "\n",
       "/* on hover */\n",
       "#sk-container-id-7 div.sk-estimator:hover {\n",
       "  /* unfitted */\n",
       "  background-color: var(--sklearn-color-unfitted-level-2);\n",
       "}\n",
       "\n",
       "#sk-container-id-7 div.sk-estimator.fitted:hover {\n",
       "  /* fitted */\n",
       "  background-color: var(--sklearn-color-fitted-level-2);\n",
       "}\n",
       "\n",
       "/* Specification for estimator info (e.g. \"i\" and \"?\") */\n",
       "\n",
       "/* Common style for \"i\" and \"?\" */\n",
       "\n",
       ".sk-estimator-doc-link,\n",
       "a:link.sk-estimator-doc-link,\n",
       "a:visited.sk-estimator-doc-link {\n",
       "  float: right;\n",
       "  font-size: smaller;\n",
       "  line-height: 1em;\n",
       "  font-family: monospace;\n",
       "  background-color: var(--sklearn-color-background);\n",
       "  border-radius: 1em;\n",
       "  height: 1em;\n",
       "  width: 1em;\n",
       "  text-decoration: none !important;\n",
       "  margin-left: 0.5em;\n",
       "  text-align: center;\n",
       "  /* unfitted */\n",
       "  border: var(--sklearn-color-unfitted-level-1) 1pt solid;\n",
       "  color: var(--sklearn-color-unfitted-level-1);\n",
       "}\n",
       "\n",
       ".sk-estimator-doc-link.fitted,\n",
       "a:link.sk-estimator-doc-link.fitted,\n",
       "a:visited.sk-estimator-doc-link.fitted {\n",
       "  /* fitted */\n",
       "  border: var(--sklearn-color-fitted-level-1) 1pt solid;\n",
       "  color: var(--sklearn-color-fitted-level-1);\n",
       "}\n",
       "\n",
       "/* On hover */\n",
       "div.sk-estimator:hover .sk-estimator-doc-link:hover,\n",
       ".sk-estimator-doc-link:hover,\n",
       "div.sk-label-container:hover .sk-estimator-doc-link:hover,\n",
       ".sk-estimator-doc-link:hover {\n",
       "  /* unfitted */\n",
       "  background-color: var(--sklearn-color-unfitted-level-3);\n",
       "  color: var(--sklearn-color-background);\n",
       "  text-decoration: none;\n",
       "}\n",
       "\n",
       "div.sk-estimator.fitted:hover .sk-estimator-doc-link.fitted:hover,\n",
       ".sk-estimator-doc-link.fitted:hover,\n",
       "div.sk-label-container:hover .sk-estimator-doc-link.fitted:hover,\n",
       ".sk-estimator-doc-link.fitted:hover {\n",
       "  /* fitted */\n",
       "  background-color: var(--sklearn-color-fitted-level-3);\n",
       "  color: var(--sklearn-color-background);\n",
       "  text-decoration: none;\n",
       "}\n",
       "\n",
       "/* Span, style for the box shown on hovering the info icon */\n",
       ".sk-estimator-doc-link span {\n",
       "  display: none;\n",
       "  z-index: 9999;\n",
       "  position: relative;\n",
       "  font-weight: normal;\n",
       "  right: .2ex;\n",
       "  padding: .5ex;\n",
       "  margin: .5ex;\n",
       "  width: min-content;\n",
       "  min-width: 20ex;\n",
       "  max-width: 50ex;\n",
       "  color: var(--sklearn-color-text);\n",
       "  box-shadow: 2pt 2pt 4pt #999;\n",
       "  /* unfitted */\n",
       "  background: var(--sklearn-color-unfitted-level-0);\n",
       "  border: .5pt solid var(--sklearn-color-unfitted-level-3);\n",
       "}\n",
       "\n",
       ".sk-estimator-doc-link.fitted span {\n",
       "  /* fitted */\n",
       "  background: var(--sklearn-color-fitted-level-0);\n",
       "  border: var(--sklearn-color-fitted-level-3);\n",
       "}\n",
       "\n",
       ".sk-estimator-doc-link:hover span {\n",
       "  display: block;\n",
       "}\n",
       "\n",
       "/* \"?\"-specific style due to the `<a>` HTML tag */\n",
       "\n",
       "#sk-container-id-7 a.estimator_doc_link {\n",
       "  float: right;\n",
       "  font-size: 1rem;\n",
       "  line-height: 1em;\n",
       "  font-family: monospace;\n",
       "  background-color: var(--sklearn-color-background);\n",
       "  border-radius: 1rem;\n",
       "  height: 1rem;\n",
       "  width: 1rem;\n",
       "  text-decoration: none;\n",
       "  /* unfitted */\n",
       "  color: var(--sklearn-color-unfitted-level-1);\n",
       "  border: var(--sklearn-color-unfitted-level-1) 1pt solid;\n",
       "}\n",
       "\n",
       "#sk-container-id-7 a.estimator_doc_link.fitted {\n",
       "  /* fitted */\n",
       "  border: var(--sklearn-color-fitted-level-1) 1pt solid;\n",
       "  color: var(--sklearn-color-fitted-level-1);\n",
       "}\n",
       "\n",
       "/* On hover */\n",
       "#sk-container-id-7 a.estimator_doc_link:hover {\n",
       "  /* unfitted */\n",
       "  background-color: var(--sklearn-color-unfitted-level-3);\n",
       "  color: var(--sklearn-color-background);\n",
       "  text-decoration: none;\n",
       "}\n",
       "\n",
       "#sk-container-id-7 a.estimator_doc_link.fitted:hover {\n",
       "  /* fitted */\n",
       "  background-color: var(--sklearn-color-fitted-level-3);\n",
       "}\n",
       "</style><div id=\"sk-container-id-7\" class=\"sk-top-container\"><div class=\"sk-text-repr-fallback\"><pre>Pipeline(steps=[(&#x27;prep&#x27;,\n",
       "                 ColumnTransformer(transformers=[(&#x27;svc&#x27;,\n",
       "                                                  TargetEncoder(cols=[&#x27;service&#x27;],\n",
       "                                                                handle_unknown=&#x27;ignore&#x27;,\n",
       "                                                                smoothing=0.3),\n",
       "                                                  [&#x27;service&#x27;]),\n",
       "                                                 (&#x27;cat&#x27;,\n",
       "                                                  OneHotEncoder(handle_unknown=&#x27;ignore&#x27;),\n",
       "                                                  [&#x27;protocol_type&#x27;, &#x27;flag&#x27;]),\n",
       "                                                 (&#x27;num&#x27;, StandardScaler(),\n",
       "                                                  [&#x27;duration&#x27;, &#x27;src_bytes&#x27;,\n",
       "                                                   &#x27;dst_bytes&#x27;, &#x27;land&#x27;,\n",
       "                                                   &#x27;wrong_fragment&#x27;, &#x27;urgent&#x27;,\n",
       "                                                   &#x27;hot&#x27;, &#x27;num_failed_logins&#x27;,\n",
       "                                                   &#x27;logged_in&#x27;,\n",
       "                                                   &#x27;...\n",
       "                               feature_types=None, feature_weights=None,\n",
       "                               gamma=0.6717935104281271, grow_policy=None,\n",
       "                               importance_type=None,\n",
       "                               interaction_constraints=None, learning_rate=None,\n",
       "                               lr=0.07285696546289368, max_bin=None,\n",
       "                               max_cat_threshold=None, max_cat_to_onehot=None,\n",
       "                               max_delta_step=None, max_depth=9,\n",
       "                               max_leaves=None, min_child_weight=5, missing=nan,\n",
       "                               monotone_constraints=None, multi_strategy=None,\n",
       "                               n_estimators=601, ...))])</pre><b>In a Jupyter environment, please rerun this cell to show the HTML representation or trust the notebook. <br />On GitHub, the HTML representation is unable to render, please try loading this page with nbviewer.org.</b></div><div class=\"sk-container\" hidden><div class=\"sk-item sk-dashed-wrapped\"><div class=\"sk-label-container\"><div class=\"sk-label fitted sk-toggleable\"><input class=\"sk-toggleable__control sk-hidden--visually\" id=\"sk-estimator-id-63\" type=\"checkbox\" ><label for=\"sk-estimator-id-63\" class=\"sk-toggleable__label fitted sk-toggleable__label-arrow\"><div><div>Pipeline</div></div><div><a class=\"sk-estimator-doc-link fitted\" rel=\"noreferrer\" target=\"_blank\" href=\"https://scikit-learn.org/1.6/modules/generated/sklearn.pipeline.Pipeline.html\">?<span>Documentation for Pipeline</span></a><span class=\"sk-estimator-doc-link fitted\">i<span>Fitted</span></span></div></label><div class=\"sk-toggleable__content fitted\"><pre>Pipeline(steps=[(&#x27;prep&#x27;,\n",
       "                 ColumnTransformer(transformers=[(&#x27;svc&#x27;,\n",
       "                                                  TargetEncoder(cols=[&#x27;service&#x27;],\n",
       "                                                                handle_unknown=&#x27;ignore&#x27;,\n",
       "                                                                smoothing=0.3),\n",
       "                                                  [&#x27;service&#x27;]),\n",
       "                                                 (&#x27;cat&#x27;,\n",
       "                                                  OneHotEncoder(handle_unknown=&#x27;ignore&#x27;),\n",
       "                                                  [&#x27;protocol_type&#x27;, &#x27;flag&#x27;]),\n",
       "                                                 (&#x27;num&#x27;, StandardScaler(),\n",
       "                                                  [&#x27;duration&#x27;, &#x27;src_bytes&#x27;,\n",
       "                                                   &#x27;dst_bytes&#x27;, &#x27;land&#x27;,\n",
       "                                                   &#x27;wrong_fragment&#x27;, &#x27;urgent&#x27;,\n",
       "                                                   &#x27;hot&#x27;, &#x27;num_failed_logins&#x27;,\n",
       "                                                   &#x27;logged_in&#x27;,\n",
       "                                                   &#x27;...\n",
       "                               feature_types=None, feature_weights=None,\n",
       "                               gamma=0.6717935104281271, grow_policy=None,\n",
       "                               importance_type=None,\n",
       "                               interaction_constraints=None, learning_rate=None,\n",
       "                               lr=0.07285696546289368, max_bin=None,\n",
       "                               max_cat_threshold=None, max_cat_to_onehot=None,\n",
       "                               max_delta_step=None, max_depth=9,\n",
       "                               max_leaves=None, min_child_weight=5, missing=nan,\n",
       "                               monotone_constraints=None, multi_strategy=None,\n",
       "                               n_estimators=601, ...))])</pre></div> </div></div><div class=\"sk-serial\"><div class=\"sk-item sk-dashed-wrapped\"><div class=\"sk-label-container\"><div class=\"sk-label fitted sk-toggleable\"><input class=\"sk-toggleable__control sk-hidden--visually\" id=\"sk-estimator-id-64\" type=\"checkbox\" ><label for=\"sk-estimator-id-64\" class=\"sk-toggleable__label fitted sk-toggleable__label-arrow\"><div><div>prep: ColumnTransformer</div></div><div><a class=\"sk-estimator-doc-link fitted\" rel=\"noreferrer\" target=\"_blank\" href=\"https://scikit-learn.org/1.6/modules/generated/sklearn.compose.ColumnTransformer.html\">?<span>Documentation for prep: ColumnTransformer</span></a></div></label><div class=\"sk-toggleable__content fitted\"><pre>ColumnTransformer(transformers=[(&#x27;svc&#x27;,\n",
       "                                 TargetEncoder(cols=[&#x27;service&#x27;],\n",
       "                                               handle_unknown=&#x27;ignore&#x27;,\n",
       "                                               smoothing=0.3),\n",
       "                                 [&#x27;service&#x27;]),\n",
       "                                (&#x27;cat&#x27;, OneHotEncoder(handle_unknown=&#x27;ignore&#x27;),\n",
       "                                 [&#x27;protocol_type&#x27;, &#x27;flag&#x27;]),\n",
       "                                (&#x27;num&#x27;, StandardScaler(),\n",
       "                                 [&#x27;duration&#x27;, &#x27;src_bytes&#x27;, &#x27;dst_bytes&#x27;, &#x27;land&#x27;,\n",
       "                                  &#x27;wrong_fragment&#x27;, &#x27;urgent&#x27;, &#x27;hot&#x27;,\n",
       "                                  &#x27;num_failed_logins&#x27;, &#x27;logged_in&#x27;,\n",
       "                                  &#x27;num_compromised&#x27;, &#x27;root_shell&#x27;,\n",
       "                                  &#x27;su_attempted&#x27;, &#x27;num_file_creations&#x27;,\n",
       "                                  &#x27;num_shells&#x27;, &#x27;num_access_files&#x27;,\n",
       "                                  &#x27;is_guest_login&#x27;, &#x27;count&#x27;, &#x27;srv_count&#x27;,\n",
       "                                  &#x27;serror_rate&#x27;, &#x27;rerror_rate&#x27;, &#x27;same_srv_rate&#x27;,\n",
       "                                  &#x27;diff_srv_rate&#x27;, &#x27;srv_diff_host_rate&#x27;,\n",
       "                                  &#x27;dst_host_count&#x27;, &#x27;dst_host_srv_count&#x27;,\n",
       "                                  &#x27;dst_host_same_srv_rate&#x27;,\n",
       "                                  &#x27;dst_host_diff_srv_rate&#x27;,\n",
       "                                  &#x27;dst_host_same_src_port_rate&#x27;,\n",
       "                                  &#x27;dst_host_srv_diff_host_rate&#x27;])])</pre></div> </div></div><div class=\"sk-parallel\"><div class=\"sk-parallel-item\"><div class=\"sk-item\"><div class=\"sk-label-container\"><div class=\"sk-label fitted sk-toggleable\"><input class=\"sk-toggleable__control sk-hidden--visually\" id=\"sk-estimator-id-65\" type=\"checkbox\" ><label for=\"sk-estimator-id-65\" class=\"sk-toggleable__label fitted sk-toggleable__label-arrow\"><div><div>svc</div></div></label><div class=\"sk-toggleable__content fitted\"><pre>[&#x27;service&#x27;]</pre></div> </div></div><div class=\"sk-serial\"><div class=\"sk-item\"><div class=\"sk-estimator fitted sk-toggleable\"><input class=\"sk-toggleable__control sk-hidden--visually\" id=\"sk-estimator-id-66\" type=\"checkbox\" ><label for=\"sk-estimator-id-66\" class=\"sk-toggleable__label fitted sk-toggleable__label-arrow\"><div><div>TargetEncoder</div></div></label><div class=\"sk-toggleable__content fitted\"><pre>TargetEncoder(cols=[&#x27;service&#x27;], handle_unknown=&#x27;ignore&#x27;, smoothing=0.3)</pre></div> </div></div></div></div></div><div class=\"sk-parallel-item\"><div class=\"sk-item\"><div class=\"sk-label-container\"><div class=\"sk-label fitted sk-toggleable\"><input class=\"sk-toggleable__control sk-hidden--visually\" id=\"sk-estimator-id-67\" type=\"checkbox\" ><label for=\"sk-estimator-id-67\" class=\"sk-toggleable__label fitted sk-toggleable__label-arrow\"><div><div>cat</div></div></label><div class=\"sk-toggleable__content fitted\"><pre>[&#x27;protocol_type&#x27;, &#x27;flag&#x27;]</pre></div> </div></div><div class=\"sk-serial\"><div class=\"sk-item\"><div class=\"sk-estimator fitted sk-toggleable\"><input class=\"sk-toggleable__control sk-hidden--visually\" id=\"sk-estimator-id-68\" type=\"checkbox\" ><label for=\"sk-estimator-id-68\" class=\"sk-toggleable__label fitted sk-toggleable__label-arrow\"><div><div>OneHotEncoder</div></div><div><a class=\"sk-estimator-doc-link fitted\" rel=\"noreferrer\" target=\"_blank\" href=\"https://scikit-learn.org/1.6/modules/generated/sklearn.preprocessing.OneHotEncoder.html\">?<span>Documentation for OneHotEncoder</span></a></div></label><div class=\"sk-toggleable__content fitted\"><pre>OneHotEncoder(handle_unknown=&#x27;ignore&#x27;)</pre></div> </div></div></div></div></div><div class=\"sk-parallel-item\"><div class=\"sk-item\"><div class=\"sk-label-container\"><div class=\"sk-label fitted sk-toggleable\"><input class=\"sk-toggleable__control sk-hidden--visually\" id=\"sk-estimator-id-69\" type=\"checkbox\" ><label for=\"sk-estimator-id-69\" class=\"sk-toggleable__label fitted sk-toggleable__label-arrow\"><div><div>num</div></div></label><div class=\"sk-toggleable__content fitted\"><pre>[&#x27;duration&#x27;, &#x27;src_bytes&#x27;, &#x27;dst_bytes&#x27;, &#x27;land&#x27;, &#x27;wrong_fragment&#x27;, &#x27;urgent&#x27;, &#x27;hot&#x27;, &#x27;num_failed_logins&#x27;, &#x27;logged_in&#x27;, &#x27;num_compromised&#x27;, &#x27;root_shell&#x27;, &#x27;su_attempted&#x27;, &#x27;num_file_creations&#x27;, &#x27;num_shells&#x27;, &#x27;num_access_files&#x27;, &#x27;is_guest_login&#x27;, &#x27;count&#x27;, &#x27;srv_count&#x27;, &#x27;serror_rate&#x27;, &#x27;rerror_rate&#x27;, &#x27;same_srv_rate&#x27;, &#x27;diff_srv_rate&#x27;, &#x27;srv_diff_host_rate&#x27;, &#x27;dst_host_count&#x27;, &#x27;dst_host_srv_count&#x27;, &#x27;dst_host_same_srv_rate&#x27;, &#x27;dst_host_diff_srv_rate&#x27;, &#x27;dst_host_same_src_port_rate&#x27;, &#x27;dst_host_srv_diff_host_rate&#x27;]</pre></div> </div></div><div class=\"sk-serial\"><div class=\"sk-item\"><div class=\"sk-estimator fitted sk-toggleable\"><input class=\"sk-toggleable__control sk-hidden--visually\" id=\"sk-estimator-id-70\" type=\"checkbox\" ><label for=\"sk-estimator-id-70\" class=\"sk-toggleable__label fitted sk-toggleable__label-arrow\"><div><div>StandardScaler</div></div><div><a class=\"sk-estimator-doc-link fitted\" rel=\"noreferrer\" target=\"_blank\" href=\"https://scikit-learn.org/1.6/modules/generated/sklearn.preprocessing.StandardScaler.html\">?<span>Documentation for StandardScaler</span></a></div></label><div class=\"sk-toggleable__content fitted\"><pre>StandardScaler()</pre></div> </div></div></div></div></div></div></div><div class=\"sk-item\"><div class=\"sk-estimator fitted sk-toggleable\"><input class=\"sk-toggleable__control sk-hidden--visually\" id=\"sk-estimator-id-71\" type=\"checkbox\" ><label for=\"sk-estimator-id-71\" class=\"sk-toggleable__label fitted sk-toggleable__label-arrow\"><div><div>XGBClassifier</div></div><div><a class=\"sk-estimator-doc-link fitted\" rel=\"noreferrer\" target=\"_blank\" href=\"https://xgboost.readthedocs.io/en/release_3.0.0/python/python_api.html#xgboost.XGBClassifier\">?<span>Documentation for XGBClassifier</span></a></div></label><div class=\"sk-toggleable__content fitted\"><pre>XGBClassifier(base_score=None, booster=None, callbacks=None,\n",
       "              colsample=0.6323249419729942, colsample_bylevel=None,\n",
       "              colsample_bynode=None, colsample_bytree=None, device=None,\n",
       "              early_stopping_rounds=None, enable_categorical=False,\n",
       "              eval_metric=&#x27;auc&#x27;, feature_types=None, feature_weights=None,\n",
       "              gamma=0.6717935104281271, grow_policy=None, importance_type=None,\n",
       "              interaction_constraints=None, learning_rate=None,\n",
       "              lr=0.07285696546289368, max_bin=None, max_cat_threshold=None,\n",
       "              max_cat_to_onehot=None, max_delta_step=None, max_depth=9,\n",
       "              max_leaves=None, min_child_weight=5, missing=nan,\n",
       "              monotone_constraints=None, multi_strategy=None, n_estimators=601, ...)</pre></div> </div></div></div></div></div></div>"
      ],
      "text/plain": [
       "Pipeline(steps=[('prep',\n",
       "                 ColumnTransformer(transformers=[('svc',\n",
       "                                                  TargetEncoder(cols=['service'],\n",
       "                                                                handle_unknown='ignore',\n",
       "                                                                smoothing=0.3),\n",
       "                                                  ['service']),\n",
       "                                                 ('cat',\n",
       "                                                  OneHotEncoder(handle_unknown='ignore'),\n",
       "                                                  ['protocol_type', 'flag']),\n",
       "                                                 ('num', StandardScaler(),\n",
       "                                                  ['duration', 'src_bytes',\n",
       "                                                   'dst_bytes', 'land',\n",
       "                                                   'wrong_fragment', 'urgent',\n",
       "                                                   'hot', 'num_failed_logins',\n",
       "                                                   'logged_in',\n",
       "                                                   '...\n",
       "                               feature_types=None, feature_weights=None,\n",
       "                               gamma=0.6717935104281271, grow_policy=None,\n",
       "                               importance_type=None,\n",
       "                               interaction_constraints=None, learning_rate=None,\n",
       "                               lr=0.07285696546289368, max_bin=None,\n",
       "                               max_cat_threshold=None, max_cat_to_onehot=None,\n",
       "                               max_delta_step=None, max_depth=9,\n",
       "                               max_leaves=None, min_child_weight=5, missing=nan,\n",
       "                               monotone_constraints=None, multi_strategy=None,\n",
       "                               n_estimators=601, ...))])"
      ]
     },
     "execution_count": 134,
     "metadata": {},
     "output_type": "execute_result"
    }
   ],
   "source": [
    "best_params = study.best_params\n",
    "best_params.update({\n",
    "    'objective': 'binary:logistic',\n",
    "    'eval_metric': 'auc',\n",
    "    'scale_pos_weight': len(y[y==0]) / len(y[y==1]),\n",
    "    'n_jobs': 4,\n",
    "    'random_state': 42\n",
    "})\n",
    "\n",
    "best_clf  = XGBClassifier(**best_params)\n",
    "best_pipe = Pipeline([('prep', prep), ('model', best_clf)])\n",
    "\n",
    "# Fit on your original train split (X_tr, y_tr)  <── your earlier vars\n",
    "best_pipe.fit(X_tr, y_tr)"
   ]
  },
  {
   "cell_type": "markdown",
   "metadata": {},
   "source": [
    "settando os melhores parametros do optana"
   ]
  },
  {
   "cell_type": "markdown",
   "metadata": {},
   "source": [
    "### 3.2.1 Calibração do Classificador XGB"
   ]
  },
  {
   "cell_type": "markdown",
   "metadata": {},
   "source": [
    "Aqui fazemos uma pequena calibração usando uma parte da tabela de treino para alcançar o threshold ideal, isso é, o limiar de probabilidade no qual o modelo infere que aquelas características apresentem uma ameaça, em meus testes o threshold ideal para o XGB sozinho fica em torno de 0.5 a 0.7"
   ]
  },
  {
   "cell_type": "code",
   "execution_count": 135,
   "metadata": {},
   "outputs": [
    {
     "data": {
      "text/html": [
       "<style>#sk-container-id-8 {\n",
       "  /* Definition of color scheme common for light and dark mode */\n",
       "  --sklearn-color-text: #000;\n",
       "  --sklearn-color-text-muted: #666;\n",
       "  --sklearn-color-line: gray;\n",
       "  /* Definition of color scheme for unfitted estimators */\n",
       "  --sklearn-color-unfitted-level-0: #fff5e6;\n",
       "  --sklearn-color-unfitted-level-1: #f6e4d2;\n",
       "  --sklearn-color-unfitted-level-2: #ffe0b3;\n",
       "  --sklearn-color-unfitted-level-3: chocolate;\n",
       "  /* Definition of color scheme for fitted estimators */\n",
       "  --sklearn-color-fitted-level-0: #f0f8ff;\n",
       "  --sklearn-color-fitted-level-1: #d4ebff;\n",
       "  --sklearn-color-fitted-level-2: #b3dbfd;\n",
       "  --sklearn-color-fitted-level-3: cornflowerblue;\n",
       "\n",
       "  /* Specific color for light theme */\n",
       "  --sklearn-color-text-on-default-background: var(--sg-text-color, var(--theme-code-foreground, var(--jp-content-font-color1, black)));\n",
       "  --sklearn-color-background: var(--sg-background-color, var(--theme-background, var(--jp-layout-color0, white)));\n",
       "  --sklearn-color-border-box: var(--sg-text-color, var(--theme-code-foreground, var(--jp-content-font-color1, black)));\n",
       "  --sklearn-color-icon: #696969;\n",
       "\n",
       "  @media (prefers-color-scheme: dark) {\n",
       "    /* Redefinition of color scheme for dark theme */\n",
       "    --sklearn-color-text-on-default-background: var(--sg-text-color, var(--theme-code-foreground, var(--jp-content-font-color1, white)));\n",
       "    --sklearn-color-background: var(--sg-background-color, var(--theme-background, var(--jp-layout-color0, #111)));\n",
       "    --sklearn-color-border-box: var(--sg-text-color, var(--theme-code-foreground, var(--jp-content-font-color1, white)));\n",
       "    --sklearn-color-icon: #878787;\n",
       "  }\n",
       "}\n",
       "\n",
       "#sk-container-id-8 {\n",
       "  color: var(--sklearn-color-text);\n",
       "}\n",
       "\n",
       "#sk-container-id-8 pre {\n",
       "  padding: 0;\n",
       "}\n",
       "\n",
       "#sk-container-id-8 input.sk-hidden--visually {\n",
       "  border: 0;\n",
       "  clip: rect(1px 1px 1px 1px);\n",
       "  clip: rect(1px, 1px, 1px, 1px);\n",
       "  height: 1px;\n",
       "  margin: -1px;\n",
       "  overflow: hidden;\n",
       "  padding: 0;\n",
       "  position: absolute;\n",
       "  width: 1px;\n",
       "}\n",
       "\n",
       "#sk-container-id-8 div.sk-dashed-wrapped {\n",
       "  border: 1px dashed var(--sklearn-color-line);\n",
       "  margin: 0 0.4em 0.5em 0.4em;\n",
       "  box-sizing: border-box;\n",
       "  padding-bottom: 0.4em;\n",
       "  background-color: var(--sklearn-color-background);\n",
       "}\n",
       "\n",
       "#sk-container-id-8 div.sk-container {\n",
       "  /* jupyter's `normalize.less` sets `[hidden] { display: none; }`\n",
       "     but bootstrap.min.css set `[hidden] { display: none !important; }`\n",
       "     so we also need the `!important` here to be able to override the\n",
       "     default hidden behavior on the sphinx rendered scikit-learn.org.\n",
       "     See: https://github.com/scikit-learn/scikit-learn/issues/21755 */\n",
       "  display: inline-block !important;\n",
       "  position: relative;\n",
       "}\n",
       "\n",
       "#sk-container-id-8 div.sk-text-repr-fallback {\n",
       "  display: none;\n",
       "}\n",
       "\n",
       "div.sk-parallel-item,\n",
       "div.sk-serial,\n",
       "div.sk-item {\n",
       "  /* draw centered vertical line to link estimators */\n",
       "  background-image: linear-gradient(var(--sklearn-color-text-on-default-background), var(--sklearn-color-text-on-default-background));\n",
       "  background-size: 2px 100%;\n",
       "  background-repeat: no-repeat;\n",
       "  background-position: center center;\n",
       "}\n",
       "\n",
       "/* Parallel-specific style estimator block */\n",
       "\n",
       "#sk-container-id-8 div.sk-parallel-item::after {\n",
       "  content: \"\";\n",
       "  width: 100%;\n",
       "  border-bottom: 2px solid var(--sklearn-color-text-on-default-background);\n",
       "  flex-grow: 1;\n",
       "}\n",
       "\n",
       "#sk-container-id-8 div.sk-parallel {\n",
       "  display: flex;\n",
       "  align-items: stretch;\n",
       "  justify-content: center;\n",
       "  background-color: var(--sklearn-color-background);\n",
       "  position: relative;\n",
       "}\n",
       "\n",
       "#sk-container-id-8 div.sk-parallel-item {\n",
       "  display: flex;\n",
       "  flex-direction: column;\n",
       "}\n",
       "\n",
       "#sk-container-id-8 div.sk-parallel-item:first-child::after {\n",
       "  align-self: flex-end;\n",
       "  width: 50%;\n",
       "}\n",
       "\n",
       "#sk-container-id-8 div.sk-parallel-item:last-child::after {\n",
       "  align-self: flex-start;\n",
       "  width: 50%;\n",
       "}\n",
       "\n",
       "#sk-container-id-8 div.sk-parallel-item:only-child::after {\n",
       "  width: 0;\n",
       "}\n",
       "\n",
       "/* Serial-specific style estimator block */\n",
       "\n",
       "#sk-container-id-8 div.sk-serial {\n",
       "  display: flex;\n",
       "  flex-direction: column;\n",
       "  align-items: center;\n",
       "  background-color: var(--sklearn-color-background);\n",
       "  padding-right: 1em;\n",
       "  padding-left: 1em;\n",
       "}\n",
       "\n",
       "\n",
       "/* Toggleable style: style used for estimator/Pipeline/ColumnTransformer box that is\n",
       "clickable and can be expanded/collapsed.\n",
       "- Pipeline and ColumnTransformer use this feature and define the default style\n",
       "- Estimators will overwrite some part of the style using the `sk-estimator` class\n",
       "*/\n",
       "\n",
       "/* Pipeline and ColumnTransformer style (default) */\n",
       "\n",
       "#sk-container-id-8 div.sk-toggleable {\n",
       "  /* Default theme specific background. It is overwritten whether we have a\n",
       "  specific estimator or a Pipeline/ColumnTransformer */\n",
       "  background-color: var(--sklearn-color-background);\n",
       "}\n",
       "\n",
       "/* Toggleable label */\n",
       "#sk-container-id-8 label.sk-toggleable__label {\n",
       "  cursor: pointer;\n",
       "  display: flex;\n",
       "  width: 100%;\n",
       "  margin-bottom: 0;\n",
       "  padding: 0.5em;\n",
       "  box-sizing: border-box;\n",
       "  text-align: center;\n",
       "  align-items: start;\n",
       "  justify-content: space-between;\n",
       "  gap: 0.5em;\n",
       "}\n",
       "\n",
       "#sk-container-id-8 label.sk-toggleable__label .caption {\n",
       "  font-size: 0.6rem;\n",
       "  font-weight: lighter;\n",
       "  color: var(--sklearn-color-text-muted);\n",
       "}\n",
       "\n",
       "#sk-container-id-8 label.sk-toggleable__label-arrow:before {\n",
       "  /* Arrow on the left of the label */\n",
       "  content: \"▸\";\n",
       "  float: left;\n",
       "  margin-right: 0.25em;\n",
       "  color: var(--sklearn-color-icon);\n",
       "}\n",
       "\n",
       "#sk-container-id-8 label.sk-toggleable__label-arrow:hover:before {\n",
       "  color: var(--sklearn-color-text);\n",
       "}\n",
       "\n",
       "/* Toggleable content - dropdown */\n",
       "\n",
       "#sk-container-id-8 div.sk-toggleable__content {\n",
       "  max-height: 0;\n",
       "  max-width: 0;\n",
       "  overflow: hidden;\n",
       "  text-align: left;\n",
       "  /* unfitted */\n",
       "  background-color: var(--sklearn-color-unfitted-level-0);\n",
       "}\n",
       "\n",
       "#sk-container-id-8 div.sk-toggleable__content.fitted {\n",
       "  /* fitted */\n",
       "  background-color: var(--sklearn-color-fitted-level-0);\n",
       "}\n",
       "\n",
       "#sk-container-id-8 div.sk-toggleable__content pre {\n",
       "  margin: 0.2em;\n",
       "  border-radius: 0.25em;\n",
       "  color: var(--sklearn-color-text);\n",
       "  /* unfitted */\n",
       "  background-color: var(--sklearn-color-unfitted-level-0);\n",
       "}\n",
       "\n",
       "#sk-container-id-8 div.sk-toggleable__content.fitted pre {\n",
       "  /* unfitted */\n",
       "  background-color: var(--sklearn-color-fitted-level-0);\n",
       "}\n",
       "\n",
       "#sk-container-id-8 input.sk-toggleable__control:checked~div.sk-toggleable__content {\n",
       "  /* Expand drop-down */\n",
       "  max-height: 200px;\n",
       "  max-width: 100%;\n",
       "  overflow: auto;\n",
       "}\n",
       "\n",
       "#sk-container-id-8 input.sk-toggleable__control:checked~label.sk-toggleable__label-arrow:before {\n",
       "  content: \"▾\";\n",
       "}\n",
       "\n",
       "/* Pipeline/ColumnTransformer-specific style */\n",
       "\n",
       "#sk-container-id-8 div.sk-label input.sk-toggleable__control:checked~label.sk-toggleable__label {\n",
       "  color: var(--sklearn-color-text);\n",
       "  background-color: var(--sklearn-color-unfitted-level-2);\n",
       "}\n",
       "\n",
       "#sk-container-id-8 div.sk-label.fitted input.sk-toggleable__control:checked~label.sk-toggleable__label {\n",
       "  background-color: var(--sklearn-color-fitted-level-2);\n",
       "}\n",
       "\n",
       "/* Estimator-specific style */\n",
       "\n",
       "/* Colorize estimator box */\n",
       "#sk-container-id-8 div.sk-estimator input.sk-toggleable__control:checked~label.sk-toggleable__label {\n",
       "  /* unfitted */\n",
       "  background-color: var(--sklearn-color-unfitted-level-2);\n",
       "}\n",
       "\n",
       "#sk-container-id-8 div.sk-estimator.fitted input.sk-toggleable__control:checked~label.sk-toggleable__label {\n",
       "  /* fitted */\n",
       "  background-color: var(--sklearn-color-fitted-level-2);\n",
       "}\n",
       "\n",
       "#sk-container-id-8 div.sk-label label.sk-toggleable__label,\n",
       "#sk-container-id-8 div.sk-label label {\n",
       "  /* The background is the default theme color */\n",
       "  color: var(--sklearn-color-text-on-default-background);\n",
       "}\n",
       "\n",
       "/* On hover, darken the color of the background */\n",
       "#sk-container-id-8 div.sk-label:hover label.sk-toggleable__label {\n",
       "  color: var(--sklearn-color-text);\n",
       "  background-color: var(--sklearn-color-unfitted-level-2);\n",
       "}\n",
       "\n",
       "/* Label box, darken color on hover, fitted */\n",
       "#sk-container-id-8 div.sk-label.fitted:hover label.sk-toggleable__label.fitted {\n",
       "  color: var(--sklearn-color-text);\n",
       "  background-color: var(--sklearn-color-fitted-level-2);\n",
       "}\n",
       "\n",
       "/* Estimator label */\n",
       "\n",
       "#sk-container-id-8 div.sk-label label {\n",
       "  font-family: monospace;\n",
       "  font-weight: bold;\n",
       "  display: inline-block;\n",
       "  line-height: 1.2em;\n",
       "}\n",
       "\n",
       "#sk-container-id-8 div.sk-label-container {\n",
       "  text-align: center;\n",
       "}\n",
       "\n",
       "/* Estimator-specific */\n",
       "#sk-container-id-8 div.sk-estimator {\n",
       "  font-family: monospace;\n",
       "  border: 1px dotted var(--sklearn-color-border-box);\n",
       "  border-radius: 0.25em;\n",
       "  box-sizing: border-box;\n",
       "  margin-bottom: 0.5em;\n",
       "  /* unfitted */\n",
       "  background-color: var(--sklearn-color-unfitted-level-0);\n",
       "}\n",
       "\n",
       "#sk-container-id-8 div.sk-estimator.fitted {\n",
       "  /* fitted */\n",
       "  background-color: var(--sklearn-color-fitted-level-0);\n",
       "}\n",
       "\n",
       "/* on hover */\n",
       "#sk-container-id-8 div.sk-estimator:hover {\n",
       "  /* unfitted */\n",
       "  background-color: var(--sklearn-color-unfitted-level-2);\n",
       "}\n",
       "\n",
       "#sk-container-id-8 div.sk-estimator.fitted:hover {\n",
       "  /* fitted */\n",
       "  background-color: var(--sklearn-color-fitted-level-2);\n",
       "}\n",
       "\n",
       "/* Specification for estimator info (e.g. \"i\" and \"?\") */\n",
       "\n",
       "/* Common style for \"i\" and \"?\" */\n",
       "\n",
       ".sk-estimator-doc-link,\n",
       "a:link.sk-estimator-doc-link,\n",
       "a:visited.sk-estimator-doc-link {\n",
       "  float: right;\n",
       "  font-size: smaller;\n",
       "  line-height: 1em;\n",
       "  font-family: monospace;\n",
       "  background-color: var(--sklearn-color-background);\n",
       "  border-radius: 1em;\n",
       "  height: 1em;\n",
       "  width: 1em;\n",
       "  text-decoration: none !important;\n",
       "  margin-left: 0.5em;\n",
       "  text-align: center;\n",
       "  /* unfitted */\n",
       "  border: var(--sklearn-color-unfitted-level-1) 1pt solid;\n",
       "  color: var(--sklearn-color-unfitted-level-1);\n",
       "}\n",
       "\n",
       ".sk-estimator-doc-link.fitted,\n",
       "a:link.sk-estimator-doc-link.fitted,\n",
       "a:visited.sk-estimator-doc-link.fitted {\n",
       "  /* fitted */\n",
       "  border: var(--sklearn-color-fitted-level-1) 1pt solid;\n",
       "  color: var(--sklearn-color-fitted-level-1);\n",
       "}\n",
       "\n",
       "/* On hover */\n",
       "div.sk-estimator:hover .sk-estimator-doc-link:hover,\n",
       ".sk-estimator-doc-link:hover,\n",
       "div.sk-label-container:hover .sk-estimator-doc-link:hover,\n",
       ".sk-estimator-doc-link:hover {\n",
       "  /* unfitted */\n",
       "  background-color: var(--sklearn-color-unfitted-level-3);\n",
       "  color: var(--sklearn-color-background);\n",
       "  text-decoration: none;\n",
       "}\n",
       "\n",
       "div.sk-estimator.fitted:hover .sk-estimator-doc-link.fitted:hover,\n",
       ".sk-estimator-doc-link.fitted:hover,\n",
       "div.sk-label-container:hover .sk-estimator-doc-link.fitted:hover,\n",
       ".sk-estimator-doc-link.fitted:hover {\n",
       "  /* fitted */\n",
       "  background-color: var(--sklearn-color-fitted-level-3);\n",
       "  color: var(--sklearn-color-background);\n",
       "  text-decoration: none;\n",
       "}\n",
       "\n",
       "/* Span, style for the box shown on hovering the info icon */\n",
       ".sk-estimator-doc-link span {\n",
       "  display: none;\n",
       "  z-index: 9999;\n",
       "  position: relative;\n",
       "  font-weight: normal;\n",
       "  right: .2ex;\n",
       "  padding: .5ex;\n",
       "  margin: .5ex;\n",
       "  width: min-content;\n",
       "  min-width: 20ex;\n",
       "  max-width: 50ex;\n",
       "  color: var(--sklearn-color-text);\n",
       "  box-shadow: 2pt 2pt 4pt #999;\n",
       "  /* unfitted */\n",
       "  background: var(--sklearn-color-unfitted-level-0);\n",
       "  border: .5pt solid var(--sklearn-color-unfitted-level-3);\n",
       "}\n",
       "\n",
       ".sk-estimator-doc-link.fitted span {\n",
       "  /* fitted */\n",
       "  background: var(--sklearn-color-fitted-level-0);\n",
       "  border: var(--sklearn-color-fitted-level-3);\n",
       "}\n",
       "\n",
       ".sk-estimator-doc-link:hover span {\n",
       "  display: block;\n",
       "}\n",
       "\n",
       "/* \"?\"-specific style due to the `<a>` HTML tag */\n",
       "\n",
       "#sk-container-id-8 a.estimator_doc_link {\n",
       "  float: right;\n",
       "  font-size: 1rem;\n",
       "  line-height: 1em;\n",
       "  font-family: monospace;\n",
       "  background-color: var(--sklearn-color-background);\n",
       "  border-radius: 1rem;\n",
       "  height: 1rem;\n",
       "  width: 1rem;\n",
       "  text-decoration: none;\n",
       "  /* unfitted */\n",
       "  color: var(--sklearn-color-unfitted-level-1);\n",
       "  border: var(--sklearn-color-unfitted-level-1) 1pt solid;\n",
       "}\n",
       "\n",
       "#sk-container-id-8 a.estimator_doc_link.fitted {\n",
       "  /* fitted */\n",
       "  border: var(--sklearn-color-fitted-level-1) 1pt solid;\n",
       "  color: var(--sklearn-color-fitted-level-1);\n",
       "}\n",
       "\n",
       "/* On hover */\n",
       "#sk-container-id-8 a.estimator_doc_link:hover {\n",
       "  /* unfitted */\n",
       "  background-color: var(--sklearn-color-unfitted-level-3);\n",
       "  color: var(--sklearn-color-background);\n",
       "  text-decoration: none;\n",
       "}\n",
       "\n",
       "#sk-container-id-8 a.estimator_doc_link.fitted:hover {\n",
       "  /* fitted */\n",
       "  background-color: var(--sklearn-color-fitted-level-3);\n",
       "}\n",
       "</style><div id=\"sk-container-id-8\" class=\"sk-top-container\"><div class=\"sk-text-repr-fallback\"><pre>CalibratedClassifierCV(cv=3,\n",
       "                       estimator=Pipeline(steps=[(&#x27;prep&#x27;,\n",
       "                                                  ColumnTransformer(transformers=[(&#x27;svc&#x27;,\n",
       "                                                                                   TargetEncoder(cols=[&#x27;service&#x27;],\n",
       "                                                                                                 handle_unknown=&#x27;ignore&#x27;,\n",
       "                                                                                                 smoothing=0.3),\n",
       "                                                                                   [&#x27;service&#x27;]),\n",
       "                                                                                  (&#x27;cat&#x27;,\n",
       "                                                                                   OneHotEncoder(handle_unknown=&#x27;ignore&#x27;),\n",
       "                                                                                   [&#x27;protocol_type&#x27;,\n",
       "                                                                                    &#x27;flag&#x27;]),\n",
       "                                                                                  (&#x27;num&#x27;,\n",
       "                                                                                   StandardScaler(),\n",
       "                                                                                   [&#x27;duration&#x27;,\n",
       "                                                                                    &#x27;src_bytes&#x27;,\n",
       "                                                                                    &#x27;dst_bytes&#x27;,\n",
       "                                                                                    &#x27;land&#x27;,\n",
       "                                                                                    &#x27;wrong_fragment&#x27;,\n",
       "                                                                                    &#x27;urgent&#x27;,\n",
       "                                                                                    &#x27;...\n",
       "                                                                gamma=0.6717935104281271,\n",
       "                                                                grow_policy=None,\n",
       "                                                                importance_type=None,\n",
       "                                                                interaction_constraints=None,\n",
       "                                                                learning_rate=None,\n",
       "                                                                lr=0.07285696546289368,\n",
       "                                                                max_bin=None,\n",
       "                                                                max_cat_threshold=None,\n",
       "                                                                max_cat_to_onehot=None,\n",
       "                                                                max_delta_step=None,\n",
       "                                                                max_depth=9,\n",
       "                                                                max_leaves=None,\n",
       "                                                                min_child_weight=5,\n",
       "                                                                missing=nan,\n",
       "                                                                monotone_constraints=None,\n",
       "                                                                multi_strategy=None,\n",
       "                                                                n_estimators=601, ...))]),\n",
       "                       method=&#x27;isotonic&#x27;, n_jobs=-1)</pre><b>In a Jupyter environment, please rerun this cell to show the HTML representation or trust the notebook. <br />On GitHub, the HTML representation is unable to render, please try loading this page with nbviewer.org.</b></div><div class=\"sk-container\" hidden><div class=\"sk-item sk-dashed-wrapped\"><div class=\"sk-label-container\"><div class=\"sk-label fitted sk-toggleable\"><input class=\"sk-toggleable__control sk-hidden--visually\" id=\"sk-estimator-id-72\" type=\"checkbox\" ><label for=\"sk-estimator-id-72\" class=\"sk-toggleable__label fitted sk-toggleable__label-arrow\"><div><div>CalibratedClassifierCV</div></div><div><a class=\"sk-estimator-doc-link fitted\" rel=\"noreferrer\" target=\"_blank\" href=\"https://scikit-learn.org/1.6/modules/generated/sklearn.calibration.CalibratedClassifierCV.html\">?<span>Documentation for CalibratedClassifierCV</span></a><span class=\"sk-estimator-doc-link fitted\">i<span>Fitted</span></span></div></label><div class=\"sk-toggleable__content fitted\"><pre>CalibratedClassifierCV(cv=3,\n",
       "                       estimator=Pipeline(steps=[(&#x27;prep&#x27;,\n",
       "                                                  ColumnTransformer(transformers=[(&#x27;svc&#x27;,\n",
       "                                                                                   TargetEncoder(cols=[&#x27;service&#x27;],\n",
       "                                                                                                 handle_unknown=&#x27;ignore&#x27;,\n",
       "                                                                                                 smoothing=0.3),\n",
       "                                                                                   [&#x27;service&#x27;]),\n",
       "                                                                                  (&#x27;cat&#x27;,\n",
       "                                                                                   OneHotEncoder(handle_unknown=&#x27;ignore&#x27;),\n",
       "                                                                                   [&#x27;protocol_type&#x27;,\n",
       "                                                                                    &#x27;flag&#x27;]),\n",
       "                                                                                  (&#x27;num&#x27;,\n",
       "                                                                                   StandardScaler(),\n",
       "                                                                                   [&#x27;duration&#x27;,\n",
       "                                                                                    &#x27;src_bytes&#x27;,\n",
       "                                                                                    &#x27;dst_bytes&#x27;,\n",
       "                                                                                    &#x27;land&#x27;,\n",
       "                                                                                    &#x27;wrong_fragment&#x27;,\n",
       "                                                                                    &#x27;urgent&#x27;,\n",
       "                                                                                    &#x27;...\n",
       "                                                                gamma=0.6717935104281271,\n",
       "                                                                grow_policy=None,\n",
       "                                                                importance_type=None,\n",
       "                                                                interaction_constraints=None,\n",
       "                                                                learning_rate=None,\n",
       "                                                                lr=0.07285696546289368,\n",
       "                                                                max_bin=None,\n",
       "                                                                max_cat_threshold=None,\n",
       "                                                                max_cat_to_onehot=None,\n",
       "                                                                max_delta_step=None,\n",
       "                                                                max_depth=9,\n",
       "                                                                max_leaves=None,\n",
       "                                                                min_child_weight=5,\n",
       "                                                                missing=nan,\n",
       "                                                                monotone_constraints=None,\n",
       "                                                                multi_strategy=None,\n",
       "                                                                n_estimators=601, ...))]),\n",
       "                       method=&#x27;isotonic&#x27;, n_jobs=-1)</pre></div> </div></div><div class=\"sk-parallel\"><div class=\"sk-parallel-item\"><div class=\"sk-item\"><div class=\"sk-label-container\"><div class=\"sk-label fitted sk-toggleable\"><input class=\"sk-toggleable__control sk-hidden--visually\" id=\"sk-estimator-id-73\" type=\"checkbox\" ><label for=\"sk-estimator-id-73\" class=\"sk-toggleable__label fitted sk-toggleable__label-arrow\"><div><div>estimator: Pipeline</div></div></label><div class=\"sk-toggleable__content fitted\"><pre>Pipeline(steps=[(&#x27;prep&#x27;,\n",
       "                 ColumnTransformer(transformers=[(&#x27;svc&#x27;,\n",
       "                                                  TargetEncoder(cols=[&#x27;service&#x27;],\n",
       "                                                                handle_unknown=&#x27;ignore&#x27;,\n",
       "                                                                smoothing=0.3),\n",
       "                                                  [&#x27;service&#x27;]),\n",
       "                                                 (&#x27;cat&#x27;,\n",
       "                                                  OneHotEncoder(handle_unknown=&#x27;ignore&#x27;),\n",
       "                                                  [&#x27;protocol_type&#x27;, &#x27;flag&#x27;]),\n",
       "                                                 (&#x27;num&#x27;, StandardScaler(),\n",
       "                                                  [&#x27;duration&#x27;, &#x27;src_bytes&#x27;,\n",
       "                                                   &#x27;dst_bytes&#x27;, &#x27;land&#x27;,\n",
       "                                                   &#x27;wrong_fragment&#x27;, &#x27;urgent&#x27;,\n",
       "                                                   &#x27;hot&#x27;, &#x27;num_failed_logins&#x27;,\n",
       "                                                   &#x27;logged_in&#x27;,\n",
       "                                                   &#x27;...\n",
       "                               feature_types=None, feature_weights=None,\n",
       "                               gamma=0.6717935104281271, grow_policy=None,\n",
       "                               importance_type=None,\n",
       "                               interaction_constraints=None, learning_rate=None,\n",
       "                               lr=0.07285696546289368, max_bin=None,\n",
       "                               max_cat_threshold=None, max_cat_to_onehot=None,\n",
       "                               max_delta_step=None, max_depth=9,\n",
       "                               max_leaves=None, min_child_weight=5, missing=nan,\n",
       "                               monotone_constraints=None, multi_strategy=None,\n",
       "                               n_estimators=601, ...))])</pre></div> </div></div><div class=\"sk-serial\"><div class=\"sk-item\"><div class=\"sk-serial\"><div class=\"sk-item sk-dashed-wrapped\"><div class=\"sk-label-container\"><div class=\"sk-label fitted sk-toggleable\"><input class=\"sk-toggleable__control sk-hidden--visually\" id=\"sk-estimator-id-74\" type=\"checkbox\" ><label for=\"sk-estimator-id-74\" class=\"sk-toggleable__label fitted sk-toggleable__label-arrow\"><div><div>prep: ColumnTransformer</div></div><div><a class=\"sk-estimator-doc-link fitted\" rel=\"noreferrer\" target=\"_blank\" href=\"https://scikit-learn.org/1.6/modules/generated/sklearn.compose.ColumnTransformer.html\">?<span>Documentation for prep: ColumnTransformer</span></a></div></label><div class=\"sk-toggleable__content fitted\"><pre>ColumnTransformer(transformers=[(&#x27;svc&#x27;,\n",
       "                                 TargetEncoder(cols=[&#x27;service&#x27;],\n",
       "                                               handle_unknown=&#x27;ignore&#x27;,\n",
       "                                               smoothing=0.3),\n",
       "                                 [&#x27;service&#x27;]),\n",
       "                                (&#x27;cat&#x27;, OneHotEncoder(handle_unknown=&#x27;ignore&#x27;),\n",
       "                                 [&#x27;protocol_type&#x27;, &#x27;flag&#x27;]),\n",
       "                                (&#x27;num&#x27;, StandardScaler(),\n",
       "                                 [&#x27;duration&#x27;, &#x27;src_bytes&#x27;, &#x27;dst_bytes&#x27;, &#x27;land&#x27;,\n",
       "                                  &#x27;wrong_fragment&#x27;, &#x27;urgent&#x27;, &#x27;hot&#x27;,\n",
       "                                  &#x27;num_failed_logins&#x27;, &#x27;logged_in&#x27;,\n",
       "                                  &#x27;num_compromised&#x27;, &#x27;root_shell&#x27;,\n",
       "                                  &#x27;su_attempted&#x27;, &#x27;num_file_creations&#x27;,\n",
       "                                  &#x27;num_shells&#x27;, &#x27;num_access_files&#x27;,\n",
       "                                  &#x27;is_guest_login&#x27;, &#x27;count&#x27;, &#x27;srv_count&#x27;,\n",
       "                                  &#x27;serror_rate&#x27;, &#x27;rerror_rate&#x27;, &#x27;same_srv_rate&#x27;,\n",
       "                                  &#x27;diff_srv_rate&#x27;, &#x27;srv_diff_host_rate&#x27;,\n",
       "                                  &#x27;dst_host_count&#x27;, &#x27;dst_host_srv_count&#x27;,\n",
       "                                  &#x27;dst_host_same_srv_rate&#x27;,\n",
       "                                  &#x27;dst_host_diff_srv_rate&#x27;,\n",
       "                                  &#x27;dst_host_same_src_port_rate&#x27;,\n",
       "                                  &#x27;dst_host_srv_diff_host_rate&#x27;])])</pre></div> </div></div><div class=\"sk-parallel\"><div class=\"sk-parallel-item\"><div class=\"sk-item\"><div class=\"sk-label-container\"><div class=\"sk-label fitted sk-toggleable\"><input class=\"sk-toggleable__control sk-hidden--visually\" id=\"sk-estimator-id-75\" type=\"checkbox\" ><label for=\"sk-estimator-id-75\" class=\"sk-toggleable__label fitted sk-toggleable__label-arrow\"><div><div>svc</div></div></label><div class=\"sk-toggleable__content fitted\"><pre>[&#x27;service&#x27;]</pre></div> </div></div><div class=\"sk-serial\"><div class=\"sk-item\"><div class=\"sk-estimator fitted sk-toggleable\"><input class=\"sk-toggleable__control sk-hidden--visually\" id=\"sk-estimator-id-76\" type=\"checkbox\" ><label for=\"sk-estimator-id-76\" class=\"sk-toggleable__label fitted sk-toggleable__label-arrow\"><div><div>TargetEncoder</div></div></label><div class=\"sk-toggleable__content fitted\"><pre>TargetEncoder(cols=[&#x27;service&#x27;], handle_unknown=&#x27;ignore&#x27;, smoothing=0.3)</pre></div> </div></div></div></div></div><div class=\"sk-parallel-item\"><div class=\"sk-item\"><div class=\"sk-label-container\"><div class=\"sk-label fitted sk-toggleable\"><input class=\"sk-toggleable__control sk-hidden--visually\" id=\"sk-estimator-id-77\" type=\"checkbox\" ><label for=\"sk-estimator-id-77\" class=\"sk-toggleable__label fitted sk-toggleable__label-arrow\"><div><div>cat</div></div></label><div class=\"sk-toggleable__content fitted\"><pre>[&#x27;protocol_type&#x27;, &#x27;flag&#x27;]</pre></div> </div></div><div class=\"sk-serial\"><div class=\"sk-item\"><div class=\"sk-estimator fitted sk-toggleable\"><input class=\"sk-toggleable__control sk-hidden--visually\" id=\"sk-estimator-id-78\" type=\"checkbox\" ><label for=\"sk-estimator-id-78\" class=\"sk-toggleable__label fitted sk-toggleable__label-arrow\"><div><div>OneHotEncoder</div></div><div><a class=\"sk-estimator-doc-link fitted\" rel=\"noreferrer\" target=\"_blank\" href=\"https://scikit-learn.org/1.6/modules/generated/sklearn.preprocessing.OneHotEncoder.html\">?<span>Documentation for OneHotEncoder</span></a></div></label><div class=\"sk-toggleable__content fitted\"><pre>OneHotEncoder(handle_unknown=&#x27;ignore&#x27;)</pre></div> </div></div></div></div></div><div class=\"sk-parallel-item\"><div class=\"sk-item\"><div class=\"sk-label-container\"><div class=\"sk-label fitted sk-toggleable\"><input class=\"sk-toggleable__control sk-hidden--visually\" id=\"sk-estimator-id-79\" type=\"checkbox\" ><label for=\"sk-estimator-id-79\" class=\"sk-toggleable__label fitted sk-toggleable__label-arrow\"><div><div>num</div></div></label><div class=\"sk-toggleable__content fitted\"><pre>[&#x27;duration&#x27;, &#x27;src_bytes&#x27;, &#x27;dst_bytes&#x27;, &#x27;land&#x27;, &#x27;wrong_fragment&#x27;, &#x27;urgent&#x27;, &#x27;hot&#x27;, &#x27;num_failed_logins&#x27;, &#x27;logged_in&#x27;, &#x27;num_compromised&#x27;, &#x27;root_shell&#x27;, &#x27;su_attempted&#x27;, &#x27;num_file_creations&#x27;, &#x27;num_shells&#x27;, &#x27;num_access_files&#x27;, &#x27;is_guest_login&#x27;, &#x27;count&#x27;, &#x27;srv_count&#x27;, &#x27;serror_rate&#x27;, &#x27;rerror_rate&#x27;, &#x27;same_srv_rate&#x27;, &#x27;diff_srv_rate&#x27;, &#x27;srv_diff_host_rate&#x27;, &#x27;dst_host_count&#x27;, &#x27;dst_host_srv_count&#x27;, &#x27;dst_host_same_srv_rate&#x27;, &#x27;dst_host_diff_srv_rate&#x27;, &#x27;dst_host_same_src_port_rate&#x27;, &#x27;dst_host_srv_diff_host_rate&#x27;]</pre></div> </div></div><div class=\"sk-serial\"><div class=\"sk-item\"><div class=\"sk-estimator fitted sk-toggleable\"><input class=\"sk-toggleable__control sk-hidden--visually\" id=\"sk-estimator-id-80\" type=\"checkbox\" ><label for=\"sk-estimator-id-80\" class=\"sk-toggleable__label fitted sk-toggleable__label-arrow\"><div><div>StandardScaler</div></div><div><a class=\"sk-estimator-doc-link fitted\" rel=\"noreferrer\" target=\"_blank\" href=\"https://scikit-learn.org/1.6/modules/generated/sklearn.preprocessing.StandardScaler.html\">?<span>Documentation for StandardScaler</span></a></div></label><div class=\"sk-toggleable__content fitted\"><pre>StandardScaler()</pre></div> </div></div></div></div></div></div></div><div class=\"sk-item\"><div class=\"sk-estimator fitted sk-toggleable\"><input class=\"sk-toggleable__control sk-hidden--visually\" id=\"sk-estimator-id-81\" type=\"checkbox\" ><label for=\"sk-estimator-id-81\" class=\"sk-toggleable__label fitted sk-toggleable__label-arrow\"><div><div>XGBClassifier</div></div><div><a class=\"sk-estimator-doc-link fitted\" rel=\"noreferrer\" target=\"_blank\" href=\"https://xgboost.readthedocs.io/en/release_3.0.0/python/python_api.html#xgboost.XGBClassifier\">?<span>Documentation for XGBClassifier</span></a></div></label><div class=\"sk-toggleable__content fitted\"><pre>XGBClassifier(base_score=None, booster=None, callbacks=None,\n",
       "              colsample=0.6323249419729942, colsample_bylevel=None,\n",
       "              colsample_bynode=None, colsample_bytree=None, device=None,\n",
       "              early_stopping_rounds=None, enable_categorical=False,\n",
       "              eval_metric=&#x27;auc&#x27;, feature_types=None, feature_weights=None,\n",
       "              gamma=0.6717935104281271, grow_policy=None, importance_type=None,\n",
       "              interaction_constraints=None, learning_rate=None,\n",
       "              lr=0.07285696546289368, max_bin=None, max_cat_threshold=None,\n",
       "              max_cat_to_onehot=None, max_delta_step=None, max_depth=9,\n",
       "              max_leaves=None, min_child_weight=5, missing=nan,\n",
       "              monotone_constraints=None, multi_strategy=None, n_estimators=601, ...)</pre></div> </div></div></div></div></div></div></div></div></div></div></div>"
      ],
      "text/plain": [
       "CalibratedClassifierCV(cv=3,\n",
       "                       estimator=Pipeline(steps=[('prep',\n",
       "                                                  ColumnTransformer(transformers=[('svc',\n",
       "                                                                                   TargetEncoder(cols=['service'],\n",
       "                                                                                                 handle_unknown='ignore',\n",
       "                                                                                                 smoothing=0.3),\n",
       "                                                                                   ['service']),\n",
       "                                                                                  ('cat',\n",
       "                                                                                   OneHotEncoder(handle_unknown='ignore'),\n",
       "                                                                                   ['protocol_type',\n",
       "                                                                                    'flag']),\n",
       "                                                                                  ('num',\n",
       "                                                                                   StandardScaler(),\n",
       "                                                                                   ['duration',\n",
       "                                                                                    'src_bytes',\n",
       "                                                                                    'dst_bytes',\n",
       "                                                                                    'land',\n",
       "                                                                                    'wrong_fragment',\n",
       "                                                                                    'urgent',\n",
       "                                                                                    '...\n",
       "                                                                gamma=0.6717935104281271,\n",
       "                                                                grow_policy=None,\n",
       "                                                                importance_type=None,\n",
       "                                                                interaction_constraints=None,\n",
       "                                                                learning_rate=None,\n",
       "                                                                lr=0.07285696546289368,\n",
       "                                                                max_bin=None,\n",
       "                                                                max_cat_threshold=None,\n",
       "                                                                max_cat_to_onehot=None,\n",
       "                                                                max_delta_step=None,\n",
       "                                                                max_depth=9,\n",
       "                                                                max_leaves=None,\n",
       "                                                                min_child_weight=5,\n",
       "                                                                missing=nan,\n",
       "                                                                monotone_constraints=None,\n",
       "                                                                multi_strategy=None,\n",
       "                                                                n_estimators=601, ...))]),\n",
       "                       method='isotonic', n_jobs=-1)"
      ]
     },
     "execution_count": 135,
     "metadata": {},
     "output_type": "execute_result"
    }
   ],
   "source": [
    "calibrated_pipe = CalibratedClassifierCV(\n",
    "        best_pipe,      \n",
    "        method='isotonic',\n",
    "        cv=3,           \n",
    "        n_jobs=-1\n",
    ")\n",
    "calibrated_pipe.fit(X_tr, y_tr)"
   ]
  },
  {
   "cell_type": "markdown",
   "metadata": {},
   "source": [
    "calibração"
   ]
  },
  {
   "cell_type": "code",
   "execution_count": 136,
   "metadata": {
    "execution": {
     "iopub.execute_input": "2025-05-02T12:50:54.549935Z",
     "iopub.status.busy": "2025-05-02T12:50:54.549709Z",
     "iopub.status.idle": "2025-05-02T12:50:57.990156Z",
     "shell.execute_reply": "2025-05-02T12:50:57.989290Z",
     "shell.execute_reply.started": "2025-05-02T12:50:54.549917Z"
    },
    "trusted": true
   },
   "outputs": [
    {
     "name": "stdout",
     "output_type": "stream",
     "text": [
      "Calibrated threshold: 0.515\n"
     ]
    }
   ],
   "source": [
    "_, X_val, _, y_val = train_test_split(\n",
    "        X_tr, y_tr, test_size=0.15, stratify=y_tr, random_state=42)\n",
    "\n",
    "y_prob_val = calibrated_pipe.predict_proba(X_val)[:, 1]\n",
    "\n",
    "prec, rec, thr = precision_recall_curve(y_val, y_prob_val)\n",
    "idx      = np.where(rec >= 0.998)[0][-1]\n",
    "thr_opt  = thr[idx] if idx < len(thr) else 0.0\n",
    "print(f\"Calibrated threshold: {thr_opt:.3f}\")"
   ]
  },
  {
   "cell_type": "markdown",
   "metadata": {},
   "source": [
    "### 3.2.2 Resultados com o XGB Otimizado"
   ]
  },
  {
   "cell_type": "code",
   "execution_count": 137,
   "metadata": {},
   "outputs": [
    {
     "name": "stdout",
     "output_type": "stream",
     "text": [
      "              precision    recall  f1-score   support\n",
      "\n",
      "      normal       1.00      1.00      1.00      2690\n",
      "     anomaly       1.00      1.00      1.00      2349\n",
      "\n",
      "    accuracy                           1.00      5039\n",
      "   macro avg       1.00      1.00      1.00      5039\n",
      "weighted avg       1.00      1.00      1.00      5039\n",
      "\n",
      "ROC‑AUC : 0.999963917256572\n",
      "PR‑AUC  : 0.9999592002036012\n"
     ]
    }
   ],
   "source": [
    "y_prob_test = calibrated_pipe.predict_proba(X_te)[:, 1]\n",
    "y_pred_test = (y_prob_test >= thr_opt).astype(int)\n",
    "\n",
    "print(classification_report(y_te, y_pred_test,\n",
    "                            target_names=['normal','anomaly']))\n",
    "print(\"ROC‑AUC :\", metrics.roc_auc_score(y_te, y_prob))\n",
    "print(\"PR‑AUC  :\", metrics.average_precision_score(y_te, y_prob))"
   ]
  },
  {
   "cell_type": "markdown",
   "metadata": {},
   "source": [
    "Com as calibrações e a otimização de hiperparametros do optana conseguimos um recall quase de 100% sob um custo 163"
   ]
  },
  {
   "cell_type": "code",
   "execution_count": 138,
   "metadata": {
    "execution": {
     "iopub.execute_input": "2025-05-02T12:51:08.350000Z",
     "iopub.status.busy": "2025-05-02T12:51:08.349654Z",
     "iopub.status.idle": "2025-05-02T12:51:08.583165Z",
     "shell.execute_reply": "2025-05-02T12:51:08.582279Z",
     "shell.execute_reply.started": "2025-05-02T12:51:08.349967Z"
    },
    "trusted": true
   },
   "outputs": [
    {
     "data": {
      "image/png": "[encoded data removed]",
      "text/plain": [
       "<Figure size 640x480 with 2 Axes>"
      ]
     },
     "metadata": {},
     "output_type": "display_data"
    }
   ],
   "source": [
    "cm = metrics.confusion_matrix(y_te, y_pred_test, labels=[0,1])\n",
    "sns.heatmap(cm, annot=True, fmt='d', cmap='Blues',\n",
    "            xticklabels=['normal','anomaly'],\n",
    "            yticklabels=['normal','anomaly'])\n",
    "plt.title(f'Confusion Matrix – calibrated  (thr={thr_opt:.3f})')\n",
    "plt.tight_layout(); plt.show()"
   ]
  },
  {
   "cell_type": "markdown",
   "metadata": {},
   "source": [
    "## 3.3 Classificação com Regressão Logística e Grid Search"
   ]
  },
  {
   "cell_type": "markdown",
   "metadata": {},
   "source": [
    "Aqui vamos colocar uma regressão logística para agir em conjunto com o XGB, nesse caso é como se os dois rodassem e apontassem quando vissem uma anomalia, a partir disso podemos ter mais noção de pequenos fatores que possam estar afetando o outro modelo, principalmente features na qual uma pequena ordinalidade altere a inferência. Primeiro vamos rodar somente a regressão logística para conferir sua acurácia. No entanto, matematicamente, como o fator de peso pra anomalia é maior na regressão logística, é muito capaz que esse modelo nos aponte eventuais overfits por disparar indiscriminadamente."
   ]
  },
  {
   "cell_type": "code",
   "execution_count": 139,
   "metadata": {},
   "outputs": [
    {
     "data": {
      "text/html": [
       "<style>#sk-container-id-9 {\n",
       "  /* Definition of color scheme common for light and dark mode */\n",
       "  --sklearn-color-text: #000;\n",
       "  --sklearn-color-text-muted: #666;\n",
       "  --sklearn-color-line: gray;\n",
       "  /* Definition of color scheme for unfitted estimators */\n",
       "  --sklearn-color-unfitted-level-0: #fff5e6;\n",
       "  --sklearn-color-unfitted-level-1: #f6e4d2;\n",
       "  --sklearn-color-unfitted-level-2: #ffe0b3;\n",
       "  --sklearn-color-unfitted-level-3: chocolate;\n",
       "  /* Definition of color scheme for fitted estimators */\n",
       "  --sklearn-color-fitted-level-0: #f0f8ff;\n",
       "  --sklearn-color-fitted-level-1: #d4ebff;\n",
       "  --sklearn-color-fitted-level-2: #b3dbfd;\n",
       "  --sklearn-color-fitted-level-3: cornflowerblue;\n",
       "\n",
       "  /* Specific color for light theme */\n",
       "  --sklearn-color-text-on-default-background: var(--sg-text-color, var(--theme-code-foreground, var(--jp-content-font-color1, black)));\n",
       "  --sklearn-color-background: var(--sg-background-color, var(--theme-background, var(--jp-layout-color0, white)));\n",
       "  --sklearn-color-border-box: var(--sg-text-color, var(--theme-code-foreground, var(--jp-content-font-color1, black)));\n",
       "  --sklearn-color-icon: #696969;\n",
       "\n",
       "  @media (prefers-color-scheme: dark) {\n",
       "    /* Redefinition of color scheme for dark theme */\n",
       "    --sklearn-color-text-on-default-background: var(--sg-text-color, var(--theme-code-foreground, var(--jp-content-font-color1, white)));\n",
       "    --sklearn-color-background: var(--sg-background-color, var(--theme-background, var(--jp-layout-color0, #111)));\n",
       "    --sklearn-color-border-box: var(--sg-text-color, var(--theme-code-foreground, var(--jp-content-font-color1, white)));\n",
       "    --sklearn-color-icon: #878787;\n",
       "  }\n",
       "}\n",
       "\n",
       "#sk-container-id-9 {\n",
       "  color: var(--sklearn-color-text);\n",
       "}\n",
       "\n",
       "#sk-container-id-9 pre {\n",
       "  padding: 0;\n",
       "}\n",
       "\n",
       "#sk-container-id-9 input.sk-hidden--visually {\n",
       "  border: 0;\n",
       "  clip: rect(1px 1px 1px 1px);\n",
       "  clip: rect(1px, 1px, 1px, 1px);\n",
       "  height: 1px;\n",
       "  margin: -1px;\n",
       "  overflow: hidden;\n",
       "  padding: 0;\n",
       "  position: absolute;\n",
       "  width: 1px;\n",
       "}\n",
       "\n",
       "#sk-container-id-9 div.sk-dashed-wrapped {\n",
       "  border: 1px dashed var(--sklearn-color-line);\n",
       "  margin: 0 0.4em 0.5em 0.4em;\n",
       "  box-sizing: border-box;\n",
       "  padding-bottom: 0.4em;\n",
       "  background-color: var(--sklearn-color-background);\n",
       "}\n",
       "\n",
       "#sk-container-id-9 div.sk-container {\n",
       "  /* jupyter's `normalize.less` sets `[hidden] { display: none; }`\n",
       "     but bootstrap.min.css set `[hidden] { display: none !important; }`\n",
       "     so we also need the `!important` here to be able to override the\n",
       "     default hidden behavior on the sphinx rendered scikit-learn.org.\n",
       "     See: https://github.com/scikit-learn/scikit-learn/issues/21755 */\n",
       "  display: inline-block !important;\n",
       "  position: relative;\n",
       "}\n",
       "\n",
       "#sk-container-id-9 div.sk-text-repr-fallback {\n",
       "  display: none;\n",
       "}\n",
       "\n",
       "div.sk-parallel-item,\n",
       "div.sk-serial,\n",
       "div.sk-item {\n",
       "  /* draw centered vertical line to link estimators */\n",
       "  background-image: linear-gradient(var(--sklearn-color-text-on-default-background), var(--sklearn-color-text-on-default-background));\n",
       "  background-size: 2px 100%;\n",
       "  background-repeat: no-repeat;\n",
       "  background-position: center center;\n",
       "}\n",
       "\n",
       "/* Parallel-specific style estimator block */\n",
       "\n",
       "#sk-container-id-9 div.sk-parallel-item::after {\n",
       "  content: \"\";\n",
       "  width: 100%;\n",
       "  border-bottom: 2px solid var(--sklearn-color-text-on-default-background);\n",
       "  flex-grow: 1;\n",
       "}\n",
       "\n",
       "#sk-container-id-9 div.sk-parallel {\n",
       "  display: flex;\n",
       "  align-items: stretch;\n",
       "  justify-content: center;\n",
       "  background-color: var(--sklearn-color-background);\n",
       "  position: relative;\n",
       "}\n",
       "\n",
       "#sk-container-id-9 div.sk-parallel-item {\n",
       "  display: flex;\n",
       "  flex-direction: column;\n",
       "}\n",
       "\n",
       "#sk-container-id-9 div.sk-parallel-item:first-child::after {\n",
       "  align-self: flex-end;\n",
       "  width: 50%;\n",
       "}\n",
       "\n",
       "#sk-container-id-9 div.sk-parallel-item:last-child::after {\n",
       "  align-self: flex-start;\n",
       "  width: 50%;\n",
       "}\n",
       "\n",
       "#sk-container-id-9 div.sk-parallel-item:only-child::after {\n",
       "  width: 0;\n",
       "}\n",
       "\n",
       "/* Serial-specific style estimator block */\n",
       "\n",
       "#sk-container-id-9 div.sk-serial {\n",
       "  display: flex;\n",
       "  flex-direction: column;\n",
       "  align-items: center;\n",
       "  background-color: var(--sklearn-color-background);\n",
       "  padding-right: 1em;\n",
       "  padding-left: 1em;\n",
       "}\n",
       "\n",
       "\n",
       "/* Toggleable style: style used for estimator/Pipeline/ColumnTransformer box that is\n",
       "clickable and can be expanded/collapsed.\n",
       "- Pipeline and ColumnTransformer use this feature and define the default style\n",
       "- Estimators will overwrite some part of the style using the `sk-estimator` class\n",
       "*/\n",
       "\n",
       "/* Pipeline and ColumnTransformer style (default) */\n",
       "\n",
       "#sk-container-id-9 div.sk-toggleable {\n",
       "  /* Default theme specific background. It is overwritten whether we have a\n",
       "  specific estimator or a Pipeline/ColumnTransformer */\n",
       "  background-color: var(--sklearn-color-background);\n",
       "}\n",
       "\n",
       "/* Toggleable label */\n",
       "#sk-container-id-9 label.sk-toggleable__label {\n",
       "  cursor: pointer;\n",
       "  display: flex;\n",
       "  width: 100%;\n",
       "  margin-bottom: 0;\n",
       "  padding: 0.5em;\n",
       "  box-sizing: border-box;\n",
       "  text-align: center;\n",
       "  align-items: start;\n",
       "  justify-content: space-between;\n",
       "  gap: 0.5em;\n",
       "}\n",
       "\n",
       "#sk-container-id-9 label.sk-toggleable__label .caption {\n",
       "  font-size: 0.6rem;\n",
       "  font-weight: lighter;\n",
       "  color: var(--sklearn-color-text-muted);\n",
       "}\n",
       "\n",
       "#sk-container-id-9 label.sk-toggleable__label-arrow:before {\n",
       "  /* Arrow on the left of the label */\n",
       "  content: \"▸\";\n",
       "  float: left;\n",
       "  margin-right: 0.25em;\n",
       "  color: var(--sklearn-color-icon);\n",
       "}\n",
       "\n",
       "#sk-container-id-9 label.sk-toggleable__label-arrow:hover:before {\n",
       "  color: var(--sklearn-color-text);\n",
       "}\n",
       "\n",
       "/* Toggleable content - dropdown */\n",
       "\n",
       "#sk-container-id-9 div.sk-toggleable__content {\n",
       "  max-height: 0;\n",
       "  max-width: 0;\n",
       "  overflow: hidden;\n",
       "  text-align: left;\n",
       "  /* unfitted */\n",
       "  background-color: var(--sklearn-color-unfitted-level-0);\n",
       "}\n",
       "\n",
       "#sk-container-id-9 div.sk-toggleable__content.fitted {\n",
       "  /* fitted */\n",
       "  background-color: var(--sklearn-color-fitted-level-0);\n",
       "}\n",
       "\n",
       "#sk-container-id-9 div.sk-toggleable__content pre {\n",
       "  margin: 0.2em;\n",
       "  border-radius: 0.25em;\n",
       "  color: var(--sklearn-color-text);\n",
       "  /* unfitted */\n",
       "  background-color: var(--sklearn-color-unfitted-level-0);\n",
       "}\n",
       "\n",
       "#sk-container-id-9 div.sk-toggleable__content.fitted pre {\n",
       "  /* unfitted */\n",
       "  background-color: var(--sklearn-color-fitted-level-0);\n",
       "}\n",
       "\n",
       "#sk-container-id-9 input.sk-toggleable__control:checked~div.sk-toggleable__content {\n",
       "  /* Expand drop-down */\n",
       "  max-height: 200px;\n",
       "  max-width: 100%;\n",
       "  overflow: auto;\n",
       "}\n",
       "\n",
       "#sk-container-id-9 input.sk-toggleable__control:checked~label.sk-toggleable__label-arrow:before {\n",
       "  content: \"▾\";\n",
       "}\n",
       "\n",
       "/* Pipeline/ColumnTransformer-specific style */\n",
       "\n",
       "#sk-container-id-9 div.sk-label input.sk-toggleable__control:checked~label.sk-toggleable__label {\n",
       "  color: var(--sklearn-color-text);\n",
       "  background-color: var(--sklearn-color-unfitted-level-2);\n",
       "}\n",
       "\n",
       "#sk-container-id-9 div.sk-label.fitted input.sk-toggleable__control:checked~label.sk-toggleable__label {\n",
       "  background-color: var(--sklearn-color-fitted-level-2);\n",
       "}\n",
       "\n",
       "/* Estimator-specific style */\n",
       "\n",
       "/* Colorize estimator box */\n",
       "#sk-container-id-9 div.sk-estimator input.sk-toggleable__control:checked~label.sk-toggleable__label {\n",
       "  /* unfitted */\n",
       "  background-color: var(--sklearn-color-unfitted-level-2);\n",
       "}\n",
       "\n",
       "#sk-container-id-9 div.sk-estimator.fitted input.sk-toggleable__control:checked~label.sk-toggleable__label {\n",
       "  /* fitted */\n",
       "  background-color: var(--sklearn-color-fitted-level-2);\n",
       "}\n",
       "\n",
       "#sk-container-id-9 div.sk-label label.sk-toggleable__label,\n",
       "#sk-container-id-9 div.sk-label label {\n",
       "  /* The background is the default theme color */\n",
       "  color: var(--sklearn-color-text-on-default-background);\n",
       "}\n",
       "\n",
       "/* On hover, darken the color of the background */\n",
       "#sk-container-id-9 div.sk-label:hover label.sk-toggleable__label {\n",
       "  color: var(--sklearn-color-text);\n",
       "  background-color: var(--sklearn-color-unfitted-level-2);\n",
       "}\n",
       "\n",
       "/* Label box, darken color on hover, fitted */\n",
       "#sk-container-id-9 div.sk-label.fitted:hover label.sk-toggleable__label.fitted {\n",
       "  color: var(--sklearn-color-text);\n",
       "  background-color: var(--sklearn-color-fitted-level-2);\n",
       "}\n",
       "\n",
       "/* Estimator label */\n",
       "\n",
       "#sk-container-id-9 div.sk-label label {\n",
       "  font-family: monospace;\n",
       "  font-weight: bold;\n",
       "  display: inline-block;\n",
       "  line-height: 1.2em;\n",
       "}\n",
       "\n",
       "#sk-container-id-9 div.sk-label-container {\n",
       "  text-align: center;\n",
       "}\n",
       "\n",
       "/* Estimator-specific */\n",
       "#sk-container-id-9 div.sk-estimator {\n",
       "  font-family: monospace;\n",
       "  border: 1px dotted var(--sklearn-color-border-box);\n",
       "  border-radius: 0.25em;\n",
       "  box-sizing: border-box;\n",
       "  margin-bottom: 0.5em;\n",
       "  /* unfitted */\n",
       "  background-color: var(--sklearn-color-unfitted-level-0);\n",
       "}\n",
       "\n",
       "#sk-container-id-9 div.sk-estimator.fitted {\n",
       "  /* fitted */\n",
       "  background-color: var(--sklearn-color-fitted-level-0);\n",
       "}\n",
       "\n",
       "/* on hover */\n",
       "#sk-container-id-9 div.sk-estimator:hover {\n",
       "  /* unfitted */\n",
       "  background-color: var(--sklearn-color-unfitted-level-2);\n",
       "}\n",
       "\n",
       "#sk-container-id-9 div.sk-estimator.fitted:hover {\n",
       "  /* fitted */\n",
       "  background-color: var(--sklearn-color-fitted-level-2);\n",
       "}\n",
       "\n",
       "/* Specification for estimator info (e.g. \"i\" and \"?\") */\n",
       "\n",
       "/* Common style for \"i\" and \"?\" */\n",
       "\n",
       ".sk-estimator-doc-link,\n",
       "a:link.sk-estimator-doc-link,\n",
       "a:visited.sk-estimator-doc-link {\n",
       "  float: right;\n",
       "  font-size: smaller;\n",
       "  line-height: 1em;\n",
       "  font-family: monospace;\n",
       "  background-color: var(--sklearn-color-background);\n",
       "  border-radius: 1em;\n",
       "  height: 1em;\n",
       "  width: 1em;\n",
       "  text-decoration: none !important;\n",
       "  margin-left: 0.5em;\n",
       "  text-align: center;\n",
       "  /* unfitted */\n",
       "  border: var(--sklearn-color-unfitted-level-1) 1pt solid;\n",
       "  color: var(--sklearn-color-unfitted-level-1);\n",
       "}\n",
       "\n",
       ".sk-estimator-doc-link.fitted,\n",
       "a:link.sk-estimator-doc-link.fitted,\n",
       "a:visited.sk-estimator-doc-link.fitted {\n",
       "  /* fitted */\n",
       "  border: var(--sklearn-color-fitted-level-1) 1pt solid;\n",
       "  color: var(--sklearn-color-fitted-level-1);\n",
       "}\n",
       "\n",
       "/* On hover */\n",
       "div.sk-estimator:hover .sk-estimator-doc-link:hover,\n",
       ".sk-estimator-doc-link:hover,\n",
       "div.sk-label-container:hover .sk-estimator-doc-link:hover,\n",
       ".sk-estimator-doc-link:hover {\n",
       "  /* unfitted */\n",
       "  background-color: var(--sklearn-color-unfitted-level-3);\n",
       "  color: var(--sklearn-color-background);\n",
       "  text-decoration: none;\n",
       "}\n",
       "\n",
       "div.sk-estimator.fitted:hover .sk-estimator-doc-link.fitted:hover,\n",
       ".sk-estimator-doc-link.fitted:hover,\n",
       "div.sk-label-container:hover .sk-estimator-doc-link.fitted:hover,\n",
       ".sk-estimator-doc-link.fitted:hover {\n",
       "  /* fitted */\n",
       "  background-color: var(--sklearn-color-fitted-level-3);\n",
       "  color: var(--sklearn-color-background);\n",
       "  text-decoration: none;\n",
       "}\n",
       "\n",
       "/* Span, style for the box shown on hovering the info icon */\n",
       ".sk-estimator-doc-link span {\n",
       "  display: none;\n",
       "  z-index: 9999;\n",
       "  position: relative;\n",
       "  font-weight: normal;\n",
       "  right: .2ex;\n",
       "  padding: .5ex;\n",
       "  margin: .5ex;\n",
       "  width: min-content;\n",
       "  min-width: 20ex;\n",
       "  max-width: 50ex;\n",
       "  color: var(--sklearn-color-text);\n",
       "  box-shadow: 2pt 2pt 4pt #999;\n",
       "  /* unfitted */\n",
       "  background: var(--sklearn-color-unfitted-level-0);\n",
       "  border: .5pt solid var(--sklearn-color-unfitted-level-3);\n",
       "}\n",
       "\n",
       ".sk-estimator-doc-link.fitted span {\n",
       "  /* fitted */\n",
       "  background: var(--sklearn-color-fitted-level-0);\n",
       "  border: var(--sklearn-color-fitted-level-3);\n",
       "}\n",
       "\n",
       ".sk-estimator-doc-link:hover span {\n",
       "  display: block;\n",
       "}\n",
       "\n",
       "/* \"?\"-specific style due to the `<a>` HTML tag */\n",
       "\n",
       "#sk-container-id-9 a.estimator_doc_link {\n",
       "  float: right;\n",
       "  font-size: 1rem;\n",
       "  line-height: 1em;\n",
       "  font-family: monospace;\n",
       "  background-color: var(--sklearn-color-background);\n",
       "  border-radius: 1rem;\n",
       "  height: 1rem;\n",
       "  width: 1rem;\n",
       "  text-decoration: none;\n",
       "  /* unfitted */\n",
       "  color: var(--sklearn-color-unfitted-level-1);\n",
       "  border: var(--sklearn-color-unfitted-level-1) 1pt solid;\n",
       "}\n",
       "\n",
       "#sk-container-id-9 a.estimator_doc_link.fitted {\n",
       "  /* fitted */\n",
       "  border: var(--sklearn-color-fitted-level-1) 1pt solid;\n",
       "  color: var(--sklearn-color-fitted-level-1);\n",
       "}\n",
       "\n",
       "/* On hover */\n",
       "#sk-container-id-9 a.estimator_doc_link:hover {\n",
       "  /* unfitted */\n",
       "  background-color: var(--sklearn-color-unfitted-level-3);\n",
       "  color: var(--sklearn-color-background);\n",
       "  text-decoration: none;\n",
       "}\n",
       "\n",
       "#sk-container-id-9 a.estimator_doc_link.fitted:hover {\n",
       "  /* fitted */\n",
       "  background-color: var(--sklearn-color-fitted-level-3);\n",
       "}\n",
       "</style><div id=\"sk-container-id-9\" class=\"sk-top-container\"><div class=\"sk-text-repr-fallback\"><pre>CalibratedClassifierCV(cv=3,\n",
       "                       estimator=Pipeline(steps=[(&#x27;prep&#x27;,\n",
       "                                                  ColumnTransformer(transformers=[(&#x27;svc&#x27;,\n",
       "                                                                                   TargetEncoder(cols=[&#x27;service&#x27;],\n",
       "                                                                                                 handle_unknown=&#x27;ignore&#x27;,\n",
       "                                                                                                 smoothing=0.3),\n",
       "                                                                                   [&#x27;service&#x27;]),\n",
       "                                                                                  (&#x27;cat&#x27;,\n",
       "                                                                                   OneHotEncoder(handle_unknown=&#x27;ignore&#x27;),\n",
       "                                                                                   [&#x27;protocol_type&#x27;,\n",
       "                                                                                    &#x27;flag&#x27;]),\n",
       "                                                                                  (&#x27;num&#x27;,\n",
       "                                                                                   StandardScaler(),\n",
       "                                                                                   [&#x27;duration&#x27;,\n",
       "                                                                                    &#x27;src_bytes&#x27;,\n",
       "                                                                                    &#x27;dst_bytes&#x27;,\n",
       "                                                                                    &#x27;land&#x27;,\n",
       "                                                                                    &#x27;wrong_fragment&#x27;,\n",
       "                                                                                    &#x27;urgent&#x27;,\n",
       "                                                                                    &#x27;...\n",
       "                                                                                    &#x27;dst_host_srv_count&#x27;,\n",
       "                                                                                    &#x27;dst_host_same_srv_rate&#x27;,\n",
       "                                                                                    &#x27;dst_host_diff_srv_rate&#x27;,\n",
       "                                                                                    &#x27;dst_host_same_src_port_rate&#x27;,\n",
       "                                                                                    &#x27;dst_host_srv_diff_host_rate&#x27;])])),\n",
       "                                                 (&#x27;impute&#x27;,\n",
       "                                                  SimpleImputer(strategy=&#x27;median&#x27;)),\n",
       "                                                 (&#x27;poly&#x27;,\n",
       "                                                  PolynomialFeatures(include_bias=False,\n",
       "                                                                     interaction_only=True)),\n",
       "                                                 (&#x27;model&#x27;,\n",
       "                                                  LogisticRegression(C=2.0,\n",
       "                                                                     class_weight=&#x27;balanced&#x27;,\n",
       "                                                                     max_iter=2000,\n",
       "                                                                     n_jobs=-1))]),\n",
       "                       method=&#x27;isotonic&#x27;, n_jobs=-1)</pre><b>In a Jupyter environment, please rerun this cell to show the HTML representation or trust the notebook. <br />On GitHub, the HTML representation is unable to render, please try loading this page with nbviewer.org.</b></div><div class=\"sk-container\" hidden><div class=\"sk-item sk-dashed-wrapped\"><div class=\"sk-label-container\"><div class=\"sk-label fitted sk-toggleable\"><input class=\"sk-toggleable__control sk-hidden--visually\" id=\"sk-estimator-id-82\" type=\"checkbox\" ><label for=\"sk-estimator-id-82\" class=\"sk-toggleable__label fitted sk-toggleable__label-arrow\"><div><div>CalibratedClassifierCV</div></div><div><a class=\"sk-estimator-doc-link fitted\" rel=\"noreferrer\" target=\"_blank\" href=\"https://scikit-learn.org/1.6/modules/generated/sklearn.calibration.CalibratedClassifierCV.html\">?<span>Documentation for CalibratedClassifierCV</span></a><span class=\"sk-estimator-doc-link fitted\">i<span>Fitted</span></span></div></label><div class=\"sk-toggleable__content fitted\"><pre>CalibratedClassifierCV(cv=3,\n",
       "                       estimator=Pipeline(steps=[(&#x27;prep&#x27;,\n",
       "                                                  ColumnTransformer(transformers=[(&#x27;svc&#x27;,\n",
       "                                                                                   TargetEncoder(cols=[&#x27;service&#x27;],\n",
       "                                                                                                 handle_unknown=&#x27;ignore&#x27;,\n",
       "                                                                                                 smoothing=0.3),\n",
       "                                                                                   [&#x27;service&#x27;]),\n",
       "                                                                                  (&#x27;cat&#x27;,\n",
       "                                                                                   OneHotEncoder(handle_unknown=&#x27;ignore&#x27;),\n",
       "                                                                                   [&#x27;protocol_type&#x27;,\n",
       "                                                                                    &#x27;flag&#x27;]),\n",
       "                                                                                  (&#x27;num&#x27;,\n",
       "                                                                                   StandardScaler(),\n",
       "                                                                                   [&#x27;duration&#x27;,\n",
       "                                                                                    &#x27;src_bytes&#x27;,\n",
       "                                                                                    &#x27;dst_bytes&#x27;,\n",
       "                                                                                    &#x27;land&#x27;,\n",
       "                                                                                    &#x27;wrong_fragment&#x27;,\n",
       "                                                                                    &#x27;urgent&#x27;,\n",
       "                                                                                    &#x27;...\n",
       "                                                                                    &#x27;dst_host_srv_count&#x27;,\n",
       "                                                                                    &#x27;dst_host_same_srv_rate&#x27;,\n",
       "                                                                                    &#x27;dst_host_diff_srv_rate&#x27;,\n",
       "                                                                                    &#x27;dst_host_same_src_port_rate&#x27;,\n",
       "                                                                                    &#x27;dst_host_srv_diff_host_rate&#x27;])])),\n",
       "                                                 (&#x27;impute&#x27;,\n",
       "                                                  SimpleImputer(strategy=&#x27;median&#x27;)),\n",
       "                                                 (&#x27;poly&#x27;,\n",
       "                                                  PolynomialFeatures(include_bias=False,\n",
       "                                                                     interaction_only=True)),\n",
       "                                                 (&#x27;model&#x27;,\n",
       "                                                  LogisticRegression(C=2.0,\n",
       "                                                                     class_weight=&#x27;balanced&#x27;,\n",
       "                                                                     max_iter=2000,\n",
       "                                                                     n_jobs=-1))]),\n",
       "                       method=&#x27;isotonic&#x27;, n_jobs=-1)</pre></div> </div></div><div class=\"sk-parallel\"><div class=\"sk-parallel-item\"><div class=\"sk-item\"><div class=\"sk-label-container\"><div class=\"sk-label fitted sk-toggleable\"><input class=\"sk-toggleable__control sk-hidden--visually\" id=\"sk-estimator-id-83\" type=\"checkbox\" ><label for=\"sk-estimator-id-83\" class=\"sk-toggleable__label fitted sk-toggleable__label-arrow\"><div><div>estimator: Pipeline</div></div></label><div class=\"sk-toggleable__content fitted\"><pre>Pipeline(steps=[(&#x27;prep&#x27;,\n",
       "                 ColumnTransformer(transformers=[(&#x27;svc&#x27;,\n",
       "                                                  TargetEncoder(cols=[&#x27;service&#x27;],\n",
       "                                                                handle_unknown=&#x27;ignore&#x27;,\n",
       "                                                                smoothing=0.3),\n",
       "                                                  [&#x27;service&#x27;]),\n",
       "                                                 (&#x27;cat&#x27;,\n",
       "                                                  OneHotEncoder(handle_unknown=&#x27;ignore&#x27;),\n",
       "                                                  [&#x27;protocol_type&#x27;, &#x27;flag&#x27;]),\n",
       "                                                 (&#x27;num&#x27;, StandardScaler(),\n",
       "                                                  [&#x27;duration&#x27;, &#x27;src_bytes&#x27;,\n",
       "                                                   &#x27;dst_bytes&#x27;, &#x27;land&#x27;,\n",
       "                                                   &#x27;wrong_fragment&#x27;, &#x27;urgent&#x27;,\n",
       "                                                   &#x27;hot&#x27;, &#x27;num_failed_logins&#x27;,\n",
       "                                                   &#x27;logged_in&#x27;,\n",
       "                                                   &#x27;...\n",
       "                                                   &#x27;dst_host_count&#x27;,\n",
       "                                                   &#x27;dst_host_srv_count&#x27;,\n",
       "                                                   &#x27;dst_host_same_srv_rate&#x27;,\n",
       "                                                   &#x27;dst_host_diff_srv_rate&#x27;,\n",
       "                                                   &#x27;dst_host_same_src_port_rate&#x27;,\n",
       "                                                   &#x27;dst_host_srv_diff_host_rate&#x27;])])),\n",
       "                (&#x27;impute&#x27;, SimpleImputer(strategy=&#x27;median&#x27;)),\n",
       "                (&#x27;poly&#x27;,\n",
       "                 PolynomialFeatures(include_bias=False, interaction_only=True)),\n",
       "                (&#x27;model&#x27;,\n",
       "                 LogisticRegression(C=2.0, class_weight=&#x27;balanced&#x27;,\n",
       "                                    max_iter=2000, n_jobs=-1))])</pre></div> </div></div><div class=\"sk-serial\"><div class=\"sk-item\"><div class=\"sk-serial\"><div class=\"sk-item sk-dashed-wrapped\"><div class=\"sk-label-container\"><div class=\"sk-label fitted sk-toggleable\"><input class=\"sk-toggleable__control sk-hidden--visually\" id=\"sk-estimator-id-84\" type=\"checkbox\" ><label for=\"sk-estimator-id-84\" class=\"sk-toggleable__label fitted sk-toggleable__label-arrow\"><div><div>prep: ColumnTransformer</div></div><div><a class=\"sk-estimator-doc-link fitted\" rel=\"noreferrer\" target=\"_blank\" href=\"https://scikit-learn.org/1.6/modules/generated/sklearn.compose.ColumnTransformer.html\">?<span>Documentation for prep: ColumnTransformer</span></a></div></label><div class=\"sk-toggleable__content fitted\"><pre>ColumnTransformer(transformers=[(&#x27;svc&#x27;,\n",
       "                                 TargetEncoder(cols=[&#x27;service&#x27;],\n",
       "                                               handle_unknown=&#x27;ignore&#x27;,\n",
       "                                               smoothing=0.3),\n",
       "                                 [&#x27;service&#x27;]),\n",
       "                                (&#x27;cat&#x27;, OneHotEncoder(handle_unknown=&#x27;ignore&#x27;),\n",
       "                                 [&#x27;protocol_type&#x27;, &#x27;flag&#x27;]),\n",
       "                                (&#x27;num&#x27;, StandardScaler(),\n",
       "                                 [&#x27;duration&#x27;, &#x27;src_bytes&#x27;, &#x27;dst_bytes&#x27;, &#x27;land&#x27;,\n",
       "                                  &#x27;wrong_fragment&#x27;, &#x27;urgent&#x27;, &#x27;hot&#x27;,\n",
       "                                  &#x27;num_failed_logins&#x27;, &#x27;logged_in&#x27;,\n",
       "                                  &#x27;num_compromised&#x27;, &#x27;root_shell&#x27;,\n",
       "                                  &#x27;su_attempted&#x27;, &#x27;num_file_creations&#x27;,\n",
       "                                  &#x27;num_shells&#x27;, &#x27;num_access_files&#x27;,\n",
       "                                  &#x27;is_guest_login&#x27;, &#x27;count&#x27;, &#x27;srv_count&#x27;,\n",
       "                                  &#x27;serror_rate&#x27;, &#x27;rerror_rate&#x27;, &#x27;same_srv_rate&#x27;,\n",
       "                                  &#x27;diff_srv_rate&#x27;, &#x27;srv_diff_host_rate&#x27;,\n",
       "                                  &#x27;dst_host_count&#x27;, &#x27;dst_host_srv_count&#x27;,\n",
       "                                  &#x27;dst_host_same_srv_rate&#x27;,\n",
       "                                  &#x27;dst_host_diff_srv_rate&#x27;,\n",
       "                                  &#x27;dst_host_same_src_port_rate&#x27;,\n",
       "                                  &#x27;dst_host_srv_diff_host_rate&#x27;])])</pre></div> </div></div><div class=\"sk-parallel\"><div class=\"sk-parallel-item\"><div class=\"sk-item\"><div class=\"sk-label-container\"><div class=\"sk-label fitted sk-toggleable\"><input class=\"sk-toggleable__control sk-hidden--visually\" id=\"sk-estimator-id-85\" type=\"checkbox\" ><label for=\"sk-estimator-id-85\" class=\"sk-toggleable__label fitted sk-toggleable__label-arrow\"><div><div>svc</div></div></label><div class=\"sk-toggleable__content fitted\"><pre>[&#x27;service&#x27;]</pre></div> </div></div><div class=\"sk-serial\"><div class=\"sk-item\"><div class=\"sk-estimator fitted sk-toggleable\"><input class=\"sk-toggleable__control sk-hidden--visually\" id=\"sk-estimator-id-86\" type=\"checkbox\" ><label for=\"sk-estimator-id-86\" class=\"sk-toggleable__label fitted sk-toggleable__label-arrow\"><div><div>TargetEncoder</div></div></label><div class=\"sk-toggleable__content fitted\"><pre>TargetEncoder(cols=[&#x27;service&#x27;], handle_unknown=&#x27;ignore&#x27;, smoothing=0.3)</pre></div> </div></div></div></div></div><div class=\"sk-parallel-item\"><div class=\"sk-item\"><div class=\"sk-label-container\"><div class=\"sk-label fitted sk-toggleable\"><input class=\"sk-toggleable__control sk-hidden--visually\" id=\"sk-estimator-id-87\" type=\"checkbox\" ><label for=\"sk-estimator-id-87\" class=\"sk-toggleable__label fitted sk-toggleable__label-arrow\"><div><div>cat</div></div></label><div class=\"sk-toggleable__content fitted\"><pre>[&#x27;protocol_type&#x27;, &#x27;flag&#x27;]</pre></div> </div></div><div class=\"sk-serial\"><div class=\"sk-item\"><div class=\"sk-estimator fitted sk-toggleable\"><input class=\"sk-toggleable__control sk-hidden--visually\" id=\"sk-estimator-id-88\" type=\"checkbox\" ><label for=\"sk-estimator-id-88\" class=\"sk-toggleable__label fitted sk-toggleable__label-arrow\"><div><div>OneHotEncoder</div></div><div><a class=\"sk-estimator-doc-link fitted\" rel=\"noreferrer\" target=\"_blank\" href=\"https://scikit-learn.org/1.6/modules/generated/sklearn.preprocessing.OneHotEncoder.html\">?<span>Documentation for OneHotEncoder</span></a></div></label><div class=\"sk-toggleable__content fitted\"><pre>OneHotEncoder(handle_unknown=&#x27;ignore&#x27;)</pre></div> </div></div></div></div></div><div class=\"sk-parallel-item\"><div class=\"sk-item\"><div class=\"sk-label-container\"><div class=\"sk-label fitted sk-toggleable\"><input class=\"sk-toggleable__control sk-hidden--visually\" id=\"sk-estimator-id-89\" type=\"checkbox\" ><label for=\"sk-estimator-id-89\" class=\"sk-toggleable__label fitted sk-toggleable__label-arrow\"><div><div>num</div></div></label><div class=\"sk-toggleable__content fitted\"><pre>[&#x27;duration&#x27;, &#x27;src_bytes&#x27;, &#x27;dst_bytes&#x27;, &#x27;land&#x27;, &#x27;wrong_fragment&#x27;, &#x27;urgent&#x27;, &#x27;hot&#x27;, &#x27;num_failed_logins&#x27;, &#x27;logged_in&#x27;, &#x27;num_compromised&#x27;, &#x27;root_shell&#x27;, &#x27;su_attempted&#x27;, &#x27;num_file_creations&#x27;, &#x27;num_shells&#x27;, &#x27;num_access_files&#x27;, &#x27;is_guest_login&#x27;, &#x27;count&#x27;, &#x27;srv_count&#x27;, &#x27;serror_rate&#x27;, &#x27;rerror_rate&#x27;, &#x27;same_srv_rate&#x27;, &#x27;diff_srv_rate&#x27;, &#x27;srv_diff_host_rate&#x27;, &#x27;dst_host_count&#x27;, &#x27;dst_host_srv_count&#x27;, &#x27;dst_host_same_srv_rate&#x27;, &#x27;dst_host_diff_srv_rate&#x27;, &#x27;dst_host_same_src_port_rate&#x27;, &#x27;dst_host_srv_diff_host_rate&#x27;]</pre></div> </div></div><div class=\"sk-serial\"><div class=\"sk-item\"><div class=\"sk-estimator fitted sk-toggleable\"><input class=\"sk-toggleable__control sk-hidden--visually\" id=\"sk-estimator-id-90\" type=\"checkbox\" ><label for=\"sk-estimator-id-90\" class=\"sk-toggleable__label fitted sk-toggleable__label-arrow\"><div><div>StandardScaler</div></div><div><a class=\"sk-estimator-doc-link fitted\" rel=\"noreferrer\" target=\"_blank\" href=\"https://scikit-learn.org/1.6/modules/generated/sklearn.preprocessing.StandardScaler.html\">?<span>Documentation for StandardScaler</span></a></div></label><div class=\"sk-toggleable__content fitted\"><pre>StandardScaler()</pre></div> </div></div></div></div></div></div></div><div class=\"sk-item\"><div class=\"sk-estimator fitted sk-toggleable\"><input class=\"sk-toggleable__control sk-hidden--visually\" id=\"sk-estimator-id-91\" type=\"checkbox\" ><label for=\"sk-estimator-id-91\" class=\"sk-toggleable__label fitted sk-toggleable__label-arrow\"><div><div>SimpleImputer</div></div><div><a class=\"sk-estimator-doc-link fitted\" rel=\"noreferrer\" target=\"_blank\" href=\"https://scikit-learn.org/1.6/modules/generated/sklearn.impute.SimpleImputer.html\">?<span>Documentation for SimpleImputer</span></a></div></label><div class=\"sk-toggleable__content fitted\"><pre>SimpleImputer(strategy=&#x27;median&#x27;)</pre></div> </div></div><div class=\"sk-item\"><div class=\"sk-estimator fitted sk-toggleable\"><input class=\"sk-toggleable__control sk-hidden--visually\" id=\"sk-estimator-id-92\" type=\"checkbox\" ><label for=\"sk-estimator-id-92\" class=\"sk-toggleable__label fitted sk-toggleable__label-arrow\"><div><div>PolynomialFeatures</div></div><div><a class=\"sk-estimator-doc-link fitted\" rel=\"noreferrer\" target=\"_blank\" href=\"https://scikit-learn.org/1.6/modules/generated/sklearn.preprocessing.PolynomialFeatures.html\">?<span>Documentation for PolynomialFeatures</span></a></div></label><div class=\"sk-toggleable__content fitted\"><pre>PolynomialFeatures(include_bias=False, interaction_only=True)</pre></div> </div></div><div class=\"sk-item\"><div class=\"sk-estimator fitted sk-toggleable\"><input class=\"sk-toggleable__control sk-hidden--visually\" id=\"sk-estimator-id-93\" type=\"checkbox\" ><label for=\"sk-estimator-id-93\" class=\"sk-toggleable__label fitted sk-toggleable__label-arrow\"><div><div>LogisticRegression</div></div><div><a class=\"sk-estimator-doc-link fitted\" rel=\"noreferrer\" target=\"_blank\" href=\"https://scikit-learn.org/1.6/modules/generated/sklearn.linear_model.LogisticRegression.html\">?<span>Documentation for LogisticRegression</span></a></div></label><div class=\"sk-toggleable__content fitted\"><pre>LogisticRegression(C=2.0, class_weight=&#x27;balanced&#x27;, max_iter=2000, n_jobs=-1)</pre></div> </div></div></div></div></div></div></div></div></div></div></div>"
      ],
      "text/plain": [
       "CalibratedClassifierCV(cv=3,\n",
       "                       estimator=Pipeline(steps=[('prep',\n",
       "                                                  ColumnTransformer(transformers=[('svc',\n",
       "                                                                                   TargetEncoder(cols=['service'],\n",
       "                                                                                                 handle_unknown='ignore',\n",
       "                                                                                                 smoothing=0.3),\n",
       "                                                                                   ['service']),\n",
       "                                                                                  ('cat',\n",
       "                                                                                   OneHotEncoder(handle_unknown='ignore'),\n",
       "                                                                                   ['protocol_type',\n",
       "                                                                                    'flag']),\n",
       "                                                                                  ('num',\n",
       "                                                                                   StandardScaler(),\n",
       "                                                                                   ['duration',\n",
       "                                                                                    'src_bytes',\n",
       "                                                                                    'dst_bytes',\n",
       "                                                                                    'land',\n",
       "                                                                                    'wrong_fragment',\n",
       "                                                                                    'urgent',\n",
       "                                                                                    '...\n",
       "                                                                                    'dst_host_srv_count',\n",
       "                                                                                    'dst_host_same_srv_rate',\n",
       "                                                                                    'dst_host_diff_srv_rate',\n",
       "                                                                                    'dst_host_same_src_port_rate',\n",
       "                                                                                    'dst_host_srv_diff_host_rate'])])),\n",
       "                                                 ('impute',\n",
       "                                                  SimpleImputer(strategy='median')),\n",
       "                                                 ('poly',\n",
       "                                                  PolynomialFeatures(include_bias=False,\n",
       "                                                                     interaction_only=True)),\n",
       "                                                 ('model',\n",
       "                                                  LogisticRegression(C=2.0,\n",
       "                                                                     class_weight='balanced',\n",
       "                                                                     max_iter=2000,\n",
       "                                                                     n_jobs=-1))]),\n",
       "                       method='isotonic', n_jobs=-1)"
      ]
     },
     "execution_count": 139,
     "metadata": {},
     "output_type": "execute_result"
    }
   ],
   "source": [
    "poly_pipe = Pipeline([\n",
    "        ('prep',    prep),                               \n",
    "        ('impute',  SimpleImputer(strategy='median')),   \n",
    "        ('poly',    PolynomialFeatures(degree=2,\n",
    "                                       interaction_only=True,\n",
    "                                       include_bias=False)),\n",
    "        ('model',   LogisticRegression(max_iter=2000,\n",
    "                                       class_weight='balanced',\n",
    "                                       n_jobs=-1,\n",
    "                                       C=2.0,\n",
    "                                       solver='lbfgs'))\n",
    "])\n",
    "\n",
    "lr_cal = CalibratedClassifierCV(poly_pipe, method='isotonic', cv=3, n_jobs=-1)\n",
    "lr_cal.fit(X_tr, y_tr)"
   ]
  },
  {
   "cell_type": "markdown",
   "metadata": {},
   "source": [
    "Aqui temos a configuração do grid search para os limites de cada modelo, isso é  feito antes somente porque eu preciso do valor do limite desse modelo para rodar a regressão logística sozinha e também no formato grid search(que está dentro do for loop)\n",
    "O objetivo aqui é como o anterior, minimizar o custo(10 para falsos negativos e 1 para falsos positivos)"
   ]
  },
  {
   "cell_type": "code",
   "execution_count": 140,
   "metadata": {},
   "outputs": [
    {
     "name": "stdout",
     "output_type": "stream",
     "text": [
      "Limites escolhidos  XGB=0.20  LR=0.90\n"
     ]
    }
   ],
   "source": [
    "prob_val_xgb = calibrated_pipe.predict_proba(X_val)[:, 1]\n",
    "prob_val_lr  = lr_cal.predict_proba(X_val)[:, 1]\n",
    "\n",
    "thr_grid   = np.linspace(0.2, 0.9, 36)          \n",
    "best_cost  = 1e9\n",
    "best_pair  = (0.5, 0.5)\n",
    "\n",
    "for tx in thr_grid:                             \n",
    "    bx = (prob_val_xgb >= tx).astype(int)\n",
    "    for tl in thr_grid:                         \n",
    "        bl   = (prob_val_lr >= tl).astype(int)\n",
    "        vote = np.logical_or(bx, bl)            \n",
    "        fn   = ((vote==0) & (y_val==1)).sum()\n",
    "        fp   = ((vote==1) & (y_val==0)).sum()\n",
    "        cost = 10*fn + fp                       \n",
    "        if cost < best_cost:\n",
    "            best_cost, best_pair = cost, (tx, tl)\n",
    "\n",
    "thr_xgb, thr_lr = best_pair\n",
    "print(f\"Limites escolhidos  XGB={thr_xgb:.2f}  LR={thr_lr:.2f}\")"
   ]
  },
  {
   "cell_type": "markdown",
   "metadata": {},
   "source": [
    "### 3.3.1 Resultados com Regressão Logística"
   ]
  },
  {
   "cell_type": "code",
   "execution_count": 141,
   "metadata": {},
   "outputs": [
    {
     "name": "stdout",
     "output_type": "stream",
     "text": [
      "\n",
      "=== Regressão Logística ===\n",
      "              precision    recall  f1-score   support\n",
      "\n",
      "      normal       0.98      1.00      0.99      2690\n",
      "     anomaly       1.00      0.97      0.98      2349\n",
      "\n",
      "    accuracy                           0.98      5039\n",
      "   macro avg       0.99      0.98      0.98      5039\n",
      "weighted avg       0.99      0.98      0.98      5039\n",
      "\n",
      "ROC‑AUC : 0.9981\n",
      "PR‑AUC  : 0.9971\n"
     ]
    }
   ],
   "source": [
    "prob_test_lr  = lr_cal.predict_proba(X_te)[:, 1]\n",
    "y_pred_lr     = (prob_test_lr >= thr_lr).astype(int)\n",
    "\n",
    "print(\"\\n=== Regressão Logística ===\")\n",
    "print(classification_report(y_te, y_pred_lr,\n",
    "                            target_names=['normal','anomaly']))\n",
    "roc  = metrics.roc_auc_score(y_te, prob_test_lr)\n",
    "pr   = metrics.average_precision_score(y_te, prob_test_lr)\n",
    "print(f\"ROC‑AUC : {roc:.4f}\")\n",
    "print(f\"PR‑AUC  : {pr :.4f}\")"
   ]
  },
  {
   "cell_type": "markdown",
   "metadata": {},
   "source": [
    "Regressão logística funciona um pouco diferente de XGB, essencialmente eles se complementam no fato que um utiliza um threshold alto pra controlar falsos positivos, enquanto o XGB utiliza um mais baixo para evitar ataques de baixa probabilidade(ou que a inferência no caso seria baixa), esses resultados foram melhorados(anteriormente a taxa de falsos negativos era muito maior) pelo uso do parametro de classes polinomiais:\n",
    "\n",
    "        ('poly',    PolynomialFeatures(degree=2,\n",
    "                                       interaction_only=True,\n",
    "                                       include_bias=False)),\n",
    "\n",
    "Por que?\n",
    "\n",
    "Provavelmente um fator anteriormente visto aqui é a correlação entre duas variáveis ser muito forte, como filtramos em nosso EDA, porém filtramos com o threshold de 90%, ainda é possível que existam mais variáveis correlacionadas que causem iterações em pares. Essa é a desvatagem de não ter utilizado nenhum modelo de árvore, já que eles que conseguem melhor captar essas disparidades."
   ]
  },
  {
   "cell_type": "code",
   "execution_count": 142,
   "metadata": {},
   "outputs": [
    {
     "data": {
      "image/png": "[encoded data removed]",
      "text/plain": [
       "<Figure size 640x480 with 2 Axes>"
      ]
     },
     "metadata": {},
     "output_type": "display_data"
    }
   ],
   "source": [
    "cm_lr = metrics.confusion_matrix(y_te, y_pred_lr, labels=[0,1])\n",
    "sns.heatmap(cm_lr, annot=True, fmt='d', cmap='Purples',\n",
    "            xticklabels=['normal','anomaly'],\n",
    "            yticklabels=['normal','anomaly'])\n",
    "plt.title(f'Confusion Matrix – LR (thr={thr_lr:.2f})')\n",
    "plt.tight_layout(); plt.show()"
   ]
  },
  {
   "cell_type": "markdown",
   "metadata": {},
   "source": [
    "### 3.3.2 Resultados com o Grid Seach(Regressão Logística e XGB)"
   ]
  },
  {
   "cell_type": "code",
   "execution_count": 143,
   "metadata": {},
   "outputs": [
    {
     "name": "stdout",
     "output_type": "stream",
     "text": [
      "              precision    recall  f1-score   support\n",
      "\n",
      "      normal       1.00      0.99      0.99      2690\n",
      "     anomaly       0.99      1.00      0.99      2349\n",
      "\n",
      "    accuracy                           0.99      5039\n",
      "   macro avg       0.99      0.99      0.99      5039\n",
      "weighted avg       0.99      0.99      0.99      5039\n",
      "\n",
      "Ensemble ROC‑AUC : 0.9990\n",
      "Ensemble PR‑AUC  : 0.9980\n"
     ]
    }
   ],
   "source": [
    "prob_test_xgb = calibrated_pipe.predict_proba(X_te)[:, 1]\n",
    "prob_test_lr  = lr_cal.predict_proba(X_te)[:, 1]\n",
    "prob_ens = np.maximum(prob_test_xgb, prob_test_lr)\n",
    "roc_ens = metrics.roc_auc_score(y_te, prob_ens)\n",
    "pr_ens  = metrics.average_precision_score(y_te, prob_ens)\n",
    "\n",
    "vote_test = np.logical_or(prob_test_xgb >= thr_xgb,\n",
    "                          prob_test_lr  >= thr_lr).astype(int)\n",
    "\n",
    "print(classification_report(y_te, vote_test,\n",
    "                            target_names=['normal','anomaly']))\n",
    "print(f\"Ensemble ROC‑AUC : {roc_ens:.4f}\")\n",
    "print(f\"Ensemble PR‑AUC  : {pr_ens :.4f}\")"
   ]
  },
  {
   "cell_type": "markdown",
   "metadata": {},
   "source": [
    "Aqui conseguimos alcançar nossa rígida sensibilidade de 0,2%, os dois modelos juntos acabam por disparar um ataque com chances marginais, tendo o XGB acusando uma anomalia muito facilmente(threshold de 20%) enquanto a regressão só aplica quando tem uma alta de probabilidade(threshold de 90%), diminuindo  falsos negativos para somente 7-9(variável entre testes), o mais baixo de todas as métricas, isso implicam junto as métricas de ROC e PR que temos um modelo estável para este dataset em específico, precisando somente talvez ajustar o threshold de ambos para uma solução extremamente arrojada.\n",
    "\n",
    "Mas e se quisessemos testar o mesmo modelo, numa situação na qual os dados de ataques estão em constante mudança? Assim como em ataques de code injection, apenas uma pequena mudança no PE header de um arquivo muda totalmente o hash do programa, pequenas mudanças na estratégia de ataque ocorrem o tempo todo, por isso passamos para a etapa de Data Augmentation."
   ]
  },
  {
   "cell_type": "code",
   "execution_count": 144,
   "metadata": {},
   "outputs": [
    {
     "data": {
      "image/png": "[encoded data removed]",
      "text/plain": [
       "<Figure size 640x480 with 2 Axes>"
      ]
     },
     "metadata": {},
     "output_type": "display_data"
    }
   ],
   "source": [
    "cm = metrics.confusion_matrix(y_te, vote_test, labels=[0,1])\n",
    "sns.heatmap(cm, annot=True, fmt='d', cmap='Blues',\n",
    "            xticklabels=['normal','anomaly'],\n",
    "            yticklabels=['normal','anomaly'])\n",
    "plt.title(f'Confusion Matrix – GridSearch  (thr_xgb={thr_xgb:.2f}, thr_lr={thr_lr:.2f})')\n",
    "plt.tight_layout(); plt.show()"
   ]
  },
  {
   "cell_type": "markdown",
   "metadata": {},
   "source": [
    "# 4. Data Augmentation"
   ]
  },
  {
   "cell_type": "markdown",
   "metadata": {},
   "source": [
    "Aqui vamos fazer algo diferente, vamos adicionar um pouco de ruído utilizando uma técnica estatística chamada ruído gaussiano, vamos pegar o desvio padrão das colunas numéricas e aplicar uma pequena alteração de valor +- 2% para simular o que seria um novo tipo de ataque, assim como as categóricas que sofrem uma alteração de 0.5% de sua assinatura(o que seria comum num exemplo de spoofing) a partir disso, testar a robustez de nosso modelo."
   ]
  },
  {
   "cell_type": "code",
   "execution_count": 145,
   "metadata": {},
   "outputs": [],
   "source": [
    "inner_pipe    = calibrated_pipe.estimator\n",
    "prep_step     = inner_pipe.named_steps['prep']\n",
    "feature_names = prep_step.get_feature_names_out()"
   ]
  },
  {
   "cell_type": "code",
   "execution_count": 146,
   "metadata": {},
   "outputs": [],
   "source": [
    "prob_clean = calibrated_pipe.predict_proba(X_te)[:, 1]\n",
    "y_pred_clean = (prob_clean >= thr_opt).astype(int)"
   ]
  },
  {
   "cell_type": "code",
   "execution_count": 147,
   "metadata": {},
   "outputs": [],
   "source": [
    "#aqui fazemos um array denso de anomailias\n",
    "X_test_trans = prep_step.transform(X_te)\n",
    "X_dense = X_test_trans.toarray() if issparse(X_test_trans) else X_test_trans.copy()\n",
    "\n",
    "#Vamos pegar as colunas numéricas e calcular o desvio padrão para então aplicar abaixo\n",
    "num_mask = np.array([name.startswith('num__') for name in feature_names])\n",
    "std      = X_dense[:, num_mask].std(axis=0, ddof=0)\n",
    "rng      = np.random.default_rng(42)\n",
    "\n",
    "#Aqui aplicamos uma pertubação gaussana nas colunas numéricas com 2% de ruído\n",
    "#a mais somente com um flip de 0,5% \n",
    "noise    = rng.normal(0, 0.02 * std, size=X_dense[:, num_mask].shape)  # ±2 % σ\n",
    "X_dense[:, num_mask] += noise\n",
    "cat_mask = ~num_mask\n",
    "\n",
    "#Alterando bits em colunas\n",
    "cat_cols_idx = np.where(cat_mask)[0]\n",
    "rows, cols = np.where(X_dense[:, cat_mask] == 1)\n",
    "flip_n     = int(0.005 * len(rows))          \n",
    "idx        = rng.choice(len(rows), flip_n, replace=False)\n",
    "\n",
    "for r, c_sub in zip(rows[idx], cols[idx]):\n",
    "    c_abs = cat_cols_idx[c_sub]              \n",
    "    X_dense[r, c_abs] = 0                    \n",
    "    alt_abs = rng.choice(cat_cols_idx)\n",
    "    X_dense[r, alt_abs] = 1\n",
    "    \n",
    "prob_adv = inner_pipe.named_steps['model'].predict_proba(X_dense)[:, 1]\n",
    "y_pred_adv = (prob_adv >= thr_opt).astype(int)"
   ]
  },
  {
   "cell_type": "code",
   "execution_count": 148,
   "metadata": {},
   "outputs": [
    {
     "name": "stdout",
     "output_type": "stream",
     "text": [
      "==== CLEAN TEST ====\n",
      "              precision    recall  f1-score   support\n",
      "\n",
      "      normal       1.00      1.00      1.00      2690\n",
      "     anomaly       1.00      1.00      1.00      2349\n",
      "\n",
      "    accuracy                           1.00      5039\n",
      "   macro avg       1.00      1.00      1.00      5039\n",
      "weighted avg       1.00      1.00      1.00      5039\n",
      "\n",
      "\n",
      "==== ADVERSARIAL TEST ====\n",
      "              precision    recall  f1-score   support\n",
      "\n",
      "      normal       0.93      0.90      0.92      2690\n",
      "     anomaly       0.89      0.92      0.91      2349\n",
      "\n",
      "    accuracy                           0.91      5039\n",
      "   macro avg       0.91      0.91      0.91      5039\n",
      "weighted avg       0.91      0.91      0.91      5039\n",
      "\n",
      "\n",
      "Recall drop : 7.65%\n",
      "Precision drop : 10.45%\n"
     ]
    }
   ],
   "source": [
    "print(\"==== CLEAN TEST ====\")\n",
    "print(classification_report(y_te, y_pred_clean, target_names=['normal','anomaly']))\n",
    "\n",
    "print(\"\\n==== ADVERSARIAL TEST ====\")\n",
    "print(classification_report(y_te, y_pred_adv, target_names=['normal','anomaly']))\n",
    "\n",
    "cm_clean = metrics.confusion_matrix(y_te, y_pred_clean, labels=[0,1])\n",
    "cm_adv   = metrics.confusion_matrix(y_te, y_pred_adv,   labels=[0,1])\n",
    "\n",
    "rec_drop = (cm_clean[1,1] - cm_adv[1,1]) / cm_clean[1,1] * 100\n",
    "prec_clean = cm_clean[1,1] / (cm_clean[0,1] + cm_clean[1,1])\n",
    "prec_adv   = cm_adv  [1,1] / (cm_adv  [0,1] + cm_adv  [1,1])\n",
    "prec_drop  = (prec_clean - prec_adv) * 100\n",
    "\n",
    "print(f\"\\nRecall drop : {rec_drop:.2f}%\")\n",
    "print(f\"Precision drop : {prec_drop:.2f}%\")"
   ]
  },
  {
   "cell_type": "code",
   "execution_count": 149,
   "metadata": {},
   "outputs": [
    {
     "data": {
      "image/png": "[encoded data removed]",
      "text/plain": [
       "<Figure size 640x480 with 2 Axes>"
      ]
     },
     "metadata": {},
     "output_type": "display_data"
    }
   ],
   "source": [
    "sns.heatmap(cm_adv, annot=True, fmt='d', cmap='Reds',\n",
    "            xticklabels=['normal','anomaly'],\n",
    "            yticklabels=['normal','anomaly'])\n",
    "plt.title('Confusion Matrix – adversarial perturbation'); plt.show()"
   ]
  },
  {
   "cell_type": "markdown",
   "metadata": {},
   "source": [
    "Com isso vemos que existe uma fragilidade em montar um modelo tão sensível assim, pequenas mudanças nos dados, principalmente com colunas tão variáveis como as de count que vimos acima e é o suficiente para pertubar a capacidade de predição por um todo, por isso é muito importante existir um trabalho constante em unir vários modelos para construir um algorítmo tanto robusto quanto maleável(como a água como Bruce Lee diria), nesse caso somente testei a interferência com o XGB calibrado para um threshold de 0.6, então é esperado que ele seja tão pertubado assim, mas para uma eventual tarefa seria ideal poder utilizar XGB+LR aqui também, ou até mesmo uma IsolationForest que também seria bastante maleável."
   ]
  },
  {
   "cell_type": "markdown",
   "metadata": {},
   "source": [
    "# 5. Relatórios e Aprendizados"
   ]
  },
  {
   "cell_type": "markdown",
   "metadata": {},
   "source": [
    "Com isso utilizamos alguns artificios que de certa forma não dependem do modelo que usamos para guardar os recursos adquiridos nessa atividade, aqui utilizei um um sumário SHAP, que guarda Shapley values o que nos ajuda a identificar as classes que realmente fizeram o modelo ter as inferências que teve em nossos testes(diferente da feature importance, que é um valor de aferição, esse é diretamente para a observação do teste), com isso podemos corrigir algumas interações não planejadas anteriormente(como eu mesmo tive de fazer várias vezes na construção desse trabalho)"
   ]
  },
  {
   "cell_type": "code",
   "execution_count": 150,
   "metadata": {
    "execution": {
     "iopub.execute_input": "2025-05-02T12:50:57.991417Z",
     "iopub.status.busy": "2025-05-02T12:50:57.991129Z",
     "iopub.status.idle": "2025-05-02T12:51:08.328759Z",
     "shell.execute_reply": "2025-05-02T12:51:08.327389Z",
     "shell.execute_reply.started": "2025-05-02T12:50:57.991388Z"
    },
    "trusted": true
   },
   "outputs": [],
   "source": [
    "bg_idx  = np.random.choice(X_tr.index, 500, replace=False)\n",
    "X_bg_t  = inner_pipe.named_steps['prep'].transform(X_tr.loc[bg_idx])\n",
    "X_ex_t  = inner_pipe.named_steps['prep'].transform(X_te.head(200))\n",
    "expl    = shap.TreeExplainer(inner_pipe.named_steps['model'])\n",
    "sv      = expl.shap_values(X_ex_t)\n",
    "\n",
    "feat_nms = inner_pipe.named_steps['prep'].get_feature_names_out()\n"
   ]
  },
  {
   "cell_type": "code",
   "execution_count": 151,
   "metadata": {},
   "outputs": [
    {
     "name": "stdout",
     "output_type": "stream",
     "text": [
      "Saved summary plot to shap_summary.png\n"
     ]
    }
   ],
   "source": [
    "plt.figure()\n",
    "shap.summary_plot(sv, X_ex_t, feature_names=feat_nms,\n",
    "                  max_display=20, show=False)          \n",
    "png_path = \"shap_summary.png\"\n",
    "plt.savefig(png_path, dpi=300, bbox_inches='tight')\n",
    "plt.close()\n",
    "print(f\"Saved summary plot to {png_path}\")"
   ]
  },
  {
   "cell_type": "code",
   "execution_count": 152,
   "metadata": {},
   "outputs": [],
   "source": [
    "anom_idx = np.where((y_te==1) & (vote_test==1))[0][0]\n",
    "html_path = \"alert_row{anom_idx}_explanation.html\"\n",
    "\n",
    "shap.save_html(html_path,\n",
    "               shap.force_plot(expl.expected_value,\n",
    "                               sv[anom_idx, :],\n",
    "                               X_ex_t[anom_idx, :],\n",
    "                               feature_names=feat_nms))"
   ]
  },
  {
   "cell_type": "markdown",
   "metadata": {},
   "source": [
    "Aqui também guardaremos os modelos usados, calibração e threshold para caso necessário em usos futuros não termos de treinar novamente, algo muito comum no cenário industrial onde podemos simplesmente alterar esses valores na pipeline sem ter de interagir diretamente com o modelo."
   ]
  },
  {
   "cell_type": "code",
   "execution_count": 153,
   "metadata": {},
   "outputs": [
    {
     "data": {
      "text/plain": [
       "['ids_or_ensemble_2025‑05‑02.job']"
      ]
     },
     "execution_count": 153,
     "metadata": {},
     "output_type": "execute_result"
    }
   ],
   "source": [
    "joblib.dump({\n",
    "    'xgb_model' : calibrated_pipe,\n",
    "    'lr_model'  : lr_cal,\n",
    "    'thr_xgb'   : float(thr_xgb),\n",
    "    'thr_lr'    : float(thr_lr),\n",
    "    'feature_names': feat_nms       \n",
    "}, 'ids_or_ensemble_2025‑05‑02.job')"
   ]
  }
 ],
 "metadata": {
  "kaggle": {
   "accelerator": "none",
   "dataSources": [
    {
     "datasetId": 62266,
     "sourceId": 120152,
     "sourceType": "datasetVersion"
    }
   ],
   "dockerImageVersionId": 31012,
   "isGpuEnabled": false,
   "isInternetEnabled": true,
   "language": "python",
   "sourceType": "notebook"
  },
  "kernelspec": {
   "display_name": "Python 3",
   "language": "python",
   "name": "python3"
  },
  "language_info": {
   "codemirror_mode": {
    "name": "ipython",
    "version": 3
   },
   "file_extension": ".py",
   "mimetype": "text/x-python",
   "name": "python",
   "nbconvert_exporter": "python",
   "pygments_lexer": "ipython3",
   "version": "3.12.10"
  }
 },
 "nbformat": 4,
 "nbformat_minor": 4
}
