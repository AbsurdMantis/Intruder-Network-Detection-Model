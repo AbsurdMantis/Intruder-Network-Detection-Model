{
 "cells": [
  {
   "cell_type": "markdown",
   "metadata": {},
   "source": [
    "# 0. Imports"
   ]
  },
  {
   "cell_type": "code",
   "execution_count": 756,
   "metadata": {
    "_cell_guid": "b1076dfc-b9ad-4769-8c92-a6c4dae69d19",
    "_uuid": "8f2839f25d086af736a60e9eeb907d3b93b6e0e5",
    "execution": {
     "iopub.execute_input": "2025-05-02T12:42:10.523926Z",
     "iopub.status.busy": "2025-05-02T12:42:10.523585Z",
     "iopub.status.idle": "2025-05-02T12:42:10.546992Z",
     "shell.execute_reply": "2025-05-02T12:42:10.546113Z",
     "shell.execute_reply.started": "2025-05-02T12:42:10.523900Z"
    },
    "trusted": true
   },
   "outputs": [],
   "source": [
    "import pandas as pd, matplotlib.pyplot as plt, seaborn as sns, numpy as np\n",
    "import optuna\n",
    "import os\n",
    "import joblib\n",
    "import shap\n",
    "from sklearn import metrics\n",
    "from sklearn.compose import ColumnTransformer\n",
    "from sklearn.preprocessing import OneHotEncoder, StandardScaler, PolynomialFeatures\n",
    "from sklearn.model_selection import StratifiedKFold, cross_val_score, train_test_split\n",
    "from sklearn.metrics import precision_recall_curve, classification_report, recall_score, precision_score\n",
    "from sklearn.calibration import CalibratedClassifierCV\n",
    "from sklearn.pipeline import Pipeline\n",
    "from xgboost import XGBClassifier\n",
    "from category_encoders.target_encoder import TargetEncoder\n",
    "from xgboost import XGBClassifier\n",
    "from sklearn.impute import SimpleImputer\n",
    "from sklearn.linear_model import LogisticRegression\n",
    "from scipy.sparse import issparse"
   ]
  },
  {
   "cell_type": "markdown",
   "metadata": {},
   "source": [
    "# 1. Analise Exploratória dos Dados"
   ]
  },
  {
   "cell_type": "markdown",
   "metadata": {},
   "source": [
    "## 1.1 Informações gerais da tabela"
   ]
  },
  {
   "cell_type": "markdown",
   "metadata": {},
   "source": [
    "Como o dataset de treino não possui a feature classe, e já que não estamos praticando aqui o uso de aprendizado não supervisionado, ela não possui muito uso em nosso treinamento. Em cenários reais o ideal é que estivesse tudo junto para que fosse feito o split da forma metódica, por isso usaremos somente Train_data"
   ]
  },
  {
   "cell_type": "code",
   "execution_count": 757,
   "metadata": {
    "execution": {
     "iopub.execute_input": "2025-05-02T12:42:10.549384Z",
     "iopub.status.busy": "2025-05-02T12:42:10.548963Z",
     "iopub.status.idle": "2025-05-02T12:42:10.695762Z",
     "shell.execute_reply": "2025-05-02T12:42:10.694375Z",
     "shell.execute_reply.started": "2025-05-02T12:42:10.549353Z"
    },
    "trusted": true
   },
   "outputs": [],
   "source": [
    "df = pd.read_csv('Train_data.csv')"
   ]
  },
  {
   "cell_type": "code",
   "execution_count": 758,
   "metadata": {
    "execution": {
     "iopub.execute_input": "2025-05-02T12:42:10.697697Z",
     "iopub.status.busy": "2025-05-02T12:42:10.697334Z",
     "iopub.status.idle": "2025-05-02T12:42:10.722502Z",
     "shell.execute_reply": "2025-05-02T12:42:10.721370Z",
     "shell.execute_reply.started": "2025-05-02T12:42:10.697672Z"
    },
    "trusted": true
   },
   "outputs": [
    {
     "name": "stdout",
     "output_type": "stream",
     "text": [
      "<class 'pandas.core.frame.DataFrame'>\n",
      "RangeIndex: 25192 entries, 0 to 25191\n",
      "Data columns (total 42 columns):\n",
      " #   Column                       Non-Null Count  Dtype  \n",
      "---  ------                       --------------  -----  \n",
      " 0   duration                     25192 non-null  int64  \n",
      " 1   protocol_type                25192 non-null  object \n",
      " 2   service                      25192 non-null  object \n",
      " 3   flag                         25192 non-null  object \n",
      " 4   src_bytes                    25192 non-null  int64  \n",
      " 5   dst_bytes                    25192 non-null  int64  \n",
      " 6   land                         25192 non-null  int64  \n",
      " 7   wrong_fragment               25192 non-null  int64  \n",
      " 8   urgent                       25192 non-null  int64  \n",
      " 9   hot                          25192 non-null  int64  \n",
      " 10  num_failed_logins            25192 non-null  int64  \n",
      " 11  logged_in                    25192 non-null  int64  \n",
      " 12  num_compromised              25192 non-null  int64  \n",
      " 13  root_shell                   25192 non-null  int64  \n",
      " 14  su_attempted                 25192 non-null  int64  \n",
      " 15  num_root                     25192 non-null  int64  \n",
      " 16  num_file_creations           25192 non-null  int64  \n",
      " 17  num_shells                   25192 non-null  int64  \n",
      " 18  num_access_files             25192 non-null  int64  \n",
      " 19  num_outbound_cmds            25192 non-null  int64  \n",
      " 20  is_host_login                25192 non-null  int64  \n",
      " 21  is_guest_login               25192 non-null  int64  \n",
      " 22  count                        25192 non-null  int64  \n",
      " 23  srv_count                    25192 non-null  int64  \n",
      " 24  serror_rate                  25192 non-null  float64\n",
      " 25  srv_serror_rate              25192 non-null  float64\n",
      " 26  rerror_rate                  25192 non-null  float64\n",
      " 27  srv_rerror_rate              25192 non-null  float64\n",
      " 28  same_srv_rate                25192 non-null  float64\n",
      " 29  diff_srv_rate                25192 non-null  float64\n",
      " 30  srv_diff_host_rate           25192 non-null  float64\n",
      " 31  dst_host_count               25192 non-null  int64  \n",
      " 32  dst_host_srv_count           25192 non-null  int64  \n",
      " 33  dst_host_same_srv_rate       25192 non-null  float64\n",
      " 34  dst_host_diff_srv_rate       25192 non-null  float64\n",
      " 35  dst_host_same_src_port_rate  25192 non-null  float64\n",
      " 36  dst_host_srv_diff_host_rate  25192 non-null  float64\n",
      " 37  dst_host_serror_rate         25192 non-null  float64\n",
      " 38  dst_host_srv_serror_rate     25192 non-null  float64\n",
      " 39  dst_host_rerror_rate         25192 non-null  float64\n",
      " 40  dst_host_srv_rerror_rate     25192 non-null  float64\n",
      " 41  class                        25192 non-null  object \n",
      "dtypes: float64(15), int64(23), object(4)\n",
      "memory usage: 8.1+ MB\n",
      "None\n"
     ]
    }
   ],
   "source": [
    "print(df.info())"
   ]
  },
  {
   "cell_type": "markdown",
   "metadata": {},
   "source": [
    "Checando para valores null"
   ]
  },
  {
   "cell_type": "code",
   "execution_count": 759,
   "metadata": {
    "execution": {
     "iopub.execute_input": "2025-05-02T12:42:10.725274Z",
     "iopub.status.busy": "2025-05-02T12:42:10.724945Z",
     "iopub.status.idle": "2025-05-02T12:42:10.745402Z",
     "shell.execute_reply": "2025-05-02T12:42:10.744123Z",
     "shell.execute_reply.started": "2025-05-02T12:42:10.725252Z"
    },
    "trusted": true
   },
   "outputs": [
    {
     "data": {
      "text/plain": [
       "duration                       0\n",
       "protocol_type                  0\n",
       "service                        0\n",
       "flag                           0\n",
       "src_bytes                      0\n",
       "dst_bytes                      0\n",
       "land                           0\n",
       "wrong_fragment                 0\n",
       "urgent                         0\n",
       "hot                            0\n",
       "num_failed_logins              0\n",
       "logged_in                      0\n",
       "num_compromised                0\n",
       "root_shell                     0\n",
       "su_attempted                   0\n",
       "num_root                       0\n",
       "num_file_creations             0\n",
       "num_shells                     0\n",
       "num_access_files               0\n",
       "num_outbound_cmds              0\n",
       "is_host_login                  0\n",
       "is_guest_login                 0\n",
       "count                          0\n",
       "srv_count                      0\n",
       "serror_rate                    0\n",
       "srv_serror_rate                0\n",
       "rerror_rate                    0\n",
       "srv_rerror_rate                0\n",
       "same_srv_rate                  0\n",
       "diff_srv_rate                  0\n",
       "srv_diff_host_rate             0\n",
       "dst_host_count                 0\n",
       "dst_host_srv_count             0\n",
       "dst_host_same_srv_rate         0\n",
       "dst_host_diff_srv_rate         0\n",
       "dst_host_same_src_port_rate    0\n",
       "dst_host_srv_diff_host_rate    0\n",
       "dst_host_serror_rate           0\n",
       "dst_host_srv_serror_rate       0\n",
       "dst_host_rerror_rate           0\n",
       "dst_host_srv_rerror_rate       0\n",
       "class                          0\n",
       "dtype: int64"
      ]
     },
     "execution_count": 759,
     "metadata": {},
     "output_type": "execute_result"
    }
   ],
   "source": [
    "df.isnull().sum()"
   ]
  },
  {
   "cell_type": "markdown",
   "metadata": {},
   "source": [
    "Checando duplicatas"
   ]
  },
  {
   "cell_type": "code",
   "execution_count": 760,
   "metadata": {
    "execution": {
     "iopub.execute_input": "2025-05-02T12:42:10.747007Z",
     "iopub.status.busy": "2025-05-02T12:42:10.746665Z",
     "iopub.status.idle": "2025-05-02T12:42:10.787875Z",
     "shell.execute_reply": "2025-05-02T12:42:10.787183Z",
     "shell.execute_reply.started": "2025-05-02T12:42:10.746978Z"
    },
    "trusted": true
   },
   "outputs": [
    {
     "data": {
      "text/plain": [
       "np.False_"
      ]
     },
     "execution_count": 760,
     "metadata": {},
     "output_type": "execute_result"
    }
   ],
   "source": [
    "df.duplicated().values.any()"
   ]
  },
  {
   "cell_type": "markdown",
   "metadata": {},
   "source": [
    "Como conclusão parcial temos que o dataset por si já veio bem tratado, então vamos executar uma analise exploratória mais voltada a redução de dimensionalidade, isto é, diminuir a quantidade de colunas que não implicam muito no resultado do machine learning. Para isso precisamos ter uma visualização melhor do dataset"
   ]
  },
  {
   "cell_type": "markdown",
   "metadata": {},
   "source": [
    "## 1.2 Análise das features categóricas"
   ]
  },
  {
   "cell_type": "code",
   "execution_count": 761,
   "metadata": {
    "execution": {
     "iopub.execute_input": "2025-05-02T12:42:10.789670Z",
     "iopub.status.busy": "2025-05-02T12:42:10.789324Z",
     "iopub.status.idle": "2025-05-02T12:42:10.956105Z",
     "shell.execute_reply": "2025-05-02T12:42:10.955221Z",
     "shell.execute_reply.started": "2025-05-02T12:42:10.789648Z"
    },
    "trusted": true
   },
   "outputs": [
    {
     "data": {
      "text/plain": [
       "<Axes: xlabel='class', ylabel='count'>"
      ]
     },
     "execution_count": 761,
     "metadata": {},
     "output_type": "execute_result"
    },
    {
     "data": {
      "image/png": "[encoded data removed]",
      "text/plain": [
       "<Figure size 640x480 with 1 Axes>"
      ]
     },
     "metadata": {},
     "output_type": "display_data"
    }
   ],
   "source": [
    "sns.countplot(x=df['class'])"
   ]
  },
  {
   "cell_type": "markdown",
   "metadata": {},
   "source": [
    "É possível concluir a partir deste gráfico que o quantitativo de casos em cada classe, que é nossa variável alvo pro modelo de inferência é bem balanceada, o q implica que a nossa acurácia de modelo pode ser usada como uma boa métrica de performance, a pequena diferença de 3% entre cada não justifica um oversampling ou o uso de amostras de teste."
   ]
  },
  {
   "cell_type": "code",
   "execution_count": 762,
   "metadata": {
    "execution": {
     "iopub.execute_input": "2025-05-02T12:42:10.957364Z",
     "iopub.status.busy": "2025-05-02T12:42:10.957091Z",
     "iopub.status.idle": "2025-05-02T12:42:11.169110Z",
     "shell.execute_reply": "2025-05-02T12:42:11.168070Z",
     "shell.execute_reply.started": "2025-05-02T12:42:10.957339Z"
    },
    "trusted": true
   },
   "outputs": [
    {
     "data": {
      "text/plain": [
       "<Axes: xlabel='protocol_type', ylabel='count'>"
      ]
     },
     "execution_count": 762,
     "metadata": {},
     "output_type": "execute_result"
    },
    {
     "data": {
      "image/png": "[encoded data removed]",
      "text/plain": [
       "<Figure size 640x480 with 1 Axes>"
      ]
     },
     "metadata": {},
     "output_type": "display_data"
    }
   ],
   "source": [
    "sns.countplot(data = df, x ='protocol_type', hue = 'class')"
   ]
  },
  {
   "cell_type": "markdown",
   "metadata": {},
   "source": [
    "80% do tráfego é TCP, enquanto 12% é do UDP e o resto ICMP;\n",
    "Boa parte do tráfego em ICMP tinha alguma anomalia, enquanto o UDP é boa parte normal;\n",
    "Ao todo, há mais casos normais presentes em TCP e UDP comparado à anomalias, no entanto a diferença numérica de classes em TCP é bem menor comparada aos outros, o q dificulta um pouco a inferência sem outras matrizes de correlação, o que iremos explorar mais abaixo."
   ]
  },
  {
   "cell_type": "code",
   "execution_count": 763,
   "metadata": {
    "execution": {
     "iopub.execute_input": "2025-05-02T12:42:11.170436Z",
     "iopub.status.busy": "2025-05-02T12:42:11.170140Z",
     "iopub.status.idle": "2025-05-02T12:42:11.461605Z",
     "shell.execute_reply": "2025-05-02T12:42:11.460592Z",
     "shell.execute_reply.started": "2025-05-02T12:42:11.170402Z"
    },
    "trusted": true
   },
   "outputs": [
    {
     "data": {
      "text/plain": [
       "<Axes: xlabel='flag', ylabel='count'>"
      ]
     },
     "execution_count": 763,
     "metadata": {},
     "output_type": "execute_result"
    },
    {
     "data": {
      "image/png": "[encoded data removed]",
      "text/plain": [
       "<Figure size 640x480 with 1 Axes>"
      ]
     },
     "metadata": {},
     "output_type": "display_data"
    }
   ],
   "source": [
    "sns.countplot(data = df, x = 'flag', hue = 'class')"
   ]
  },
  {
   "cell_type": "markdown",
   "metadata": {},
   "source": [
    "A distribuição de trafego baseada nas flags é bem desigual também, onde maioria é de tipo Sign Flag(SF). Boa parte do mesmo é normal, enquanto S0 é de maioria anomala."
   ]
  },
  {
   "cell_type": "code",
   "execution_count": 764,
   "metadata": {
    "execution": {
     "iopub.execute_input": "2025-05-02T12:42:11.463324Z",
     "iopub.status.busy": "2025-05-02T12:42:11.462731Z",
     "iopub.status.idle": "2025-05-02T12:42:12.323915Z",
     "shell.execute_reply": "2025-05-02T12:42:12.322957Z",
     "shell.execute_reply.started": "2025-05-02T12:42:11.463295Z"
    },
    "trusted": true
   },
   "outputs": [
    {
     "data": {
      "text/plain": [
       "([0,\n",
       "  1,\n",
       "  2,\n",
       "  3,\n",
       "  4,\n",
       "  5,\n",
       "  6,\n",
       "  7,\n",
       "  8,\n",
       "  9,\n",
       "  10,\n",
       "  11,\n",
       "  12,\n",
       "  13,\n",
       "  14,\n",
       "  15,\n",
       "  16,\n",
       "  17,\n",
       "  18,\n",
       "  19,\n",
       "  20,\n",
       "  21,\n",
       "  22,\n",
       "  23,\n",
       "  24,\n",
       "  25,\n",
       "  26,\n",
       "  27,\n",
       "  28,\n",
       "  29,\n",
       "  30,\n",
       "  31,\n",
       "  32,\n",
       "  33,\n",
       "  34,\n",
       "  35,\n",
       "  36,\n",
       "  37,\n",
       "  38,\n",
       "  39,\n",
       "  40,\n",
       "  41,\n",
       "  42,\n",
       "  43,\n",
       "  44,\n",
       "  45,\n",
       "  46,\n",
       "  47,\n",
       "  48,\n",
       "  49,\n",
       "  50,\n",
       "  51,\n",
       "  52,\n",
       "  53,\n",
       "  54,\n",
       "  55,\n",
       "  56,\n",
       "  57,\n",
       "  58,\n",
       "  59,\n",
       "  60,\n",
       "  61,\n",
       "  62,\n",
       "  63,\n",
       "  64,\n",
       "  65],\n",
       " [Text(0, 0, 'ftp_data'),\n",
       "  Text(1, 0, 'other'),\n",
       "  Text(2, 0, 'private'),\n",
       "  Text(3, 0, 'http'),\n",
       "  Text(4, 0, 'remote_job'),\n",
       "  Text(5, 0, 'name'),\n",
       "  Text(6, 0, 'netbios_ns'),\n",
       "  Text(7, 0, 'eco_i'),\n",
       "  Text(8, 0, 'mtp'),\n",
       "  Text(9, 0, 'telnet'),\n",
       "  Text(10, 0, 'finger'),\n",
       "  Text(11, 0, 'domain_u'),\n",
       "  Text(12, 0, 'supdup'),\n",
       "  Text(13, 0, 'uucp_path'),\n",
       "  Text(14, 0, 'Z39_50'),\n",
       "  Text(15, 0, 'smtp'),\n",
       "  Text(16, 0, 'csnet_ns'),\n",
       "  Text(17, 0, 'uucp'),\n",
       "  Text(18, 0, 'netbios_dgm'),\n",
       "  Text(19, 0, 'urp_i'),\n",
       "  Text(20, 0, 'auth'),\n",
       "  Text(21, 0, 'domain'),\n",
       "  Text(22, 0, 'ftp'),\n",
       "  Text(23, 0, 'bgp'),\n",
       "  Text(24, 0, 'ldap'),\n",
       "  Text(25, 0, 'ecr_i'),\n",
       "  Text(26, 0, 'gopher'),\n",
       "  Text(27, 0, 'vmnet'),\n",
       "  Text(28, 0, 'systat'),\n",
       "  Text(29, 0, 'http_443'),\n",
       "  Text(30, 0, 'efs'),\n",
       "  Text(31, 0, 'whois'),\n",
       "  Text(32, 0, 'imap4'),\n",
       "  Text(33, 0, 'iso_tsap'),\n",
       "  Text(34, 0, 'echo'),\n",
       "  Text(35, 0, 'klogin'),\n",
       "  Text(36, 0, 'link'),\n",
       "  Text(37, 0, 'sunrpc'),\n",
       "  Text(38, 0, 'login'),\n",
       "  Text(39, 0, 'kshell'),\n",
       "  Text(40, 0, 'sql_net'),\n",
       "  Text(41, 0, 'time'),\n",
       "  Text(42, 0, 'hostnames'),\n",
       "  Text(43, 0, 'exec'),\n",
       "  Text(44, 0, 'ntp_u'),\n",
       "  Text(45, 0, 'discard'),\n",
       "  Text(46, 0, 'nntp'),\n",
       "  Text(47, 0, 'courier'),\n",
       "  Text(48, 0, 'ctf'),\n",
       "  Text(49, 0, 'ssh'),\n",
       "  Text(50, 0, 'daytime'),\n",
       "  Text(51, 0, 'shell'),\n",
       "  Text(52, 0, 'netstat'),\n",
       "  Text(53, 0, 'pop_3'),\n",
       "  Text(54, 0, 'nnsp'),\n",
       "  Text(55, 0, 'IRC'),\n",
       "  Text(56, 0, 'pop_2'),\n",
       "  Text(57, 0, 'printer'),\n",
       "  Text(58, 0, 'tim_i'),\n",
       "  Text(59, 0, 'pm_dump'),\n",
       "  Text(60, 0, 'red_i'),\n",
       "  Text(61, 0, 'netbios_ssn'),\n",
       "  Text(62, 0, 'rje'),\n",
       "  Text(63, 0, 'X11'),\n",
       "  Text(64, 0, 'urh_i'),\n",
       "  Text(65, 0, 'http_8001')])"
      ]
     },
     "execution_count": 764,
     "metadata": {},
     "output_type": "execute_result"
    },
    {
     "data": {
      "image/png": "[encoded data removed]",
      "text/plain": [
       "<Figure size 1200x600 with 1 Axes>"
      ]
     },
     "metadata": {},
     "output_type": "display_data"
    }
   ],
   "source": [
    "plt.figure(figsize = (12,6))\n",
    "sns.countplot(data = df, x = 'service', hue = 'class')\n",
    "plt.xticks(rotation = 90)"
   ]
  },
  {
   "cell_type": "markdown",
   "metadata": {},
   "source": [
    "Inicialmente meu plano incluia derrubar essa coluna, já que como vemos pelo gráfico ela possui uma alta quantidade de classes em sua feature(66 pra ser exato) porém enquanto lendo sobre o assunto em cenários reais mostra o quão importante é o tipo de serviço em KDD(Knowledge Discovery in Database) para detecção de ataques, então vamos tratar sobre isso mais abaixo.\n",
    "\n",
    "https://www.researchgate.net/publication/361531767_Establishing_the_Contaminating_Effect_of_Metadata_Feature_Inclusion_in_Machine-Learned_Network_Intrusion_Detection_Models"
   ]
  },
  {
   "cell_type": "code",
   "execution_count": 765,
   "metadata": {
    "execution": {
     "iopub.execute_input": "2025-05-02T12:42:12.327373Z",
     "iopub.status.busy": "2025-05-02T12:42:12.327070Z",
     "iopub.status.idle": "2025-05-02T12:42:12.673166Z",
     "shell.execute_reply": "2025-05-02T12:42:12.672015Z",
     "shell.execute_reply.started": "2025-05-02T12:42:12.327353Z"
    },
    "trusted": true
   },
   "outputs": [
    {
     "data": {
      "text/plain": [
       "<seaborn.axisgrid.FacetGrid at 0x182294ab8f0>"
      ]
     },
     "execution_count": 765,
     "metadata": {},
     "output_type": "execute_result"
    },
    {
     "data": {
      "text/plain": [
       "<Figure size 1600x600 with 0 Axes>"
      ]
     },
     "metadata": {},
     "output_type": "display_data"
    },
    {
     "data": {
      "image/png": "[encoded data removed]",
      "text/plain": [
       "<Figure size 500x500 with 1 Axes>"
      ]
     },
     "metadata": {},
     "output_type": "display_data"
    }
   ],
   "source": [
    "plt.figure(figsize=(16,6))\n",
    "sns.displot(df['count'], kde=False)"
   ]
  },
  {
   "cell_type": "markdown",
   "metadata": {},
   "source": [
    "Count demonstra que maioria das conexões possuiam o mesmo host de destinação usando o mesmo serviço, sendo ou com count MUITO baixo, ou count MUITO alto."
   ]
  },
  {
   "cell_type": "markdown",
   "metadata": {},
   "source": [
    "## 1.3 Análise das features numéricas"
   ]
  },
  {
   "cell_type": "code",
   "execution_count": 766,
   "metadata": {
    "execution": {
     "iopub.execute_input": "2025-05-02T12:42:12.675659Z",
     "iopub.status.busy": "2025-05-02T12:42:12.674540Z",
     "iopub.status.idle": "2025-05-02T12:42:12.684003Z",
     "shell.execute_reply": "2025-05-02T12:42:12.682582Z",
     "shell.execute_reply.started": "2025-05-02T12:42:12.675626Z"
    },
    "trusted": true
   },
   "outputs": [],
   "source": [
    "labels ={'normal':0,'anomaly':1}\n",
    "df['class'] = df['class'].map(labels)"
   ]
  },
  {
   "cell_type": "markdown",
   "metadata": {},
   "source": [
    "Aqui estamos simplesmente fazendo um encoding simples, isto é, mudando uma classe categórica para uma númerica para a alimentação do nosso modelo, sendo 0 uma atividade normal e 1 uma atividade anomala."
   ]
  },
  {
   "cell_type": "code",
   "execution_count": 767,
   "metadata": {
    "execution": {
     "iopub.execute_input": "2025-05-02T12:42:12.685365Z",
     "iopub.status.busy": "2025-05-02T12:42:12.685057Z",
     "iopub.status.idle": "2025-05-02T12:42:12.713446Z",
     "shell.execute_reply": "2025-05-02T12:42:12.711847Z",
     "shell.execute_reply.started": "2025-05-02T12:42:12.685343Z"
    },
    "trusted": true
   },
   "outputs": [],
   "source": [
    "num_cols = df.select_dtypes(include = ['int64','float64'])"
   ]
  },
  {
   "cell_type": "markdown",
   "metadata": {},
   "source": [
    "Aqui buscamos todas as classes númericas, como temos muitas colunas numéricas o nosso objetivo aqui é reduzir a dimensionalidade, isto é, uma técnica de ML feita para aumentar a capacidade de inferência do nosso modelo retirando colunas que causem ruído, nesse caso vamos tirar colunas que uma alta correlação que possuam o mesmo resultado de classe assim criando um modelo um pouco mais robusto."
   ]
  },
  {
   "cell_type": "code",
   "execution_count": 768,
   "metadata": {
    "execution": {
     "iopub.execute_input": "2025-05-02T12:42:12.714801Z",
     "iopub.status.busy": "2025-05-02T12:42:12.714473Z",
     "iopub.status.idle": "2025-05-02T12:42:12.843069Z",
     "shell.execute_reply": "2025-05-02T12:42:12.842015Z",
     "shell.execute_reply.started": "2025-05-02T12:42:12.714779Z"
    },
    "trusted": true
   },
   "outputs": [
    {
     "data": {
      "text/plain": [
       "same_srv_rate                 -0.749237\n",
       "dst_host_srv_count            -0.719292\n",
       "dst_host_same_srv_rate        -0.692212\n",
       "logged_in                     -0.688084\n",
       "srv_diff_host_rate            -0.120649\n",
       "is_guest_login                -0.038662\n",
       "num_access_files              -0.036999\n",
       "su_attempted                  -0.025851\n",
       "num_root                      -0.019753\n",
       "num_compromised               -0.018620\n",
       "root_shell                    -0.018579\n",
       "num_file_creations            -0.018322\n",
       "num_shells                    -0.013454\n",
       "hot                           -0.012839\n",
       "dst_bytes                     -0.010949\n",
       "num_failed_logins              0.000028\n",
       "land                           0.000605\n",
       "srv_count                      0.002370\n",
       "src_bytes                      0.005743\n",
       "urgent                         0.006743\n",
       "duration                       0.050901\n",
       "dst_host_srv_diff_host_rate    0.062928\n",
       "dst_host_same_src_port_rate    0.092974\n",
       "wrong_fragment                 0.097625\n",
       "diff_srv_rate                  0.193528\n",
       "dst_host_diff_srv_rate         0.238170\n",
       "srv_rerror_rate                0.256152\n",
       "dst_host_rerror_rate           0.256312\n",
       "rerror_rate                    0.256858\n",
       "dst_host_srv_rerror_rate       0.256999\n",
       "dst_host_count                 0.368828\n",
       "count                          0.578790\n",
       "srv_serror_rate                0.647817\n",
       "serror_rate                    0.649952\n",
       "dst_host_serror_rate           0.651050\n",
       "dst_host_srv_serror_rate       0.653759\n",
       "class                          1.000000\n",
       "num_outbound_cmds                   NaN\n",
       "is_host_login                       NaN\n",
       "Name: class, dtype: float64"
      ]
     },
     "execution_count": 768,
     "metadata": {},
     "output_type": "execute_result"
    }
   ],
   "source": [
    "num_cols.corr()['class'].sort_values()"
   ]
  },
  {
   "cell_type": "code",
   "execution_count": 769,
   "metadata": {
    "execution": {
     "iopub.execute_input": "2025-05-02T12:42:12.844317Z",
     "iopub.status.busy": "2025-05-02T12:42:12.844083Z",
     "iopub.status.idle": "2025-05-02T12:42:12.858937Z",
     "shell.execute_reply": "2025-05-02T12:42:12.857342Z",
     "shell.execute_reply.started": "2025-05-02T12:42:12.844300Z"
    },
    "trusted": true
   },
   "outputs": [],
   "source": [
    "df.drop(['num_outbound_cmds','is_host_login'], axis=1, inplace=True)\n",
    "num_cols = df.select_dtypes(include = ['int64','float64'])"
   ]
  },
  {
   "cell_type": "markdown",
   "metadata": {},
   "source": [
    "Como visto acima, essas duas features 'num_outbound_cmds','is_host_login' não implicam em nada(na verdade, após olhar elas não possuem nenhum valor registrado) no modelo, por isso podemos retira-las imediatamente."
   ]
  },
  {
   "cell_type": "code",
   "execution_count": 770,
   "metadata": {
    "execution": {
     "iopub.execute_input": "2025-05-02T12:42:12.907370Z",
     "iopub.status.busy": "2025-05-02T12:42:12.906933Z",
     "iopub.status.idle": "2025-05-02T12:42:13.438769Z",
     "shell.execute_reply": "2025-05-02T12:42:13.437706Z",
     "shell.execute_reply.started": "2025-05-02T12:42:12.907311Z"
    },
    "trusted": true
   },
   "outputs": [
    {
     "data": {
      "text/plain": [
       "<Axes: >"
      ]
     },
     "execution_count": 770,
     "metadata": {},
     "output_type": "execute_result"
    },
    {
     "data": {
      "image/png": "[encoded data removed]",
      "text/plain": [
       "<Figure size 640x480 with 1 Axes>"
      ]
     },
     "metadata": {},
     "output_type": "display_data"
    }
   ],
   "source": [
    "num_cols.corr()['class'].drop('class').sort_values().plot(kind ='bar')"
   ]
  },
  {
   "cell_type": "markdown",
   "metadata": {},
   "source": [
    "No gráfico vemos uma alta correlação negativa de -0.749 que sugere uma relação inversa entre 'same_srv_rate' e nossa variável alvo 'classe' o que indica que assim que os valores delas são mais altos, é mais indicavel que aquela seja uma atividade anomala, e vice versa. Enquanto isso, uma correlação positiva alta de 0.65 entre 'dst_host_srv_serror_rate' e nossa variável alvo diz que quanto maior o valor dele, maior a chance de ser uma anomalia."
   ]
  },
  {
   "cell_type": "markdown",
   "metadata": {},
   "source": [
    "### 1.3.1 Tratamento de features numéricas correlacionadas"
   ]
  },
  {
   "cell_type": "code",
   "execution_count": 771,
   "metadata": {
    "execution": {
     "iopub.execute_input": "2025-05-02T12:42:13.440487Z",
     "iopub.status.busy": "2025-05-02T12:42:13.440112Z",
     "iopub.status.idle": "2025-05-02T12:42:14.394712Z",
     "shell.execute_reply": "2025-05-02T12:42:14.393705Z",
     "shell.execute_reply.started": "2025-05-02T12:42:13.440454Z"
    },
    "trusted": true
   },
   "outputs": [
    {
     "data": {
      "text/plain": [
       "<Axes: >"
      ]
     },
     "execution_count": 771,
     "metadata": {},
     "output_type": "execute_result"
    },
    {
     "data": {
      "image/png": "[encoded data removed]",
      "text/plain": [
       "<Figure size 1200x600 with 2 Axes>"
      ]
     },
     "metadata": {},
     "output_type": "display_data"
    }
   ],
   "source": [
    "plt.figure(figsize = (12, 6))\n",
    "sns.heatmap(data = num_cols.corr(), cmap = 'viridis')"
   ]
  },
  {
   "cell_type": "markdown",
   "metadata": {},
   "source": [
    "Aqui estamos vendo uma matriz de correlação de variáveis, aqui podemos ver quais variáveis tem maior relação entre si na implicação do resultado, assim podemos eliminar a redundância criando uma matriz entre essas variáveis e retirando uma delas."
   ]
  },
  {
   "cell_type": "code",
   "execution_count": 772,
   "metadata": {
    "execution": {
     "iopub.execute_input": "2025-05-02T12:42:14.395944Z",
     "iopub.status.busy": "2025-05-02T12:42:14.395667Z",
     "iopub.status.idle": "2025-05-02T12:42:14.523271Z",
     "shell.execute_reply": "2025-05-02T12:42:14.522332Z",
     "shell.execute_reply.started": "2025-05-02T12:42:14.395918Z"
    },
    "trusted": true
   },
   "outputs": [
    {
     "data": {
      "text/html": [
       "<div>\n",
       "<style scoped>\n",
       "    .dataframe tbody tr th:only-of-type {\n",
       "        vertical-align: middle;\n",
       "    }\n",
       "\n",
       "    .dataframe tbody tr th {\n",
       "        vertical-align: top;\n",
       "    }\n",
       "\n",
       "    .dataframe thead th {\n",
       "        text-align: right;\n",
       "    }\n",
       "</style>\n",
       "<table border=\"1\" class=\"dataframe\">\n",
       "  <thead>\n",
       "    <tr style=\"text-align: right;\">\n",
       "      <th></th>\n",
       "      <th>Feature 1</th>\n",
       "      <th>Feature 2</th>\n",
       "      <th>Correlation Coefficient</th>\n",
       "    </tr>\n",
       "  </thead>\n",
       "  <tbody>\n",
       "    <tr>\n",
       "      <th>0</th>\n",
       "      <td>num_root</td>\n",
       "      <td>num_compromised</td>\n",
       "      <td>0.998956</td>\n",
       "    </tr>\n",
       "    <tr>\n",
       "      <th>1</th>\n",
       "      <td>srv_serror_rate</td>\n",
       "      <td>serror_rate</td>\n",
       "      <td>0.993290</td>\n",
       "    </tr>\n",
       "    <tr>\n",
       "      <th>2</th>\n",
       "      <td>srv_rerror_rate</td>\n",
       "      <td>rerror_rate</td>\n",
       "      <td>0.989134</td>\n",
       "    </tr>\n",
       "    <tr>\n",
       "      <th>3</th>\n",
       "      <td>dst_host_serror_rate</td>\n",
       "      <td>serror_rate</td>\n",
       "      <td>0.978022</td>\n",
       "    </tr>\n",
       "    <tr>\n",
       "      <th>4</th>\n",
       "      <td>dst_host_serror_rate</td>\n",
       "      <td>srv_serror_rate</td>\n",
       "      <td>0.976363</td>\n",
       "    </tr>\n",
       "    <tr>\n",
       "      <th>5</th>\n",
       "      <td>dst_host_srv_serror_rate</td>\n",
       "      <td>serror_rate</td>\n",
       "      <td>0.979602</td>\n",
       "    </tr>\n",
       "    <tr>\n",
       "      <th>6</th>\n",
       "      <td>dst_host_srv_serror_rate</td>\n",
       "      <td>srv_serror_rate</td>\n",
       "      <td>0.984621</td>\n",
       "    </tr>\n",
       "    <tr>\n",
       "      <th>7</th>\n",
       "      <td>dst_host_srv_serror_rate</td>\n",
       "      <td>dst_host_serror_rate</td>\n",
       "      <td>0.984706</td>\n",
       "    </tr>\n",
       "    <tr>\n",
       "      <th>8</th>\n",
       "      <td>dst_host_rerror_rate</td>\n",
       "      <td>rerror_rate</td>\n",
       "      <td>0.928992</td>\n",
       "    </tr>\n",
       "    <tr>\n",
       "      <th>9</th>\n",
       "      <td>dst_host_rerror_rate</td>\n",
       "      <td>srv_rerror_rate</td>\n",
       "      <td>0.919537</td>\n",
       "    </tr>\n",
       "    <tr>\n",
       "      <th>10</th>\n",
       "      <td>dst_host_srv_rerror_rate</td>\n",
       "      <td>rerror_rate</td>\n",
       "      <td>0.964886</td>\n",
       "    </tr>\n",
       "    <tr>\n",
       "      <th>11</th>\n",
       "      <td>dst_host_srv_rerror_rate</td>\n",
       "      <td>srv_rerror_rate</td>\n",
       "      <td>0.969841</td>\n",
       "    </tr>\n",
       "    <tr>\n",
       "      <th>12</th>\n",
       "      <td>dst_host_srv_rerror_rate</td>\n",
       "      <td>dst_host_rerror_rate</td>\n",
       "      <td>0.925390</td>\n",
       "    </tr>\n",
       "  </tbody>\n",
       "</table>\n",
       "</div>"
      ],
      "text/plain": [
       "                   Feature 1             Feature 2  Correlation Coefficient\n",
       "0                   num_root       num_compromised                 0.998956\n",
       "1            srv_serror_rate           serror_rate                 0.993290\n",
       "2            srv_rerror_rate           rerror_rate                 0.989134\n",
       "3       dst_host_serror_rate           serror_rate                 0.978022\n",
       "4       dst_host_serror_rate       srv_serror_rate                 0.976363\n",
       "5   dst_host_srv_serror_rate           serror_rate                 0.979602\n",
       "6   dst_host_srv_serror_rate       srv_serror_rate                 0.984621\n",
       "7   dst_host_srv_serror_rate  dst_host_serror_rate                 0.984706\n",
       "8       dst_host_rerror_rate           rerror_rate                 0.928992\n",
       "9       dst_host_rerror_rate       srv_rerror_rate                 0.919537\n",
       "10  dst_host_srv_rerror_rate           rerror_rate                 0.964886\n",
       "11  dst_host_srv_rerror_rate       srv_rerror_rate                 0.969841\n",
       "12  dst_host_srv_rerror_rate  dst_host_rerror_rate                 0.925390"
      ]
     },
     "execution_count": 772,
     "metadata": {},
     "output_type": "execute_result"
    }
   ],
   "source": [
    "# Calculando a matriz de correlação\n",
    "correlation_matrix = num_cols.corr()\n",
    "\n",
    "# Limite de correlação mínima para matriz\n",
    "threshold = 0.90\n",
    "\n",
    "# Array de pares de correlação direta\n",
    "strong_correlations = []\n",
    "\n",
    "for i in range(len(correlation_matrix.columns)):\n",
    "    for j in range(i):\n",
    "        if abs(correlation_matrix.iloc[i, j]) > threshold:\n",
    "            strong_correlations.append((correlation_matrix.columns[i], correlation_matrix.columns[j], correlation_matrix.iloc[i, j]))\n",
    "\n",
    "# Convertido em dataframe para legibilidade\n",
    "strong_correlations_df = pd.DataFrame(strong_correlations, columns=['Feature 1', 'Feature 2', 'Correlation Coefficient'])\n",
    "\n",
    "strong_correlations_df"
   ]
  },
  {
   "cell_type": "code",
   "execution_count": 773,
   "metadata": {
    "execution": {
     "iopub.execute_input": "2025-05-02T12:42:14.524551Z",
     "iopub.status.busy": "2025-05-02T12:42:14.524279Z",
     "iopub.status.idle": "2025-05-02T12:42:14.531174Z",
     "shell.execute_reply": "2025-05-02T12:42:14.530283Z",
     "shell.execute_reply.started": "2025-05-02T12:42:14.524498Z"
    },
    "trusted": true
   },
   "outputs": [
    {
     "data": {
      "text/plain": [
       "['num_root',\n",
       " 'srv_serror_rate',\n",
       " 'srv_rerror_rate',\n",
       " 'dst_host_serror_rate',\n",
       " 'dst_host_serror_rate',\n",
       " 'dst_host_srv_serror_rate',\n",
       " 'dst_host_srv_serror_rate',\n",
       " 'dst_host_srv_serror_rate',\n",
       " 'dst_host_rerror_rate',\n",
       " 'dst_host_rerror_rate',\n",
       " 'dst_host_srv_rerror_rate',\n",
       " 'dst_host_srv_rerror_rate',\n",
       " 'dst_host_srv_rerror_rate']"
      ]
     },
     "execution_count": 773,
     "metadata": {},
     "output_type": "execute_result"
    }
   ],
   "source": [
    "strong_correlations_list = list(strong_correlations_df['Feature 1'])\n",
    "strong_correlations_list"
   ]
  },
  {
   "cell_type": "markdown",
   "metadata": {},
   "source": [
    "Como dito anteriormente, essas variáveis possuem mais de 90% de relação entre si, então retira-las é uma forma de aumentarmos a robustez de nosso modelo diminuindo a dimensionalidade da tabela."
   ]
  },
  {
   "cell_type": "code",
   "execution_count": 774,
   "metadata": {
    "execution": {
     "iopub.execute_input": "2025-05-02T12:42:14.532215Z",
     "iopub.status.busy": "2025-05-02T12:42:14.531968Z",
     "iopub.status.idle": "2025-05-02T12:42:14.555503Z",
     "shell.execute_reply": "2025-05-02T12:42:14.554342Z",
     "shell.execute_reply.started": "2025-05-02T12:42:14.532197Z"
    },
    "trusted": true
   },
   "outputs": [],
   "source": [
    "df = df.drop(strong_correlations_list, axis = 1)"
   ]
  },
  {
   "cell_type": "markdown",
   "metadata": {},
   "source": [
    "## 1.4 Tratamento de outliers"
   ]
  },
  {
   "cell_type": "markdown",
   "metadata": {},
   "source": [
    "Aqui fariamos o tratamento de outliers usando o método interquartis, porém em uma verificação rápida não existem outliers suficientes para justificar esse tratamento, então podemos simplesmente pular isso"
   ]
  },
  {
   "cell_type": "code",
   "execution_count": 775,
   "metadata": {
    "execution": {
     "iopub.execute_input": "2025-05-02T12:42:12.860495Z",
     "iopub.status.busy": "2025-05-02T12:42:12.860115Z",
     "iopub.status.idle": "2025-05-02T12:42:12.884631Z",
     "shell.execute_reply": "2025-05-02T12:42:12.883606Z",
     "shell.execute_reply.started": "2025-05-02T12:42:12.860471Z"
    },
    "trusted": true
   },
   "outputs": [],
   "source": [
    "def take_outliers_out(df:pd.DataFrame, num_features:list)->pd.DataFrame:\n",
    "    for variable in num_features:\n",
    "        var_desc = df[variable].describe() \n",
    "        IQR = var_desc['75%'] - var_desc['25%']\n",
    "    \n",
    "        new_df = df[(df[variable] <= (var_desc['75%'] + 2 * IQR)) & (df[variable] >= (var_desc['25%'] - 2 * IQR))]\n",
    "    \n",
    "    return new_df"
   ]
  },
  {
   "cell_type": "code",
   "execution_count": 776,
   "metadata": {
    "execution": {
     "iopub.execute_input": "2025-05-02T12:42:12.886075Z",
     "iopub.status.busy": "2025-05-02T12:42:12.885733Z",
     "iopub.status.idle": "2025-05-02T12:42:12.905748Z",
     "shell.execute_reply": "2025-05-02T12:42:12.904823Z",
     "shell.execute_reply.started": "2025-05-02T12:42:12.886039Z"
    },
    "trusted": true
   },
   "outputs": [],
   "source": [
    "#df = take_outliers_out(df, num_cols)\n",
    "#df.reset_index(drop=True, inplace=True)"
   ]
  },
  {
   "cell_type": "markdown",
   "metadata": {},
   "source": [
    "# 2. Modelagem"
   ]
  },
  {
   "cell_type": "markdown",
   "metadata": {},
   "source": [
    "## 2.1 Codificação de features categóricas"
   ]
  },
  {
   "cell_type": "markdown",
   "metadata": {},
   "source": [
    "Aqui começamos separando a tabela com nossas features e nossa variável alvo."
   ]
  },
  {
   "cell_type": "code",
   "execution_count": 777,
   "metadata": {
    "execution": {
     "iopub.execute_input": "2025-05-02T12:42:14.558096Z",
     "iopub.status.busy": "2025-05-02T12:42:14.557617Z",
     "iopub.status.idle": "2025-05-02T12:42:14.568033Z",
     "shell.execute_reply": "2025-05-02T12:42:14.567112Z",
     "shell.execute_reply.started": "2025-05-02T12:42:14.558065Z"
    },
    "trusted": true
   },
   "outputs": [],
   "source": [
    "y  = df['class']\n",
    "X  = df.drop(columns='class')"
   ]
  },
  {
   "cell_type": "code",
   "execution_count": 778,
   "metadata": {
    "execution": {
     "iopub.execute_input": "2025-05-02T12:42:14.569480Z",
     "iopub.status.busy": "2025-05-02T12:42:14.569131Z",
     "iopub.status.idle": "2025-05-02T12:42:14.588896Z",
     "shell.execute_reply": "2025-05-02T12:42:14.588022Z",
     "shell.execute_reply.started": "2025-05-02T12:42:14.569457Z"
    },
    "trusted": true
   },
   "outputs": [],
   "source": [
    "cat_cols = X.select_dtypes(include=['object','category']).columns.tolist()\n",
    "num_cols = X.select_dtypes(exclude=['object','category']).columns.tolist()"
   ]
  },
  {
   "cell_type": "markdown",
   "metadata": {},
   "source": [
    "Por que não usamos somente o OneHotEncoding ou diretamente o label encoder aqui?\n",
    "\n",
    "Isso é possível, porém não tão performático primeiro pelas dimensões de colunas, que machucariam a acurácia no one hot encoding/label encoder assim como o fator cardinalidade para ordenalidade caso fosse feito assim já que 'service' tem 66 valores únicos mas que não representam diretamente ordinalidade quanto a presença de uma anomalia ou não. Por isso a separação abaixo.\n",
    "\n",
    "Um fator que seria um ponto de melhoria aqui seria o fato de de classes de distribuição de cauda pesada, como foi visto acima com o exemplo do count(na verdade, todas que possuem count no descritivo são de cauda pesada) o que implica num alto enviesamento dos dados. O ideal portanto seria que fosse feito uma transformação logarítmica(mas são 15:39 de um domingo e eu quero assistir formula 1) para lidar com a alta variabilidade e assimetria de counts de forma performática."
   ]
  },
  {
   "cell_type": "code",
   "execution_count": 779,
   "metadata": {
    "execution": {
     "iopub.execute_input": "2025-05-02T12:42:14.590354Z",
     "iopub.status.busy": "2025-05-02T12:42:14.589877Z",
     "iopub.status.idle": "2025-05-02T12:42:14.644692Z",
     "shell.execute_reply": "2025-05-02T12:42:14.643615Z",
     "shell.execute_reply.started": "2025-05-02T12:42:14.590319Z"
    },
    "trusted": true
   },
   "outputs": [],
   "source": [
    "svc_col   = ['service']\n",
    "cat_ohcol = [c for c in cat_cols if c not in svc_col]\n",
    "\n",
    "prep = ColumnTransformer([\n",
    "        ('svc', TargetEncoder(\n",
    "                    cols=svc_col,\n",
    "                    smoothing=0.3,\n",
    "                    handle_unknown='ignore',\n",
    "                    handle_missing='value'), svc_col),\n",
    "\n",
    "\n",
    "        ('cat', OneHotEncoder(handle_unknown='ignore', sparse_output=True), cat_ohcol),\n",
    "\n",
    "\n",
    "        ('num', StandardScaler(), num_cols)\n",
    "])"
   ]
  },
  {
   "cell_type": "markdown",
   "metadata": {},
   "source": [
    "## 2.2 Separação de treino e teste"
   ]
  },
  {
   "cell_type": "markdown",
   "metadata": {},
   "source": [
    "Aqui é um split básico de 80/20 entre treino e teste para os nossos modelos"
   ]
  },
  {
   "cell_type": "code",
   "execution_count": 780,
   "metadata": {
    "execution": {
     "iopub.execute_input": "2025-05-02T12:42:14.667617Z",
     "iopub.status.busy": "2025-05-02T12:42:14.667274Z",
     "iopub.status.idle": "2025-05-02T12:42:15.315029Z",
     "shell.execute_reply": "2025-05-02T12:42:15.314191Z",
     "shell.execute_reply.started": "2025-05-02T12:42:14.667588Z"
    },
    "trusted": true
   },
   "outputs": [],
   "source": [
    "X_tr, X_te, y_tr, y_te = train_test_split(\n",
    "        X, y, test_size=0.20, stratify=y, random_state=42)\n"
   ]
  },
  {
   "cell_type": "markdown",
   "metadata": {},
   "source": [
    "# 3. Classificação"
   ]
  },
  {
   "cell_type": "markdown",
   "metadata": {},
   "source": [
    "## 3.1 Classificação com o XGB"
   ]
  },
  {
   "cell_type": "markdown",
   "metadata": {},
   "source": [
    "Por que usamos XGB aqui? Por conta das diversas relações não diretamente lineares como visto acima nas features 'service' e 'flag' assim como melhor adequação a features com e sem cardinalidade assim como mais eficiente energéticamente para ambientes reais da industria."
   ]
  },
  {
   "cell_type": "code",
   "execution_count": 781,
   "metadata": {
    "execution": {
     "iopub.execute_input": "2025-05-02T12:42:14.646002Z",
     "iopub.status.busy": "2025-05-02T12:42:14.645723Z",
     "iopub.status.idle": "2025-05-02T12:42:14.666242Z",
     "shell.execute_reply": "2025-05-02T12:42:14.665287Z",
     "shell.execute_reply.started": "2025-05-02T12:42:14.645979Z"
    },
    "trusted": true
   },
   "outputs": [],
   "source": [
    "clf = XGBClassifier(\n",
    "        n_estimators    = 200,\n",
    "        max_depth       = 6,\n",
    "        learning_rate   = 0.10,\n",
    "        subsample       = 0.8,\n",
    "        colsample_bytree= 0.8,\n",
    "        objective       = 'binary:logistic',\n",
    "        eval_metric     = 'logloss',\n",
    "        n_jobs          = 4,\n",
    "        scale_pos_weight= (len(y[y==0]) / len(y[y==1]))   # 0=normal,1=anomalia\n",
    ")"
   ]
  },
  {
   "cell_type": "code",
   "execution_count": 782,
   "metadata": {},
   "outputs": [],
   "source": [
    "pipe = Pipeline([\n",
    "        ('prep',  prep),\n",
    "        ('model', clf)\n",
    "])\n",
    "\n",
    "pipe.fit(X_tr, y_tr)\n",
    "\n",
    "y_pred = pipe.predict(X_te)\n",
    "y_prob = pipe.predict_proba(X_te)[:, 1]  # probabilidade da classe 1 anomalia"
   ]
  },
  {
   "cell_type": "markdown",
   "metadata": {},
   "source": [
    "### 3.1.1 Resultados com o XGB Padrão "
   ]
  },
  {
   "cell_type": "markdown",
   "metadata": {},
   "source": [
    "Para calcular melhor o sucesso do nosso modelo temos de ter noção que o custo das predições é diferente, isso será explorado melhor nas modelagens abaixo mas em tese temos que: ataques nos quais nosso modelo não detecta, isto é falsos negativos, claramente impactam mais que um alarme falso(falso positivo), então devemos trabalhar para otimizar ao máximo falsos negativos. Ademais, acurácia pura não serve como métrica nesse modelo, tendo em vista isso precisamos saber da sensibilidade(descrito como recall) do modelo, que mede quantas instâncias positivas reais o modelo conseguiu indentificar.\n",
    "\n",
    "Além disso precisamos saber o a taxa de verdadeiros positivos contra a taxa de falsos positivos, que é conhecido como ROC-AUC(Receiver Operating Characteristic per Area Under the Curve), quanto mais próximo ao 1 melhor, e também a PR-AUC(Precision-Recall per Area Under the Curve) exclusivamente para a qualidade em dettecção de ataques, que demonstra caso haja um desbalanceamento entre ataques e detecções normais."
   ]
  },
  {
   "cell_type": "code",
   "execution_count": 783,
   "metadata": {
    "execution": {
     "iopub.execute_input": "2025-05-02T12:42:15.384365Z",
     "iopub.status.busy": "2025-05-02T12:42:15.383595Z",
     "iopub.status.idle": "2025-05-02T12:42:15.412447Z",
     "shell.execute_reply": "2025-05-02T12:42:15.411342Z",
     "shell.execute_reply.started": "2025-05-02T12:42:15.384337Z"
    },
    "trusted": true
   },
   "outputs": [
    {
     "name": "stdout",
     "output_type": "stream",
     "text": [
      "              precision    recall  f1-score   support\n",
      "\n",
      "      normal       1.00      1.00      1.00      2690\n",
      "     anomaly       1.00      0.99      1.00      2349\n",
      "\n",
      "    accuracy                           1.00      5039\n",
      "   macro avg       1.00      1.00      1.00      5039\n",
      "weighted avg       1.00      1.00      1.00      5039\n",
      "\n",
      "ROC‑AUC : 0.999963917256572\n",
      "PR‑AUC  : 0.9999592002036012\n"
     ]
    }
   ],
   "source": [
    "print(metrics.classification_report(\n",
    "        y_te, y_pred, target_names=['normal','anomaly']))\n",
    "print(\"ROC‑AUC :\", metrics.roc_auc_score(y_te, y_prob))\n",
    "print(\"PR‑AUC  :\", metrics.average_precision_score(y_te, y_prob))"
   ]
  },
  {
   "cell_type": "code",
   "execution_count": 784,
   "metadata": {
    "execution": {
     "iopub.execute_input": "2025-05-02T12:42:15.413658Z",
     "iopub.status.busy": "2025-05-02T12:42:15.413385Z",
     "iopub.status.idle": "2025-05-02T12:42:15.620033Z",
     "shell.execute_reply": "2025-05-02T12:42:15.619044Z",
     "shell.execute_reply.started": "2025-05-02T12:42:15.413637Z"
    },
    "trusted": true
   },
   "outputs": [
    {
     "data": {
      "image/png": "[encoded data removed]",
      "text/plain": [
       "<Figure size 640x480 with 2 Axes>"
      ]
     },
     "metadata": {},
     "output_type": "display_data"
    }
   ],
   "source": [
    "cm = metrics.confusion_matrix(y_te, y_pred, labels=[0,1])\n",
    "sns.heatmap(cm, annot=True, fmt='d', cmap='Blues',\n",
    "            xticklabels=['normal','anomaly'],\n",
    "            yticklabels=['normal','anomaly'],\n",
    "            square=True)\n",
    "plt.xlabel('Predicted'); plt.ylabel('Actual')\n",
    "plt.title('Confusion Matrix – Vanilla Run – XGBoost'); plt.tight_layout(); plt.show()"
   ]
  },
  {
   "cell_type": "markdown",
   "metadata": {},
   "source": [
    "## 3.2 Classificação com XGB com Otimização de Hiperparâmetros"
   ]
  },
  {
   "cell_type": "markdown",
   "metadata": {},
   "source": [
    "O que estamos fazendo aqui?\n",
    "Aqui utilizamos o optuna para rodar varias iterações do modelo pra procurar um conjunto de parâmetros que em cada verificação atinja pelo o menos 99.8% de recall, isto é somente 0,2% de erro é tolerado(o que seria comum no ramo de cybersegurança). Dentro desse mesmo limite, tentamos minimizar o custo total a para garantir que tenhamos o mínimo de ambos. O retorno dessa função abaixo é o total de custo que cada iteração gerou, o ideal é o quanto mais próximo de 0 o possível, o que é bem díficil, por isso também a função retorna um número negativo, já que a melhor rodagem desse algoritmo vai ser a que mais se aproximar de 0."
   ]
  },
  {
   "cell_type": "code",
   "execution_count": 785,
   "metadata": {
    "execution": {
     "iopub.execute_input": "2025-05-02T12:42:15.621803Z",
     "iopub.status.busy": "2025-05-02T12:42:15.621431Z",
     "iopub.status.idle": "2025-05-02T12:42:15.632411Z",
     "shell.execute_reply": "2025-05-02T12:42:15.630953Z",
     "shell.execute_reply.started": "2025-05-02T12:42:15.621771Z"
    },
    "trusted": true
   },
   "outputs": [],
   "source": [
    "min_recall_target = 0.998          # Tolerância máxima do algorítmo aqui 99.8%\n",
    "cost_fn  = 10                       # peso de um ataque não detectado\n",
    "cost_fp  = 1                        # peso de um alarme falso\n",
    "\n",
    "cv = StratifiedKFold(n_splits=5, shuffle=True, random_state=42)\n",
    "\n",
    "def objective(trial):\n",
    "    params = dict(\n",
    "        n_estimators     = trial.suggest_int ('n_estimators', 300, 700),\n",
    "        max_depth        = trial.suggest_int ('max_depth', 5, 10),\n",
    "        learning_rate    = trial.suggest_float('lr', 0.02, 0.15, log=True),\n",
    "        subsample        = trial.suggest_float('subsample', 0.6, 0.95),\n",
    "        colsample_bytree = trial.suggest_float('colsample', 0.6, 0.9),\n",
    "        gamma            = trial.suggest_float('gamma', 0.5, 4),\n",
    "        min_child_weight = trial.suggest_int ('min_child_weight', 5, 15),\n",
    "        reg_lambda       = trial.suggest_float('reg_lambda', 0, 10),\n",
    "        scale_pos_weight = len(y[y==0]) / len(y[y==1]),\n",
    "        objective        = 'binary:logistic',\n",
    "        eval_metric      = 'auc',\n",
    "        n_jobs           = 4,\n",
    "        random_state     = 42\n",
    "    )\n",
    "\n",
    "    pipe = Pipeline([('prep', prep), ('model', XGBClassifier(**params))])\n",
    "\n",
    "    fold_costs = []\n",
    "\n",
    "    for train_idx, val_idx in cv.split(X, y):\n",
    "        X_tr, X_val = X.iloc[train_idx], X.iloc[val_idx]\n",
    "        y_tr, y_val = y.iloc[train_idx], y.iloc[val_idx]\n",
    "\n",
    "        pipe.fit(X_tr, y_tr)\n",
    "\n",
    "        prob_val = pipe.predict_proba(X_val)[:, 1]\n",
    "        prec, rec, thr = precision_recall_curve(y_val, prob_val)\n",
    "\n",
    "        idx = np.where(rec >= min_recall_target)[0]\n",
    "        if len(idx):\n",
    "            thr_opt = thr[idx[-1]]\n",
    "        else:\n",
    "            thr_opt = thr[np.argmax(rec)]\n",
    "\n",
    "        y_hat = (prob_val >= thr_opt).astype(int)\n",
    "\n",
    "        fn = np.logical_and(y_hat == 0, y_val == 1).sum()\n",
    "        fp = np.logical_and(y_hat == 1, y_val == 0).sum()\n",
    "\n",
    "        fold_costs.append(cost_fn * fn + cost_fp * fp)\n",
    "\n",
    "    return -np.mean(fold_costs)\n"
   ]
  },
  {
   "cell_type": "code",
   "execution_count": 786,
   "metadata": {
    "execution": {
     "iopub.execute_input": "2025-05-02T12:42:15.633937Z",
     "iopub.status.busy": "2025-05-02T12:42:15.633646Z",
     "iopub.status.idle": "2025-05-02T12:50:54.548480Z",
     "shell.execute_reply": "2025-05-02T12:50:54.547476Z",
     "shell.execute_reply.started": "2025-05-02T12:42:15.633916Z"
    },
    "trusted": true
   },
   "outputs": [
    {
     "name": "stderr",
     "output_type": "stream",
     "text": [
      "[I 2025-05-04 17:23:39,527] A new study created in memory with name: no-name-83069035-d938-4426-882a-d10e5accb0c2\n",
      "Best trial: 0. Best value: -139.2:   1%|▏         | 1/80 [00:03<04:08,  3.15s/it]"
     ]
    },
    {
     "name": "stdout",
     "output_type": "stream",
     "text": [
      "[I 2025-05-04 17:23:42,676] Trial 0 finished with value: -139.2 and parameters: {'n_estimators': 349, 'max_depth': 6, 'lr': 0.023226964973293796, 'subsample': 0.8517465877365853, 'colsample': 0.654619593842439, 'gamma': 2.903567698444349, 'min_child_weight': 12, 'reg_lambda': 5.686401378549595}. Best is trial 0 with value: -139.2.\n"
     ]
    },
    {
     "name": "stderr",
     "output_type": "stream",
     "text": [
      "Best trial: 1. Best value: -134.2:   2%|▎         | 2/80 [00:06<03:54,  3.01s/it]"
     ]
    },
    {
     "name": "stdout",
     "output_type": "stream",
     "text": [
      "[I 2025-05-04 17:23:45,586] Trial 1 finished with value: -134.2 and parameters: {'n_estimators': 548, 'max_depth': 7, 'lr': 0.06643685627604033, 'subsample': 0.9329862815366655, 'colsample': 0.7202062549623031, 'gamma': 2.688987125316568, 'min_child_weight': 12, 'reg_lambda': 7.905925748728793}. Best is trial 1 with value: -134.2.\n"
     ]
    },
    {
     "name": "stderr",
     "output_type": "stream",
     "text": [
      "Best trial: 1. Best value: -134.2:   4%|▍         | 3/80 [00:08<03:30,  2.73s/it]"
     ]
    },
    {
     "name": "stdout",
     "output_type": "stream",
     "text": [
      "[I 2025-05-04 17:23:47,986] Trial 2 finished with value: -143.6 and parameters: {'n_estimators': 485, 'max_depth': 5, 'lr': 0.08562168579730163, 'subsample': 0.9388969670851423, 'colsample': 0.8610690397932207, 'gamma': 2.4644583623923344, 'min_child_weight': 12, 'reg_lambda': 6.071827232163914}. Best is trial 1 with value: -134.2.\n"
     ]
    },
    {
     "name": "stderr",
     "output_type": "stream",
     "text": [
      "Best trial: 3. Best value: -123.8:   5%|▌         | 4/80 [00:11<03:29,  2.76s/it]"
     ]
    },
    {
     "name": "stdout",
     "output_type": "stream",
     "text": [
      "[I 2025-05-04 17:23:50,792] Trial 3 finished with value: -123.8 and parameters: {'n_estimators': 346, 'max_depth': 10, 'lr': 0.024379574031370938, 'subsample': 0.879029633818744, 'colsample': 0.7286629052014967, 'gamma': 2.0833328945862877, 'min_child_weight': 15, 'reg_lambda': 0.12882813151776196}. Best is trial 3 with value: -123.8.\n"
     ]
    },
    {
     "name": "stderr",
     "output_type": "stream",
     "text": [
      "Best trial: 4. Best value: -110.8:   6%|▋         | 5/80 [00:16<04:24,  3.53s/it]"
     ]
    },
    {
     "name": "stdout",
     "output_type": "stream",
     "text": [
      "[I 2025-05-04 17:23:55,690] Trial 4 finished with value: -110.8 and parameters: {'n_estimators': 578, 'max_depth': 9, 'lr': 0.09433865160069886, 'subsample': 0.6763775729889455, 'colsample': 0.8067670758553176, 'gamma': 2.0240318685861713, 'min_child_weight': 14, 'reg_lambda': 1.0653004412079492}. Best is trial 4 with value: -110.8.\n"
     ]
    },
    {
     "name": "stderr",
     "output_type": "stream",
     "text": [
      "Best trial: 5. Best value: -110.2:   8%|▊         | 6/80 [00:23<05:45,  4.67s/it]"
     ]
    },
    {
     "name": "stdout",
     "output_type": "stream",
     "text": [
      "[I 2025-05-04 17:24:02,580] Trial 5 finished with value: -110.2 and parameters: {'n_estimators': 567, 'max_depth': 9, 'lr': 0.030569563793546556, 'subsample': 0.7893871267965731, 'colsample': 0.7091620355350767, 'gamma': 1.61429457441354, 'min_child_weight': 6, 'reg_lambda': 9.709416439181686}. Best is trial 5 with value: -110.2.\n"
     ]
    },
    {
     "name": "stderr",
     "output_type": "stream",
     "text": [
      "Best trial: 6. Best value: -77.8:   9%|▉         | 7/80 [00:28<06:07,  5.03s/it] "
     ]
    },
    {
     "name": "stdout",
     "output_type": "stream",
     "text": [
      "[I 2025-05-04 17:24:08,352] Trial 6 finished with value: -77.8 and parameters: {'n_estimators': 551, 'max_depth': 10, 'lr': 0.13384205700416313, 'subsample': 0.9181955320203239, 'colsample': 0.6261611970379918, 'gamma': 0.6005806615858712, 'min_child_weight': 15, 'reg_lambda': 0.28176021805307205}. Best is trial 6 with value: -77.8.\n"
     ]
    },
    {
     "name": "stderr",
     "output_type": "stream",
     "text": [
      "Best trial: 6. Best value: -77.8:  10%|█         | 8/80 [00:35<06:40,  5.57s/it]"
     ]
    },
    {
     "name": "stdout",
     "output_type": "stream",
     "text": [
      "[I 2025-05-04 17:24:15,071] Trial 7 finished with value: -133.0 and parameters: {'n_estimators': 603, 'max_depth': 9, 'lr': 0.02604601459831885, 'subsample': 0.8962330571076913, 'colsample': 0.7790470396322793, 'gamma': 3.4405920215199397, 'min_child_weight': 11, 'reg_lambda': 1.5164057846493173}. Best is trial 6 with value: -77.8.\n"
     ]
    },
    {
     "name": "stderr",
     "output_type": "stream",
     "text": [
      "Best trial: 6. Best value: -77.8:  11%|█▏        | 9/80 [00:40<06:17,  5.32s/it]"
     ]
    },
    {
     "name": "stdout",
     "output_type": "stream",
     "text": [
      "[I 2025-05-04 17:24:19,828] Trial 8 finished with value: -91.2 and parameters: {'n_estimators': 379, 'max_depth': 8, 'lr': 0.049890207872451825, 'subsample': 0.7489252563778057, 'colsample': 0.6117759867583661, 'gamma': 1.5168881124288753, 'min_child_weight': 5, 'reg_lambda': 4.419406039774344}. Best is trial 6 with value: -77.8.\n"
     ]
    },
    {
     "name": "stderr",
     "output_type": "stream",
     "text": [
      "Best trial: 6. Best value: -77.8:  12%|█▎        | 10/80 [00:45<06:02,  5.18s/it]"
     ]
    },
    {
     "name": "stdout",
     "output_type": "stream",
     "text": [
      "[I 2025-05-04 17:24:24,691] Trial 9 finished with value: -133.0 and parameters: {'n_estimators': 442, 'max_depth': 9, 'lr': 0.10497499534442897, 'subsample': 0.6222255595632589, 'colsample': 0.8978652081899516, 'gamma': 1.4908565309543425, 'min_child_weight': 13, 'reg_lambda': 9.645518005702986}. Best is trial 6 with value: -77.8.\n"
     ]
    },
    {
     "name": "stderr",
     "output_type": "stream",
     "text": [
      "Best trial: 10. Best value: -64.8:  14%|█▍        | 11/80 [00:51<06:30,  5.66s/it]"
     ]
    },
    {
     "name": "stdout",
     "output_type": "stream",
     "text": [
      "[I 2025-05-04 17:24:31,449] Trial 10 finished with value: -64.8 and parameters: {'n_estimators': 695, 'max_depth': 10, 'lr': 0.1436554564674739, 'subsample': 0.8071214649262666, 'colsample': 0.6017971445439803, 'gamma': 0.5775001800603785, 'min_child_weight': 8, 'reg_lambda': 3.0552784035616263}. Best is trial 10 with value: -64.8.\n"
     ]
    },
    {
     "name": "stderr",
     "output_type": "stream",
     "text": [
      "Best trial: 11. Best value: -63.8:  15%|█▌        | 12/80 [00:58<06:47,  5.99s/it]"
     ]
    },
    {
     "name": "stdout",
     "output_type": "stream",
     "text": [
      "[I 2025-05-04 17:24:38,201] Trial 11 finished with value: -63.8 and parameters: {'n_estimators': 685, 'max_depth': 10, 'lr': 0.13969156885003445, 'subsample': 0.8079007716849465, 'colsample': 0.6012804999394776, 'gamma': 0.5752829518121683, 'min_child_weight': 8, 'reg_lambda': 3.0039823600049083}. Best is trial 11 with value: -63.8.\n"
     ]
    },
    {
     "name": "stderr",
     "output_type": "stream",
     "text": [
      "Best trial: 12. Best value: -63.2:  16%|█▋        | 13/80 [01:05<07:02,  6.31s/it]"
     ]
    },
    {
     "name": "stdout",
     "output_type": "stream",
     "text": [
      "[I 2025-05-04 17:24:45,227] Trial 12 finished with value: -63.2 and parameters: {'n_estimators': 698, 'max_depth': 10, 'lr': 0.14173847315776167, 'subsample': 0.791950439295474, 'colsample': 0.6640611678607308, 'gamma': 0.5621527746050365, 'min_child_weight': 8, 'reg_lambda': 3.3537644830525832}. Best is trial 12 with value: -63.2.\n"
     ]
    },
    {
     "name": "stderr",
     "output_type": "stream",
     "text": [
      "Best trial: 12. Best value: -63.2:  18%|█▊        | 14/80 [01:13<07:31,  6.85s/it]"
     ]
    },
    {
     "name": "stdout",
     "output_type": "stream",
     "text": [
      "[I 2025-05-04 17:24:53,326] Trial 13 finished with value: -90.6 and parameters: {'n_estimators': 699, 'max_depth': 8, 'lr': 0.04499833675921991, 'subsample': 0.7254232037614876, 'colsample': 0.6743784015836234, 'gamma': 1.0064086300076742, 'min_child_weight': 9, 'reg_lambda': 3.1291662896488233}. Best is trial 12 with value: -63.2.\n"
     ]
    },
    {
     "name": "stderr",
     "output_type": "stream",
     "text": [
      "Best trial: 12. Best value: -63.2:  19%|█▉        | 15/80 [01:19<07:06,  6.56s/it]"
     ]
    },
    {
     "name": "stdout",
     "output_type": "stream",
     "text": [
      "[I 2025-05-04 17:24:59,215] Trial 14 finished with value: -71.6 and parameters: {'n_estimators': 629, 'max_depth': 10, 'lr': 0.11901139294940184, 'subsample': 0.8331067428328977, 'colsample': 0.6606439190130605, 'gamma': 1.116141961017468, 'min_child_weight': 7, 'reg_lambda': 2.734062905432365}. Best is trial 12 with value: -63.2.\n"
     ]
    },
    {
     "name": "stderr",
     "output_type": "stream",
     "text": [
      "Best trial: 12. Best value: -63.2:  20%|██        | 16/80 [01:26<07:08,  6.69s/it]"
     ]
    },
    {
     "name": "stdout",
     "output_type": "stream",
     "text": [
      "[I 2025-05-04 17:25:06,212] Trial 15 finished with value: -83.4 and parameters: {'n_estimators': 647, 'max_depth': 7, 'lr': 0.06956742599197786, 'subsample': 0.7127039962247059, 'colsample': 0.6879567278931518, 'gamma': 1.0057637027818953, 'min_child_weight': 9, 'reg_lambda': 4.486675526660643}. Best is trial 12 with value: -63.2.\n"
     ]
    },
    {
     "name": "stderr",
     "output_type": "stream",
     "text": [
      "Best trial: 12. Best value: -63.2:  21%|██▏       | 17/80 [01:33<07:08,  6.80s/it]"
     ]
    },
    {
     "name": "stdout",
     "output_type": "stream",
     "text": [
      "[I 2025-05-04 17:25:13,262] Trial 16 finished with value: -66.2 and parameters: {'n_estimators': 659, 'max_depth': 8, 'lr': 0.14846278364220103, 'subsample': 0.7772435579269986, 'colsample': 0.6415141398787318, 'gamma': 0.5060837751412349, 'min_child_weight': 10, 'reg_lambda': 2.1007711762199133}. Best is trial 12 with value: -63.2.\n"
     ]
    },
    {
     "name": "stderr",
     "output_type": "stream",
     "text": [
      "Best trial: 12. Best value: -63.2:  22%|██▎       | 18/80 [01:38<06:31,  6.32s/it]"
     ]
    },
    {
     "name": "stdout",
     "output_type": "stream",
     "text": [
      "[I 2025-05-04 17:25:18,466] Trial 17 finished with value: -128.0 and parameters: {'n_estimators': 478, 'max_depth': 10, 'lr': 0.03902604927530762, 'subsample': 0.8369122593695348, 'colsample': 0.7493757342341694, 'gamma': 3.963273947021418, 'min_child_weight': 7, 'reg_lambda': 4.125029778523227}. Best is trial 12 with value: -63.2.\n"
     ]
    },
    {
     "name": "stderr",
     "output_type": "stream",
     "text": [
      "Best trial: 12. Best value: -63.2:  24%|██▍       | 19/80 [01:45<06:37,  6.51s/it]"
     ]
    },
    {
     "name": "stdout",
     "output_type": "stream",
     "text": [
      "[I 2025-05-04 17:25:25,420] Trial 18 finished with value: -89.8 and parameters: {'n_estimators': 663, 'max_depth': 9, 'lr': 0.07746630253555498, 'subsample': 0.6817552392451663, 'colsample': 0.6017845919740007, 'gamma': 1.1586848498891529, 'min_child_weight': 8, 'reg_lambda': 6.754350165765059}. Best is trial 12 with value: -63.2.\n"
     ]
    },
    {
     "name": "stderr",
     "output_type": "stream",
     "text": [
      "Best trial: 12. Best value: -63.2:  25%|██▌       | 20/80 [01:50<05:50,  5.84s/it]"
     ]
    },
    {
     "name": "stdout",
     "output_type": "stream",
     "text": [
      "[I 2025-05-04 17:25:29,691] Trial 19 finished with value: -83.6 and parameters: {'n_estimators': 430, 'max_depth': 5, 'lr': 0.1125880609918641, 'subsample': 0.7586155955530974, 'colsample': 0.689911692272964, 'gamma': 1.7071186327138934, 'min_child_weight': 5, 'reg_lambda': 3.429358343937752}. Best is trial 12 with value: -63.2.\n"
     ]
    },
    {
     "name": "stderr",
     "output_type": "stream",
     "text": [
      "Best trial: 12. Best value: -63.2:  26%|██▋       | 21/80 [01:57<06:02,  6.15s/it]"
     ]
    },
    {
     "name": "stdout",
     "output_type": "stream",
     "text": [
      "[I 2025-05-04 17:25:36,564] Trial 20 finished with value: -80.8 and parameters: {'n_estimators': 609, 'max_depth': 6, 'lr': 0.060440824192416406, 'subsample': 0.8094567352898034, 'colsample': 0.6394539983210604, 'gamma': 0.8996887818824668, 'min_child_weight': 10, 'reg_lambda': 5.50129764451925}. Best is trial 12 with value: -63.2.\n"
     ]
    },
    {
     "name": "stderr",
     "output_type": "stream",
     "text": [
      "Best trial: 12. Best value: -63.2:  28%|██▊       | 22/80 [02:03<06:06,  6.32s/it]"
     ]
    },
    {
     "name": "stdout",
     "output_type": "stream",
     "text": [
      "[I 2025-05-04 17:25:43,285] Trial 21 finished with value: -64.2 and parameters: {'n_estimators': 694, 'max_depth': 10, 'lr': 0.144414696726805, 'subsample': 0.8074351013357818, 'colsample': 0.6045709980539129, 'gamma': 0.6352384617046009, 'min_child_weight': 8, 'reg_lambda': 2.421295350613468}. Best is trial 12 with value: -63.2.\n"
     ]
    },
    {
     "name": "stderr",
     "output_type": "stream",
     "text": [
      "Best trial: 22. Best value: -62.2:  29%|██▉       | 23/80 [02:10<06:02,  6.35s/it]"
     ]
    },
    {
     "name": "stdout",
     "output_type": "stream",
     "text": [
      "[I 2025-05-04 17:25:49,711] Trial 22 finished with value: -62.2 and parameters: {'n_estimators': 685, 'max_depth': 10, 'lr': 0.12247296642784407, 'subsample': 0.8588915868485009, 'colsample': 0.6249734022247059, 'gamma': 0.742798355018442, 'min_child_weight': 7, 'reg_lambda': 2.210313027832862}. Best is trial 22 with value: -62.2.\n"
     ]
    },
    {
     "name": "stderr",
     "output_type": "stream",
     "text": [
      "Best trial: 22. Best value: -62.2:  30%|███       | 24/80 [02:16<05:48,  6.23s/it]"
     ]
    },
    {
     "name": "stdout",
     "output_type": "stream",
     "text": [
      "[I 2025-05-04 17:25:55,641] Trial 23 finished with value: -73.2 and parameters: {'n_estimators': 665, 'max_depth': 9, 'lr': 0.11726802556062448, 'subsample': 0.8700032499439365, 'colsample': 0.6327115977605897, 'gamma': 1.3147961628866331, 'min_child_weight': 7, 'reg_lambda': 1.676810186154797}. Best is trial 22 with value: -62.2.\n"
     ]
    },
    {
     "name": "stderr",
     "output_type": "stream",
     "text": [
      "Best trial: 22. Best value: -62.2:  31%|███▏      | 25/80 [02:21<05:30,  6.00s/it]"
     ]
    },
    {
     "name": "stdout",
     "output_type": "stream",
     "text": [
      "[I 2025-05-04 17:26:01,123] Trial 24 finished with value: -69.8 and parameters: {'n_estimators': 523, 'max_depth': 10, 'lr': 0.09469858167751381, 'subsample': 0.8507413391450802, 'colsample': 0.6627318677203475, 'gamma': 0.8661763957039594, 'min_child_weight': 6, 'reg_lambda': 4.049671224995191}. Best is trial 22 with value: -62.2.\n"
     ]
    },
    {
     "name": "stderr",
     "output_type": "stream",
     "text": [
      "Best trial: 22. Best value: -62.2:  32%|███▎      | 26/80 [02:27<05:25,  6.03s/it]"
     ]
    },
    {
     "name": "stdout",
     "output_type": "stream",
     "text": [
      "[I 2025-05-04 17:26:07,231] Trial 25 finished with value: -64.0 and parameters: {'n_estimators': 620, 'max_depth': 10, 'lr': 0.12619992172890487, 'subsample': 0.8210719465630331, 'colsample': 0.6249645062484809, 'gamma': 0.7777358349015833, 'min_child_weight': 9, 'reg_lambda': 0.8711482814875482}. Best is trial 22 with value: -62.2.\n"
     ]
    },
    {
     "name": "stderr",
     "output_type": "stream",
     "text": [
      "Best trial: 22. Best value: -62.2:  34%|███▍      | 27/80 [02:31<04:40,  5.29s/it]"
     ]
    },
    {
     "name": "stdout",
     "output_type": "stream",
     "text": [
      "[I 2025-05-04 17:26:10,792] Trial 26 finished with value: -82.2 and parameters: {'n_estimators': 307, 'max_depth': 9, 'lr': 0.09601864501259297, 'subsample': 0.8985924707421007, 'colsample': 0.6909068298791572, 'gamma': 1.8435803010011023, 'min_child_weight': 6, 'reg_lambda': 3.525542249486924}. Best is trial 22 with value: -62.2.\n"
     ]
    },
    {
     "name": "stderr",
     "output_type": "stream",
     "text": [
      "Best trial: 22. Best value: -62.2:  35%|███▌      | 28/80 [02:38<04:58,  5.74s/it]"
     ]
    },
    {
     "name": "stdout",
     "output_type": "stream",
     "text": [
      "[I 2025-05-04 17:26:17,577] Trial 27 finished with value: -79.0 and parameters: {'n_estimators': 676, 'max_depth': 8, 'lr': 0.08010826552203455, 'subsample': 0.7529979896828328, 'colsample': 0.7957780188651166, 'gamma': 1.2091382219508282, 'min_child_weight': 8, 'reg_lambda': 2.1112256052027796}. Best is trial 22 with value: -62.2.\n"
     ]
    },
    {
     "name": "stderr",
     "output_type": "stream",
     "text": [
      "Best trial: 22. Best value: -62.2:  36%|███▋      | 29/80 [02:44<05:10,  6.08s/it]"
     ]
    },
    {
     "name": "stdout",
     "output_type": "stream",
     "text": [
      "[I 2025-05-04 17:26:24,456] Trial 28 finished with value: -71.2 and parameters: {'n_estimators': 641, 'max_depth': 10, 'lr': 0.10666769298666974, 'subsample': 0.7871661828403329, 'colsample': 0.6458982541713776, 'gamma': 0.7868394357333544, 'min_child_weight': 7, 'reg_lambda': 4.99927291828633}. Best is trial 22 with value: -62.2.\n"
     ]
    },
    {
     "name": "stderr",
     "output_type": "stream",
     "text": [
      "Best trial: 22. Best value: -62.2:  38%|███▊      | 30/80 [02:50<04:49,  5.79s/it]"
     ]
    },
    {
     "name": "stdout",
     "output_type": "stream",
     "text": [
      "[I 2025-05-04 17:26:29,580] Trial 29 finished with value: -135.2 and parameters: {'n_estimators': 601, 'max_depth': 6, 'lr': 0.12735763168008923, 'subsample': 0.8661278719204814, 'colsample': 0.6656360701916184, 'gamma': 3.295152359642236, 'min_child_weight': 11, 'reg_lambda': 3.6012037911631873}. Best is trial 22 with value: -62.2.\n"
     ]
    },
    {
     "name": "stderr",
     "output_type": "stream",
     "text": [
      "Best trial: 22. Best value: -62.2:  39%|███▉      | 31/80 [02:55<04:33,  5.58s/it]"
     ]
    },
    {
     "name": "stdout",
     "output_type": "stream",
     "text": [
      "[I 2025-05-04 17:26:34,671] Trial 30 finished with value: -99.2 and parameters: {'n_estimators': 581, 'max_depth': 9, 'lr': 0.14952319636731762, 'subsample': 0.8455444852784124, 'colsample': 0.6228941441293765, 'gamma': 2.2798486178200443, 'min_child_weight': 9, 'reg_lambda': 6.399130405867952}. Best is trial 22 with value: -62.2.\n"
     ]
    },
    {
     "name": "stderr",
     "output_type": "stream",
     "text": [
      "Best trial: 22. Best value: -62.2:  40%|████      | 32/80 [03:01<04:37,  5.78s/it]"
     ]
    },
    {
     "name": "stdout",
     "output_type": "stream",
     "text": [
      "[I 2025-05-04 17:26:40,894] Trial 31 finished with value: -66.8 and parameters: {'n_estimators': 629, 'max_depth': 10, 'lr': 0.12727772946900603, 'subsample': 0.823289465462636, 'colsample': 0.6240814796974372, 'gamma': 0.6969945981312158, 'min_child_weight': 9, 'reg_lambda': 1.023794429018956}. Best is trial 22 with value: -62.2.\n"
     ]
    },
    {
     "name": "stderr",
     "output_type": "stream",
     "text": [
      "Best trial: 22. Best value: -62.2:  41%|████▏     | 33/80 [03:07<04:35,  5.86s/it]"
     ]
    },
    {
     "name": "stdout",
     "output_type": "stream",
     "text": [
      "[I 2025-05-04 17:26:46,967] Trial 32 finished with value: -71.8 and parameters: {'n_estimators': 676, 'max_depth': 10, 'lr': 0.12501603180973733, 'subsample': 0.8192063420027937, 'colsample': 0.6513091597209459, 'gamma': 1.3658125803700307, 'min_child_weight': 8, 'reg_lambda': 0.7513789436652751}. Best is trial 22 with value: -62.2.\n"
     ]
    },
    {
     "name": "stderr",
     "output_type": "stream",
     "text": [
      "Best trial: 22. Best value: -62.2:  42%|████▎     | 34/80 [03:13<04:38,  6.05s/it]"
     ]
    },
    {
     "name": "stdout",
     "output_type": "stream",
     "text": [
      "[I 2025-05-04 17:26:53,466] Trial 33 finished with value: -78.4 and parameters: {'n_estimators': 621, 'max_depth': 10, 'lr': 0.10366566596246025, 'subsample': 0.7702703543081385, 'colsample': 0.621834795368539, 'gamma': 0.8329556142635857, 'min_child_weight': 11, 'reg_lambda': 1.6163062769890764}. Best is trial 22 with value: -62.2.\n"
     ]
    },
    {
     "name": "stderr",
     "output_type": "stream",
     "text": [
      "Best trial: 22. Best value: -62.2:  44%|████▍     | 35/80 [03:19<04:31,  6.03s/it]"
     ]
    },
    {
     "name": "stdout",
     "output_type": "stream",
     "text": [
      "[I 2025-05-04 17:26:59,433] Trial 34 finished with value: -115.8 and parameters: {'n_estimators': 684, 'max_depth': 9, 'lr': 0.08520451483911923, 'subsample': 0.8833661070752348, 'colsample': 0.7099481198687504, 'gamma': 2.7314332039307585, 'min_child_weight': 10, 'reg_lambda': 2.5759828802436986}. Best is trial 22 with value: -62.2.\n"
     ]
    },
    {
     "name": "stderr",
     "output_type": "stream",
     "text": [
      "Best trial: 22. Best value: -62.2:  45%|████▌     | 36/80 [03:26<04:28,  6.09s/it]"
     ]
    },
    {
     "name": "stdout",
     "output_type": "stream",
     "text": [
      "[I 2025-05-04 17:27:05,675] Trial 35 finished with value: -67.0 and parameters: {'n_estimators': 648, 'max_depth': 10, 'lr': 0.12854614010030055, 'subsample': 0.8580289269348227, 'colsample': 0.6772212070459335, 'gamma': 0.7495276025188834, 'min_child_weight': 7, 'reg_lambda': 0.7071915550213496}. Best is trial 22 with value: -62.2.\n"
     ]
    },
    {
     "name": "stderr",
     "output_type": "stream",
     "text": [
      "Best trial: 22. Best value: -62.2:  46%|████▋     | 37/80 [03:32<04:20,  6.06s/it]"
     ]
    },
    {
     "name": "stdout",
     "output_type": "stream",
     "text": [
      "[I 2025-05-04 17:27:11,649] Trial 36 finished with value: -86.0 and parameters: {'n_estimators': 531, 'max_depth': 9, 'lr': 0.0684113666325146, 'subsample': 0.7946377596632451, 'colsample': 0.7466868199410974, 'gamma': 0.9941765349117395, 'min_child_weight': 9, 'reg_lambda': 0.13306064028450226}. Best is trial 22 with value: -62.2.\n"
     ]
    },
    {
     "name": "stderr",
     "output_type": "stream",
     "text": [
      "Best trial: 22. Best value: -62.2:  48%|████▊     | 38/80 [03:42<05:03,  7.23s/it]"
     ]
    },
    {
     "name": "stdout",
     "output_type": "stream",
     "text": [
      "[I 2025-05-04 17:27:21,622] Trial 37 finished with value: -73.4 and parameters: {'n_estimators': 671, 'max_depth': 10, 'lr': 0.020645160172405246, 'subsample': 0.9255605539698815, 'colsample': 0.6468440724234977, 'gamma': 0.5478448625025656, 'min_child_weight': 6, 'reg_lambda': 1.9809494427787955}. Best is trial 22 with value: -62.2.\n"
     ]
    },
    {
     "name": "stderr",
     "output_type": "stream",
     "text": [
      "Best trial: 22. Best value: -62.2:  49%|████▉     | 39/80 [03:48<04:42,  6.89s/it]"
     ]
    },
    {
     "name": "stdout",
     "output_type": "stream",
     "text": [
      "[I 2025-05-04 17:27:27,728] Trial 38 finished with value: -75.8 and parameters: {'n_estimators': 594, 'max_depth': 10, 'lr': 0.09006313307851614, 'subsample': 0.7242072865365401, 'colsample': 0.8464260156609837, 'gamma': 1.2661371147529659, 'min_child_weight': 8, 'reg_lambda': 1.3158145922548874}. Best is trial 22 with value: -62.2.\n"
     ]
    },
    {
     "name": "stderr",
     "output_type": "stream",
     "text": [
      "Best trial: 22. Best value: -62.2:  50%|█████     | 40/80 [03:53<04:19,  6.48s/it]"
     ]
    },
    {
     "name": "stdout",
     "output_type": "stream",
     "text": [
      "[I 2025-05-04 17:27:33,241] Trial 39 finished with value: -106.4 and parameters: {'n_estimators': 642, 'max_depth': 9, 'lr': 0.1356450909818963, 'subsample': 0.8978138540516083, 'colsample': 0.7246204537911757, 'gamma': 1.8963030104421876, 'min_child_weight': 10, 'reg_lambda': 5.095013198694864}. Best is trial 22 with value: -62.2.\n"
     ]
    },
    {
     "name": "stderr",
     "output_type": "stream",
     "text": [
      "Best trial: 22. Best value: -62.2:  51%|█████▏    | 41/80 [04:01<04:27,  6.87s/it]"
     ]
    },
    {
     "name": "stdout",
     "output_type": "stream",
     "text": [
      "[I 2025-05-04 17:27:41,013] Trial 40 finished with value: -87.2 and parameters: {'n_estimators': 565, 'max_depth': 8, 'lr': 0.0348237653826144, 'subsample': 0.8303124407428845, 'colsample': 0.6171239941038953, 'gamma': 0.5102504282883855, 'min_child_weight': 12, 'reg_lambda': 7.279154047038389}. Best is trial 22 with value: -62.2.\n"
     ]
    },
    {
     "name": "stderr",
     "output_type": "stream",
     "text": [
      "Best trial: 22. Best value: -62.2:  52%|█████▎    | 42/80 [04:08<04:18,  6.80s/it]"
     ]
    },
    {
     "name": "stdout",
     "output_type": "stream",
     "text": [
      "[I 2025-05-04 17:27:47,653] Trial 41 finished with value: -72.0 and parameters: {'n_estimators': 700, 'max_depth': 10, 'lr': 0.13958802815813356, 'subsample': 0.8005341823448214, 'colsample': 0.6045933349487854, 'gamma': 0.6992419314962804, 'min_child_weight': 8, 'reg_lambda': 2.584961060880235}. Best is trial 22 with value: -62.2.\n"
     ]
    },
    {
     "name": "stderr",
     "output_type": "stream",
     "text": [
      "Best trial: 22. Best value: -62.2:  54%|█████▍    | 43/80 [04:14<04:10,  6.77s/it]"
     ]
    },
    {
     "name": "stdout",
     "output_type": "stream",
     "text": [
      "[I 2025-05-04 17:27:54,369] Trial 42 finished with value: -69.8 and parameters: {'n_estimators': 686, 'max_depth': 10, 'lr': 0.11479105373542622, 'subsample': 0.8151860983807935, 'colsample': 0.6135255741732409, 'gamma': 0.7072827676283817, 'min_child_weight': 9, 'reg_lambda': 2.5155897769882483}. Best is trial 22 with value: -62.2.\n"
     ]
    },
    {
     "name": "stderr",
     "output_type": "stream",
     "text": [
      "Best trial: 22. Best value: -62.2:  55%|█████▌    | 44/80 [04:21<03:58,  6.64s/it]"
     ]
    },
    {
     "name": "stdout",
     "output_type": "stream",
     "text": [
      "[I 2025-05-04 17:28:00,689] Trial 43 finished with value: -70.0 and parameters: {'n_estimators': 659, 'max_depth': 10, 'lr': 0.10337927633887052, 'subsample': 0.779228036958391, 'colsample': 0.6310482384215313, 'gamma': 1.062502030198846, 'min_child_weight': 8, 'reg_lambda': 0.566259956247298}. Best is trial 22 with value: -62.2.\n"
     ]
    },
    {
     "name": "stderr",
     "output_type": "stream",
     "text": [
      "Best trial: 22. Best value: -62.2:  56%|█████▋    | 45/80 [04:27<03:48,  6.51s/it]"
     ]
    },
    {
     "name": "stdout",
     "output_type": "stream",
     "text": [
      "[I 2025-05-04 17:28:06,917] Trial 44 finished with value: -66.8 and parameters: {'n_estimators': 699, 'max_depth': 10, 'lr': 0.14901555361196825, 'subsample': 0.8480901019931493, 'colsample': 0.6109690701211947, 'gamma': 0.9386794318445428, 'min_child_weight': 7, 'reg_lambda': 2.005847303513981}. Best is trial 22 with value: -62.2.\n"
     ]
    },
    {
     "name": "stderr",
     "output_type": "stream",
     "text": [
      "Best trial: 22. Best value: -62.2:  57%|█████▊    | 46/80 [04:33<03:37,  6.38s/it]"
     ]
    },
    {
     "name": "stdout",
     "output_type": "stream",
     "text": [
      "[I 2025-05-04 17:28:12,991] Trial 45 finished with value: -63.0 and parameters: {'n_estimators': 620, 'max_depth': 10, 'lr': 0.13364874251768596, 'subsample': 0.7940948022845721, 'colsample': 0.6017061460871388, 'gamma': 0.6805241887797779, 'min_child_weight': 6, 'reg_lambda': 1.1227895137973545}. Best is trial 22 with value: -62.2.\n"
     ]
    },
    {
     "name": "stderr",
     "output_type": "stream",
     "text": [
      "Best trial: 22. Best value: -62.2:  59%|█████▉    | 47/80 [04:39<03:27,  6.29s/it]"
     ]
    },
    {
     "name": "stdout",
     "output_type": "stream",
     "text": [
      "[I 2025-05-04 17:28:19,056] Trial 46 finished with value: -88.8 and parameters: {'n_estimators': 615, 'max_depth': 9, 'lr': 0.11209382354017554, 'subsample': 0.6027373223056584, 'colsample': 0.634512042369362, 'gamma': 1.4719707445320165, 'min_child_weight': 5, 'reg_lambda': 8.660134379365068}. Best is trial 22 with value: -62.2.\n"
     ]
    },
    {
     "name": "stderr",
     "output_type": "stream",
     "text": [
      "Best trial: 47. Best value: -56:  60%|██████    | 48/80 [04:46<03:25,  6.41s/it]  "
     ]
    },
    {
     "name": "stdout",
     "output_type": "stream",
     "text": [
      "[I 2025-05-04 17:28:25,762] Trial 47 finished with value: -56.0 and parameters: {'n_estimators': 632, 'max_depth': 9, 'lr': 0.13340357408212233, 'subsample': 0.7400644068048055, 'colsample': 0.6001237878985238, 'gamma': 0.5055223509342887, 'min_child_weight': 6, 'reg_lambda': 0.9858620104698912}. Best is trial 47 with value: -56.0.\n"
     ]
    },
    {
     "name": "stderr",
     "output_type": "stream",
     "text": [
      "Best trial: 47. Best value: -56:  61%|██████▏   | 49/80 [04:51<03:12,  6.22s/it]"
     ]
    },
    {
     "name": "stdout",
     "output_type": "stream",
     "text": [
      "[I 2025-05-04 17:28:31,527] Trial 48 finished with value: -64.8 and parameters: {'n_estimators': 638, 'max_depth': 9, 'lr': 0.13564549269936138, 'subsample': 0.9482960387358558, 'colsample': 0.6539498489807724, 'gamma': 0.6057868881246934, 'min_child_weight': 6, 'reg_lambda': 3.0218417742237866}. Best is trial 47 with value: -56.0.\n"
     ]
    },
    {
     "name": "stderr",
     "output_type": "stream",
     "text": [
      "Best trial: 47. Best value: -56:  62%|██████▎   | 50/80 [04:58<03:05,  6.18s/it]"
     ]
    },
    {
     "name": "stdout",
     "output_type": "stream",
     "text": [
      "[I 2025-05-04 17:28:37,632] Trial 49 finished with value: -102.6 and parameters: {'n_estimators': 654, 'max_depth': 7, 'lr': 0.05546058964074062, 'subsample': 0.7359737284464516, 'colsample': 0.7687830726298255, 'gamma': 3.103373333835573, 'min_child_weight': 5, 'reg_lambda': 1.355186077145727}. Best is trial 47 with value: -56.0.\n"
     ]
    },
    {
     "name": "stderr",
     "output_type": "stream",
     "text": [
      "Best trial: 47. Best value: -56:  64%|██████▍   | 51/80 [05:04<03:04,  6.37s/it]"
     ]
    },
    {
     "name": "stdout",
     "output_type": "stream",
     "text": [
      "[I 2025-05-04 17:28:44,443] Trial 50 finished with value: -59.6 and parameters: {'n_estimators': 583, 'max_depth': 9, 'lr': 0.09977753320121906, 'subsample': 0.6913540333355519, 'colsample': 0.6022538184598073, 'gamma': 0.5008155550261909, 'min_child_weight': 6, 'reg_lambda': 0.0868585560859454}. Best is trial 47 with value: -56.0.\n"
     ]
    },
    {
     "name": "stderr",
     "output_type": "stream",
     "text": [
      "Best trial: 47. Best value: -56:  65%|██████▌   | 52/80 [05:11<03:01,  6.48s/it]"
     ]
    },
    {
     "name": "stdout",
     "output_type": "stream",
     "text": [
      "[I 2025-05-04 17:28:51,170] Trial 51 finished with value: -59.8 and parameters: {'n_estimators': 590, 'max_depth': 8, 'lr': 0.11870927068159612, 'subsample': 0.6615951098413555, 'colsample': 0.6022047118601885, 'gamma': 0.5447022107594186, 'min_child_weight': 6, 'reg_lambda': 0.30261339856299807}. Best is trial 47 with value: -56.0.\n"
     ]
    },
    {
     "name": "stderr",
     "output_type": "stream",
     "text": [
      "Best trial: 47. Best value: -56:  66%|██████▋   | 53/80 [05:18<02:58,  6.62s/it]"
     ]
    },
    {
     "name": "stdout",
     "output_type": "stream",
     "text": [
      "[I 2025-05-04 17:28:58,127] Trial 52 finished with value: -64.8 and parameters: {'n_estimators': 577, 'max_depth': 8, 'lr': 0.0996034892834856, 'subsample': 0.6551670804304752, 'colsample': 0.6002011444783776, 'gamma': 0.5168485610953434, 'min_child_weight': 6, 'reg_lambda': 0.21169998528017364}. Best is trial 47 with value: -56.0.\n"
     ]
    },
    {
     "name": "stderr",
     "output_type": "stream",
     "text": [
      "Best trial: 47. Best value: -56:  68%|██████▊   | 54/80 [05:24<02:45,  6.36s/it]"
     ]
    },
    {
     "name": "stdout",
     "output_type": "stream",
     "text": [
      "[I 2025-05-04 17:29:03,871] Trial 53 finished with value: -63.2 and parameters: {'n_estimators': 545, 'max_depth': 8, 'lr': 0.11844789822772711, 'subsample': 0.6973978902298094, 'colsample': 0.6113489180445052, 'gamma': 0.8535268364391295, 'min_child_weight': 5, 'reg_lambda': 0.4346366414711813}. Best is trial 47 with value: -56.0.\n"
     ]
    },
    {
     "name": "stderr",
     "output_type": "stream",
     "text": [
      "Best trial: 47. Best value: -56:  69%|██████▉   | 55/80 [05:29<02:31,  6.07s/it]"
     ]
    },
    {
     "name": "stdout",
     "output_type": "stream",
     "text": [
      "[I 2025-05-04 17:29:09,274] Trial 54 finished with value: -69.4 and parameters: {'n_estimators': 501, 'max_depth': 7, 'lr': 0.10723087369649485, 'subsample': 0.6523939715839734, 'colsample': 0.635719500038137, 'gamma': 1.0630072466721934, 'min_child_weight': 6, 'reg_lambda': 1.1297544256321204}. Best is trial 47 with value: -56.0.\n"
     ]
    },
    {
     "name": "stderr",
     "output_type": "stream",
     "text": [
      "Best trial: 47. Best value: -56:  70%|███████   | 56/80 [05:35<02:26,  6.09s/it]"
     ]
    },
    {
     "name": "stdout",
     "output_type": "stream",
     "text": [
      "[I 2025-05-04 17:29:15,419] Trial 55 finished with value: -65.0 and parameters: {'n_estimators': 563, 'max_depth': 9, 'lr': 0.11961002286292838, 'subsample': 0.6619471856888057, 'colsample': 0.615948441062924, 'gamma': 0.6667945442366965, 'min_child_weight': 6, 'reg_lambda': 0.08700609585318109}. Best is trial 47 with value: -56.0.\n"
     ]
    },
    {
     "name": "stderr",
     "output_type": "stream",
     "text": [
      "Best trial: 47. Best value: -56:  71%|███████▏  | 57/80 [05:42<02:25,  6.33s/it]"
     ]
    },
    {
     "name": "stdout",
     "output_type": "stream",
     "text": [
      "[I 2025-05-04 17:29:22,285] Trial 56 finished with value: -71.6 and parameters: {'n_estimators': 596, 'max_depth': 8, 'lr': 0.07506434961186915, 'subsample': 0.70519854079224, 'colsample': 0.8375456968944082, 'gamma': 0.8524332697222265, 'min_child_weight': 7, 'reg_lambda': 1.6382020180066852}. Best is trial 47 with value: -56.0.\n"
     ]
    },
    {
     "name": "stderr",
     "output_type": "stream",
     "text": [
      "Best trial: 47. Best value: -56:  72%|███████▎  | 58/80 [05:48<02:12,  6.02s/it]"
     ]
    },
    {
     "name": "stdout",
     "output_type": "stream",
     "text": [
      "[I 2025-05-04 17:29:27,600] Trial 57 finished with value: -90.2 and parameters: {'n_estimators': 591, 'max_depth': 9, 'lr': 0.0909026269795144, 'subsample': 0.6831593861310725, 'colsample': 0.6309758312228796, 'gamma': 3.975722541955018, 'min_child_weight': 5, 'reg_lambda': 0.44318605567308444}. Best is trial 47 with value: -56.0.\n"
     ]
    },
    {
     "name": "stderr",
     "output_type": "stream",
     "text": [
      "Best trial: 47. Best value: -56:  74%|███████▍  | 59/80 [05:52<01:56,  5.53s/it]"
     ]
    },
    {
     "name": "stdout",
     "output_type": "stream",
     "text": [
      "[I 2025-05-04 17:29:31,977] Trial 58 finished with value: -90.8 and parameters: {'n_estimators': 445, 'max_depth': 9, 'lr': 0.13605739433645825, 'subsample': 0.6402808640046737, 'colsample': 0.6749187997862265, 'gamma': 2.433057365997353, 'min_child_weight': 6, 'reg_lambda': 1.0208161056522946}. Best is trial 47 with value: -56.0.\n"
     ]
    },
    {
     "name": "stderr",
     "output_type": "stream",
     "text": [
      "Best trial: 47. Best value: -56:  75%|███████▌  | 60/80 [05:58<01:52,  5.63s/it]"
     ]
    },
    {
     "name": "stdout",
     "output_type": "stream",
     "text": [
      "[I 2025-05-04 17:29:37,851] Trial 59 finished with value: -71.6 and parameters: {'n_estimators': 551, 'max_depth': 8, 'lr': 0.08524782757686734, 'subsample': 0.733913660753562, 'colsample': 0.6008636498078378, 'gamma': 0.9715108719615407, 'min_child_weight': 7, 'reg_lambda': 1.385791419190205}. Best is trial 47 with value: -56.0.\n"
     ]
    },
    {
     "name": "stderr",
     "output_type": "stream",
     "text": [
      "Best trial: 47. Best value: -56:  76%|███████▋  | 61/80 [06:04<01:49,  5.78s/it]"
     ]
    },
    {
     "name": "stdout",
     "output_type": "stream",
     "text": [
      "[I 2025-05-04 17:29:43,966] Trial 60 finished with value: -69.6 and parameters: {'n_estimators': 630, 'max_depth': 9, 'lr': 0.1130746424738878, 'subsample': 0.6926830356316342, 'colsample': 0.6412364894192162, 'gamma': 1.1281807638242864, 'min_child_weight': 5, 'reg_lambda': 1.8148295854531509}. Best is trial 47 with value: -56.0.\n"
     ]
    },
    {
     "name": "stderr",
     "output_type": "stream",
     "text": [
      "Best trial: 47. Best value: -56:  78%|███████▊  | 62/80 [06:10<01:43,  5.73s/it]"
     ]
    },
    {
     "name": "stdout",
     "output_type": "stream",
     "text": [
      "[I 2025-05-04 17:29:49,580] Trial 61 finished with value: -58.8 and parameters: {'n_estimators': 542, 'max_depth': 8, 'lr': 0.11797423437813973, 'subsample': 0.7032362277170714, 'colsample': 0.6139705653272173, 'gamma': 0.8417349306389259, 'min_child_weight': 5, 'reg_lambda': 0.0161677292437144}. Best is trial 47 with value: -56.0.\n"
     ]
    },
    {
     "name": "stderr",
     "output_type": "stream",
     "text": [
      "Best trial: 47. Best value: -56:  79%|███████▉  | 63/80 [06:15<01:37,  5.75s/it]"
     ]
    },
    {
     "name": "stdout",
     "output_type": "stream",
     "text": [
      "[I 2025-05-04 17:29:55,386] Trial 62 finished with value: -57.2 and parameters: {'n_estimators': 515, 'max_depth': 8, 'lr': 0.12233639734345164, 'subsample': 0.7625183427654534, 'colsample': 0.613743136826909, 'gamma': 0.6402322147645327, 'min_child_weight': 6, 'reg_lambda': 0.6273102747628357}. Best is trial 47 with value: -56.0.\n"
     ]
    },
    {
     "name": "stderr",
     "output_type": "stream",
     "text": [
      "Best trial: 47. Best value: -56:  80%|████████  | 64/80 [06:21<01:31,  5.70s/it]"
     ]
    },
    {
     "name": "stdout",
     "output_type": "stream",
     "text": [
      "[I 2025-05-04 17:30:00,970] Trial 63 finished with value: -56.2 and parameters: {'n_estimators': 502, 'max_depth': 8, 'lr': 0.1222200664830678, 'subsample': 0.7140243655702151, 'colsample': 0.6129290288680597, 'gamma': 0.6613008715680481, 'min_child_weight': 5, 'reg_lambda': 0.48928556059803613}. Best is trial 47 with value: -56.0.\n"
     ]
    },
    {
     "name": "stderr",
     "output_type": "stream",
     "text": [
      "Best trial: 47. Best value: -56:  81%|████████▏ | 65/80 [06:27<01:26,  5.75s/it]"
     ]
    },
    {
     "name": "stdout",
     "output_type": "stream",
     "text": [
      "[I 2025-05-04 17:30:06,833] Trial 64 finished with value: -56.0 and parameters: {'n_estimators': 484, 'max_depth': 8, 'lr': 0.10042818943059204, 'subsample': 0.6696741994661627, 'colsample': 0.6151138721456121, 'gamma': 0.6164652621688306, 'min_child_weight': 5, 'reg_lambda': 0.0855113346870443}. Best is trial 47 with value: -56.0.\n"
     ]
    },
    {
     "name": "stderr",
     "output_type": "stream",
     "text": [
      "Best trial: 65. Best value: -53.2:  82%|████████▎ | 66/80 [06:33<01:21,  5.80s/it]"
     ]
    },
    {
     "name": "stdout",
     "output_type": "stream",
     "text": [
      "[I 2025-05-04 17:30:12,760] Trial 65 finished with value: -53.2 and parameters: {'n_estimators': 488, 'max_depth': 8, 'lr': 0.09726358513244007, 'subsample': 0.6672082020973394, 'colsample': 0.6157750990184406, 'gamma': 0.6161650645568387, 'min_child_weight': 5, 'reg_lambda': 0.023532377322525957}. Best is trial 65 with value: -53.2.\n"
     ]
    },
    {
     "name": "stderr",
     "output_type": "stream",
     "text": [
      "Best trial: 65. Best value: -53.2:  84%|████████▍ | 67/80 [06:37<01:10,  5.44s/it]"
     ]
    },
    {
     "name": "stdout",
     "output_type": "stream",
     "text": [
      "[I 2025-05-04 17:30:17,339] Trial 66 finished with value: -113.6 and parameters: {'n_estimators': 476, 'max_depth': 7, 'lr': 0.09910161939156986, 'subsample': 0.7191656986745235, 'colsample': 0.8954824511041847, 'gamma': 3.7436303026900175, 'min_child_weight': 5, 'reg_lambda': 0.716065325904927}. Best is trial 65 with value: -53.2.\n"
     ]
    },
    {
     "name": "stderr",
     "output_type": "stream",
     "text": [
      "Best trial: 65. Best value: -53.2:  85%|████████▌ | 68/80 [06:43<01:05,  5.50s/it]"
     ]
    },
    {
     "name": "stdout",
     "output_type": "stream",
     "text": [
      "[I 2025-05-04 17:30:22,975] Trial 67 finished with value: -62.2 and parameters: {'n_estimators': 500, 'max_depth': 8, 'lr': 0.09039760389587294, 'subsample': 0.675602056693297, 'colsample': 0.6147770064103516, 'gamma': 0.9387902253304135, 'min_child_weight': 5, 'reg_lambda': 0.006107624643510737}. Best is trial 65 with value: -53.2.\n"
     ]
    },
    {
     "name": "stderr",
     "output_type": "stream",
     "text": [
      "Best trial: 65. Best value: -53.2:  86%|████████▋ | 69/80 [06:49<01:00,  5.54s/it]"
     ]
    },
    {
     "name": "stdout",
     "output_type": "stream",
     "text": [
      "[I 2025-05-04 17:30:28,624] Trial 68 finished with value: -57.8 and parameters: {'n_estimators': 517, 'max_depth': 8, 'lr': 0.10913444311359326, 'subsample': 0.7422109570375833, 'colsample': 0.6249229797245789, 'gamma': 0.6404828589662714, 'min_child_weight': 5, 'reg_lambda': 0.4923370386876418}. Best is trial 65 with value: -53.2.\n"
     ]
    },
    {
     "name": "stderr",
     "output_type": "stream",
     "text": [
      "Best trial: 65. Best value: -53.2:  88%|████████▊ | 70/80 [06:54<00:53,  5.39s/it]"
     ]
    },
    {
     "name": "stdout",
     "output_type": "stream",
     "text": [
      "[I 2025-05-04 17:30:33,675] Trial 69 finished with value: -61.2 and parameters: {'n_estimators': 455, 'max_depth': 8, 'lr': 0.10934353889500162, 'subsample': 0.7604816921564316, 'colsample': 0.6576780343026949, 'gamma': 0.8094010574453685, 'min_child_weight': 5, 'reg_lambda': 0.4636731074276268}. Best is trial 65 with value: -53.2.\n"
     ]
    },
    {
     "name": "stderr",
     "output_type": "stream",
     "text": [
      "Best trial: 65. Best value: -53.2:  89%|████████▉ | 71/80 [07:00<00:50,  5.64s/it]"
     ]
    },
    {
     "name": "stdout",
     "output_type": "stream",
     "text": [
      "[I 2025-05-04 17:30:39,899] Trial 70 finished with value: -66.2 and parameters: {'n_estimators': 420, 'max_depth': 7, 'lr': 0.04480574042933098, 'subsample': 0.7359604453270113, 'colsample': 0.6427959148313394, 'gamma': 0.6396062849110581, 'min_child_weight': 5, 'reg_lambda': 0.8684717438869785}. Best is trial 65 with value: -53.2.\n"
     ]
    },
    {
     "name": "stderr",
     "output_type": "stream",
     "text": [
      "Best trial: 65. Best value: -53.2:  90%|█████████ | 72/80 [07:06<00:46,  5.79s/it]"
     ]
    },
    {
     "name": "stdout",
     "output_type": "stream",
     "text": [
      "[I 2025-05-04 17:30:46,028] Trial 71 finished with value: -57.2 and parameters: {'n_estimators': 514, 'max_depth': 8, 'lr': 0.09949562747324427, 'subsample': 0.7097382552203385, 'colsample': 0.6232688129911653, 'gamma': 0.5918424291666203, 'min_child_weight': 5, 'reg_lambda': 0.02079683229226542}. Best is trial 65 with value: -53.2.\n"
     ]
    },
    {
     "name": "stderr",
     "output_type": "stream",
     "text": [
      "Best trial: 65. Best value: -53.2:  91%|█████████▏| 73/80 [07:12<00:40,  5.74s/it]"
     ]
    },
    {
     "name": "stdout",
     "output_type": "stream",
     "text": [
      "[I 2025-05-04 17:30:51,642] Trial 72 finished with value: -62.2 and parameters: {'n_estimators': 506, 'max_depth': 8, 'lr': 0.10566318643662231, 'subsample': 0.7119795655693111, 'colsample': 0.6284784737879884, 'gamma': 0.7750050147627104, 'min_child_weight': 5, 'reg_lambda': 0.5503200406013861}. Best is trial 65 with value: -53.2.\n"
     ]
    },
    {
     "name": "stderr",
     "output_type": "stream",
     "text": [
      "Best trial: 65. Best value: -53.2:  92%|█████████▎| 74/80 [07:18<00:34,  5.78s/it]"
     ]
    },
    {
     "name": "stdout",
     "output_type": "stream",
     "text": [
      "[I 2025-05-04 17:30:57,532] Trial 73 finished with value: -55.4 and parameters: {'n_estimators': 518, 'max_depth': 8, 'lr': 0.09431574466639774, 'subsample': 0.7455752760406508, 'colsample': 0.6208624745283714, 'gamma': 0.6117586194209872, 'min_child_weight': 5, 'reg_lambda': 0.02441790205835115}. Best is trial 65 with value: -53.2.\n"
     ]
    },
    {
     "name": "stderr",
     "output_type": "stream",
     "text": [
      "Best trial: 65. Best value: -53.2:  94%|█████████▍| 75/80 [07:24<00:29,  5.97s/it]"
     ]
    },
    {
     "name": "stdout",
     "output_type": "stream",
     "text": [
      "[I 2025-05-04 17:31:03,949] Trial 74 finished with value: -63.2 and parameters: {'n_estimators': 516, 'max_depth': 8, 'lr': 0.06323467816537973, 'subsample': 0.7421707371988386, 'colsample': 0.6218119743405781, 'gamma': 0.6327110403368904, 'min_child_weight': 5, 'reg_lambda': 0.3892692210719928}. Best is trial 65 with value: -53.2.\n"
     ]
    },
    {
     "name": "stderr",
     "output_type": "stream",
     "text": [
      "Best trial: 65. Best value: -53.2:  95%|█████████▌| 76/80 [07:30<00:24,  6.04s/it]"
     ]
    },
    {
     "name": "stdout",
     "output_type": "stream",
     "text": [
      "[I 2025-05-04 17:31:10,157] Trial 75 finished with value: -86.2 and parameters: {'n_estimators': 490, 'max_depth': 8, 'lr': 0.07300733461996971, 'subsample': 0.7646461072827132, 'colsample': 0.6505248424468508, 'gamma': 0.6301077706930636, 'min_child_weight': 14, 'reg_lambda': 0.8225181251948142}. Best is trial 65 with value: -53.2.\n"
     ]
    },
    {
     "name": "stderr",
     "output_type": "stream",
     "text": [
      "Best trial: 65. Best value: -53.2:  96%|█████████▋| 77/80 [07:36<00:17,  5.86s/it]"
     ]
    },
    {
     "name": "stdout",
     "output_type": "stream",
     "text": [
      "[I 2025-05-04 17:31:15,590] Trial 76 finished with value: -60.6 and parameters: {'n_estimators': 472, 'max_depth': 8, 'lr': 0.07842467476113914, 'subsample': 0.750033528058411, 'colsample': 0.6675765353866435, 'gamma': 0.9317828567394371, 'min_child_weight': 5, 'reg_lambda': 1.2091886939278358}. Best is trial 65 with value: -53.2.\n"
     ]
    },
    {
     "name": "stderr",
     "output_type": "stream",
     "text": [
      "Best trial: 65. Best value: -53.2:  98%|█████████▊| 78/80 [07:41<00:11,  5.64s/it]"
     ]
    },
    {
     "name": "stdout",
     "output_type": "stream",
     "text": [
      "[I 2025-05-04 17:31:20,714] Trial 77 finished with value: -70.8 and parameters: {'n_estimators': 463, 'max_depth': 7, 'lr': 0.08412313963244078, 'subsample': 0.633331213086974, 'colsample': 0.6379195695654934, 'gamma': 1.163709271807905, 'min_child_weight': 6, 'reg_lambda': 0.6750131976549599}. Best is trial 65 with value: -53.2.\n"
     ]
    },
    {
     "name": "stderr",
     "output_type": "stream",
     "text": [
      "Best trial: 65. Best value: -53.2:  99%|█████████▉| 79/80 [07:47<00:05,  5.74s/it]"
     ]
    },
    {
     "name": "stdout",
     "output_type": "stream",
     "text": [
      "[I 2025-05-04 17:31:26,681] Trial 78 finished with value: -58.8 and parameters: {'n_estimators': 526, 'max_depth': 8, 'lr': 0.09348883809440299, 'subsample': 0.6731540292568049, 'colsample': 0.6208543119700783, 'gamma': 0.7194477836778352, 'min_child_weight': 5, 'reg_lambda': 0.3569449127445167}. Best is trial 65 with value: -53.2.\n"
     ]
    },
    {
     "name": "stderr",
     "output_type": "stream",
     "text": [
      "Best trial: 65. Best value: -53.2: 100%|██████████| 80/80 [07:51<00:00,  5.90s/it]"
     ]
    },
    {
     "name": "stdout",
     "output_type": "stream",
     "text": [
      "[I 2025-05-04 17:31:31,499] Trial 79 finished with value: -67.8 and parameters: {'n_estimators': 400, 'max_depth': 8, 'lr': 0.08180077583128013, 'subsample': 0.720066039626948, 'colsample': 0.6116975502891018, 'gamma': 1.0482699090560867, 'min_child_weight': 6, 'reg_lambda': 1.0194500978552292}. Best is trial 65 with value: -53.2.\n"
     ]
    },
    {
     "name": "stderr",
     "output_type": "stream",
     "text": [
      "\n"
     ]
    }
   ],
   "source": [
    "study = optuna.create_study(direction='maximize')\n",
    "study.optimize(objective, n_trials=80, show_progress_bar=True)"
   ]
  },
  {
   "cell_type": "code",
   "execution_count": 787,
   "metadata": {},
   "outputs": [
    {
     "name": "stderr",
     "output_type": "stream",
     "text": [
      "C:\\Users\\RBH\\AppData\\Local\\Packages\\PythonSoftwareFoundation.Python.3.12_qbz5n2kfra8p0\\LocalCache\\local-packages\\Python312\\site-packages\\xgboost\\training.py:183: UserWarning: [17:31:31] WARNING: C:\\actions-runner\\_work\\xgboost\\xgboost\\src\\learner.cc:738: \n",
      "Parameters: { \"colsample\", \"lr\" } are not used.\n",
      "\n",
      "  bst.update(dtrain, iteration=i, fobj=obj)\n"
     ]
    },
    {
     "data": {
      "text/html": [
       "<style>#sk-container-id-40 {\n",
       "  /* Definition of color scheme common for light and dark mode */\n",
       "  --sklearn-color-text: #000;\n",
       "  --sklearn-color-text-muted: #666;\n",
       "  --sklearn-color-line: gray;\n",
       "  /* Definition of color scheme for unfitted estimators */\n",
       "  --sklearn-color-unfitted-level-0: #fff5e6;\n",
       "  --sklearn-color-unfitted-level-1: #f6e4d2;\n",
       "  --sklearn-color-unfitted-level-2: #ffe0b3;\n",
       "  --sklearn-color-unfitted-level-3: chocolate;\n",
       "  /* Definition of color scheme for fitted estimators */\n",
       "  --sklearn-color-fitted-level-0: #f0f8ff;\n",
       "  --sklearn-color-fitted-level-1: #d4ebff;\n",
       "  --sklearn-color-fitted-level-2: #b3dbfd;\n",
       "  --sklearn-color-fitted-level-3: cornflowerblue;\n",
       "\n",
       "  /* Specific color for light theme */\n",
       "  --sklearn-color-text-on-default-background: var(--sg-text-color, var(--theme-code-foreground, var(--jp-content-font-color1, black)));\n",
       "  --sklearn-color-background: var(--sg-background-color, var(--theme-background, var(--jp-layout-color0, white)));\n",
       "  --sklearn-color-border-box: var(--sg-text-color, var(--theme-code-foreground, var(--jp-content-font-color1, black)));\n",
       "  --sklearn-color-icon: #696969;\n",
       "\n",
       "  @media (prefers-color-scheme: dark) {\n",
       "    /* Redefinition of color scheme for dark theme */\n",
       "    --sklearn-color-text-on-default-background: var(--sg-text-color, var(--theme-code-foreground, var(--jp-content-font-color1, white)));\n",
       "    --sklearn-color-background: var(--sg-background-color, var(--theme-background, var(--jp-layout-color0, #111)));\n",
       "    --sklearn-color-border-box: var(--sg-text-color, var(--theme-code-foreground, var(--jp-content-font-color1, white)));\n",
       "    --sklearn-color-icon: #878787;\n",
       "  }\n",
       "}\n",
       "\n",
       "#sk-container-id-40 {\n",
       "  color: var(--sklearn-color-text);\n",
       "}\n",
       "\n",
       "#sk-container-id-40 pre {\n",
       "  padding: 0;\n",
       "}\n",
       "\n",
       "#sk-container-id-40 input.sk-hidden--visually {\n",
       "  border: 0;\n",
       "  clip: rect(1px 1px 1px 1px);\n",
       "  clip: rect(1px, 1px, 1px, 1px);\n",
       "  height: 1px;\n",
       "  margin: -1px;\n",
       "  overflow: hidden;\n",
       "  padding: 0;\n",
       "  position: absolute;\n",
       "  width: 1px;\n",
       "}\n",
       "\n",
       "#sk-container-id-40 div.sk-dashed-wrapped {\n",
       "  border: 1px dashed var(--sklearn-color-line);\n",
       "  margin: 0 0.4em 0.5em 0.4em;\n",
       "  box-sizing: border-box;\n",
       "  padding-bottom: 0.4em;\n",
       "  background-color: var(--sklearn-color-background);\n",
       "}\n",
       "\n",
       "#sk-container-id-40 div.sk-container {\n",
       "  /* jupyter's `normalize.less` sets `[hidden] { display: none; }`\n",
       "     but bootstrap.min.css set `[hidden] { display: none !important; }`\n",
       "     so we also need the `!important` here to be able to override the\n",
       "     default hidden behavior on the sphinx rendered scikit-learn.org.\n",
       "     See: https://github.com/scikit-learn/scikit-learn/issues/21755 */\n",
       "  display: inline-block !important;\n",
       "  position: relative;\n",
       "}\n",
       "\n",
       "#sk-container-id-40 div.sk-text-repr-fallback {\n",
       "  display: none;\n",
       "}\n",
       "\n",
       "div.sk-parallel-item,\n",
       "div.sk-serial,\n",
       "div.sk-item {\n",
       "  /* draw centered vertical line to link estimators */\n",
       "  background-image: linear-gradient(var(--sklearn-color-text-on-default-background), var(--sklearn-color-text-on-default-background));\n",
       "  background-size: 2px 100%;\n",
       "  background-repeat: no-repeat;\n",
       "  background-position: center center;\n",
       "}\n",
       "\n",
       "/* Parallel-specific style estimator block */\n",
       "\n",
       "#sk-container-id-40 div.sk-parallel-item::after {\n",
       "  content: \"\";\n",
       "  width: 100%;\n",
       "  border-bottom: 2px solid var(--sklearn-color-text-on-default-background);\n",
       "  flex-grow: 1;\n",
       "}\n",
       "\n",
       "#sk-container-id-40 div.sk-parallel {\n",
       "  display: flex;\n",
       "  align-items: stretch;\n",
       "  justify-content: center;\n",
       "  background-color: var(--sklearn-color-background);\n",
       "  position: relative;\n",
       "}\n",
       "\n",
       "#sk-container-id-40 div.sk-parallel-item {\n",
       "  display: flex;\n",
       "  flex-direction: column;\n",
       "}\n",
       "\n",
       "#sk-container-id-40 div.sk-parallel-item:first-child::after {\n",
       "  align-self: flex-end;\n",
       "  width: 50%;\n",
       "}\n",
       "\n",
       "#sk-container-id-40 div.sk-parallel-item:last-child::after {\n",
       "  align-self: flex-start;\n",
       "  width: 50%;\n",
       "}\n",
       "\n",
       "#sk-container-id-40 div.sk-parallel-item:only-child::after {\n",
       "  width: 0;\n",
       "}\n",
       "\n",
       "/* Serial-specific style estimator block */\n",
       "\n",
       "#sk-container-id-40 div.sk-serial {\n",
       "  display: flex;\n",
       "  flex-direction: column;\n",
       "  align-items: center;\n",
       "  background-color: var(--sklearn-color-background);\n",
       "  padding-right: 1em;\n",
       "  padding-left: 1em;\n",
       "}\n",
       "\n",
       "\n",
       "/* Toggleable style: style used for estimator/Pipeline/ColumnTransformer box that is\n",
       "clickable and can be expanded/collapsed.\n",
       "- Pipeline and ColumnTransformer use this feature and define the default style\n",
       "- Estimators will overwrite some part of the style using the `sk-estimator` class\n",
       "*/\n",
       "\n",
       "/* Pipeline and ColumnTransformer style (default) */\n",
       "\n",
       "#sk-container-id-40 div.sk-toggleable {\n",
       "  /* Default theme specific background. It is overwritten whether we have a\n",
       "  specific estimator or a Pipeline/ColumnTransformer */\n",
       "  background-color: var(--sklearn-color-background);\n",
       "}\n",
       "\n",
       "/* Toggleable label */\n",
       "#sk-container-id-40 label.sk-toggleable__label {\n",
       "  cursor: pointer;\n",
       "  display: flex;\n",
       "  width: 100%;\n",
       "  margin-bottom: 0;\n",
       "  padding: 0.5em;\n",
       "  box-sizing: border-box;\n",
       "  text-align: center;\n",
       "  align-items: start;\n",
       "  justify-content: space-between;\n",
       "  gap: 0.5em;\n",
       "}\n",
       "\n",
       "#sk-container-id-40 label.sk-toggleable__label .caption {\n",
       "  font-size: 0.6rem;\n",
       "  font-weight: lighter;\n",
       "  color: var(--sklearn-color-text-muted);\n",
       "}\n",
       "\n",
       "#sk-container-id-40 label.sk-toggleable__label-arrow:before {\n",
       "  /* Arrow on the left of the label */\n",
       "  content: \"▸\";\n",
       "  float: left;\n",
       "  margin-right: 0.25em;\n",
       "  color: var(--sklearn-color-icon);\n",
       "}\n",
       "\n",
       "#sk-container-id-40 label.sk-toggleable__label-arrow:hover:before {\n",
       "  color: var(--sklearn-color-text);\n",
       "}\n",
       "\n",
       "/* Toggleable content - dropdown */\n",
       "\n",
       "#sk-container-id-40 div.sk-toggleable__content {\n",
       "  max-height: 0;\n",
       "  max-width: 0;\n",
       "  overflow: hidden;\n",
       "  text-align: left;\n",
       "  /* unfitted */\n",
       "  background-color: var(--sklearn-color-unfitted-level-0);\n",
       "}\n",
       "\n",
       "#sk-container-id-40 div.sk-toggleable__content.fitted {\n",
       "  /* fitted */\n",
       "  background-color: var(--sklearn-color-fitted-level-0);\n",
       "}\n",
       "\n",
       "#sk-container-id-40 div.sk-toggleable__content pre {\n",
       "  margin: 0.2em;\n",
       "  border-radius: 0.25em;\n",
       "  color: var(--sklearn-color-text);\n",
       "  /* unfitted */\n",
       "  background-color: var(--sklearn-color-unfitted-level-0);\n",
       "}\n",
       "\n",
       "#sk-container-id-40 div.sk-toggleable__content.fitted pre {\n",
       "  /* unfitted */\n",
       "  background-color: var(--sklearn-color-fitted-level-0);\n",
       "}\n",
       "\n",
       "#sk-container-id-40 input.sk-toggleable__control:checked~div.sk-toggleable__content {\n",
       "  /* Expand drop-down */\n",
       "  max-height: 200px;\n",
       "  max-width: 100%;\n",
       "  overflow: auto;\n",
       "}\n",
       "\n",
       "#sk-container-id-40 input.sk-toggleable__control:checked~label.sk-toggleable__label-arrow:before {\n",
       "  content: \"▾\";\n",
       "}\n",
       "\n",
       "/* Pipeline/ColumnTransformer-specific style */\n",
       "\n",
       "#sk-container-id-40 div.sk-label input.sk-toggleable__control:checked~label.sk-toggleable__label {\n",
       "  color: var(--sklearn-color-text);\n",
       "  background-color: var(--sklearn-color-unfitted-level-2);\n",
       "}\n",
       "\n",
       "#sk-container-id-40 div.sk-label.fitted input.sk-toggleable__control:checked~label.sk-toggleable__label {\n",
       "  background-color: var(--sklearn-color-fitted-level-2);\n",
       "}\n",
       "\n",
       "/* Estimator-specific style */\n",
       "\n",
       "/* Colorize estimator box */\n",
       "#sk-container-id-40 div.sk-estimator input.sk-toggleable__control:checked~label.sk-toggleable__label {\n",
       "  /* unfitted */\n",
       "  background-color: var(--sklearn-color-unfitted-level-2);\n",
       "}\n",
       "\n",
       "#sk-container-id-40 div.sk-estimator.fitted input.sk-toggleable__control:checked~label.sk-toggleable__label {\n",
       "  /* fitted */\n",
       "  background-color: var(--sklearn-color-fitted-level-2);\n",
       "}\n",
       "\n",
       "#sk-container-id-40 div.sk-label label.sk-toggleable__label,\n",
       "#sk-container-id-40 div.sk-label label {\n",
       "  /* The background is the default theme color */\n",
       "  color: var(--sklearn-color-text-on-default-background);\n",
       "}\n",
       "\n",
       "/* On hover, darken the color of the background */\n",
       "#sk-container-id-40 div.sk-label:hover label.sk-toggleable__label {\n",
       "  color: var(--sklearn-color-text);\n",
       "  background-color: var(--sklearn-color-unfitted-level-2);\n",
       "}\n",
       "\n",
       "/* Label box, darken color on hover, fitted */\n",
       "#sk-container-id-40 div.sk-label.fitted:hover label.sk-toggleable__label.fitted {\n",
       "  color: var(--sklearn-color-text);\n",
       "  background-color: var(--sklearn-color-fitted-level-2);\n",
       "}\n",
       "\n",
       "/* Estimator label */\n",
       "\n",
       "#sk-container-id-40 div.sk-label label {\n",
       "  font-family: monospace;\n",
       "  font-weight: bold;\n",
       "  display: inline-block;\n",
       "  line-height: 1.2em;\n",
       "}\n",
       "\n",
       "#sk-container-id-40 div.sk-label-container {\n",
       "  text-align: center;\n",
       "}\n",
       "\n",
       "/* Estimator-specific */\n",
       "#sk-container-id-40 div.sk-estimator {\n",
       "  font-family: monospace;\n",
       "  border: 1px dotted var(--sklearn-color-border-box);\n",
       "  border-radius: 0.25em;\n",
       "  box-sizing: border-box;\n",
       "  margin-bottom: 0.5em;\n",
       "  /* unfitted */\n",
       "  background-color: var(--sklearn-color-unfitted-level-0);\n",
       "}\n",
       "\n",
       "#sk-container-id-40 div.sk-estimator.fitted {\n",
       "  /* fitted */\n",
       "  background-color: var(--sklearn-color-fitted-level-0);\n",
       "}\n",
       "\n",
       "/* on hover */\n",
       "#sk-container-id-40 div.sk-estimator:hover {\n",
       "  /* unfitted */\n",
       "  background-color: var(--sklearn-color-unfitted-level-2);\n",
       "}\n",
       "\n",
       "#sk-container-id-40 div.sk-estimator.fitted:hover {\n",
       "  /* fitted */\n",
       "  background-color: var(--sklearn-color-fitted-level-2);\n",
       "}\n",
       "\n",
       "/* Specification for estimator info (e.g. \"i\" and \"?\") */\n",
       "\n",
       "/* Common style for \"i\" and \"?\" */\n",
       "\n",
       ".sk-estimator-doc-link,\n",
       "a:link.sk-estimator-doc-link,\n",
       "a:visited.sk-estimator-doc-link {\n",
       "  float: right;\n",
       "  font-size: smaller;\n",
       "  line-height: 1em;\n",
       "  font-family: monospace;\n",
       "  background-color: var(--sklearn-color-background);\n",
       "  border-radius: 1em;\n",
       "  height: 1em;\n",
       "  width: 1em;\n",
       "  text-decoration: none !important;\n",
       "  margin-left: 0.5em;\n",
       "  text-align: center;\n",
       "  /* unfitted */\n",
       "  border: var(--sklearn-color-unfitted-level-1) 1pt solid;\n",
       "  color: var(--sklearn-color-unfitted-level-1);\n",
       "}\n",
       "\n",
       ".sk-estimator-doc-link.fitted,\n",
       "a:link.sk-estimator-doc-link.fitted,\n",
       "a:visited.sk-estimator-doc-link.fitted {\n",
       "  /* fitted */\n",
       "  border: var(--sklearn-color-fitted-level-1) 1pt solid;\n",
       "  color: var(--sklearn-color-fitted-level-1);\n",
       "}\n",
       "\n",
       "/* On hover */\n",
       "div.sk-estimator:hover .sk-estimator-doc-link:hover,\n",
       ".sk-estimator-doc-link:hover,\n",
       "div.sk-label-container:hover .sk-estimator-doc-link:hover,\n",
       ".sk-estimator-doc-link:hover {\n",
       "  /* unfitted */\n",
       "  background-color: var(--sklearn-color-unfitted-level-3);\n",
       "  color: var(--sklearn-color-background);\n",
       "  text-decoration: none;\n",
       "}\n",
       "\n",
       "div.sk-estimator.fitted:hover .sk-estimator-doc-link.fitted:hover,\n",
       ".sk-estimator-doc-link.fitted:hover,\n",
       "div.sk-label-container:hover .sk-estimator-doc-link.fitted:hover,\n",
       ".sk-estimator-doc-link.fitted:hover {\n",
       "  /* fitted */\n",
       "  background-color: var(--sklearn-color-fitted-level-3);\n",
       "  color: var(--sklearn-color-background);\n",
       "  text-decoration: none;\n",
       "}\n",
       "\n",
       "/* Span, style for the box shown on hovering the info icon */\n",
       ".sk-estimator-doc-link span {\n",
       "  display: none;\n",
       "  z-index: 9999;\n",
       "  position: relative;\n",
       "  font-weight: normal;\n",
       "  right: .2ex;\n",
       "  padding: .5ex;\n",
       "  margin: .5ex;\n",
       "  width: min-content;\n",
       "  min-width: 20ex;\n",
       "  max-width: 50ex;\n",
       "  color: var(--sklearn-color-text);\n",
       "  box-shadow: 2pt 2pt 4pt #999;\n",
       "  /* unfitted */\n",
       "  background: var(--sklearn-color-unfitted-level-0);\n",
       "  border: .5pt solid var(--sklearn-color-unfitted-level-3);\n",
       "}\n",
       "\n",
       ".sk-estimator-doc-link.fitted span {\n",
       "  /* fitted */\n",
       "  background: var(--sklearn-color-fitted-level-0);\n",
       "  border: var(--sklearn-color-fitted-level-3);\n",
       "}\n",
       "\n",
       ".sk-estimator-doc-link:hover span {\n",
       "  display: block;\n",
       "}\n",
       "\n",
       "/* \"?\"-specific style due to the `<a>` HTML tag */\n",
       "\n",
       "#sk-container-id-40 a.estimator_doc_link {\n",
       "  float: right;\n",
       "  font-size: 1rem;\n",
       "  line-height: 1em;\n",
       "  font-family: monospace;\n",
       "  background-color: var(--sklearn-color-background);\n",
       "  border-radius: 1rem;\n",
       "  height: 1rem;\n",
       "  width: 1rem;\n",
       "  text-decoration: none;\n",
       "  /* unfitted */\n",
       "  color: var(--sklearn-color-unfitted-level-1);\n",
       "  border: var(--sklearn-color-unfitted-level-1) 1pt solid;\n",
       "}\n",
       "\n",
       "#sk-container-id-40 a.estimator_doc_link.fitted {\n",
       "  /* fitted */\n",
       "  border: var(--sklearn-color-fitted-level-1) 1pt solid;\n",
       "  color: var(--sklearn-color-fitted-level-1);\n",
       "}\n",
       "\n",
       "/* On hover */\n",
       "#sk-container-id-40 a.estimator_doc_link:hover {\n",
       "  /* unfitted */\n",
       "  background-color: var(--sklearn-color-unfitted-level-3);\n",
       "  color: var(--sklearn-color-background);\n",
       "  text-decoration: none;\n",
       "}\n",
       "\n",
       "#sk-container-id-40 a.estimator_doc_link.fitted:hover {\n",
       "  /* fitted */\n",
       "  background-color: var(--sklearn-color-fitted-level-3);\n",
       "}\n",
       "</style><div id=\"sk-container-id-40\" class=\"sk-top-container\"><div class=\"sk-text-repr-fallback\"><pre>Pipeline(steps=[(&#x27;prep&#x27;,\n",
       "                 ColumnTransformer(transformers=[(&#x27;svc&#x27;,\n",
       "                                                  TargetEncoder(cols=[&#x27;service&#x27;],\n",
       "                                                                handle_unknown=&#x27;ignore&#x27;,\n",
       "                                                                smoothing=0.3),\n",
       "                                                  [&#x27;service&#x27;]),\n",
       "                                                 (&#x27;cat&#x27;,\n",
       "                                                  OneHotEncoder(handle_unknown=&#x27;ignore&#x27;),\n",
       "                                                  [&#x27;protocol_type&#x27;, &#x27;flag&#x27;]),\n",
       "                                                 (&#x27;num&#x27;, StandardScaler(),\n",
       "                                                  [&#x27;duration&#x27;, &#x27;src_bytes&#x27;,\n",
       "                                                   &#x27;dst_bytes&#x27;, &#x27;land&#x27;,\n",
       "                                                   &#x27;wrong_fragment&#x27;, &#x27;urgent&#x27;,\n",
       "                                                   &#x27;hot&#x27;, &#x27;num_failed_logins&#x27;,\n",
       "                                                   &#x27;logged_in&#x27;,\n",
       "                                                   &#x27;...\n",
       "                               feature_types=None, feature_weights=None,\n",
       "                               gamma=0.6161650645568387, grow_policy=None,\n",
       "                               importance_type=None,\n",
       "                               interaction_constraints=None, learning_rate=None,\n",
       "                               lr=0.09726358513244007, max_bin=None,\n",
       "                               max_cat_threshold=None, max_cat_to_onehot=None,\n",
       "                               max_delta_step=None, max_depth=8,\n",
       "                               max_leaves=None, min_child_weight=5, missing=nan,\n",
       "                               monotone_constraints=None, multi_strategy=None,\n",
       "                               n_estimators=488, ...))])</pre><b>In a Jupyter environment, please rerun this cell to show the HTML representation or trust the notebook. <br />On GitHub, the HTML representation is unable to render, please try loading this page with nbviewer.org.</b></div><div class=\"sk-container\" hidden><div class=\"sk-item sk-dashed-wrapped\"><div class=\"sk-label-container\"><div class=\"sk-label fitted sk-toggleable\"><input class=\"sk-toggleable__control sk-hidden--visually\" id=\"sk-estimator-id-403\" type=\"checkbox\" ><label for=\"sk-estimator-id-403\" class=\"sk-toggleable__label fitted sk-toggleable__label-arrow\"><div><div>Pipeline</div></div><div><a class=\"sk-estimator-doc-link fitted\" rel=\"noreferrer\" target=\"_blank\" href=\"https://scikit-learn.org/1.6/modules/generated/sklearn.pipeline.Pipeline.html\">?<span>Documentation for Pipeline</span></a><span class=\"sk-estimator-doc-link fitted\">i<span>Fitted</span></span></div></label><div class=\"sk-toggleable__content fitted\"><pre>Pipeline(steps=[(&#x27;prep&#x27;,\n",
       "                 ColumnTransformer(transformers=[(&#x27;svc&#x27;,\n",
       "                                                  TargetEncoder(cols=[&#x27;service&#x27;],\n",
       "                                                                handle_unknown=&#x27;ignore&#x27;,\n",
       "                                                                smoothing=0.3),\n",
       "                                                  [&#x27;service&#x27;]),\n",
       "                                                 (&#x27;cat&#x27;,\n",
       "                                                  OneHotEncoder(handle_unknown=&#x27;ignore&#x27;),\n",
       "                                                  [&#x27;protocol_type&#x27;, &#x27;flag&#x27;]),\n",
       "                                                 (&#x27;num&#x27;, StandardScaler(),\n",
       "                                                  [&#x27;duration&#x27;, &#x27;src_bytes&#x27;,\n",
       "                                                   &#x27;dst_bytes&#x27;, &#x27;land&#x27;,\n",
       "                                                   &#x27;wrong_fragment&#x27;, &#x27;urgent&#x27;,\n",
       "                                                   &#x27;hot&#x27;, &#x27;num_failed_logins&#x27;,\n",
       "                                                   &#x27;logged_in&#x27;,\n",
       "                                                   &#x27;...\n",
       "                               feature_types=None, feature_weights=None,\n",
       "                               gamma=0.6161650645568387, grow_policy=None,\n",
       "                               importance_type=None,\n",
       "                               interaction_constraints=None, learning_rate=None,\n",
       "                               lr=0.09726358513244007, max_bin=None,\n",
       "                               max_cat_threshold=None, max_cat_to_onehot=None,\n",
       "                               max_delta_step=None, max_depth=8,\n",
       "                               max_leaves=None, min_child_weight=5, missing=nan,\n",
       "                               monotone_constraints=None, multi_strategy=None,\n",
       "                               n_estimators=488, ...))])</pre></div> </div></div><div class=\"sk-serial\"><div class=\"sk-item sk-dashed-wrapped\"><div class=\"sk-label-container\"><div class=\"sk-label fitted sk-toggleable\"><input class=\"sk-toggleable__control sk-hidden--visually\" id=\"sk-estimator-id-404\" type=\"checkbox\" ><label for=\"sk-estimator-id-404\" class=\"sk-toggleable__label fitted sk-toggleable__label-arrow\"><div><div>prep: ColumnTransformer</div></div><div><a class=\"sk-estimator-doc-link fitted\" rel=\"noreferrer\" target=\"_blank\" href=\"https://scikit-learn.org/1.6/modules/generated/sklearn.compose.ColumnTransformer.html\">?<span>Documentation for prep: ColumnTransformer</span></a></div></label><div class=\"sk-toggleable__content fitted\"><pre>ColumnTransformer(transformers=[(&#x27;svc&#x27;,\n",
       "                                 TargetEncoder(cols=[&#x27;service&#x27;],\n",
       "                                               handle_unknown=&#x27;ignore&#x27;,\n",
       "                                               smoothing=0.3),\n",
       "                                 [&#x27;service&#x27;]),\n",
       "                                (&#x27;cat&#x27;, OneHotEncoder(handle_unknown=&#x27;ignore&#x27;),\n",
       "                                 [&#x27;protocol_type&#x27;, &#x27;flag&#x27;]),\n",
       "                                (&#x27;num&#x27;, StandardScaler(),\n",
       "                                 [&#x27;duration&#x27;, &#x27;src_bytes&#x27;, &#x27;dst_bytes&#x27;, &#x27;land&#x27;,\n",
       "                                  &#x27;wrong_fragment&#x27;, &#x27;urgent&#x27;, &#x27;hot&#x27;,\n",
       "                                  &#x27;num_failed_logins&#x27;, &#x27;logged_in&#x27;,\n",
       "                                  &#x27;num_compromised&#x27;, &#x27;root_shell&#x27;,\n",
       "                                  &#x27;su_attempted&#x27;, &#x27;num_file_creations&#x27;,\n",
       "                                  &#x27;num_shells&#x27;, &#x27;num_access_files&#x27;,\n",
       "                                  &#x27;is_guest_login&#x27;, &#x27;count&#x27;, &#x27;srv_count&#x27;,\n",
       "                                  &#x27;serror_rate&#x27;, &#x27;rerror_rate&#x27;, &#x27;same_srv_rate&#x27;,\n",
       "                                  &#x27;diff_srv_rate&#x27;, &#x27;srv_diff_host_rate&#x27;,\n",
       "                                  &#x27;dst_host_count&#x27;, &#x27;dst_host_srv_count&#x27;,\n",
       "                                  &#x27;dst_host_same_srv_rate&#x27;,\n",
       "                                  &#x27;dst_host_diff_srv_rate&#x27;,\n",
       "                                  &#x27;dst_host_same_src_port_rate&#x27;,\n",
       "                                  &#x27;dst_host_srv_diff_host_rate&#x27;])])</pre></div> </div></div><div class=\"sk-parallel\"><div class=\"sk-parallel-item\"><div class=\"sk-item\"><div class=\"sk-label-container\"><div class=\"sk-label fitted sk-toggleable\"><input class=\"sk-toggleable__control sk-hidden--visually\" id=\"sk-estimator-id-405\" type=\"checkbox\" ><label for=\"sk-estimator-id-405\" class=\"sk-toggleable__label fitted sk-toggleable__label-arrow\"><div><div>svc</div></div></label><div class=\"sk-toggleable__content fitted\"><pre>[&#x27;service&#x27;]</pre></div> </div></div><div class=\"sk-serial\"><div class=\"sk-item\"><div class=\"sk-estimator fitted sk-toggleable\"><input class=\"sk-toggleable__control sk-hidden--visually\" id=\"sk-estimator-id-406\" type=\"checkbox\" ><label for=\"sk-estimator-id-406\" class=\"sk-toggleable__label fitted sk-toggleable__label-arrow\"><div><div>TargetEncoder</div></div></label><div class=\"sk-toggleable__content fitted\"><pre>TargetEncoder(cols=[&#x27;service&#x27;], handle_unknown=&#x27;ignore&#x27;, smoothing=0.3)</pre></div> </div></div></div></div></div><div class=\"sk-parallel-item\"><div class=\"sk-item\"><div class=\"sk-label-container\"><div class=\"sk-label fitted sk-toggleable\"><input class=\"sk-toggleable__control sk-hidden--visually\" id=\"sk-estimator-id-407\" type=\"checkbox\" ><label for=\"sk-estimator-id-407\" class=\"sk-toggleable__label fitted sk-toggleable__label-arrow\"><div><div>cat</div></div></label><div class=\"sk-toggleable__content fitted\"><pre>[&#x27;protocol_type&#x27;, &#x27;flag&#x27;]</pre></div> </div></div><div class=\"sk-serial\"><div class=\"sk-item\"><div class=\"sk-estimator fitted sk-toggleable\"><input class=\"sk-toggleable__control sk-hidden--visually\" id=\"sk-estimator-id-408\" type=\"checkbox\" ><label for=\"sk-estimator-id-408\" class=\"sk-toggleable__label fitted sk-toggleable__label-arrow\"><div><div>OneHotEncoder</div></div><div><a class=\"sk-estimator-doc-link fitted\" rel=\"noreferrer\" target=\"_blank\" href=\"https://scikit-learn.org/1.6/modules/generated/sklearn.preprocessing.OneHotEncoder.html\">?<span>Documentation for OneHotEncoder</span></a></div></label><div class=\"sk-toggleable__content fitted\"><pre>OneHotEncoder(handle_unknown=&#x27;ignore&#x27;)</pre></div> </div></div></div></div></div><div class=\"sk-parallel-item\"><div class=\"sk-item\"><div class=\"sk-label-container\"><div class=\"sk-label fitted sk-toggleable\"><input class=\"sk-toggleable__control sk-hidden--visually\" id=\"sk-estimator-id-409\" type=\"checkbox\" ><label for=\"sk-estimator-id-409\" class=\"sk-toggleable__label fitted sk-toggleable__label-arrow\"><div><div>num</div></div></label><div class=\"sk-toggleable__content fitted\"><pre>[&#x27;duration&#x27;, &#x27;src_bytes&#x27;, &#x27;dst_bytes&#x27;, &#x27;land&#x27;, &#x27;wrong_fragment&#x27;, &#x27;urgent&#x27;, &#x27;hot&#x27;, &#x27;num_failed_logins&#x27;, &#x27;logged_in&#x27;, &#x27;num_compromised&#x27;, &#x27;root_shell&#x27;, &#x27;su_attempted&#x27;, &#x27;num_file_creations&#x27;, &#x27;num_shells&#x27;, &#x27;num_access_files&#x27;, &#x27;is_guest_login&#x27;, &#x27;count&#x27;, &#x27;srv_count&#x27;, &#x27;serror_rate&#x27;, &#x27;rerror_rate&#x27;, &#x27;same_srv_rate&#x27;, &#x27;diff_srv_rate&#x27;, &#x27;srv_diff_host_rate&#x27;, &#x27;dst_host_count&#x27;, &#x27;dst_host_srv_count&#x27;, &#x27;dst_host_same_srv_rate&#x27;, &#x27;dst_host_diff_srv_rate&#x27;, &#x27;dst_host_same_src_port_rate&#x27;, &#x27;dst_host_srv_diff_host_rate&#x27;]</pre></div> </div></div><div class=\"sk-serial\"><div class=\"sk-item\"><div class=\"sk-estimator fitted sk-toggleable\"><input class=\"sk-toggleable__control sk-hidden--visually\" id=\"sk-estimator-id-410\" type=\"checkbox\" ><label for=\"sk-estimator-id-410\" class=\"sk-toggleable__label fitted sk-toggleable__label-arrow\"><div><div>StandardScaler</div></div><div><a class=\"sk-estimator-doc-link fitted\" rel=\"noreferrer\" target=\"_blank\" href=\"https://scikit-learn.org/1.6/modules/generated/sklearn.preprocessing.StandardScaler.html\">?<span>Documentation for StandardScaler</span></a></div></label><div class=\"sk-toggleable__content fitted\"><pre>StandardScaler()</pre></div> </div></div></div></div></div></div></div><div class=\"sk-item\"><div class=\"sk-estimator fitted sk-toggleable\"><input class=\"sk-toggleable__control sk-hidden--visually\" id=\"sk-estimator-id-411\" type=\"checkbox\" ><label for=\"sk-estimator-id-411\" class=\"sk-toggleable__label fitted sk-toggleable__label-arrow\"><div><div>XGBClassifier</div></div><div><a class=\"sk-estimator-doc-link fitted\" rel=\"noreferrer\" target=\"_blank\" href=\"https://xgboost.readthedocs.io/en/release_3.0.0/python/python_api.html#xgboost.XGBClassifier\">?<span>Documentation for XGBClassifier</span></a></div></label><div class=\"sk-toggleable__content fitted\"><pre>XGBClassifier(base_score=None, booster=None, callbacks=None,\n",
       "              colsample=0.6157750990184406, colsample_bylevel=None,\n",
       "              colsample_bynode=None, colsample_bytree=None, device=None,\n",
       "              early_stopping_rounds=None, enable_categorical=False,\n",
       "              eval_metric=&#x27;auc&#x27;, feature_types=None, feature_weights=None,\n",
       "              gamma=0.6161650645568387, grow_policy=None, importance_type=None,\n",
       "              interaction_constraints=None, learning_rate=None,\n",
       "              lr=0.09726358513244007, max_bin=None, max_cat_threshold=None,\n",
       "              max_cat_to_onehot=None, max_delta_step=None, max_depth=8,\n",
       "              max_leaves=None, min_child_weight=5, missing=nan,\n",
       "              monotone_constraints=None, multi_strategy=None, n_estimators=488, ...)</pre></div> </div></div></div></div></div></div>"
      ],
      "text/plain": [
       "Pipeline(steps=[('prep',\n",
       "                 ColumnTransformer(transformers=[('svc',\n",
       "                                                  TargetEncoder(cols=['service'],\n",
       "                                                                handle_unknown='ignore',\n",
       "                                                                smoothing=0.3),\n",
       "                                                  ['service']),\n",
       "                                                 ('cat',\n",
       "                                                  OneHotEncoder(handle_unknown='ignore'),\n",
       "                                                  ['protocol_type', 'flag']),\n",
       "                                                 ('num', StandardScaler(),\n",
       "                                                  ['duration', 'src_bytes',\n",
       "                                                   'dst_bytes', 'land',\n",
       "                                                   'wrong_fragment', 'urgent',\n",
       "                                                   'hot', 'num_failed_logins',\n",
       "                                                   'logged_in',\n",
       "                                                   '...\n",
       "                               feature_types=None, feature_weights=None,\n",
       "                               gamma=0.6161650645568387, grow_policy=None,\n",
       "                               importance_type=None,\n",
       "                               interaction_constraints=None, learning_rate=None,\n",
       "                               lr=0.09726358513244007, max_bin=None,\n",
       "                               max_cat_threshold=None, max_cat_to_onehot=None,\n",
       "                               max_delta_step=None, max_depth=8,\n",
       "                               max_leaves=None, min_child_weight=5, missing=nan,\n",
       "                               monotone_constraints=None, multi_strategy=None,\n",
       "                               n_estimators=488, ...))])"
      ]
     },
     "execution_count": 787,
     "metadata": {},
     "output_type": "execute_result"
    }
   ],
   "source": [
    "best_params = study.best_params\n",
    "best_params.update({\n",
    "    'objective': 'binary:logistic',\n",
    "    'eval_metric': 'auc',\n",
    "    'scale_pos_weight': len(y[y==0]) / len(y[y==1]),\n",
    "    'n_jobs': 4,\n",
    "    'random_state': 42\n",
    "})\n",
    "\n",
    "best_clf  = XGBClassifier(**best_params)\n",
    "best_pipe = Pipeline([('prep', prep), ('model', best_clf)])\n",
    "\n",
    "# Fit on your original train split (X_tr, y_tr)  <── your earlier vars\n",
    "best_pipe.fit(X_tr, y_tr)"
   ]
  },
  {
   "cell_type": "markdown",
   "metadata": {},
   "source": [
    "settando os melhores parametros do optana"
   ]
  },
  {
   "cell_type": "markdown",
   "metadata": {},
   "source": [
    "### 3.2.1 Calibração do Classificador XGB"
   ]
  },
  {
   "cell_type": "markdown",
   "metadata": {},
   "source": [
    "Aqui fazemos uma pequena calibração usando uma parte da tabela de treino para alcançar o threshold ideal, isso é, o limiar de probabilidade no qual o modelo infere que aquelas características apresentem uma ameaça, em meus testes o threshold ideal para o XGB sozinho fica em torno de 0.5 a 0.7"
   ]
  },
  {
   "cell_type": "code",
   "execution_count": 788,
   "metadata": {},
   "outputs": [
    {
     "data": {
      "text/html": [
       "<style>#sk-container-id-41 {\n",
       "  /* Definition of color scheme common for light and dark mode */\n",
       "  --sklearn-color-text: #000;\n",
       "  --sklearn-color-text-muted: #666;\n",
       "  --sklearn-color-line: gray;\n",
       "  /* Definition of color scheme for unfitted estimators */\n",
       "  --sklearn-color-unfitted-level-0: #fff5e6;\n",
       "  --sklearn-color-unfitted-level-1: #f6e4d2;\n",
       "  --sklearn-color-unfitted-level-2: #ffe0b3;\n",
       "  --sklearn-color-unfitted-level-3: chocolate;\n",
       "  /* Definition of color scheme for fitted estimators */\n",
       "  --sklearn-color-fitted-level-0: #f0f8ff;\n",
       "  --sklearn-color-fitted-level-1: #d4ebff;\n",
       "  --sklearn-color-fitted-level-2: #b3dbfd;\n",
       "  --sklearn-color-fitted-level-3: cornflowerblue;\n",
       "\n",
       "  /* Specific color for light theme */\n",
       "  --sklearn-color-text-on-default-background: var(--sg-text-color, var(--theme-code-foreground, var(--jp-content-font-color1, black)));\n",
       "  --sklearn-color-background: var(--sg-background-color, var(--theme-background, var(--jp-layout-color0, white)));\n",
       "  --sklearn-color-border-box: var(--sg-text-color, var(--theme-code-foreground, var(--jp-content-font-color1, black)));\n",
       "  --sklearn-color-icon: #696969;\n",
       "\n",
       "  @media (prefers-color-scheme: dark) {\n",
       "    /* Redefinition of color scheme for dark theme */\n",
       "    --sklearn-color-text-on-default-background: var(--sg-text-color, var(--theme-code-foreground, var(--jp-content-font-color1, white)));\n",
       "    --sklearn-color-background: var(--sg-background-color, var(--theme-background, var(--jp-layout-color0, #111)));\n",
       "    --sklearn-color-border-box: var(--sg-text-color, var(--theme-code-foreground, var(--jp-content-font-color1, white)));\n",
       "    --sklearn-color-icon: #878787;\n",
       "  }\n",
       "}\n",
       "\n",
       "#sk-container-id-41 {\n",
       "  color: var(--sklearn-color-text);\n",
       "}\n",
       "\n",
       "#sk-container-id-41 pre {\n",
       "  padding: 0;\n",
       "}\n",
       "\n",
       "#sk-container-id-41 input.sk-hidden--visually {\n",
       "  border: 0;\n",
       "  clip: rect(1px 1px 1px 1px);\n",
       "  clip: rect(1px, 1px, 1px, 1px);\n",
       "  height: 1px;\n",
       "  margin: -1px;\n",
       "  overflow: hidden;\n",
       "  padding: 0;\n",
       "  position: absolute;\n",
       "  width: 1px;\n",
       "}\n",
       "\n",
       "#sk-container-id-41 div.sk-dashed-wrapped {\n",
       "  border: 1px dashed var(--sklearn-color-line);\n",
       "  margin: 0 0.4em 0.5em 0.4em;\n",
       "  box-sizing: border-box;\n",
       "  padding-bottom: 0.4em;\n",
       "  background-color: var(--sklearn-color-background);\n",
       "}\n",
       "\n",
       "#sk-container-id-41 div.sk-container {\n",
       "  /* jupyter's `normalize.less` sets `[hidden] { display: none; }`\n",
       "     but bootstrap.min.css set `[hidden] { display: none !important; }`\n",
       "     so we also need the `!important` here to be able to override the\n",
       "     default hidden behavior on the sphinx rendered scikit-learn.org.\n",
       "     See: https://github.com/scikit-learn/scikit-learn/issues/21755 */\n",
       "  display: inline-block !important;\n",
       "  position: relative;\n",
       "}\n",
       "\n",
       "#sk-container-id-41 div.sk-text-repr-fallback {\n",
       "  display: none;\n",
       "}\n",
       "\n",
       "div.sk-parallel-item,\n",
       "div.sk-serial,\n",
       "div.sk-item {\n",
       "  /* draw centered vertical line to link estimators */\n",
       "  background-image: linear-gradient(var(--sklearn-color-text-on-default-background), var(--sklearn-color-text-on-default-background));\n",
       "  background-size: 2px 100%;\n",
       "  background-repeat: no-repeat;\n",
       "  background-position: center center;\n",
       "}\n",
       "\n",
       "/* Parallel-specific style estimator block */\n",
       "\n",
       "#sk-container-id-41 div.sk-parallel-item::after {\n",
       "  content: \"\";\n",
       "  width: 100%;\n",
       "  border-bottom: 2px solid var(--sklearn-color-text-on-default-background);\n",
       "  flex-grow: 1;\n",
       "}\n",
       "\n",
       "#sk-container-id-41 div.sk-parallel {\n",
       "  display: flex;\n",
       "  align-items: stretch;\n",
       "  justify-content: center;\n",
       "  background-color: var(--sklearn-color-background);\n",
       "  position: relative;\n",
       "}\n",
       "\n",
       "#sk-container-id-41 div.sk-parallel-item {\n",
       "  display: flex;\n",
       "  flex-direction: column;\n",
       "}\n",
       "\n",
       "#sk-container-id-41 div.sk-parallel-item:first-child::after {\n",
       "  align-self: flex-end;\n",
       "  width: 50%;\n",
       "}\n",
       "\n",
       "#sk-container-id-41 div.sk-parallel-item:last-child::after {\n",
       "  align-self: flex-start;\n",
       "  width: 50%;\n",
       "}\n",
       "\n",
       "#sk-container-id-41 div.sk-parallel-item:only-child::after {\n",
       "  width: 0;\n",
       "}\n",
       "\n",
       "/* Serial-specific style estimator block */\n",
       "\n",
       "#sk-container-id-41 div.sk-serial {\n",
       "  display: flex;\n",
       "  flex-direction: column;\n",
       "  align-items: center;\n",
       "  background-color: var(--sklearn-color-background);\n",
       "  padding-right: 1em;\n",
       "  padding-left: 1em;\n",
       "}\n",
       "\n",
       "\n",
       "/* Toggleable style: style used for estimator/Pipeline/ColumnTransformer box that is\n",
       "clickable and can be expanded/collapsed.\n",
       "- Pipeline and ColumnTransformer use this feature and define the default style\n",
       "- Estimators will overwrite some part of the style using the `sk-estimator` class\n",
       "*/\n",
       "\n",
       "/* Pipeline and ColumnTransformer style (default) */\n",
       "\n",
       "#sk-container-id-41 div.sk-toggleable {\n",
       "  /* Default theme specific background. It is overwritten whether we have a\n",
       "  specific estimator or a Pipeline/ColumnTransformer */\n",
       "  background-color: var(--sklearn-color-background);\n",
       "}\n",
       "\n",
       "/* Toggleable label */\n",
       "#sk-container-id-41 label.sk-toggleable__label {\n",
       "  cursor: pointer;\n",
       "  display: flex;\n",
       "  width: 100%;\n",
       "  margin-bottom: 0;\n",
       "  padding: 0.5em;\n",
       "  box-sizing: border-box;\n",
       "  text-align: center;\n",
       "  align-items: start;\n",
       "  justify-content: space-between;\n",
       "  gap: 0.5em;\n",
       "}\n",
       "\n",
       "#sk-container-id-41 label.sk-toggleable__label .caption {\n",
       "  font-size: 0.6rem;\n",
       "  font-weight: lighter;\n",
       "  color: var(--sklearn-color-text-muted);\n",
       "}\n",
       "\n",
       "#sk-container-id-41 label.sk-toggleable__label-arrow:before {\n",
       "  /* Arrow on the left of the label */\n",
       "  content: \"▸\";\n",
       "  float: left;\n",
       "  margin-right: 0.25em;\n",
       "  color: var(--sklearn-color-icon);\n",
       "}\n",
       "\n",
       "#sk-container-id-41 label.sk-toggleable__label-arrow:hover:before {\n",
       "  color: var(--sklearn-color-text);\n",
       "}\n",
       "\n",
       "/* Toggleable content - dropdown */\n",
       "\n",
       "#sk-container-id-41 div.sk-toggleable__content {\n",
       "  max-height: 0;\n",
       "  max-width: 0;\n",
       "  overflow: hidden;\n",
       "  text-align: left;\n",
       "  /* unfitted */\n",
       "  background-color: var(--sklearn-color-unfitted-level-0);\n",
       "}\n",
       "\n",
       "#sk-container-id-41 div.sk-toggleable__content.fitted {\n",
       "  /* fitted */\n",
       "  background-color: var(--sklearn-color-fitted-level-0);\n",
       "}\n",
       "\n",
       "#sk-container-id-41 div.sk-toggleable__content pre {\n",
       "  margin: 0.2em;\n",
       "  border-radius: 0.25em;\n",
       "  color: var(--sklearn-color-text);\n",
       "  /* unfitted */\n",
       "  background-color: var(--sklearn-color-unfitted-level-0);\n",
       "}\n",
       "\n",
       "#sk-container-id-41 div.sk-toggleable__content.fitted pre {\n",
       "  /* unfitted */\n",
       "  background-color: var(--sklearn-color-fitted-level-0);\n",
       "}\n",
       "\n",
       "#sk-container-id-41 input.sk-toggleable__control:checked~div.sk-toggleable__content {\n",
       "  /* Expand drop-down */\n",
       "  max-height: 200px;\n",
       "  max-width: 100%;\n",
       "  overflow: auto;\n",
       "}\n",
       "\n",
       "#sk-container-id-41 input.sk-toggleable__control:checked~label.sk-toggleable__label-arrow:before {\n",
       "  content: \"▾\";\n",
       "}\n",
       "\n",
       "/* Pipeline/ColumnTransformer-specific style */\n",
       "\n",
       "#sk-container-id-41 div.sk-label input.sk-toggleable__control:checked~label.sk-toggleable__label {\n",
       "  color: var(--sklearn-color-text);\n",
       "  background-color: var(--sklearn-color-unfitted-level-2);\n",
       "}\n",
       "\n",
       "#sk-container-id-41 div.sk-label.fitted input.sk-toggleable__control:checked~label.sk-toggleable__label {\n",
       "  background-color: var(--sklearn-color-fitted-level-2);\n",
       "}\n",
       "\n",
       "/* Estimator-specific style */\n",
       "\n",
       "/* Colorize estimator box */\n",
       "#sk-container-id-41 div.sk-estimator input.sk-toggleable__control:checked~label.sk-toggleable__label {\n",
       "  /* unfitted */\n",
       "  background-color: var(--sklearn-color-unfitted-level-2);\n",
       "}\n",
       "\n",
       "#sk-container-id-41 div.sk-estimator.fitted input.sk-toggleable__control:checked~label.sk-toggleable__label {\n",
       "  /* fitted */\n",
       "  background-color: var(--sklearn-color-fitted-level-2);\n",
       "}\n",
       "\n",
       "#sk-container-id-41 div.sk-label label.sk-toggleable__label,\n",
       "#sk-container-id-41 div.sk-label label {\n",
       "  /* The background is the default theme color */\n",
       "  color: var(--sklearn-color-text-on-default-background);\n",
       "}\n",
       "\n",
       "/* On hover, darken the color of the background */\n",
       "#sk-container-id-41 div.sk-label:hover label.sk-toggleable__label {\n",
       "  color: var(--sklearn-color-text);\n",
       "  background-color: var(--sklearn-color-unfitted-level-2);\n",
       "}\n",
       "\n",
       "/* Label box, darken color on hover, fitted */\n",
       "#sk-container-id-41 div.sk-label.fitted:hover label.sk-toggleable__label.fitted {\n",
       "  color: var(--sklearn-color-text);\n",
       "  background-color: var(--sklearn-color-fitted-level-2);\n",
       "}\n",
       "\n",
       "/* Estimator label */\n",
       "\n",
       "#sk-container-id-41 div.sk-label label {\n",
       "  font-family: monospace;\n",
       "  font-weight: bold;\n",
       "  display: inline-block;\n",
       "  line-height: 1.2em;\n",
       "}\n",
       "\n",
       "#sk-container-id-41 div.sk-label-container {\n",
       "  text-align: center;\n",
       "}\n",
       "\n",
       "/* Estimator-specific */\n",
       "#sk-container-id-41 div.sk-estimator {\n",
       "  font-family: monospace;\n",
       "  border: 1px dotted var(--sklearn-color-border-box);\n",
       "  border-radius: 0.25em;\n",
       "  box-sizing: border-box;\n",
       "  margin-bottom: 0.5em;\n",
       "  /* unfitted */\n",
       "  background-color: var(--sklearn-color-unfitted-level-0);\n",
       "}\n",
       "\n",
       "#sk-container-id-41 div.sk-estimator.fitted {\n",
       "  /* fitted */\n",
       "  background-color: var(--sklearn-color-fitted-level-0);\n",
       "}\n",
       "\n",
       "/* on hover */\n",
       "#sk-container-id-41 div.sk-estimator:hover {\n",
       "  /* unfitted */\n",
       "  background-color: var(--sklearn-color-unfitted-level-2);\n",
       "}\n",
       "\n",
       "#sk-container-id-41 div.sk-estimator.fitted:hover {\n",
       "  /* fitted */\n",
       "  background-color: var(--sklearn-color-fitted-level-2);\n",
       "}\n",
       "\n",
       "/* Specification for estimator info (e.g. \"i\" and \"?\") */\n",
       "\n",
       "/* Common style for \"i\" and \"?\" */\n",
       "\n",
       ".sk-estimator-doc-link,\n",
       "a:link.sk-estimator-doc-link,\n",
       "a:visited.sk-estimator-doc-link {\n",
       "  float: right;\n",
       "  font-size: smaller;\n",
       "  line-height: 1em;\n",
       "  font-family: monospace;\n",
       "  background-color: var(--sklearn-color-background);\n",
       "  border-radius: 1em;\n",
       "  height: 1em;\n",
       "  width: 1em;\n",
       "  text-decoration: none !important;\n",
       "  margin-left: 0.5em;\n",
       "  text-align: center;\n",
       "  /* unfitted */\n",
       "  border: var(--sklearn-color-unfitted-level-1) 1pt solid;\n",
       "  color: var(--sklearn-color-unfitted-level-1);\n",
       "}\n",
       "\n",
       ".sk-estimator-doc-link.fitted,\n",
       "a:link.sk-estimator-doc-link.fitted,\n",
       "a:visited.sk-estimator-doc-link.fitted {\n",
       "  /* fitted */\n",
       "  border: var(--sklearn-color-fitted-level-1) 1pt solid;\n",
       "  color: var(--sklearn-color-fitted-level-1);\n",
       "}\n",
       "\n",
       "/* On hover */\n",
       "div.sk-estimator:hover .sk-estimator-doc-link:hover,\n",
       ".sk-estimator-doc-link:hover,\n",
       "div.sk-label-container:hover .sk-estimator-doc-link:hover,\n",
       ".sk-estimator-doc-link:hover {\n",
       "  /* unfitted */\n",
       "  background-color: var(--sklearn-color-unfitted-level-3);\n",
       "  color: var(--sklearn-color-background);\n",
       "  text-decoration: none;\n",
       "}\n",
       "\n",
       "div.sk-estimator.fitted:hover .sk-estimator-doc-link.fitted:hover,\n",
       ".sk-estimator-doc-link.fitted:hover,\n",
       "div.sk-label-container:hover .sk-estimator-doc-link.fitted:hover,\n",
       ".sk-estimator-doc-link.fitted:hover {\n",
       "  /* fitted */\n",
       "  background-color: var(--sklearn-color-fitted-level-3);\n",
       "  color: var(--sklearn-color-background);\n",
       "  text-decoration: none;\n",
       "}\n",
       "\n",
       "/* Span, style for the box shown on hovering the info icon */\n",
       ".sk-estimator-doc-link span {\n",
       "  display: none;\n",
       "  z-index: 9999;\n",
       "  position: relative;\n",
       "  font-weight: normal;\n",
       "  right: .2ex;\n",
       "  padding: .5ex;\n",
       "  margin: .5ex;\n",
       "  width: min-content;\n",
       "  min-width: 20ex;\n",
       "  max-width: 50ex;\n",
       "  color: var(--sklearn-color-text);\n",
       "  box-shadow: 2pt 2pt 4pt #999;\n",
       "  /* unfitted */\n",
       "  background: var(--sklearn-color-unfitted-level-0);\n",
       "  border: .5pt solid var(--sklearn-color-unfitted-level-3);\n",
       "}\n",
       "\n",
       ".sk-estimator-doc-link.fitted span {\n",
       "  /* fitted */\n",
       "  background: var(--sklearn-color-fitted-level-0);\n",
       "  border: var(--sklearn-color-fitted-level-3);\n",
       "}\n",
       "\n",
       ".sk-estimator-doc-link:hover span {\n",
       "  display: block;\n",
       "}\n",
       "\n",
       "/* \"?\"-specific style due to the `<a>` HTML tag */\n",
       "\n",
       "#sk-container-id-41 a.estimator_doc_link {\n",
       "  float: right;\n",
       "  font-size: 1rem;\n",
       "  line-height: 1em;\n",
       "  font-family: monospace;\n",
       "  background-color: var(--sklearn-color-background);\n",
       "  border-radius: 1rem;\n",
       "  height: 1rem;\n",
       "  width: 1rem;\n",
       "  text-decoration: none;\n",
       "  /* unfitted */\n",
       "  color: var(--sklearn-color-unfitted-level-1);\n",
       "  border: var(--sklearn-color-unfitted-level-1) 1pt solid;\n",
       "}\n",
       "\n",
       "#sk-container-id-41 a.estimator_doc_link.fitted {\n",
       "  /* fitted */\n",
       "  border: var(--sklearn-color-fitted-level-1) 1pt solid;\n",
       "  color: var(--sklearn-color-fitted-level-1);\n",
       "}\n",
       "\n",
       "/* On hover */\n",
       "#sk-container-id-41 a.estimator_doc_link:hover {\n",
       "  /* unfitted */\n",
       "  background-color: var(--sklearn-color-unfitted-level-3);\n",
       "  color: var(--sklearn-color-background);\n",
       "  text-decoration: none;\n",
       "}\n",
       "\n",
       "#sk-container-id-41 a.estimator_doc_link.fitted:hover {\n",
       "  /* fitted */\n",
       "  background-color: var(--sklearn-color-fitted-level-3);\n",
       "}\n",
       "</style><div id=\"sk-container-id-41\" class=\"sk-top-container\"><div class=\"sk-text-repr-fallback\"><pre>CalibratedClassifierCV(cv=3,\n",
       "                       estimator=Pipeline(steps=[(&#x27;prep&#x27;,\n",
       "                                                  ColumnTransformer(transformers=[(&#x27;svc&#x27;,\n",
       "                                                                                   TargetEncoder(cols=[&#x27;service&#x27;],\n",
       "                                                                                                 handle_unknown=&#x27;ignore&#x27;,\n",
       "                                                                                                 smoothing=0.3),\n",
       "                                                                                   [&#x27;service&#x27;]),\n",
       "                                                                                  (&#x27;cat&#x27;,\n",
       "                                                                                   OneHotEncoder(handle_unknown=&#x27;ignore&#x27;),\n",
       "                                                                                   [&#x27;protocol_type&#x27;,\n",
       "                                                                                    &#x27;flag&#x27;]),\n",
       "                                                                                  (&#x27;num&#x27;,\n",
       "                                                                                   StandardScaler(),\n",
       "                                                                                   [&#x27;duration&#x27;,\n",
       "                                                                                    &#x27;src_bytes&#x27;,\n",
       "                                                                                    &#x27;dst_bytes&#x27;,\n",
       "                                                                                    &#x27;land&#x27;,\n",
       "                                                                                    &#x27;wrong_fragment&#x27;,\n",
       "                                                                                    &#x27;urgent&#x27;,\n",
       "                                                                                    &#x27;...\n",
       "                                                                gamma=0.6161650645568387,\n",
       "                                                                grow_policy=None,\n",
       "                                                                importance_type=None,\n",
       "                                                                interaction_constraints=None,\n",
       "                                                                learning_rate=None,\n",
       "                                                                lr=0.09726358513244007,\n",
       "                                                                max_bin=None,\n",
       "                                                                max_cat_threshold=None,\n",
       "                                                                max_cat_to_onehot=None,\n",
       "                                                                max_delta_step=None,\n",
       "                                                                max_depth=8,\n",
       "                                                                max_leaves=None,\n",
       "                                                                min_child_weight=5,\n",
       "                                                                missing=nan,\n",
       "                                                                monotone_constraints=None,\n",
       "                                                                multi_strategy=None,\n",
       "                                                                n_estimators=488, ...))]),\n",
       "                       method=&#x27;isotonic&#x27;, n_jobs=-1)</pre><b>In a Jupyter environment, please rerun this cell to show the HTML representation or trust the notebook. <br />On GitHub, the HTML representation is unable to render, please try loading this page with nbviewer.org.</b></div><div class=\"sk-container\" hidden><div class=\"sk-item sk-dashed-wrapped\"><div class=\"sk-label-container\"><div class=\"sk-label fitted sk-toggleable\"><input class=\"sk-toggleable__control sk-hidden--visually\" id=\"sk-estimator-id-412\" type=\"checkbox\" ><label for=\"sk-estimator-id-412\" class=\"sk-toggleable__label fitted sk-toggleable__label-arrow\"><div><div>CalibratedClassifierCV</div></div><div><a class=\"sk-estimator-doc-link fitted\" rel=\"noreferrer\" target=\"_blank\" href=\"https://scikit-learn.org/1.6/modules/generated/sklearn.calibration.CalibratedClassifierCV.html\">?<span>Documentation for CalibratedClassifierCV</span></a><span class=\"sk-estimator-doc-link fitted\">i<span>Fitted</span></span></div></label><div class=\"sk-toggleable__content fitted\"><pre>CalibratedClassifierCV(cv=3,\n",
       "                       estimator=Pipeline(steps=[(&#x27;prep&#x27;,\n",
       "                                                  ColumnTransformer(transformers=[(&#x27;svc&#x27;,\n",
       "                                                                                   TargetEncoder(cols=[&#x27;service&#x27;],\n",
       "                                                                                                 handle_unknown=&#x27;ignore&#x27;,\n",
       "                                                                                                 smoothing=0.3),\n",
       "                                                                                   [&#x27;service&#x27;]),\n",
       "                                                                                  (&#x27;cat&#x27;,\n",
       "                                                                                   OneHotEncoder(handle_unknown=&#x27;ignore&#x27;),\n",
       "                                                                                   [&#x27;protocol_type&#x27;,\n",
       "                                                                                    &#x27;flag&#x27;]),\n",
       "                                                                                  (&#x27;num&#x27;,\n",
       "                                                                                   StandardScaler(),\n",
       "                                                                                   [&#x27;duration&#x27;,\n",
       "                                                                                    &#x27;src_bytes&#x27;,\n",
       "                                                                                    &#x27;dst_bytes&#x27;,\n",
       "                                                                                    &#x27;land&#x27;,\n",
       "                                                                                    &#x27;wrong_fragment&#x27;,\n",
       "                                                                                    &#x27;urgent&#x27;,\n",
       "                                                                                    &#x27;...\n",
       "                                                                gamma=0.6161650645568387,\n",
       "                                                                grow_policy=None,\n",
       "                                                                importance_type=None,\n",
       "                                                                interaction_constraints=None,\n",
       "                                                                learning_rate=None,\n",
       "                                                                lr=0.09726358513244007,\n",
       "                                                                max_bin=None,\n",
       "                                                                max_cat_threshold=None,\n",
       "                                                                max_cat_to_onehot=None,\n",
       "                                                                max_delta_step=None,\n",
       "                                                                max_depth=8,\n",
       "                                                                max_leaves=None,\n",
       "                                                                min_child_weight=5,\n",
       "                                                                missing=nan,\n",
       "                                                                monotone_constraints=None,\n",
       "                                                                multi_strategy=None,\n",
       "                                                                n_estimators=488, ...))]),\n",
       "                       method=&#x27;isotonic&#x27;, n_jobs=-1)</pre></div> </div></div><div class=\"sk-parallel\"><div class=\"sk-parallel-item\"><div class=\"sk-item\"><div class=\"sk-label-container\"><div class=\"sk-label fitted sk-toggleable\"><input class=\"sk-toggleable__control sk-hidden--visually\" id=\"sk-estimator-id-413\" type=\"checkbox\" ><label for=\"sk-estimator-id-413\" class=\"sk-toggleable__label fitted sk-toggleable__label-arrow\"><div><div>estimator: Pipeline</div></div></label><div class=\"sk-toggleable__content fitted\"><pre>Pipeline(steps=[(&#x27;prep&#x27;,\n",
       "                 ColumnTransformer(transformers=[(&#x27;svc&#x27;,\n",
       "                                                  TargetEncoder(cols=[&#x27;service&#x27;],\n",
       "                                                                handle_unknown=&#x27;ignore&#x27;,\n",
       "                                                                smoothing=0.3),\n",
       "                                                  [&#x27;service&#x27;]),\n",
       "                                                 (&#x27;cat&#x27;,\n",
       "                                                  OneHotEncoder(handle_unknown=&#x27;ignore&#x27;),\n",
       "                                                  [&#x27;protocol_type&#x27;, &#x27;flag&#x27;]),\n",
       "                                                 (&#x27;num&#x27;, StandardScaler(),\n",
       "                                                  [&#x27;duration&#x27;, &#x27;src_bytes&#x27;,\n",
       "                                                   &#x27;dst_bytes&#x27;, &#x27;land&#x27;,\n",
       "                                                   &#x27;wrong_fragment&#x27;, &#x27;urgent&#x27;,\n",
       "                                                   &#x27;hot&#x27;, &#x27;num_failed_logins&#x27;,\n",
       "                                                   &#x27;logged_in&#x27;,\n",
       "                                                   &#x27;...\n",
       "                               feature_types=None, feature_weights=None,\n",
       "                               gamma=0.6161650645568387, grow_policy=None,\n",
       "                               importance_type=None,\n",
       "                               interaction_constraints=None, learning_rate=None,\n",
       "                               lr=0.09726358513244007, max_bin=None,\n",
       "                               max_cat_threshold=None, max_cat_to_onehot=None,\n",
       "                               max_delta_step=None, max_depth=8,\n",
       "                               max_leaves=None, min_child_weight=5, missing=nan,\n",
       "                               monotone_constraints=None, multi_strategy=None,\n",
       "                               n_estimators=488, ...))])</pre></div> </div></div><div class=\"sk-serial\"><div class=\"sk-item\"><div class=\"sk-serial\"><div class=\"sk-item sk-dashed-wrapped\"><div class=\"sk-label-container\"><div class=\"sk-label fitted sk-toggleable\"><input class=\"sk-toggleable__control sk-hidden--visually\" id=\"sk-estimator-id-414\" type=\"checkbox\" ><label for=\"sk-estimator-id-414\" class=\"sk-toggleable__label fitted sk-toggleable__label-arrow\"><div><div>prep: ColumnTransformer</div></div><div><a class=\"sk-estimator-doc-link fitted\" rel=\"noreferrer\" target=\"_blank\" href=\"https://scikit-learn.org/1.6/modules/generated/sklearn.compose.ColumnTransformer.html\">?<span>Documentation for prep: ColumnTransformer</span></a></div></label><div class=\"sk-toggleable__content fitted\"><pre>ColumnTransformer(transformers=[(&#x27;svc&#x27;,\n",
       "                                 TargetEncoder(cols=[&#x27;service&#x27;],\n",
       "                                               handle_unknown=&#x27;ignore&#x27;,\n",
       "                                               smoothing=0.3),\n",
       "                                 [&#x27;service&#x27;]),\n",
       "                                (&#x27;cat&#x27;, OneHotEncoder(handle_unknown=&#x27;ignore&#x27;),\n",
       "                                 [&#x27;protocol_type&#x27;, &#x27;flag&#x27;]),\n",
       "                                (&#x27;num&#x27;, StandardScaler(),\n",
       "                                 [&#x27;duration&#x27;, &#x27;src_bytes&#x27;, &#x27;dst_bytes&#x27;, &#x27;land&#x27;,\n",
       "                                  &#x27;wrong_fragment&#x27;, &#x27;urgent&#x27;, &#x27;hot&#x27;,\n",
       "                                  &#x27;num_failed_logins&#x27;, &#x27;logged_in&#x27;,\n",
       "                                  &#x27;num_compromised&#x27;, &#x27;root_shell&#x27;,\n",
       "                                  &#x27;su_attempted&#x27;, &#x27;num_file_creations&#x27;,\n",
       "                                  &#x27;num_shells&#x27;, &#x27;num_access_files&#x27;,\n",
       "                                  &#x27;is_guest_login&#x27;, &#x27;count&#x27;, &#x27;srv_count&#x27;,\n",
       "                                  &#x27;serror_rate&#x27;, &#x27;rerror_rate&#x27;, &#x27;same_srv_rate&#x27;,\n",
       "                                  &#x27;diff_srv_rate&#x27;, &#x27;srv_diff_host_rate&#x27;,\n",
       "                                  &#x27;dst_host_count&#x27;, &#x27;dst_host_srv_count&#x27;,\n",
       "                                  &#x27;dst_host_same_srv_rate&#x27;,\n",
       "                                  &#x27;dst_host_diff_srv_rate&#x27;,\n",
       "                                  &#x27;dst_host_same_src_port_rate&#x27;,\n",
       "                                  &#x27;dst_host_srv_diff_host_rate&#x27;])])</pre></div> </div></div><div class=\"sk-parallel\"><div class=\"sk-parallel-item\"><div class=\"sk-item\"><div class=\"sk-label-container\"><div class=\"sk-label fitted sk-toggleable\"><input class=\"sk-toggleable__control sk-hidden--visually\" id=\"sk-estimator-id-415\" type=\"checkbox\" ><label for=\"sk-estimator-id-415\" class=\"sk-toggleable__label fitted sk-toggleable__label-arrow\"><div><div>svc</div></div></label><div class=\"sk-toggleable__content fitted\"><pre>[&#x27;service&#x27;]</pre></div> </div></div><div class=\"sk-serial\"><div class=\"sk-item\"><div class=\"sk-estimator fitted sk-toggleable\"><input class=\"sk-toggleable__control sk-hidden--visually\" id=\"sk-estimator-id-416\" type=\"checkbox\" ><label for=\"sk-estimator-id-416\" class=\"sk-toggleable__label fitted sk-toggleable__label-arrow\"><div><div>TargetEncoder</div></div></label><div class=\"sk-toggleable__content fitted\"><pre>TargetEncoder(cols=[&#x27;service&#x27;], handle_unknown=&#x27;ignore&#x27;, smoothing=0.3)</pre></div> </div></div></div></div></div><div class=\"sk-parallel-item\"><div class=\"sk-item\"><div class=\"sk-label-container\"><div class=\"sk-label fitted sk-toggleable\"><input class=\"sk-toggleable__control sk-hidden--visually\" id=\"sk-estimator-id-417\" type=\"checkbox\" ><label for=\"sk-estimator-id-417\" class=\"sk-toggleable__label fitted sk-toggleable__label-arrow\"><div><div>cat</div></div></label><div class=\"sk-toggleable__content fitted\"><pre>[&#x27;protocol_type&#x27;, &#x27;flag&#x27;]</pre></div> </div></div><div class=\"sk-serial\"><div class=\"sk-item\"><div class=\"sk-estimator fitted sk-toggleable\"><input class=\"sk-toggleable__control sk-hidden--visually\" id=\"sk-estimator-id-418\" type=\"checkbox\" ><label for=\"sk-estimator-id-418\" class=\"sk-toggleable__label fitted sk-toggleable__label-arrow\"><div><div>OneHotEncoder</div></div><div><a class=\"sk-estimator-doc-link fitted\" rel=\"noreferrer\" target=\"_blank\" href=\"https://scikit-learn.org/1.6/modules/generated/sklearn.preprocessing.OneHotEncoder.html\">?<span>Documentation for OneHotEncoder</span></a></div></label><div class=\"sk-toggleable__content fitted\"><pre>OneHotEncoder(handle_unknown=&#x27;ignore&#x27;)</pre></div> </div></div></div></div></div><div class=\"sk-parallel-item\"><div class=\"sk-item\"><div class=\"sk-label-container\"><div class=\"sk-label fitted sk-toggleable\"><input class=\"sk-toggleable__control sk-hidden--visually\" id=\"sk-estimator-id-419\" type=\"checkbox\" ><label for=\"sk-estimator-id-419\" class=\"sk-toggleable__label fitted sk-toggleable__label-arrow\"><div><div>num</div></div></label><div class=\"sk-toggleable__content fitted\"><pre>[&#x27;duration&#x27;, &#x27;src_bytes&#x27;, &#x27;dst_bytes&#x27;, &#x27;land&#x27;, &#x27;wrong_fragment&#x27;, &#x27;urgent&#x27;, &#x27;hot&#x27;, &#x27;num_failed_logins&#x27;, &#x27;logged_in&#x27;, &#x27;num_compromised&#x27;, &#x27;root_shell&#x27;, &#x27;su_attempted&#x27;, &#x27;num_file_creations&#x27;, &#x27;num_shells&#x27;, &#x27;num_access_files&#x27;, &#x27;is_guest_login&#x27;, &#x27;count&#x27;, &#x27;srv_count&#x27;, &#x27;serror_rate&#x27;, &#x27;rerror_rate&#x27;, &#x27;same_srv_rate&#x27;, &#x27;diff_srv_rate&#x27;, &#x27;srv_diff_host_rate&#x27;, &#x27;dst_host_count&#x27;, &#x27;dst_host_srv_count&#x27;, &#x27;dst_host_same_srv_rate&#x27;, &#x27;dst_host_diff_srv_rate&#x27;, &#x27;dst_host_same_src_port_rate&#x27;, &#x27;dst_host_srv_diff_host_rate&#x27;]</pre></div> </div></div><div class=\"sk-serial\"><div class=\"sk-item\"><div class=\"sk-estimator fitted sk-toggleable\"><input class=\"sk-toggleable__control sk-hidden--visually\" id=\"sk-estimator-id-420\" type=\"checkbox\" ><label for=\"sk-estimator-id-420\" class=\"sk-toggleable__label fitted sk-toggleable__label-arrow\"><div><div>StandardScaler</div></div><div><a class=\"sk-estimator-doc-link fitted\" rel=\"noreferrer\" target=\"_blank\" href=\"https://scikit-learn.org/1.6/modules/generated/sklearn.preprocessing.StandardScaler.html\">?<span>Documentation for StandardScaler</span></a></div></label><div class=\"sk-toggleable__content fitted\"><pre>StandardScaler()</pre></div> </div></div></div></div></div></div></div><div class=\"sk-item\"><div class=\"sk-estimator fitted sk-toggleable\"><input class=\"sk-toggleable__control sk-hidden--visually\" id=\"sk-estimator-id-421\" type=\"checkbox\" ><label for=\"sk-estimator-id-421\" class=\"sk-toggleable__label fitted sk-toggleable__label-arrow\"><div><div>XGBClassifier</div></div><div><a class=\"sk-estimator-doc-link fitted\" rel=\"noreferrer\" target=\"_blank\" href=\"https://xgboost.readthedocs.io/en/release_3.0.0/python/python_api.html#xgboost.XGBClassifier\">?<span>Documentation for XGBClassifier</span></a></div></label><div class=\"sk-toggleable__content fitted\"><pre>XGBClassifier(base_score=None, booster=None, callbacks=None,\n",
       "              colsample=0.6157750990184406, colsample_bylevel=None,\n",
       "              colsample_bynode=None, colsample_bytree=None, device=None,\n",
       "              early_stopping_rounds=None, enable_categorical=False,\n",
       "              eval_metric=&#x27;auc&#x27;, feature_types=None, feature_weights=None,\n",
       "              gamma=0.6161650645568387, grow_policy=None, importance_type=None,\n",
       "              interaction_constraints=None, learning_rate=None,\n",
       "              lr=0.09726358513244007, max_bin=None, max_cat_threshold=None,\n",
       "              max_cat_to_onehot=None, max_delta_step=None, max_depth=8,\n",
       "              max_leaves=None, min_child_weight=5, missing=nan,\n",
       "              monotone_constraints=None, multi_strategy=None, n_estimators=488, ...)</pre></div> </div></div></div></div></div></div></div></div></div></div></div>"
      ],
      "text/plain": [
       "CalibratedClassifierCV(cv=3,\n",
       "                       estimator=Pipeline(steps=[('prep',\n",
       "                                                  ColumnTransformer(transformers=[('svc',\n",
       "                                                                                   TargetEncoder(cols=['service'],\n",
       "                                                                                                 handle_unknown='ignore',\n",
       "                                                                                                 smoothing=0.3),\n",
       "                                                                                   ['service']),\n",
       "                                                                                  ('cat',\n",
       "                                                                                   OneHotEncoder(handle_unknown='ignore'),\n",
       "                                                                                   ['protocol_type',\n",
       "                                                                                    'flag']),\n",
       "                                                                                  ('num',\n",
       "                                                                                   StandardScaler(),\n",
       "                                                                                   ['duration',\n",
       "                                                                                    'src_bytes',\n",
       "                                                                                    'dst_bytes',\n",
       "                                                                                    'land',\n",
       "                                                                                    'wrong_fragment',\n",
       "                                                                                    'urgent',\n",
       "                                                                                    '...\n",
       "                                                                gamma=0.6161650645568387,\n",
       "                                                                grow_policy=None,\n",
       "                                                                importance_type=None,\n",
       "                                                                interaction_constraints=None,\n",
       "                                                                learning_rate=None,\n",
       "                                                                lr=0.09726358513244007,\n",
       "                                                                max_bin=None,\n",
       "                                                                max_cat_threshold=None,\n",
       "                                                                max_cat_to_onehot=None,\n",
       "                                                                max_delta_step=None,\n",
       "                                                                max_depth=8,\n",
       "                                                                max_leaves=None,\n",
       "                                                                min_child_weight=5,\n",
       "                                                                missing=nan,\n",
       "                                                                monotone_constraints=None,\n",
       "                                                                multi_strategy=None,\n",
       "                                                                n_estimators=488, ...))]),\n",
       "                       method='isotonic', n_jobs=-1)"
      ]
     },
     "execution_count": 788,
     "metadata": {},
     "output_type": "execute_result"
    }
   ],
   "source": [
    "calibrated_pipe = CalibratedClassifierCV(\n",
    "        best_pipe,      \n",
    "        method='isotonic',\n",
    "        cv=3,           \n",
    "        n_jobs=-1\n",
    ")\n",
    "calibrated_pipe.fit(X_tr, y_tr)"
   ]
  },
  {
   "cell_type": "markdown",
   "metadata": {},
   "source": [
    "calibração"
   ]
  },
  {
   "cell_type": "code",
   "execution_count": 789,
   "metadata": {
    "execution": {
     "iopub.execute_input": "2025-05-02T12:50:54.549935Z",
     "iopub.status.busy": "2025-05-02T12:50:54.549709Z",
     "iopub.status.idle": "2025-05-02T12:50:57.990156Z",
     "shell.execute_reply": "2025-05-02T12:50:57.989290Z",
     "shell.execute_reply.started": "2025-05-02T12:50:54.549917Z"
    },
    "trusted": true
   },
   "outputs": [
    {
     "name": "stdout",
     "output_type": "stream",
     "text": [
      "Calibrated threshold: 0.622\n"
     ]
    }
   ],
   "source": [
    "_, X_val, _, y_val = train_test_split(\n",
    "        X_tr, y_tr, test_size=0.15, stratify=y_tr, random_state=42)\n",
    "\n",
    "y_prob_val = calibrated_pipe.predict_proba(X_val)[:, 1]\n",
    "\n",
    "prec, rec, thr = precision_recall_curve(y_val, y_prob_val)\n",
    "idx      = np.where(rec >= 0.998)[0][-1]\n",
    "thr_opt  = thr[idx] if idx < len(thr) else 0.0\n",
    "print(f\"Calibrated threshold: {thr_opt:.3f}\")"
   ]
  },
  {
   "cell_type": "markdown",
   "metadata": {},
   "source": [
    "### 3.2.2 Resultados com o XGB Otimizado"
   ]
  },
  {
   "cell_type": "code",
   "execution_count": 790,
   "metadata": {},
   "outputs": [
    {
     "name": "stdout",
     "output_type": "stream",
     "text": [
      "              precision    recall  f1-score   support\n",
      "\n",
      "      normal       0.99      1.00      1.00      2690\n",
      "     anomaly       1.00      0.99      1.00      2349\n",
      "\n",
      "    accuracy                           1.00      5039\n",
      "   macro avg       1.00      1.00      1.00      5039\n",
      "weighted avg       1.00      1.00      1.00      5039\n",
      "\n",
      "ROC‑AUC : 0.999963917256572\n",
      "PR‑AUC  : 0.9999592002036012\n"
     ]
    }
   ],
   "source": [
    "y_prob_test = calibrated_pipe.predict_proba(X_te)[:, 1]\n",
    "y_pred_test = (y_prob_test >= thr_opt).astype(int)\n",
    "\n",
    "print(classification_report(y_te, y_pred_test,\n",
    "                            target_names=['normal','anomaly']))\n",
    "print(\"ROC‑AUC :\", metrics.roc_auc_score(y_te, y_prob))\n",
    "print(\"PR‑AUC  :\", metrics.average_precision_score(y_te, y_prob))"
   ]
  },
  {
   "cell_type": "markdown",
   "metadata": {},
   "source": [
    "Com as calibrações e a otimização de hiperparametros do optana conseguimos um recall quase de 100% sob um custo 163"
   ]
  },
  {
   "cell_type": "code",
   "execution_count": 791,
   "metadata": {
    "execution": {
     "iopub.execute_input": "2025-05-02T12:51:08.350000Z",
     "iopub.status.busy": "2025-05-02T12:51:08.349654Z",
     "iopub.status.idle": "2025-05-02T12:51:08.583165Z",
     "shell.execute_reply": "2025-05-02T12:51:08.582279Z",
     "shell.execute_reply.started": "2025-05-02T12:51:08.349967Z"
    },
    "trusted": true
   },
   "outputs": [
    {
     "data": {
      "image/png": "[encoded data removed]",
      "text/plain": [
       "<Figure size 640x480 with 2 Axes>"
      ]
     },
     "metadata": {},
     "output_type": "display_data"
    }
   ],
   "source": [
    "cm = metrics.confusion_matrix(y_te, y_pred_test, labels=[0,1])\n",
    "sns.heatmap(cm, annot=True, fmt='d', cmap='Blues',\n",
    "            xticklabels=['normal','anomaly'],\n",
    "            yticklabels=['normal','anomaly'])\n",
    "plt.title(f'Confusion Matrix – calibrated  (thr={thr_opt:.3f})')\n",
    "plt.tight_layout(); plt.show()"
   ]
  },
  {
   "cell_type": "markdown",
   "metadata": {},
   "source": [
    "## 3.3 Classificação com Regressão Logística e Grid Search"
   ]
  },
  {
   "cell_type": "markdown",
   "metadata": {},
   "source": [
    "Aqui vamos colocar uma regressão logística para agir em conjunto com o XGB, nesse caso é como se os dois rodassem e apontassem quando vissem uma anomalia, a partir disso podemos ter mais noção de pequenos fatores que possam estar afetando o outro modelo, principalmente features na qual uma pequena ordinalidade altere a inferência. Primeiro vamos rodar somente a regressão logística para conferir sua acurácia. No entanto, matematicamente, como o fator de peso pra anomalia é maior na regressão logística, é muito capaz que esse modelo nos aponte eventuais overfits por disparar indiscriminadamente."
   ]
  },
  {
   "cell_type": "code",
   "execution_count": 792,
   "metadata": {},
   "outputs": [
    {
     "data": {
      "text/html": [
       "<style>#sk-container-id-42 {\n",
       "  /* Definition of color scheme common for light and dark mode */\n",
       "  --sklearn-color-text: #000;\n",
       "  --sklearn-color-text-muted: #666;\n",
       "  --sklearn-color-line: gray;\n",
       "  /* Definition of color scheme for unfitted estimators */\n",
       "  --sklearn-color-unfitted-level-0: #fff5e6;\n",
       "  --sklearn-color-unfitted-level-1: #f6e4d2;\n",
       "  --sklearn-color-unfitted-level-2: #ffe0b3;\n",
       "  --sklearn-color-unfitted-level-3: chocolate;\n",
       "  /* Definition of color scheme for fitted estimators */\n",
       "  --sklearn-color-fitted-level-0: #f0f8ff;\n",
       "  --sklearn-color-fitted-level-1: #d4ebff;\n",
       "  --sklearn-color-fitted-level-2: #b3dbfd;\n",
       "  --sklearn-color-fitted-level-3: cornflowerblue;\n",
       "\n",
       "  /* Specific color for light theme */\n",
       "  --sklearn-color-text-on-default-background: var(--sg-text-color, var(--theme-code-foreground, var(--jp-content-font-color1, black)));\n",
       "  --sklearn-color-background: var(--sg-background-color, var(--theme-background, var(--jp-layout-color0, white)));\n",
       "  --sklearn-color-border-box: var(--sg-text-color, var(--theme-code-foreground, var(--jp-content-font-color1, black)));\n",
       "  --sklearn-color-icon: #696969;\n",
       "\n",
       "  @media (prefers-color-scheme: dark) {\n",
       "    /* Redefinition of color scheme for dark theme */\n",
       "    --sklearn-color-text-on-default-background: var(--sg-text-color, var(--theme-code-foreground, var(--jp-content-font-color1, white)));\n",
       "    --sklearn-color-background: var(--sg-background-color, var(--theme-background, var(--jp-layout-color0, #111)));\n",
       "    --sklearn-color-border-box: var(--sg-text-color, var(--theme-code-foreground, var(--jp-content-font-color1, white)));\n",
       "    --sklearn-color-icon: #878787;\n",
       "  }\n",
       "}\n",
       "\n",
       "#sk-container-id-42 {\n",
       "  color: var(--sklearn-color-text);\n",
       "}\n",
       "\n",
       "#sk-container-id-42 pre {\n",
       "  padding: 0;\n",
       "}\n",
       "\n",
       "#sk-container-id-42 input.sk-hidden--visually {\n",
       "  border: 0;\n",
       "  clip: rect(1px 1px 1px 1px);\n",
       "  clip: rect(1px, 1px, 1px, 1px);\n",
       "  height: 1px;\n",
       "  margin: -1px;\n",
       "  overflow: hidden;\n",
       "  padding: 0;\n",
       "  position: absolute;\n",
       "  width: 1px;\n",
       "}\n",
       "\n",
       "#sk-container-id-42 div.sk-dashed-wrapped {\n",
       "  border: 1px dashed var(--sklearn-color-line);\n",
       "  margin: 0 0.4em 0.5em 0.4em;\n",
       "  box-sizing: border-box;\n",
       "  padding-bottom: 0.4em;\n",
       "  background-color: var(--sklearn-color-background);\n",
       "}\n",
       "\n",
       "#sk-container-id-42 div.sk-container {\n",
       "  /* jupyter's `normalize.less` sets `[hidden] { display: none; }`\n",
       "     but bootstrap.min.css set `[hidden] { display: none !important; }`\n",
       "     so we also need the `!important` here to be able to override the\n",
       "     default hidden behavior on the sphinx rendered scikit-learn.org.\n",
       "     See: https://github.com/scikit-learn/scikit-learn/issues/21755 */\n",
       "  display: inline-block !important;\n",
       "  position: relative;\n",
       "}\n",
       "\n",
       "#sk-container-id-42 div.sk-text-repr-fallback {\n",
       "  display: none;\n",
       "}\n",
       "\n",
       "div.sk-parallel-item,\n",
       "div.sk-serial,\n",
       "div.sk-item {\n",
       "  /* draw centered vertical line to link estimators */\n",
       "  background-image: linear-gradient(var(--sklearn-color-text-on-default-background), var(--sklearn-color-text-on-default-background));\n",
       "  background-size: 2px 100%;\n",
       "  background-repeat: no-repeat;\n",
       "  background-position: center center;\n",
       "}\n",
       "\n",
       "/* Parallel-specific style estimator block */\n",
       "\n",
       "#sk-container-id-42 div.sk-parallel-item::after {\n",
       "  content: \"\";\n",
       "  width: 100%;\n",
       "  border-bottom: 2px solid var(--sklearn-color-text-on-default-background);\n",
       "  flex-grow: 1;\n",
       "}\n",
       "\n",
       "#sk-container-id-42 div.sk-parallel {\n",
       "  display: flex;\n",
       "  align-items: stretch;\n",
       "  justify-content: center;\n",
       "  background-color: var(--sklearn-color-background);\n",
       "  position: relative;\n",
       "}\n",
       "\n",
       "#sk-container-id-42 div.sk-parallel-item {\n",
       "  display: flex;\n",
       "  flex-direction: column;\n",
       "}\n",
       "\n",
       "#sk-container-id-42 div.sk-parallel-item:first-child::after {\n",
       "  align-self: flex-end;\n",
       "  width: 50%;\n",
       "}\n",
       "\n",
       "#sk-container-id-42 div.sk-parallel-item:last-child::after {\n",
       "  align-self: flex-start;\n",
       "  width: 50%;\n",
       "}\n",
       "\n",
       "#sk-container-id-42 div.sk-parallel-item:only-child::after {\n",
       "  width: 0;\n",
       "}\n",
       "\n",
       "/* Serial-specific style estimator block */\n",
       "\n",
       "#sk-container-id-42 div.sk-serial {\n",
       "  display: flex;\n",
       "  flex-direction: column;\n",
       "  align-items: center;\n",
       "  background-color: var(--sklearn-color-background);\n",
       "  padding-right: 1em;\n",
       "  padding-left: 1em;\n",
       "}\n",
       "\n",
       "\n",
       "/* Toggleable style: style used for estimator/Pipeline/ColumnTransformer box that is\n",
       "clickable and can be expanded/collapsed.\n",
       "- Pipeline and ColumnTransformer use this feature and define the default style\n",
       "- Estimators will overwrite some part of the style using the `sk-estimator` class\n",
       "*/\n",
       "\n",
       "/* Pipeline and ColumnTransformer style (default) */\n",
       "\n",
       "#sk-container-id-42 div.sk-toggleable {\n",
       "  /* Default theme specific background. It is overwritten whether we have a\n",
       "  specific estimator or a Pipeline/ColumnTransformer */\n",
       "  background-color: var(--sklearn-color-background);\n",
       "}\n",
       "\n",
       "/* Toggleable label */\n",
       "#sk-container-id-42 label.sk-toggleable__label {\n",
       "  cursor: pointer;\n",
       "  display: flex;\n",
       "  width: 100%;\n",
       "  margin-bottom: 0;\n",
       "  padding: 0.5em;\n",
       "  box-sizing: border-box;\n",
       "  text-align: center;\n",
       "  align-items: start;\n",
       "  justify-content: space-between;\n",
       "  gap: 0.5em;\n",
       "}\n",
       "\n",
       "#sk-container-id-42 label.sk-toggleable__label .caption {\n",
       "  font-size: 0.6rem;\n",
       "  font-weight: lighter;\n",
       "  color: var(--sklearn-color-text-muted);\n",
       "}\n",
       "\n",
       "#sk-container-id-42 label.sk-toggleable__label-arrow:before {\n",
       "  /* Arrow on the left of the label */\n",
       "  content: \"▸\";\n",
       "  float: left;\n",
       "  margin-right: 0.25em;\n",
       "  color: var(--sklearn-color-icon);\n",
       "}\n",
       "\n",
       "#sk-container-id-42 label.sk-toggleable__label-arrow:hover:before {\n",
       "  color: var(--sklearn-color-text);\n",
       "}\n",
       "\n",
       "/* Toggleable content - dropdown */\n",
       "\n",
       "#sk-container-id-42 div.sk-toggleable__content {\n",
       "  max-height: 0;\n",
       "  max-width: 0;\n",
       "  overflow: hidden;\n",
       "  text-align: left;\n",
       "  /* unfitted */\n",
       "  background-color: var(--sklearn-color-unfitted-level-0);\n",
       "}\n",
       "\n",
       "#sk-container-id-42 div.sk-toggleable__content.fitted {\n",
       "  /* fitted */\n",
       "  background-color: var(--sklearn-color-fitted-level-0);\n",
       "}\n",
       "\n",
       "#sk-container-id-42 div.sk-toggleable__content pre {\n",
       "  margin: 0.2em;\n",
       "  border-radius: 0.25em;\n",
       "  color: var(--sklearn-color-text);\n",
       "  /* unfitted */\n",
       "  background-color: var(--sklearn-color-unfitted-level-0);\n",
       "}\n",
       "\n",
       "#sk-container-id-42 div.sk-toggleable__content.fitted pre {\n",
       "  /* unfitted */\n",
       "  background-color: var(--sklearn-color-fitted-level-0);\n",
       "}\n",
       "\n",
       "#sk-container-id-42 input.sk-toggleable__control:checked~div.sk-toggleable__content {\n",
       "  /* Expand drop-down */\n",
       "  max-height: 200px;\n",
       "  max-width: 100%;\n",
       "  overflow: auto;\n",
       "}\n",
       "\n",
       "#sk-container-id-42 input.sk-toggleable__control:checked~label.sk-toggleable__label-arrow:before {\n",
       "  content: \"▾\";\n",
       "}\n",
       "\n",
       "/* Pipeline/ColumnTransformer-specific style */\n",
       "\n",
       "#sk-container-id-42 div.sk-label input.sk-toggleable__control:checked~label.sk-toggleable__label {\n",
       "  color: var(--sklearn-color-text);\n",
       "  background-color: var(--sklearn-color-unfitted-level-2);\n",
       "}\n",
       "\n",
       "#sk-container-id-42 div.sk-label.fitted input.sk-toggleable__control:checked~label.sk-toggleable__label {\n",
       "  background-color: var(--sklearn-color-fitted-level-2);\n",
       "}\n",
       "\n",
       "/* Estimator-specific style */\n",
       "\n",
       "/* Colorize estimator box */\n",
       "#sk-container-id-42 div.sk-estimator input.sk-toggleable__control:checked~label.sk-toggleable__label {\n",
       "  /* unfitted */\n",
       "  background-color: var(--sklearn-color-unfitted-level-2);\n",
       "}\n",
       "\n",
       "#sk-container-id-42 div.sk-estimator.fitted input.sk-toggleable__control:checked~label.sk-toggleable__label {\n",
       "  /* fitted */\n",
       "  background-color: var(--sklearn-color-fitted-level-2);\n",
       "}\n",
       "\n",
       "#sk-container-id-42 div.sk-label label.sk-toggleable__label,\n",
       "#sk-container-id-42 div.sk-label label {\n",
       "  /* The background is the default theme color */\n",
       "  color: var(--sklearn-color-text-on-default-background);\n",
       "}\n",
       "\n",
       "/* On hover, darken the color of the background */\n",
       "#sk-container-id-42 div.sk-label:hover label.sk-toggleable__label {\n",
       "  color: var(--sklearn-color-text);\n",
       "  background-color: var(--sklearn-color-unfitted-level-2);\n",
       "}\n",
       "\n",
       "/* Label box, darken color on hover, fitted */\n",
       "#sk-container-id-42 div.sk-label.fitted:hover label.sk-toggleable__label.fitted {\n",
       "  color: var(--sklearn-color-text);\n",
       "  background-color: var(--sklearn-color-fitted-level-2);\n",
       "}\n",
       "\n",
       "/* Estimator label */\n",
       "\n",
       "#sk-container-id-42 div.sk-label label {\n",
       "  font-family: monospace;\n",
       "  font-weight: bold;\n",
       "  display: inline-block;\n",
       "  line-height: 1.2em;\n",
       "}\n",
       "\n",
       "#sk-container-id-42 div.sk-label-container {\n",
       "  text-align: center;\n",
       "}\n",
       "\n",
       "/* Estimator-specific */\n",
       "#sk-container-id-42 div.sk-estimator {\n",
       "  font-family: monospace;\n",
       "  border: 1px dotted var(--sklearn-color-border-box);\n",
       "  border-radius: 0.25em;\n",
       "  box-sizing: border-box;\n",
       "  margin-bottom: 0.5em;\n",
       "  /* unfitted */\n",
       "  background-color: var(--sklearn-color-unfitted-level-0);\n",
       "}\n",
       "\n",
       "#sk-container-id-42 div.sk-estimator.fitted {\n",
       "  /* fitted */\n",
       "  background-color: var(--sklearn-color-fitted-level-0);\n",
       "}\n",
       "\n",
       "/* on hover */\n",
       "#sk-container-id-42 div.sk-estimator:hover {\n",
       "  /* unfitted */\n",
       "  background-color: var(--sklearn-color-unfitted-level-2);\n",
       "}\n",
       "\n",
       "#sk-container-id-42 div.sk-estimator.fitted:hover {\n",
       "  /* fitted */\n",
       "  background-color: var(--sklearn-color-fitted-level-2);\n",
       "}\n",
       "\n",
       "/* Specification for estimator info (e.g. \"i\" and \"?\") */\n",
       "\n",
       "/* Common style for \"i\" and \"?\" */\n",
       "\n",
       ".sk-estimator-doc-link,\n",
       "a:link.sk-estimator-doc-link,\n",
       "a:visited.sk-estimator-doc-link {\n",
       "  float: right;\n",
       "  font-size: smaller;\n",
       "  line-height: 1em;\n",
       "  font-family: monospace;\n",
       "  background-color: var(--sklearn-color-background);\n",
       "  border-radius: 1em;\n",
       "  height: 1em;\n",
       "  width: 1em;\n",
       "  text-decoration: none !important;\n",
       "  margin-left: 0.5em;\n",
       "  text-align: center;\n",
       "  /* unfitted */\n",
       "  border: var(--sklearn-color-unfitted-level-1) 1pt solid;\n",
       "  color: var(--sklearn-color-unfitted-level-1);\n",
       "}\n",
       "\n",
       ".sk-estimator-doc-link.fitted,\n",
       "a:link.sk-estimator-doc-link.fitted,\n",
       "a:visited.sk-estimator-doc-link.fitted {\n",
       "  /* fitted */\n",
       "  border: var(--sklearn-color-fitted-level-1) 1pt solid;\n",
       "  color: var(--sklearn-color-fitted-level-1);\n",
       "}\n",
       "\n",
       "/* On hover */\n",
       "div.sk-estimator:hover .sk-estimator-doc-link:hover,\n",
       ".sk-estimator-doc-link:hover,\n",
       "div.sk-label-container:hover .sk-estimator-doc-link:hover,\n",
       ".sk-estimator-doc-link:hover {\n",
       "  /* unfitted */\n",
       "  background-color: var(--sklearn-color-unfitted-level-3);\n",
       "  color: var(--sklearn-color-background);\n",
       "  text-decoration: none;\n",
       "}\n",
       "\n",
       "div.sk-estimator.fitted:hover .sk-estimator-doc-link.fitted:hover,\n",
       ".sk-estimator-doc-link.fitted:hover,\n",
       "div.sk-label-container:hover .sk-estimator-doc-link.fitted:hover,\n",
       ".sk-estimator-doc-link.fitted:hover {\n",
       "  /* fitted */\n",
       "  background-color: var(--sklearn-color-fitted-level-3);\n",
       "  color: var(--sklearn-color-background);\n",
       "  text-decoration: none;\n",
       "}\n",
       "\n",
       "/* Span, style for the box shown on hovering the info icon */\n",
       ".sk-estimator-doc-link span {\n",
       "  display: none;\n",
       "  z-index: 9999;\n",
       "  position: relative;\n",
       "  font-weight: normal;\n",
       "  right: .2ex;\n",
       "  padding: .5ex;\n",
       "  margin: .5ex;\n",
       "  width: min-content;\n",
       "  min-width: 20ex;\n",
       "  max-width: 50ex;\n",
       "  color: var(--sklearn-color-text);\n",
       "  box-shadow: 2pt 2pt 4pt #999;\n",
       "  /* unfitted */\n",
       "  background: var(--sklearn-color-unfitted-level-0);\n",
       "  border: .5pt solid var(--sklearn-color-unfitted-level-3);\n",
       "}\n",
       "\n",
       ".sk-estimator-doc-link.fitted span {\n",
       "  /* fitted */\n",
       "  background: var(--sklearn-color-fitted-level-0);\n",
       "  border: var(--sklearn-color-fitted-level-3);\n",
       "}\n",
       "\n",
       ".sk-estimator-doc-link:hover span {\n",
       "  display: block;\n",
       "}\n",
       "\n",
       "/* \"?\"-specific style due to the `<a>` HTML tag */\n",
       "\n",
       "#sk-container-id-42 a.estimator_doc_link {\n",
       "  float: right;\n",
       "  font-size: 1rem;\n",
       "  line-height: 1em;\n",
       "  font-family: monospace;\n",
       "  background-color: var(--sklearn-color-background);\n",
       "  border-radius: 1rem;\n",
       "  height: 1rem;\n",
       "  width: 1rem;\n",
       "  text-decoration: none;\n",
       "  /* unfitted */\n",
       "  color: var(--sklearn-color-unfitted-level-1);\n",
       "  border: var(--sklearn-color-unfitted-level-1) 1pt solid;\n",
       "}\n",
       "\n",
       "#sk-container-id-42 a.estimator_doc_link.fitted {\n",
       "  /* fitted */\n",
       "  border: var(--sklearn-color-fitted-level-1) 1pt solid;\n",
       "  color: var(--sklearn-color-fitted-level-1);\n",
       "}\n",
       "\n",
       "/* On hover */\n",
       "#sk-container-id-42 a.estimator_doc_link:hover {\n",
       "  /* unfitted */\n",
       "  background-color: var(--sklearn-color-unfitted-level-3);\n",
       "  color: var(--sklearn-color-background);\n",
       "  text-decoration: none;\n",
       "}\n",
       "\n",
       "#sk-container-id-42 a.estimator_doc_link.fitted:hover {\n",
       "  /* fitted */\n",
       "  background-color: var(--sklearn-color-fitted-level-3);\n",
       "}\n",
       "</style><div id=\"sk-container-id-42\" class=\"sk-top-container\"><div class=\"sk-text-repr-fallback\"><pre>CalibratedClassifierCV(cv=3,\n",
       "                       estimator=Pipeline(steps=[(&#x27;prep&#x27;,\n",
       "                                                  ColumnTransformer(transformers=[(&#x27;svc&#x27;,\n",
       "                                                                                   TargetEncoder(cols=[&#x27;service&#x27;],\n",
       "                                                                                                 handle_unknown=&#x27;ignore&#x27;,\n",
       "                                                                                                 smoothing=0.3),\n",
       "                                                                                   [&#x27;service&#x27;]),\n",
       "                                                                                  (&#x27;cat&#x27;,\n",
       "                                                                                   OneHotEncoder(handle_unknown=&#x27;ignore&#x27;),\n",
       "                                                                                   [&#x27;protocol_type&#x27;,\n",
       "                                                                                    &#x27;flag&#x27;]),\n",
       "                                                                                  (&#x27;num&#x27;,\n",
       "                                                                                   StandardScaler(),\n",
       "                                                                                   [&#x27;duration&#x27;,\n",
       "                                                                                    &#x27;src_bytes&#x27;,\n",
       "                                                                                    &#x27;dst_bytes&#x27;,\n",
       "                                                                                    &#x27;land&#x27;,\n",
       "                                                                                    &#x27;wrong_fragment&#x27;,\n",
       "                                                                                    &#x27;urgent&#x27;,\n",
       "                                                                                    &#x27;...\n",
       "                                                                                    &#x27;dst_host_srv_count&#x27;,\n",
       "                                                                                    &#x27;dst_host_same_srv_rate&#x27;,\n",
       "                                                                                    &#x27;dst_host_diff_srv_rate&#x27;,\n",
       "                                                                                    &#x27;dst_host_same_src_port_rate&#x27;,\n",
       "                                                                                    &#x27;dst_host_srv_diff_host_rate&#x27;])])),\n",
       "                                                 (&#x27;impute&#x27;,\n",
       "                                                  SimpleImputer(strategy=&#x27;median&#x27;)),\n",
       "                                                 (&#x27;poly&#x27;,\n",
       "                                                  PolynomialFeatures(include_bias=False,\n",
       "                                                                     interaction_only=True)),\n",
       "                                                 (&#x27;model&#x27;,\n",
       "                                                  LogisticRegression(C=2.0,\n",
       "                                                                     class_weight=&#x27;balanced&#x27;,\n",
       "                                                                     max_iter=2000,\n",
       "                                                                     n_jobs=-1))]),\n",
       "                       method=&#x27;isotonic&#x27;, n_jobs=-1)</pre><b>In a Jupyter environment, please rerun this cell to show the HTML representation or trust the notebook. <br />On GitHub, the HTML representation is unable to render, please try loading this page with nbviewer.org.</b></div><div class=\"sk-container\" hidden><div class=\"sk-item sk-dashed-wrapped\"><div class=\"sk-label-container\"><div class=\"sk-label fitted sk-toggleable\"><input class=\"sk-toggleable__control sk-hidden--visually\" id=\"sk-estimator-id-422\" type=\"checkbox\" ><label for=\"sk-estimator-id-422\" class=\"sk-toggleable__label fitted sk-toggleable__label-arrow\"><div><div>CalibratedClassifierCV</div></div><div><a class=\"sk-estimator-doc-link fitted\" rel=\"noreferrer\" target=\"_blank\" href=\"https://scikit-learn.org/1.6/modules/generated/sklearn.calibration.CalibratedClassifierCV.html\">?<span>Documentation for CalibratedClassifierCV</span></a><span class=\"sk-estimator-doc-link fitted\">i<span>Fitted</span></span></div></label><div class=\"sk-toggleable__content fitted\"><pre>CalibratedClassifierCV(cv=3,\n",
       "                       estimator=Pipeline(steps=[(&#x27;prep&#x27;,\n",
       "                                                  ColumnTransformer(transformers=[(&#x27;svc&#x27;,\n",
       "                                                                                   TargetEncoder(cols=[&#x27;service&#x27;],\n",
       "                                                                                                 handle_unknown=&#x27;ignore&#x27;,\n",
       "                                                                                                 smoothing=0.3),\n",
       "                                                                                   [&#x27;service&#x27;]),\n",
       "                                                                                  (&#x27;cat&#x27;,\n",
       "                                                                                   OneHotEncoder(handle_unknown=&#x27;ignore&#x27;),\n",
       "                                                                                   [&#x27;protocol_type&#x27;,\n",
       "                                                                                    &#x27;flag&#x27;]),\n",
       "                                                                                  (&#x27;num&#x27;,\n",
       "                                                                                   StandardScaler(),\n",
       "                                                                                   [&#x27;duration&#x27;,\n",
       "                                                                                    &#x27;src_bytes&#x27;,\n",
       "                                                                                    &#x27;dst_bytes&#x27;,\n",
       "                                                                                    &#x27;land&#x27;,\n",
       "                                                                                    &#x27;wrong_fragment&#x27;,\n",
       "                                                                                    &#x27;urgent&#x27;,\n",
       "                                                                                    &#x27;...\n",
       "                                                                                    &#x27;dst_host_srv_count&#x27;,\n",
       "                                                                                    &#x27;dst_host_same_srv_rate&#x27;,\n",
       "                                                                                    &#x27;dst_host_diff_srv_rate&#x27;,\n",
       "                                                                                    &#x27;dst_host_same_src_port_rate&#x27;,\n",
       "                                                                                    &#x27;dst_host_srv_diff_host_rate&#x27;])])),\n",
       "                                                 (&#x27;impute&#x27;,\n",
       "                                                  SimpleImputer(strategy=&#x27;median&#x27;)),\n",
       "                                                 (&#x27;poly&#x27;,\n",
       "                                                  PolynomialFeatures(include_bias=False,\n",
       "                                                                     interaction_only=True)),\n",
       "                                                 (&#x27;model&#x27;,\n",
       "                                                  LogisticRegression(C=2.0,\n",
       "                                                                     class_weight=&#x27;balanced&#x27;,\n",
       "                                                                     max_iter=2000,\n",
       "                                                                     n_jobs=-1))]),\n",
       "                       method=&#x27;isotonic&#x27;, n_jobs=-1)</pre></div> </div></div><div class=\"sk-parallel\"><div class=\"sk-parallel-item\"><div class=\"sk-item\"><div class=\"sk-label-container\"><div class=\"sk-label fitted sk-toggleable\"><input class=\"sk-toggleable__control sk-hidden--visually\" id=\"sk-estimator-id-423\" type=\"checkbox\" ><label for=\"sk-estimator-id-423\" class=\"sk-toggleable__label fitted sk-toggleable__label-arrow\"><div><div>estimator: Pipeline</div></div></label><div class=\"sk-toggleable__content fitted\"><pre>Pipeline(steps=[(&#x27;prep&#x27;,\n",
       "                 ColumnTransformer(transformers=[(&#x27;svc&#x27;,\n",
       "                                                  TargetEncoder(cols=[&#x27;service&#x27;],\n",
       "                                                                handle_unknown=&#x27;ignore&#x27;,\n",
       "                                                                smoothing=0.3),\n",
       "                                                  [&#x27;service&#x27;]),\n",
       "                                                 (&#x27;cat&#x27;,\n",
       "                                                  OneHotEncoder(handle_unknown=&#x27;ignore&#x27;),\n",
       "                                                  [&#x27;protocol_type&#x27;, &#x27;flag&#x27;]),\n",
       "                                                 (&#x27;num&#x27;, StandardScaler(),\n",
       "                                                  [&#x27;duration&#x27;, &#x27;src_bytes&#x27;,\n",
       "                                                   &#x27;dst_bytes&#x27;, &#x27;land&#x27;,\n",
       "                                                   &#x27;wrong_fragment&#x27;, &#x27;urgent&#x27;,\n",
       "                                                   &#x27;hot&#x27;, &#x27;num_failed_logins&#x27;,\n",
       "                                                   &#x27;logged_in&#x27;,\n",
       "                                                   &#x27;...\n",
       "                                                   &#x27;dst_host_count&#x27;,\n",
       "                                                   &#x27;dst_host_srv_count&#x27;,\n",
       "                                                   &#x27;dst_host_same_srv_rate&#x27;,\n",
       "                                                   &#x27;dst_host_diff_srv_rate&#x27;,\n",
       "                                                   &#x27;dst_host_same_src_port_rate&#x27;,\n",
       "                                                   &#x27;dst_host_srv_diff_host_rate&#x27;])])),\n",
       "                (&#x27;impute&#x27;, SimpleImputer(strategy=&#x27;median&#x27;)),\n",
       "                (&#x27;poly&#x27;,\n",
       "                 PolynomialFeatures(include_bias=False, interaction_only=True)),\n",
       "                (&#x27;model&#x27;,\n",
       "                 LogisticRegression(C=2.0, class_weight=&#x27;balanced&#x27;,\n",
       "                                    max_iter=2000, n_jobs=-1))])</pre></div> </div></div><div class=\"sk-serial\"><div class=\"sk-item\"><div class=\"sk-serial\"><div class=\"sk-item sk-dashed-wrapped\"><div class=\"sk-label-container\"><div class=\"sk-label fitted sk-toggleable\"><input class=\"sk-toggleable__control sk-hidden--visually\" id=\"sk-estimator-id-424\" type=\"checkbox\" ><label for=\"sk-estimator-id-424\" class=\"sk-toggleable__label fitted sk-toggleable__label-arrow\"><div><div>prep: ColumnTransformer</div></div><div><a class=\"sk-estimator-doc-link fitted\" rel=\"noreferrer\" target=\"_blank\" href=\"https://scikit-learn.org/1.6/modules/generated/sklearn.compose.ColumnTransformer.html\">?<span>Documentation for prep: ColumnTransformer</span></a></div></label><div class=\"sk-toggleable__content fitted\"><pre>ColumnTransformer(transformers=[(&#x27;svc&#x27;,\n",
       "                                 TargetEncoder(cols=[&#x27;service&#x27;],\n",
       "                                               handle_unknown=&#x27;ignore&#x27;,\n",
       "                                               smoothing=0.3),\n",
       "                                 [&#x27;service&#x27;]),\n",
       "                                (&#x27;cat&#x27;, OneHotEncoder(handle_unknown=&#x27;ignore&#x27;),\n",
       "                                 [&#x27;protocol_type&#x27;, &#x27;flag&#x27;]),\n",
       "                                (&#x27;num&#x27;, StandardScaler(),\n",
       "                                 [&#x27;duration&#x27;, &#x27;src_bytes&#x27;, &#x27;dst_bytes&#x27;, &#x27;land&#x27;,\n",
       "                                  &#x27;wrong_fragment&#x27;, &#x27;urgent&#x27;, &#x27;hot&#x27;,\n",
       "                                  &#x27;num_failed_logins&#x27;, &#x27;logged_in&#x27;,\n",
       "                                  &#x27;num_compromised&#x27;, &#x27;root_shell&#x27;,\n",
       "                                  &#x27;su_attempted&#x27;, &#x27;num_file_creations&#x27;,\n",
       "                                  &#x27;num_shells&#x27;, &#x27;num_access_files&#x27;,\n",
       "                                  &#x27;is_guest_login&#x27;, &#x27;count&#x27;, &#x27;srv_count&#x27;,\n",
       "                                  &#x27;serror_rate&#x27;, &#x27;rerror_rate&#x27;, &#x27;same_srv_rate&#x27;,\n",
       "                                  &#x27;diff_srv_rate&#x27;, &#x27;srv_diff_host_rate&#x27;,\n",
       "                                  &#x27;dst_host_count&#x27;, &#x27;dst_host_srv_count&#x27;,\n",
       "                                  &#x27;dst_host_same_srv_rate&#x27;,\n",
       "                                  &#x27;dst_host_diff_srv_rate&#x27;,\n",
       "                                  &#x27;dst_host_same_src_port_rate&#x27;,\n",
       "                                  &#x27;dst_host_srv_diff_host_rate&#x27;])])</pre></div> </div></div><div class=\"sk-parallel\"><div class=\"sk-parallel-item\"><div class=\"sk-item\"><div class=\"sk-label-container\"><div class=\"sk-label fitted sk-toggleable\"><input class=\"sk-toggleable__control sk-hidden--visually\" id=\"sk-estimator-id-425\" type=\"checkbox\" ><label for=\"sk-estimator-id-425\" class=\"sk-toggleable__label fitted sk-toggleable__label-arrow\"><div><div>svc</div></div></label><div class=\"sk-toggleable__content fitted\"><pre>[&#x27;service&#x27;]</pre></div> </div></div><div class=\"sk-serial\"><div class=\"sk-item\"><div class=\"sk-estimator fitted sk-toggleable\"><input class=\"sk-toggleable__control sk-hidden--visually\" id=\"sk-estimator-id-426\" type=\"checkbox\" ><label for=\"sk-estimator-id-426\" class=\"sk-toggleable__label fitted sk-toggleable__label-arrow\"><div><div>TargetEncoder</div></div></label><div class=\"sk-toggleable__content fitted\"><pre>TargetEncoder(cols=[&#x27;service&#x27;], handle_unknown=&#x27;ignore&#x27;, smoothing=0.3)</pre></div> </div></div></div></div></div><div class=\"sk-parallel-item\"><div class=\"sk-item\"><div class=\"sk-label-container\"><div class=\"sk-label fitted sk-toggleable\"><input class=\"sk-toggleable__control sk-hidden--visually\" id=\"sk-estimator-id-427\" type=\"checkbox\" ><label for=\"sk-estimator-id-427\" class=\"sk-toggleable__label fitted sk-toggleable__label-arrow\"><div><div>cat</div></div></label><div class=\"sk-toggleable__content fitted\"><pre>[&#x27;protocol_type&#x27;, &#x27;flag&#x27;]</pre></div> </div></div><div class=\"sk-serial\"><div class=\"sk-item\"><div class=\"sk-estimator fitted sk-toggleable\"><input class=\"sk-toggleable__control sk-hidden--visually\" id=\"sk-estimator-id-428\" type=\"checkbox\" ><label for=\"sk-estimator-id-428\" class=\"sk-toggleable__label fitted sk-toggleable__label-arrow\"><div><div>OneHotEncoder</div></div><div><a class=\"sk-estimator-doc-link fitted\" rel=\"noreferrer\" target=\"_blank\" href=\"https://scikit-learn.org/1.6/modules/generated/sklearn.preprocessing.OneHotEncoder.html\">?<span>Documentation for OneHotEncoder</span></a></div></label><div class=\"sk-toggleable__content fitted\"><pre>OneHotEncoder(handle_unknown=&#x27;ignore&#x27;)</pre></div> </div></div></div></div></div><div class=\"sk-parallel-item\"><div class=\"sk-item\"><div class=\"sk-label-container\"><div class=\"sk-label fitted sk-toggleable\"><input class=\"sk-toggleable__control sk-hidden--visually\" id=\"sk-estimator-id-429\" type=\"checkbox\" ><label for=\"sk-estimator-id-429\" class=\"sk-toggleable__label fitted sk-toggleable__label-arrow\"><div><div>num</div></div></label><div class=\"sk-toggleable__content fitted\"><pre>[&#x27;duration&#x27;, &#x27;src_bytes&#x27;, &#x27;dst_bytes&#x27;, &#x27;land&#x27;, &#x27;wrong_fragment&#x27;, &#x27;urgent&#x27;, &#x27;hot&#x27;, &#x27;num_failed_logins&#x27;, &#x27;logged_in&#x27;, &#x27;num_compromised&#x27;, &#x27;root_shell&#x27;, &#x27;su_attempted&#x27;, &#x27;num_file_creations&#x27;, &#x27;num_shells&#x27;, &#x27;num_access_files&#x27;, &#x27;is_guest_login&#x27;, &#x27;count&#x27;, &#x27;srv_count&#x27;, &#x27;serror_rate&#x27;, &#x27;rerror_rate&#x27;, &#x27;same_srv_rate&#x27;, &#x27;diff_srv_rate&#x27;, &#x27;srv_diff_host_rate&#x27;, &#x27;dst_host_count&#x27;, &#x27;dst_host_srv_count&#x27;, &#x27;dst_host_same_srv_rate&#x27;, &#x27;dst_host_diff_srv_rate&#x27;, &#x27;dst_host_same_src_port_rate&#x27;, &#x27;dst_host_srv_diff_host_rate&#x27;]</pre></div> </div></div><div class=\"sk-serial\"><div class=\"sk-item\"><div class=\"sk-estimator fitted sk-toggleable\"><input class=\"sk-toggleable__control sk-hidden--visually\" id=\"sk-estimator-id-430\" type=\"checkbox\" ><label for=\"sk-estimator-id-430\" class=\"sk-toggleable__label fitted sk-toggleable__label-arrow\"><div><div>StandardScaler</div></div><div><a class=\"sk-estimator-doc-link fitted\" rel=\"noreferrer\" target=\"_blank\" href=\"https://scikit-learn.org/1.6/modules/generated/sklearn.preprocessing.StandardScaler.html\">?<span>Documentation for StandardScaler</span></a></div></label><div class=\"sk-toggleable__content fitted\"><pre>StandardScaler()</pre></div> </div></div></div></div></div></div></div><div class=\"sk-item\"><div class=\"sk-estimator fitted sk-toggleable\"><input class=\"sk-toggleable__control sk-hidden--visually\" id=\"sk-estimator-id-431\" type=\"checkbox\" ><label for=\"sk-estimator-id-431\" class=\"sk-toggleable__label fitted sk-toggleable__label-arrow\"><div><div>SimpleImputer</div></div><div><a class=\"sk-estimator-doc-link fitted\" rel=\"noreferrer\" target=\"_blank\" href=\"https://scikit-learn.org/1.6/modules/generated/sklearn.impute.SimpleImputer.html\">?<span>Documentation for SimpleImputer</span></a></div></label><div class=\"sk-toggleable__content fitted\"><pre>SimpleImputer(strategy=&#x27;median&#x27;)</pre></div> </div></div><div class=\"sk-item\"><div class=\"sk-estimator fitted sk-toggleable\"><input class=\"sk-toggleable__control sk-hidden--visually\" id=\"sk-estimator-id-432\" type=\"checkbox\" ><label for=\"sk-estimator-id-432\" class=\"sk-toggleable__label fitted sk-toggleable__label-arrow\"><div><div>PolynomialFeatures</div></div><div><a class=\"sk-estimator-doc-link fitted\" rel=\"noreferrer\" target=\"_blank\" href=\"https://scikit-learn.org/1.6/modules/generated/sklearn.preprocessing.PolynomialFeatures.html\">?<span>Documentation for PolynomialFeatures</span></a></div></label><div class=\"sk-toggleable__content fitted\"><pre>PolynomialFeatures(include_bias=False, interaction_only=True)</pre></div> </div></div><div class=\"sk-item\"><div class=\"sk-estimator fitted sk-toggleable\"><input class=\"sk-toggleable__control sk-hidden--visually\" id=\"sk-estimator-id-433\" type=\"checkbox\" ><label for=\"sk-estimator-id-433\" class=\"sk-toggleable__label fitted sk-toggleable__label-arrow\"><div><div>LogisticRegression</div></div><div><a class=\"sk-estimator-doc-link fitted\" rel=\"noreferrer\" target=\"_blank\" href=\"https://scikit-learn.org/1.6/modules/generated/sklearn.linear_model.LogisticRegression.html\">?<span>Documentation for LogisticRegression</span></a></div></label><div class=\"sk-toggleable__content fitted\"><pre>LogisticRegression(C=2.0, class_weight=&#x27;balanced&#x27;, max_iter=2000, n_jobs=-1)</pre></div> </div></div></div></div></div></div></div></div></div></div></div>"
      ],
      "text/plain": [
       "CalibratedClassifierCV(cv=3,\n",
       "                       estimator=Pipeline(steps=[('prep',\n",
       "                                                  ColumnTransformer(transformers=[('svc',\n",
       "                                                                                   TargetEncoder(cols=['service'],\n",
       "                                                                                                 handle_unknown='ignore',\n",
       "                                                                                                 smoothing=0.3),\n",
       "                                                                                   ['service']),\n",
       "                                                                                  ('cat',\n",
       "                                                                                   OneHotEncoder(handle_unknown='ignore'),\n",
       "                                                                                   ['protocol_type',\n",
       "                                                                                    'flag']),\n",
       "                                                                                  ('num',\n",
       "                                                                                   StandardScaler(),\n",
       "                                                                                   ['duration',\n",
       "                                                                                    'src_bytes',\n",
       "                                                                                    'dst_bytes',\n",
       "                                                                                    'land',\n",
       "                                                                                    'wrong_fragment',\n",
       "                                                                                    'urgent',\n",
       "                                                                                    '...\n",
       "                                                                                    'dst_host_srv_count',\n",
       "                                                                                    'dst_host_same_srv_rate',\n",
       "                                                                                    'dst_host_diff_srv_rate',\n",
       "                                                                                    'dst_host_same_src_port_rate',\n",
       "                                                                                    'dst_host_srv_diff_host_rate'])])),\n",
       "                                                 ('impute',\n",
       "                                                  SimpleImputer(strategy='median')),\n",
       "                                                 ('poly',\n",
       "                                                  PolynomialFeatures(include_bias=False,\n",
       "                                                                     interaction_only=True)),\n",
       "                                                 ('model',\n",
       "                                                  LogisticRegression(C=2.0,\n",
       "                                                                     class_weight='balanced',\n",
       "                                                                     max_iter=2000,\n",
       "                                                                     n_jobs=-1))]),\n",
       "                       method='isotonic', n_jobs=-1)"
      ]
     },
     "execution_count": 792,
     "metadata": {},
     "output_type": "execute_result"
    }
   ],
   "source": [
    "poly_pipe = Pipeline([\n",
    "        ('prep',    prep),                               \n",
    "        ('impute',  SimpleImputer(strategy='median')),   \n",
    "        ('poly',    PolynomialFeatures(degree=2,\n",
    "                                       interaction_only=True,\n",
    "                                       include_bias=False)),\n",
    "        ('model',   LogisticRegression(max_iter=2000,\n",
    "                                       class_weight='balanced',\n",
    "                                       n_jobs=-1,\n",
    "                                       C=2.0,\n",
    "                                       solver='lbfgs'))\n",
    "])\n",
    "\n",
    "lr_cal = CalibratedClassifierCV(poly_pipe, method='isotonic', cv=3, n_jobs=-1)\n",
    "lr_cal.fit(X_tr, y_tr)"
   ]
  },
  {
   "cell_type": "markdown",
   "metadata": {},
   "source": [
    "Aqui temos a configuração do grid search para os limites de cada modelo, isso é  feito antes somente porque eu preciso do valor do limite desse modelo para rodar a regressão logística sozinha e também no formato grid search(que está dentro do for loop)\n",
    "O objetivo aqui é como o anterior, minimizar o custo(10 para falsos negativos e 1 para falsos positivos)"
   ]
  },
  {
   "cell_type": "code",
   "execution_count": 793,
   "metadata": {},
   "outputs": [
    {
     "name": "stdout",
     "output_type": "stream",
     "text": [
      "Limites escolhidos  XGB=0.50  LR=0.90\n"
     ]
    }
   ],
   "source": [
    "prob_val_xgb = calibrated_pipe.predict_proba(X_val)[:, 1]\n",
    "prob_val_lr  = lr_cal.predict_proba(X_val)[:, 1]\n",
    "\n",
    "thr_grid   = np.linspace(0.2, 0.9, 36)          \n",
    "best_cost  = 1e9\n",
    "best_pair  = (0.5, 0.5)\n",
    "\n",
    "for tx in thr_grid:                             \n",
    "    bx = (prob_val_xgb >= tx).astype(int)\n",
    "    for tl in thr_grid:                         \n",
    "        bl   = (prob_val_lr >= tl).astype(int)\n",
    "        vote = np.logical_or(bx, bl)            \n",
    "        fn   = ((vote==0) & (y_val==1)).sum()\n",
    "        fp   = ((vote==1) & (y_val==0)).sum()\n",
    "        cost = 10*fn + fp                       \n",
    "        if cost < best_cost:\n",
    "            best_cost, best_pair = cost, (tx, tl)\n",
    "\n",
    "thr_xgb, thr_lr = best_pair\n",
    "print(f\"Limites escolhidos  XGB={thr_xgb:.2f}  LR={thr_lr:.2f}\")"
   ]
  },
  {
   "cell_type": "markdown",
   "metadata": {},
   "source": [
    "### 3.3.1 Resultados com Regressão Logística"
   ]
  },
  {
   "cell_type": "code",
   "execution_count": 794,
   "metadata": {},
   "outputs": [
    {
     "name": "stdout",
     "output_type": "stream",
     "text": [
      "\n",
      "=== Regressão Logística ===\n",
      "              precision    recall  f1-score   support\n",
      "\n",
      "      normal       0.98      1.00      0.99      2690\n",
      "     anomaly       1.00      0.97      0.98      2349\n",
      "\n",
      "    accuracy                           0.98      5039\n",
      "   macro avg       0.99      0.98      0.98      5039\n",
      "weighted avg       0.99      0.98      0.98      5039\n",
      "\n",
      "ROC‑AUC : 0.9981\n",
      "PR‑AUC  : 0.9971\n"
     ]
    }
   ],
   "source": [
    "prob_test_lr  = lr_cal.predict_proba(X_te)[:, 1]\n",
    "y_pred_lr     = (prob_test_lr >= thr_lr).astype(int)\n",
    "\n",
    "print(\"\\n=== Regressão Logística ===\")\n",
    "print(classification_report(y_te, y_pred_lr,\n",
    "                            target_names=['normal','anomaly']))\n",
    "roc  = metrics.roc_auc_score(y_te, prob_test_lr)\n",
    "pr   = metrics.average_precision_score(y_te, prob_test_lr)\n",
    "print(f\"ROC‑AUC : {roc:.4f}\")\n",
    "print(f\"PR‑AUC  : {pr :.4f}\")"
   ]
  },
  {
   "cell_type": "markdown",
   "metadata": {},
   "source": [
    "Regressão logística funciona um pouco diferente de XGB, essencialmente eles se complementam no fato que um utiliza um threshold alto pra controlar falsos positivos, enquanto o XGB utiliza um mais baixo para evitar ataques de baixa probabilidade(ou que a inferência no caso seria baixa), esses resultados foram melhorados(anteriormente a taxa de falsos negativos era muito maior) pelo uso do parametro de classes polinomiais:\n",
    "\n",
    "        ('poly',    PolynomialFeatures(degree=2,\n",
    "                                       interaction_only=True,\n",
    "                                       include_bias=False)),\n",
    "\n",
    "Por que?\n",
    "\n",
    "Provavelmente um fator anteriormente visto aqui é a correlação entre duas variáveis ser muito forte, como filtramos em nosso EDA, porém filtramos com o threshold de 90%, ainda é possível que existam mais variáveis correlacionadas que causem iterações em pares. Essa é a desvatagem de não ter utilizado nenhum modelo de árvore, já que eles que conseguem melhor captar essas disparidades."
   ]
  },
  {
   "cell_type": "code",
   "execution_count": 795,
   "metadata": {},
   "outputs": [
    {
     "data": {
      "image/png": "[encoded data removed]",
      "text/plain": [
       "<Figure size 640x480 with 2 Axes>"
      ]
     },
     "metadata": {},
     "output_type": "display_data"
    }
   ],
   "source": [
    "cm_lr = metrics.confusion_matrix(y_te, y_pred_lr, labels=[0,1])\n",
    "sns.heatmap(cm_lr, annot=True, fmt='d', cmap='Purples',\n",
    "            xticklabels=['normal','anomaly'],\n",
    "            yticklabels=['normal','anomaly'])\n",
    "plt.title(f'Confusion Matrix – LR (thr={thr_lr:.2f})')\n",
    "plt.tight_layout(); plt.show()"
   ]
  },
  {
   "cell_type": "markdown",
   "metadata": {},
   "source": [
    "### 3.3.2 Resultados com o Grid Seach(Regressão Logística e XGB)"
   ]
  },
  {
   "cell_type": "code",
   "execution_count": 796,
   "metadata": {},
   "outputs": [
    {
     "name": "stdout",
     "output_type": "stream",
     "text": [
      "              precision    recall  f1-score   support\n",
      "\n",
      "      normal       1.00      1.00      1.00      2690\n",
      "     anomaly       1.00      1.00      1.00      2349\n",
      "\n",
      "    accuracy                           1.00      5039\n",
      "   macro avg       1.00      1.00      1.00      5039\n",
      "weighted avg       1.00      1.00      1.00      5039\n",
      "\n",
      "Ensemble ROC‑AUC : 0.9990\n",
      "Ensemble PR‑AUC  : 0.9980\n"
     ]
    }
   ],
   "source": [
    "prob_test_xgb = calibrated_pipe.predict_proba(X_te)[:, 1]\n",
    "prob_test_lr  = lr_cal.predict_proba(X_te)[:, 1]\n",
    "prob_ens = np.maximum(prob_test_xgb, prob_test_lr)\n",
    "roc_ens = metrics.roc_auc_score(y_te, prob_ens)\n",
    "pr_ens  = metrics.average_precision_score(y_te, prob_ens)\n",
    "\n",
    "vote_test = np.logical_or(prob_test_xgb >= thr_xgb,\n",
    "                          prob_test_lr  >= thr_lr).astype(int)\n",
    "\n",
    "print(classification_report(y_te, vote_test,\n",
    "                            target_names=['normal','anomaly']))\n",
    "print(f\"Ensemble ROC‑AUC : {roc_ens:.4f}\")\n",
    "print(f\"Ensemble PR‑AUC  : {pr_ens :.4f}\")"
   ]
  },
  {
   "cell_type": "markdown",
   "metadata": {},
   "source": [
    "Aqui conseguimos alcançar nossa rígida sensibilidade de 0,2%, os dois modelos juntos acabam por disparar um ataque com chances marginais(threshold de 50%) enquanto a regressão só aplica quando tem uma alta de probabilidade(threshold de 90%), diminuindo  falsos negativos para somente 7-9(variável entre testes), o mais baixo de todas as métricas, isso implicam junto as métricas de ROC e PR que temos um modelo estável para este dataset em específico, precisando somente talvez ajustar o threshold de ambos para uma solução extremamente arrojada.\n",
    "\n",
    "Mas e se quisessemos testar o mesmo modelo, numa situação na qual os dados de ataques estão em constante mudança? Assim como em ataques de code injection, apenas uma pequena mudança no PE header de um arquivo muda totalmente o hash do programa, pequenas mudanças na estratégia de ataque ocorrem o tempo todo, por isso passamos para a etapa de Data Augmentation."
   ]
  },
  {
   "cell_type": "code",
   "execution_count": 797,
   "metadata": {},
   "outputs": [
    {
     "data": {
      "image/png": "[encoded data removed]",
      "text/plain": [
       "<Figure size 640x480 with 2 Axes>"
      ]
     },
     "metadata": {},
     "output_type": "display_data"
    }
   ],
   "source": [
    "cm = metrics.confusion_matrix(y_te, vote_test, labels=[0,1])\n",
    "sns.heatmap(cm, annot=True, fmt='d', cmap='Blues',\n",
    "            xticklabels=['normal','anomaly'],\n",
    "            yticklabels=['normal','anomaly'])\n",
    "plt.title(f'Confusion Matrix – GridSearch  (thr_xgb={thr_xgb:.2f}, thr_lr={thr_lr:.2f})')\n",
    "plt.tight_layout(); plt.show()"
   ]
  },
  {
   "cell_type": "markdown",
   "metadata": {},
   "source": [
    "# 4. Data Augmentation"
   ]
  },
  {
   "cell_type": "markdown",
   "metadata": {},
   "source": [
    "Aqui vamos fazer algo diferente, vamos adicionar um pouco de ruído utilizando uma técnica estatística chamada ruído gaussiano, vamos pegar o desvio padrão das colunas numéricas e aplicar uma pequena alteração de valor +- 2% para simular o que seria um novo tipo de ataque, assim como as categóricas que sofrem uma alteração de 0.5% de sua assinatura(o que seria comum num exemplo de spoofing) a partir disso, testar a robustez de nosso modelo."
   ]
  },
  {
   "cell_type": "code",
   "execution_count": 798,
   "metadata": {},
   "outputs": [],
   "source": [
    "inner_pipe    = calibrated_pipe.estimator\n",
    "prep_step     = inner_pipe.named_steps['prep']\n",
    "feature_names = prep_step.get_feature_names_out()"
   ]
  },
  {
   "cell_type": "code",
   "execution_count": 799,
   "metadata": {},
   "outputs": [],
   "source": [
    "prob_clean = calibrated_pipe.predict_proba(X_te)[:, 1]\n",
    "y_pred_clean = (prob_clean >= thr_opt).astype(int)"
   ]
  },
  {
   "cell_type": "code",
   "execution_count": 800,
   "metadata": {},
   "outputs": [],
   "source": [
    "#aqui fazemos um array denso de anomailias\n",
    "X_test_trans = prep_step.transform(X_te)\n",
    "X_dense = X_test_trans.toarray() if issparse(X_test_trans) else X_test_trans.copy()\n",
    "\n",
    "#Vamos pegar as colunas numéricas e calcular o desvio padrão para então aplicar abaixo\n",
    "num_mask = np.array([name.startswith('num__') for name in feature_names])\n",
    "std      = X_dense[:, num_mask].std(axis=0, ddof=0)\n",
    "rng      = np.random.default_rng(42)\n",
    "\n",
    "#Aqui aplicamos uma pertubação gaussana nas colunas numéricas com 2% de ruído\n",
    "#a mais somente com um flip de 0,5% \n",
    "noise    = rng.normal(0, 0.02 * std, size=X_dense[:, num_mask].shape)  # ±2 % σ\n",
    "X_dense[:, num_mask] += noise\n",
    "cat_mask = ~num_mask\n",
    "\n",
    "#Alterando bits em colunas categóricas\n",
    "cat_cols_idx = np.where(cat_mask)[0]\n",
    "rows, cols = np.where(X_dense[:, cat_mask] == 1)\n",
    "flip_n     = int(0.005 * len(rows))          \n",
    "idx        = rng.choice(len(rows), flip_n, replace=False)\n",
    "\n",
    "for r, c_sub in zip(rows[idx], cols[idx]):\n",
    "    c_abs = cat_cols_idx[c_sub]              \n",
    "    X_dense[r, c_abs] = 0                    \n",
    "    alt_abs = rng.choice(cat_cols_idx)\n",
    "    X_dense[r, alt_abs] = 1\n",
    "    \n",
    "prob_adv = inner_pipe.named_steps['model'].predict_proba(X_dense)[:, 1]\n",
    "y_pred_adv = (prob_adv >= thr_opt).astype(int)"
   ]
  },
  {
   "cell_type": "code",
   "execution_count": 801,
   "metadata": {},
   "outputs": [
    {
     "name": "stdout",
     "output_type": "stream",
     "text": [
      "==== CLEAN TEST ====\n",
      "              precision    recall  f1-score   support\n",
      "\n",
      "      normal       0.99      1.00      1.00      2690\n",
      "     anomaly       1.00      0.99      1.00      2349\n",
      "\n",
      "    accuracy                           1.00      5039\n",
      "   macro avg       1.00      1.00      1.00      5039\n",
      "weighted avg       1.00      1.00      1.00      5039\n",
      "\n",
      "\n",
      "==== ADVERSARIAL TEST ====\n",
      "              precision    recall  f1-score   support\n",
      "\n",
      "      normal       0.93      0.92      0.92      2690\n",
      "     anomaly       0.91      0.92      0.91      2349\n",
      "\n",
      "    accuracy                           0.92      5039\n",
      "   macro avg       0.92      0.92      0.92      5039\n",
      "weighted avg       0.92      0.92      0.92      5039\n",
      "\n",
      "\n",
      "Recall drop : 7.54%\n",
      "Precision drop : 9.40%\n"
     ]
    }
   ],
   "source": [
    "print(\"==== CLEAN TEST ====\")\n",
    "print(classification_report(y_te, y_pred_clean, target_names=['normal','anomaly']))\n",
    "\n",
    "print(\"\\n==== ADVERSARIAL TEST ====\")\n",
    "print(classification_report(y_te, y_pred_adv, target_names=['normal','anomaly']))\n",
    "\n",
    "cm_clean = metrics.confusion_matrix(y_te, y_pred_clean, labels=[0,1])\n",
    "cm_adv   = metrics.confusion_matrix(y_te, y_pred_adv,   labels=[0,1])\n",
    "\n",
    "rec_drop = (cm_clean[1,1] - cm_adv[1,1]) / cm_clean[1,1] * 100\n",
    "prec_clean = cm_clean[1,1] / (cm_clean[0,1] + cm_clean[1,1])\n",
    "prec_adv   = cm_adv  [1,1] / (cm_adv  [0,1] + cm_adv  [1,1])\n",
    "prec_drop  = (prec_clean - prec_adv) * 100\n",
    "\n",
    "print(f\"\\nRecall drop : {rec_drop:.2f}%\")\n",
    "print(f\"Precision drop : {prec_drop:.2f}%\")"
   ]
  },
  {
   "cell_type": "code",
   "execution_count": 802,
   "metadata": {},
   "outputs": [
    {
     "data": {
      "image/png": "[encoded data removed]",
      "text/plain": [
       "<Figure size 640x480 with 2 Axes>"
      ]
     },
     "metadata": {},
     "output_type": "display_data"
    }
   ],
   "source": [
    "sns.heatmap(cm_adv, annot=True, fmt='d', cmap='Reds',\n",
    "            xticklabels=['normal','anomaly'],\n",
    "            yticklabels=['normal','anomaly'])\n",
    "plt.title('Confusion Matrix – adversarial perturbation'); plt.show()"
   ]
  },
  {
   "cell_type": "markdown",
   "metadata": {},
   "source": [
    "Com isso vemos que existe uma "
   ]
  },
  {
   "cell_type": "markdown",
   "metadata": {},
   "source": [
    "# 5. Relatórios e Aprendizados"
   ]
  },
  {
   "cell_type": "markdown",
   "metadata": {},
   "source": []
  },
  {
   "cell_type": "markdown",
   "metadata": {},
   "source": [
    "Com isso utilizamos alguns artificios que de certa forma não dependem do modelo que usamos para guardar os recursos adquiridos nessa atividade, aqui utilizei um um sumário SHAP, que guarda Shapley values o que nos ajuda a identificar as classes que realmente fizeram o modelo ter as inferências que teve em nossos testes(diferente da feature importance, que é um valor de aferição, esse é diretamente para a observação do teste), com isso podemos corrigir algumas interações não planejadas anteriormente(como eu mesmo tive de fazer várias vezes na construção desse trabalho)"
   ]
  },
  {
   "cell_type": "code",
   "execution_count": 803,
   "metadata": {
    "execution": {
     "iopub.execute_input": "2025-05-02T12:50:57.991417Z",
     "iopub.status.busy": "2025-05-02T12:50:57.991129Z",
     "iopub.status.idle": "2025-05-02T12:51:08.328759Z",
     "shell.execute_reply": "2025-05-02T12:51:08.327389Z",
     "shell.execute_reply.started": "2025-05-02T12:50:57.991388Z"
    },
    "trusted": true
   },
   "outputs": [],
   "source": [
    "bg_idx  = np.random.choice(X_tr.index, 500, replace=False)\n",
    "X_bg_t  = inner_pipe.named_steps['prep'].transform(X_tr.loc[bg_idx])\n",
    "X_ex_t  = inner_pipe.named_steps['prep'].transform(X_te.head(200))\n",
    "expl    = shap.TreeExplainer(inner_pipe.named_steps['model'])\n",
    "sv      = expl.shap_values(X_ex_t)\n",
    "\n",
    "feat_nms = inner_pipe.named_steps['prep'].get_feature_names_out()\n"
   ]
  },
  {
   "cell_type": "code",
   "execution_count": 804,
   "metadata": {},
   "outputs": [
    {
     "name": "stdout",
     "output_type": "stream",
     "text": [
      "Saved summary plot to shap_summary.png\n"
     ]
    }
   ],
   "source": [
    "plt.figure()\n",
    "shap.summary_plot(sv, X_ex_t, feature_names=feat_nms,\n",
    "                  max_display=20, show=False)          \n",
    "png_path = \"shap_summary.png\"\n",
    "plt.savefig(png_path, dpi=300, bbox_inches='tight')\n",
    "plt.close()\n",
    "print(f\"Saved summary plot to {png_path}\")"
   ]
  },
  {
   "cell_type": "code",
   "execution_count": 805,
   "metadata": {},
   "outputs": [],
   "source": [
    "anom_idx = np.where((y_te==1) & (vote_test==1))[0][0]\n",
    "html_path = \"alert_row{anom_idx}_explanation.html\"\n",
    "\n",
    "shap.save_html(html_path,\n",
    "               shap.force_plot(expl.expected_value,\n",
    "                               sv[anom_idx, :],\n",
    "                               X_ex_t[anom_idx, :],\n",
    "                               feature_names=feat_nms))"
   ]
  },
  {
   "cell_type": "markdown",
   "metadata": {},
   "source": [
    "Aqui também guardaremos os modelos usados, calibração e threshold para caso necessário em usos futuros não termos de treinar novamente, algo muito comum no cenário industrial onde podemos simplesmente alterar esses valores na pipeline sem ter de interagir diretamente com o modelo."
   ]
  },
  {
   "cell_type": "code",
   "execution_count": 806,
   "metadata": {},
   "outputs": [
    {
     "data": {
      "text/plain": [
       "['ids_or_ensemble_2025‑05‑02.job']"
      ]
     },
     "execution_count": 806,
     "metadata": {},
     "output_type": "execute_result"
    }
   ],
   "source": [
    "joblib.dump({\n",
    "    'xgb_model' : calibrated_pipe,\n",
    "    'lr_model'  : lr_cal,\n",
    "    'thr_xgb'   : float(thr_xgb),\n",
    "    'thr_lr'    : float(thr_lr),\n",
    "    'feature_names': feat_nms       \n",
    "}, 'ids_or_ensemble_2025‑05‑02.job')"
   ]
  }
 ],
 "metadata": {
  "kaggle": {
   "accelerator": "none",
   "dataSources": [
    {
     "datasetId": 62266,
     "sourceId": 120152,
     "sourceType": "datasetVersion"
    }
   ],
   "dockerImageVersionId": 31012,
   "isGpuEnabled": false,
   "isInternetEnabled": true,
   "language": "python",
   "sourceType": "notebook"
  },
  "kernelspec": {
   "display_name": "Python 3",
   "language": "python",
   "name": "python3"
  },
  "language_info": {
   "codemirror_mode": {
    "name": "ipython",
    "version": 3
   },
   "file_extension": ".py",
   "mimetype": "text/x-python",
   "name": "python",
   "nbconvert_exporter": "python",
   "pygments_lexer": "ipython3",
   "version": "3.12.10"
  }
 },
 "nbformat": 4,
 "nbformat_minor": 4
}
